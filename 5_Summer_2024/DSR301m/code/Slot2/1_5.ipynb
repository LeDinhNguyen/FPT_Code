{
 "cells": [
  {
   "cell_type": "markdown",
   "metadata": {},
   "source": [
    "# Array"
   ]
  },
  {
   "cell_type": "code",
   "execution_count": 1,
   "metadata": {
    "vscode": {
     "languageId": "r"
    }
   },
   "outputs": [
    {
     "name": "stdout",
     "output_type": "stream",
     "text": [
      "     [,1]        [,2]         [,3]       \n",
      "[1,] \"Akira\"     \"Whiplash\"   \"Jumanji\"  \n",
      "[2,] \"Toy Story\" \"Star Wars\"  \"Akira\"    \n",
      "[3,] \"Room\"      \"The Ring\"   \"Toy Story\"\n",
      "[4,] \"The Wave\"  \"The Artist\" \"Room\"     \n"
     ]
    }
   ],
   "source": [
    "# create array\n",
    "movie_vector <- c(\"Akira\",\"Toy Story\",\"Room\",\"The Wave\",\"Whiplash\",\"Star Wars\",\"The Ring\",\"The Artist\",\"Jumanji\")\n",
    "movie_array <- array(movie_vector,dim=c(4,3))\n",
    "print(movie_array)"
   ]
  },
  {
   "cell_type": "code",
   "execution_count": 2,
   "metadata": {
    "vscode": {
     "languageId": "r"
    }
   },
   "outputs": [
    {
     "data": {
      "text/html": [
       "'Whiplash'"
      ],
      "text/latex": [
       "'Whiplash'"
      ],
      "text/markdown": [
       "'Whiplash'"
      ],
      "text/plain": [
       "[1] \"Whiplash\""
      ]
     },
     "metadata": {},
     "output_type": "display_data"
    },
    {
     "data": {
      "text/html": [
       "<style>\n",
       ".list-inline {list-style: none; margin:0; padding: 0}\n",
       ".list-inline>li {display: inline-block}\n",
       ".list-inline>li:not(:last-child)::after {content: \"\\00b7\"; padding: 0 .5ex}\n",
       "</style>\n",
       "<ol class=list-inline><li>'Akira'</li><li>'Whiplash'</li><li>'Jumanji'</li></ol>\n"
      ],
      "text/latex": [
       "\\begin{enumerate*}\n",
       "\\item 'Akira'\n",
       "\\item 'Whiplash'\n",
       "\\item 'Jumanji'\n",
       "\\end{enumerate*}\n"
      ],
      "text/markdown": [
       "1. 'Akira'\n",
       "2. 'Whiplash'\n",
       "3. 'Jumanji'\n",
       "\n",
       "\n"
      ],
      "text/plain": [
       "[1] \"Akira\"    \"Whiplash\" \"Jumanji\" "
      ]
     },
     "metadata": {},
     "output_type": "display_data"
    },
    {
     "data": {
      "text/html": [
       "<style>\n",
       ".list-inline {list-style: none; margin:0; padding: 0}\n",
       ".list-inline>li {display: inline-block}\n",
       ".list-inline>li:not(:last-child)::after {content: \"\\00b7\"; padding: 0 .5ex}\n",
       "</style>\n",
       "<ol class=list-inline><li>'Whiplash'</li><li>'Star Wars'</li><li>'The Ring'</li><li>'The Artist'</li></ol>\n"
      ],
      "text/latex": [
       "\\begin{enumerate*}\n",
       "\\item 'Whiplash'\n",
       "\\item 'Star Wars'\n",
       "\\item 'The Ring'\n",
       "\\item 'The Artist'\n",
       "\\end{enumerate*}\n"
      ],
      "text/markdown": [
       "1. 'Whiplash'\n",
       "2. 'Star Wars'\n",
       "3. 'The Ring'\n",
       "4. 'The Artist'\n",
       "\n",
       "\n"
      ],
      "text/plain": [
       "[1] \"Whiplash\"   \"Star Wars\"  \"The Ring\"   \"The Artist\""
      ]
     },
     "metadata": {},
     "output_type": "display_data"
    }
   ],
   "source": [
    "# Accessing an array\n",
    "## Access an element\n",
    "movie_array[1,2]\n",
    "## Access row\n",
    "movie_array[1,]\n",
    "## Access column\n",
    "movie_array[,2]"
   ]
  },
  {
   "cell_type": "markdown",
   "metadata": {},
   "source": [
    "# Matrices"
   ]
  },
  {
   "cell_type": "code",
   "execution_count": 3,
   "metadata": {
    "vscode": {
     "languageId": "r"
    }
   },
   "outputs": [
    {
     "name": "stdout",
     "output_type": "stream",
     "text": [
      "     [,1]        [,2]        [,3]        \n",
      "[1,] \"Akira\"     \"The Wave\"  \"The Ring\"  \n",
      "[2,] \"Toy Story\" \"Whiplash\"  \"The Artist\"\n",
      "[3,] \"Room\"      \"Star Wars\" \"Jumanji\"   \n"
     ]
    }
   ],
   "source": [
    "# Create an matrix\n",
    "## similar in structure to an array but it has two dimentions\n",
    "movie_matrix <- matrix(movie_vector,nrow=3,ncol=3)\n",
    "print(movie_matrix)"
   ]
  },
  {
   "cell_type": "code",
   "execution_count": 4,
   "metadata": {
    "vscode": {
     "languageId": "r"
    }
   },
   "outputs": [
    {
     "data": {
      "text/html": [
       "<table class=\"dataframe\">\n",
       "<caption>A matrix: 2 × 2 of type chr</caption>\n",
       "<tbody>\n",
       "\t<tr><td>Toy Story</td><td>Whiplash </td></tr>\n",
       "\t<tr><td>Room     </td><td>Star Wars</td></tr>\n",
       "</tbody>\n",
       "</table>\n"
      ],
      "text/latex": [
       "A matrix: 2 × 2 of type chr\n",
       "\\begin{tabular}{ll}\n",
       "\t Toy Story & Whiplash \\\\\n",
       "\t Room      & Star Wars\\\\\n",
       "\\end{tabular}\n"
      ],
      "text/markdown": [
       "\n",
       "A matrix: 2 × 2 of type chr\n",
       "\n",
       "| Toy Story | Whiplash  |\n",
       "| Room      | Star Wars |\n",
       "\n"
      ],
      "text/plain": [
       "     [,1]      [,2]     \n",
       "[1,] Toy Story Whiplash \n",
       "[2,] Room      Star Wars"
      ]
     },
     "metadata": {},
     "output_type": "display_data"
    }
   ],
   "source": [
    "## Accessing an matrix\n",
    "movie_matrix[2:3,1:2]"
   ]
  },
  {
   "cell_type": "markdown",
   "metadata": {},
   "source": [
    "# DataFrame"
   ]
  },
  {
   "cell_type": "code",
   "execution_count": 5,
   "metadata": {
    "vscode": {
     "languageId": "r"
    }
   },
   "outputs": [
    {
     "name": "stdout",
     "output_type": "stream",
     "text": [
      "        name year\n",
      "1      Akira 1995\n",
      "2  Toy Story 1998\n",
      "3       Room 1985\n",
      "4   The Wave 2011\n",
      "5   Whiplash 1936\n",
      "6  Star Wars 1999\n",
      "7   The Ring 2002\n",
      "8 The Artist 1987\n",
      "9    Jumanji 2024\n"
     ]
    }
   ],
   "source": [
    "#Create a dataframe\n",
    "movies <- data.frame(name = movie_vector,\n",
    "                    year = c(1995,1998,1985,2011,1936,1999,2002,1987,2024))\n",
    "print(movies)"
   ]
  },
  {
   "cell_type": "code",
   "execution_count": 6,
   "metadata": {
    "vscode": {
     "languageId": "r"
    }
   },
   "outputs": [
    {
     "name": "stdout",
     "output_type": "stream",
     "text": [
      "        name\n",
      "1      Akira\n",
      "2  Toy Story\n",
      "3       Room\n",
      "4   The Wave\n",
      "5   Whiplash\n",
      "6  Star Wars\n",
      "7   The Ring\n",
      "8 The Artist\n",
      "9    Jumanji\n",
      "[1] 1995\n"
     ]
    },
    {
     "data": {
      "text/html": [
       "<style>\n",
       ".list-inline {list-style: none; margin:0; padding: 0}\n",
       ".list-inline>li {display: inline-block}\n",
       ".list-inline>li:not(:last-child)::after {content: \"\\00b7\"; padding: 0 .5ex}\n",
       "</style>\n",
       "<ol class=list-inline><li>'Akira'</li><li>'Toy Story'</li><li>'Room'</li><li>'The Wave'</li><li>'Whiplash'</li><li>'Star Wars'</li><li>'The Ring'</li><li>'The Artist'</li><li>'Jumanji'</li></ol>\n"
      ],
      "text/latex": [
       "\\begin{enumerate*}\n",
       "\\item 'Akira'\n",
       "\\item 'Toy Story'\n",
       "\\item 'Room'\n",
       "\\item 'The Wave'\n",
       "\\item 'Whiplash'\n",
       "\\item 'Star Wars'\n",
       "\\item 'The Ring'\n",
       "\\item 'The Artist'\n",
       "\\item 'Jumanji'\n",
       "\\end{enumerate*}\n"
      ],
      "text/markdown": [
       "1. 'Akira'\n",
       "2. 'Toy Story'\n",
       "3. 'Room'\n",
       "4. 'The Wave'\n",
       "5. 'Whiplash'\n",
       "6. 'Star Wars'\n",
       "7. 'The Ring'\n",
       "8. 'The Artist'\n",
       "9. 'Jumanji'\n",
       "\n",
       "\n"
      ],
      "text/plain": [
       "[1] \"Akira\"      \"Toy Story\"  \"Room\"       \"The Wave\"   \"Whiplash\"  \n",
       "[6] \"Star Wars\"  \"The Ring\"   \"The Artist\" \"Jumanji\"   "
      ]
     },
     "metadata": {},
     "output_type": "display_data"
    }
   ],
   "source": [
    "# Acessing dataframes\n",
    "## Access a column\n",
    "print(movies[1])\n",
    "## Access an element\n",
    "print(movies[1,2])\n",
    "## Access a variable\n",
    "movies$name"
   ]
  },
  {
   "cell_type": "code",
   "execution_count": 7,
   "metadata": {
    "vscode": {
     "languageId": "r"
    }
   },
   "outputs": [
    {
     "data": {
      "text/html": [
       "<table class=\"dataframe\">\n",
       "<caption>A data.frame: 6 × 2</caption>\n",
       "<thead>\n",
       "\t<tr><th></th><th scope=col>name</th><th scope=col>year</th></tr>\n",
       "\t<tr><th></th><th scope=col>&lt;chr&gt;</th><th scope=col>&lt;dbl&gt;</th></tr>\n",
       "</thead>\n",
       "<tbody>\n",
       "\t<tr><th scope=row>1</th><td>Akira    </td><td>1995</td></tr>\n",
       "\t<tr><th scope=row>2</th><td>Toy Story</td><td>1998</td></tr>\n",
       "\t<tr><th scope=row>3</th><td>Room     </td><td>1985</td></tr>\n",
       "\t<tr><th scope=row>4</th><td>The Wave </td><td>2011</td></tr>\n",
       "\t<tr><th scope=row>5</th><td>Whiplash </td><td>1936</td></tr>\n",
       "\t<tr><th scope=row>6</th><td>Star Wars</td><td>1999</td></tr>\n",
       "</tbody>\n",
       "</table>\n"
      ],
      "text/latex": [
       "A data.frame: 6 × 2\n",
       "\\begin{tabular}{r|ll}\n",
       "  & name & year\\\\\n",
       "  & <chr> & <dbl>\\\\\n",
       "\\hline\n",
       "\t1 & Akira     & 1995\\\\\n",
       "\t2 & Toy Story & 1998\\\\\n",
       "\t3 & Room      & 1985\\\\\n",
       "\t4 & The Wave  & 2011\\\\\n",
       "\t5 & Whiplash  & 1936\\\\\n",
       "\t6 & Star Wars & 1999\\\\\n",
       "\\end{tabular}\n"
      ],
      "text/markdown": [
       "\n",
       "A data.frame: 6 × 2\n",
       "\n",
       "| <!--/--> | name &lt;chr&gt; | year &lt;dbl&gt; |\n",
       "|---|---|---|\n",
       "| 1 | Akira     | 1995 |\n",
       "| 2 | Toy Story | 1998 |\n",
       "| 3 | Room      | 1985 |\n",
       "| 4 | The Wave  | 2011 |\n",
       "| 5 | Whiplash  | 1936 |\n",
       "| 6 | Star Wars | 1999 |\n",
       "\n"
      ],
      "text/plain": [
       "  name      year\n",
       "1 Akira     1995\n",
       "2 Toy Story 1998\n",
       "3 Room      1985\n",
       "4 The Wave  2011\n",
       "5 Whiplash  1936\n",
       "6 Star Wars 1999"
      ]
     },
     "metadata": {},
     "output_type": "display_data"
    },
    {
     "data": {
      "text/html": [
       "<table class=\"dataframe\">\n",
       "<caption>A data.frame: 6 × 2</caption>\n",
       "<thead>\n",
       "\t<tr><th></th><th scope=col>name</th><th scope=col>year</th></tr>\n",
       "\t<tr><th></th><th scope=col>&lt;chr&gt;</th><th scope=col>&lt;dbl&gt;</th></tr>\n",
       "</thead>\n",
       "<tbody>\n",
       "\t<tr><th scope=row>4</th><td>The Wave  </td><td>2011</td></tr>\n",
       "\t<tr><th scope=row>5</th><td>Whiplash  </td><td>1936</td></tr>\n",
       "\t<tr><th scope=row>6</th><td>Star Wars </td><td>1999</td></tr>\n",
       "\t<tr><th scope=row>7</th><td>The Ring  </td><td>2002</td></tr>\n",
       "\t<tr><th scope=row>8</th><td>The Artist</td><td>1987</td></tr>\n",
       "\t<tr><th scope=row>9</th><td>Jumanji   </td><td>2024</td></tr>\n",
       "</tbody>\n",
       "</table>\n"
      ],
      "text/latex": [
       "A data.frame: 6 × 2\n",
       "\\begin{tabular}{r|ll}\n",
       "  & name & year\\\\\n",
       "  & <chr> & <dbl>\\\\\n",
       "\\hline\n",
       "\t4 & The Wave   & 2011\\\\\n",
       "\t5 & Whiplash   & 1936\\\\\n",
       "\t6 & Star Wars  & 1999\\\\\n",
       "\t7 & The Ring   & 2002\\\\\n",
       "\t8 & The Artist & 1987\\\\\n",
       "\t9 & Jumanji    & 2024\\\\\n",
       "\\end{tabular}\n"
      ],
      "text/markdown": [
       "\n",
       "A data.frame: 6 × 2\n",
       "\n",
       "| <!--/--> | name &lt;chr&gt; | year &lt;dbl&gt; |\n",
       "|---|---|---|\n",
       "| 4 | The Wave   | 2011 |\n",
       "| 5 | Whiplash   | 1936 |\n",
       "| 6 | Star Wars  | 1999 |\n",
       "| 7 | The Ring   | 2002 |\n",
       "| 8 | The Artist | 1987 |\n",
       "| 9 | Jumanji    | 2024 |\n",
       "\n"
      ],
      "text/plain": [
       "  name       year\n",
       "4 The Wave   2011\n",
       "5 Whiplash   1936\n",
       "6 Star Wars  1999\n",
       "7 The Ring   2002\n",
       "8 The Artist 1987\n",
       "9 Jumanji    2024"
      ]
     },
     "metadata": {},
     "output_type": "display_data"
    }
   ],
   "source": [
    "# head and tail\n",
    "head(movies)\n",
    "tail(movies)\n"
   ]
  },
  {
   "cell_type": "code",
   "execution_count": 8,
   "metadata": {
    "vscode": {
     "languageId": "r"
    }
   },
   "outputs": [
    {
     "data": {
      "text/html": [
       "<table class=\"dataframe\">\n",
       "<caption>A data.frame: 9 × 3</caption>\n",
       "<thead>\n",
       "\t<tr><th scope=col>name</th><th scope=col>year</th><th scope=col>length</th></tr>\n",
       "\t<tr><th scope=col>&lt;chr&gt;</th><th scope=col>&lt;dbl&gt;</th><th scope=col>&lt;dbl&gt;</th></tr>\n",
       "</thead>\n",
       "<tbody>\n",
       "\t<tr><td>Akira     </td><td>1995</td><td> 81</td></tr>\n",
       "\t<tr><td>Toy Story </td><td>1998</td><td>125</td></tr>\n",
       "\t<tr><td>Room      </td><td>1985</td><td> 97</td></tr>\n",
       "\t<tr><td>The Wave  </td><td>2011</td><td>199</td></tr>\n",
       "\t<tr><td>Whiplash  </td><td>1936</td><td> 87</td></tr>\n",
       "\t<tr><td>Star Wars </td><td>1999</td><td>139</td></tr>\n",
       "\t<tr><td>The Ring  </td><td>2002</td><td>130</td></tr>\n",
       "\t<tr><td>The Artist</td><td>1987</td><td>119</td></tr>\n",
       "\t<tr><td>Jumanji   </td><td>2024</td><td>120</td></tr>\n",
       "</tbody>\n",
       "</table>\n"
      ],
      "text/latex": [
       "A data.frame: 9 × 3\n",
       "\\begin{tabular}{lll}\n",
       " name & year & length\\\\\n",
       " <chr> & <dbl> & <dbl>\\\\\n",
       "\\hline\n",
       "\t Akira      & 1995 &  81\\\\\n",
       "\t Toy Story  & 1998 & 125\\\\\n",
       "\t Room       & 1985 &  97\\\\\n",
       "\t The Wave   & 2011 & 199\\\\\n",
       "\t Whiplash   & 1936 &  87\\\\\n",
       "\t Star Wars  & 1999 & 139\\\\\n",
       "\t The Ring   & 2002 & 130\\\\\n",
       "\t The Artist & 1987 & 119\\\\\n",
       "\t Jumanji    & 2024 & 120\\\\\n",
       "\\end{tabular}\n"
      ],
      "text/markdown": [
       "\n",
       "A data.frame: 9 × 3\n",
       "\n",
       "| name &lt;chr&gt; | year &lt;dbl&gt; | length &lt;dbl&gt; |\n",
       "|---|---|---|\n",
       "| Akira      | 1995 |  81 |\n",
       "| Toy Story  | 1998 | 125 |\n",
       "| Room       | 1985 |  97 |\n",
       "| The Wave   | 2011 | 199 |\n",
       "| Whiplash   | 1936 |  87 |\n",
       "| Star Wars  | 1999 | 139 |\n",
       "| The Ring   | 2002 | 130 |\n",
       "| The Artist | 1987 | 119 |\n",
       "| Jumanji    | 2024 | 120 |\n",
       "\n"
      ],
      "text/plain": [
       "  name       year length\n",
       "1 Akira      1995  81   \n",
       "2 Toy Story  1998 125   \n",
       "3 Room       1985  97   \n",
       "4 The Wave   2011 199   \n",
       "5 Whiplash   1936  87   \n",
       "6 Star Wars  1999 139   \n",
       "7 The Ring   2002 130   \n",
       "8 The Artist 1987 119   \n",
       "9 Jumanji    2024 120   "
      ]
     },
     "metadata": {},
     "output_type": "display_data"
    }
   ],
   "source": [
    "# Inserting a new col\n",
    "movies['length']<- c(81,125,97,199,87,139,130,119,120)\n",
    "movies"
   ]
  },
  {
   "cell_type": "code",
   "execution_count": 9,
   "metadata": {
    "vscode": {
     "languageId": "r"
    }
   },
   "outputs": [
    {
     "data": {
      "text/html": [
       "<table class=\"dataframe\">\n",
       "<caption>A data.frame: 10 × 3</caption>\n",
       "<thead>\n",
       "\t<tr><th scope=col>name</th><th scope=col>year</th><th scope=col>length</th></tr>\n",
       "\t<tr><th scope=col>&lt;chr&gt;</th><th scope=col>&lt;chr&gt;</th><th scope=col>&lt;chr&gt;</th></tr>\n",
       "</thead>\n",
       "<tbody>\n",
       "\t<tr><td>Akira          </td><td>1995</td><td>81 </td></tr>\n",
       "\t<tr><td>Toy Story      </td><td>1998</td><td>125</td></tr>\n",
       "\t<tr><td>Room           </td><td>1985</td><td>97 </td></tr>\n",
       "\t<tr><td>The Wave       </td><td>2011</td><td>199</td></tr>\n",
       "\t<tr><td>Whiplash       </td><td>1936</td><td>87 </td></tr>\n",
       "\t<tr><td>Star Wars      </td><td>1999</td><td>139</td></tr>\n",
       "\t<tr><td>The Ring       </td><td>2002</td><td>130</td></tr>\n",
       "\t<tr><td>The Artist     </td><td>1987</td><td>119</td></tr>\n",
       "\t<tr><td>Jumanji        </td><td>2024</td><td>120</td></tr>\n",
       "\t<tr><td>Dr. StrangeLove</td><td>1964</td><td>94 </td></tr>\n",
       "</tbody>\n",
       "</table>\n"
      ],
      "text/latex": [
       "A data.frame: 10 × 3\n",
       "\\begin{tabular}{lll}\n",
       " name & year & length\\\\\n",
       " <chr> & <chr> & <chr>\\\\\n",
       "\\hline\n",
       "\t Akira           & 1995 & 81 \\\\\n",
       "\t Toy Story       & 1998 & 125\\\\\n",
       "\t Room            & 1985 & 97 \\\\\n",
       "\t The Wave        & 2011 & 199\\\\\n",
       "\t Whiplash        & 1936 & 87 \\\\\n",
       "\t Star Wars       & 1999 & 139\\\\\n",
       "\t The Ring        & 2002 & 130\\\\\n",
       "\t The Artist      & 1987 & 119\\\\\n",
       "\t Jumanji         & 2024 & 120\\\\\n",
       "\t Dr. StrangeLove & 1964 & 94 \\\\\n",
       "\\end{tabular}\n"
      ],
      "text/markdown": [
       "\n",
       "A data.frame: 10 × 3\n",
       "\n",
       "| name &lt;chr&gt; | year &lt;chr&gt; | length &lt;chr&gt; |\n",
       "|---|---|---|\n",
       "| Akira           | 1995 | 81  |\n",
       "| Toy Story       | 1998 | 125 |\n",
       "| Room            | 1985 | 97  |\n",
       "| The Wave        | 2011 | 199 |\n",
       "| Whiplash        | 1936 | 87  |\n",
       "| Star Wars       | 1999 | 139 |\n",
       "| The Ring        | 2002 | 130 |\n",
       "| The Artist      | 1987 | 119 |\n",
       "| Jumanji         | 2024 | 120 |\n",
       "| Dr. StrangeLove | 1964 | 94  |\n",
       "\n"
      ],
      "text/plain": [
       "   name            year length\n",
       "1  Akira           1995 81    \n",
       "2  Toy Story       1998 125   \n",
       "3  Room            1985 97    \n",
       "4  The Wave        2011 199   \n",
       "5  Whiplash        1936 87    \n",
       "6  Star Wars       1999 139   \n",
       "7  The Ring        2002 130   \n",
       "8  The Artist      1987 119   \n",
       "9  Jumanji         2024 120   \n",
       "10 Dr. StrangeLove 1964 94    "
      ]
     },
     "metadata": {},
     "output_type": "display_data"
    }
   ],
   "source": [
    "# Inserting a new row\n",
    "movies <-rbind(movies,c(name=\"Dr. StrangeLove\",\n",
    "                        year = 1964,length=94)\n",
    "                        )\n",
    "movies"
   ]
  },
  {
   "cell_type": "code",
   "execution_count": 10,
   "metadata": {
    "vscode": {
     "languageId": "r"
    }
   },
   "outputs": [
    {
     "data": {
      "text/html": [
       "<table class=\"dataframe\">\n",
       "<caption>A data.frame: 9 × 3</caption>\n",
       "<thead>\n",
       "\t<tr><th></th><th scope=col>name</th><th scope=col>year</th><th scope=col>length</th></tr>\n",
       "\t<tr><th></th><th scope=col>&lt;chr&gt;</th><th scope=col>&lt;chr&gt;</th><th scope=col>&lt;chr&gt;</th></tr>\n",
       "</thead>\n",
       "<tbody>\n",
       "\t<tr><th scope=row>1</th><td>Akira     </td><td>1995</td><td>81 </td></tr>\n",
       "\t<tr><th scope=row>2</th><td>Toy Story </td><td>1998</td><td>125</td></tr>\n",
       "\t<tr><th scope=row>3</th><td>Room      </td><td>1985</td><td>97 </td></tr>\n",
       "\t<tr><th scope=row>4</th><td>The Wave  </td><td>2011</td><td>199</td></tr>\n",
       "\t<tr><th scope=row>5</th><td>Whiplash  </td><td>1936</td><td>87 </td></tr>\n",
       "\t<tr><th scope=row>6</th><td>Star Wars </td><td>1999</td><td>139</td></tr>\n",
       "\t<tr><th scope=row>7</th><td>The Ring  </td><td>2002</td><td>130</td></tr>\n",
       "\t<tr><th scope=row>8</th><td>The Artist</td><td>1987</td><td>119</td></tr>\n",
       "\t<tr><th scope=row>9</th><td>Jumanji   </td><td>2024</td><td>120</td></tr>\n",
       "</tbody>\n",
       "</table>\n"
      ],
      "text/latex": [
       "A data.frame: 9 × 3\n",
       "\\begin{tabular}{r|lll}\n",
       "  & name & year & length\\\\\n",
       "  & <chr> & <chr> & <chr>\\\\\n",
       "\\hline\n",
       "\t1 & Akira      & 1995 & 81 \\\\\n",
       "\t2 & Toy Story  & 1998 & 125\\\\\n",
       "\t3 & Room       & 1985 & 97 \\\\\n",
       "\t4 & The Wave   & 2011 & 199\\\\\n",
       "\t5 & Whiplash   & 1936 & 87 \\\\\n",
       "\t6 & Star Wars  & 1999 & 139\\\\\n",
       "\t7 & The Ring   & 2002 & 130\\\\\n",
       "\t8 & The Artist & 1987 & 119\\\\\n",
       "\t9 & Jumanji    & 2024 & 120\\\\\n",
       "\\end{tabular}\n"
      ],
      "text/markdown": [
       "\n",
       "A data.frame: 9 × 3\n",
       "\n",
       "| <!--/--> | name &lt;chr&gt; | year &lt;chr&gt; | length &lt;chr&gt; |\n",
       "|---|---|---|---|\n",
       "| 1 | Akira      | 1995 | 81  |\n",
       "| 2 | Toy Story  | 1998 | 125 |\n",
       "| 3 | Room       | 1985 | 97  |\n",
       "| 4 | The Wave   | 2011 | 199 |\n",
       "| 5 | Whiplash   | 1936 | 87  |\n",
       "| 6 | Star Wars  | 1999 | 139 |\n",
       "| 7 | The Ring   | 2002 | 130 |\n",
       "| 8 | The Artist | 1987 | 119 |\n",
       "| 9 | Jumanji    | 2024 | 120 |\n",
       "\n"
      ],
      "text/plain": [
       "  name       year length\n",
       "1 Akira      1995 81    \n",
       "2 Toy Story  1998 125   \n",
       "3 Room       1985 97    \n",
       "4 The Wave   2011 199   \n",
       "5 Whiplash   1936 87    \n",
       "6 Star Wars  1999 139   \n",
       "7 The Ring   2002 130   \n",
       "8 The Artist 1987 119   \n",
       "9 Jumanji    2024 120   "
      ]
     },
     "metadata": {},
     "output_type": "display_data"
    }
   ],
   "source": [
    "# Deleting rows\n",
    "movies <- movies[-10,]\n",
    "movies"
   ]
  },
  {
   "cell_type": "code",
   "execution_count": 11,
   "metadata": {
    "vscode": {
     "languageId": "r"
    }
   },
   "outputs": [
    {
     "data": {
      "text/html": [
       "<table class=\"dataframe\">\n",
       "<caption>A data.frame: 9 × 2</caption>\n",
       "<thead>\n",
       "\t<tr><th></th><th scope=col>name</th><th scope=col>year</th></tr>\n",
       "\t<tr><th></th><th scope=col>&lt;chr&gt;</th><th scope=col>&lt;chr&gt;</th></tr>\n",
       "</thead>\n",
       "<tbody>\n",
       "\t<tr><th scope=row>1</th><td>Akira     </td><td>1995</td></tr>\n",
       "\t<tr><th scope=row>2</th><td>Toy Story </td><td>1998</td></tr>\n",
       "\t<tr><th scope=row>3</th><td>Room      </td><td>1985</td></tr>\n",
       "\t<tr><th scope=row>4</th><td>The Wave  </td><td>2011</td></tr>\n",
       "\t<tr><th scope=row>5</th><td>Whiplash  </td><td>1936</td></tr>\n",
       "\t<tr><th scope=row>6</th><td>Star Wars </td><td>1999</td></tr>\n",
       "\t<tr><th scope=row>7</th><td>The Ring  </td><td>2002</td></tr>\n",
       "\t<tr><th scope=row>8</th><td>The Artist</td><td>1987</td></tr>\n",
       "\t<tr><th scope=row>9</th><td>Jumanji   </td><td>2024</td></tr>\n",
       "</tbody>\n",
       "</table>\n"
      ],
      "text/latex": [
       "A data.frame: 9 × 2\n",
       "\\begin{tabular}{r|ll}\n",
       "  & name & year\\\\\n",
       "  & <chr> & <chr>\\\\\n",
       "\\hline\n",
       "\t1 & Akira      & 1995\\\\\n",
       "\t2 & Toy Story  & 1998\\\\\n",
       "\t3 & Room       & 1985\\\\\n",
       "\t4 & The Wave   & 2011\\\\\n",
       "\t5 & Whiplash   & 1936\\\\\n",
       "\t6 & Star Wars  & 1999\\\\\n",
       "\t7 & The Ring   & 2002\\\\\n",
       "\t8 & The Artist & 1987\\\\\n",
       "\t9 & Jumanji    & 2024\\\\\n",
       "\\end{tabular}\n"
      ],
      "text/markdown": [
       "\n",
       "A data.frame: 9 × 2\n",
       "\n",
       "| <!--/--> | name &lt;chr&gt; | year &lt;chr&gt; |\n",
       "|---|---|---|\n",
       "| 1 | Akira      | 1995 |\n",
       "| 2 | Toy Story  | 1998 |\n",
       "| 3 | Room       | 1985 |\n",
       "| 4 | The Wave   | 2011 |\n",
       "| 5 | Whiplash   | 1936 |\n",
       "| 6 | Star Wars  | 1999 |\n",
       "| 7 | The Ring   | 2002 |\n",
       "| 8 | The Artist | 1987 |\n",
       "| 9 | Jumanji    | 2024 |\n",
       "\n"
      ],
      "text/plain": [
       "  name       year\n",
       "1 Akira      1995\n",
       "2 Toy Story  1998\n",
       "3 Room       1985\n",
       "4 The Wave   2011\n",
       "5 Whiplash   1936\n",
       "6 Star Wars  1999\n",
       "7 The Ring   2002\n",
       "8 The Artist 1987\n",
       "9 Jumanji    2024"
      ]
     },
     "metadata": {},
     "output_type": "display_data"
    }
   ],
   "source": [
    "# Deleting columns\n",
    "movies[\"length\"] <- NULL\n",
    "movies"
   ]
  }
 ],
 "metadata": {
  "kernelspec": {
   "display_name": "R",
   "language": "R",
   "name": "ir"
  },
  "language_info": {
   "codemirror_mode": "r",
   "file_extension": ".r",
   "mimetype": "text/x-r-source",
   "name": "R",
   "pygments_lexer": "r",
   "version": "4.4.0"
  }
 },
 "nbformat": 4,
 "nbformat_minor": 2
}
