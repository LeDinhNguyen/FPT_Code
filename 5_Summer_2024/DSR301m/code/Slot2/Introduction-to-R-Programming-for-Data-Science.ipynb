{
  "cells": [
    {
      "cell_type": "markdown",
      "metadata": {
        "id": "G79Vsnax66qO"
      },
      "source": [
        "# Slide 1.3"
      ]
    },
    {
      "cell_type": "markdown",
      "metadata": {
        "id": "u0hvzxgOASWV"
      },
      "source": [
        "## Data Type"
      ]
    },
    {
      "cell_type": "code",
      "execution_count": null,
      "metadata": {
        "colab": {
          "base_uri": "https://localhost:8080/",
          "height": 0
        },
        "id": "DfLBogfRAVGQ",
        "outputId": "05e6b69d-ef09-4bc7-db0d-a65f19a65342",
        "vscode": {
          "languageId": "r"
        }
      },
      "outputs": [],
      "source": [
        "## integer\n",
        "2L\n",
        "class(3L)\n",
        "is.integer(3L)\n"
      ]
    },
    {
      "cell_type": "code",
      "execution_count": null,
      "metadata": {
        "colab": {
          "base_uri": "https://localhost:8080/",
          "height": 0
        },
        "id": "A3TtqkyOApp1",
        "outputId": "e92bea3f-6a42-46d7-de19-0b3955e4102b",
        "vscode": {
          "languageId": "r"
        }
      },
      "outputs": [],
      "source": [
        "## numeric\n",
        "class(3)\n",
        "is.numeric(4)\n"
      ]
    },
    {
      "cell_type": "code",
      "execution_count": null,
      "metadata": {
        "colab": {
          "base_uri": "https://localhost:8080/",
          "height": 0
        },
        "id": "aSD3ELgoAtkb",
        "outputId": "70242af1-2f26-42bd-f6a9-118f2ecddd33",
        "vscode": {
          "languageId": "r"
        }
      },
      "outputs": [],
      "source": [
        "## Character\n",
        "\"TOI YEU FPT\"\n",
        "class(\"TOI YEU FPT\")\n",
        "is.character(\"TOI YEU FPT\")"
      ]
    },
    {
      "cell_type": "code",
      "execution_count": null,
      "metadata": {
        "colab": {
          "base_uri": "https://localhost:8080/",
          "height": 0
        },
        "id": "j8-f9eNbAzZt",
        "outputId": "ec946cbf-eadb-429c-dabc-a157660d5441",
        "vscode": {
          "languageId": "r"
        }
      },
      "outputs": [],
      "source": [
        "## Logical\n",
        "TRUE\n",
        "class(TRUE)\n",
        "is.logical(TRUE)"
      ]
    },
    {
      "cell_type": "code",
      "execution_count": null,
      "metadata": {
        "colab": {
          "base_uri": "https://localhost:8080/",
          "height": 0
        },
        "id": "VESL13miBG-7",
        "outputId": "a960c919-174f-451a-c46f-266e65fb3af1",
        "vscode": {
          "languageId": "r"
        }
      },
      "outputs": [],
      "source": [
        "## Others\n",
        "# Complex\n",
        "1+2i\n",
        "is.complex(1+2i)\n",
        "is.complex(2)"
      ]
    },
    {
      "cell_type": "markdown",
      "metadata": {
        "id": "a8iHwhtM7Dz7"
      },
      "source": [
        "## Data type conversion"
      ]
    },
    {
      "cell_type": "code",
      "execution_count": null,
      "metadata": {
        "colab": {
          "base_uri": "https://localhost:8080/",
          "height": 0
        },
        "id": "cf4jDDqi2Kmf",
        "outputId": "3cd24c40-033c-4a94-b21c-65feae3ae142",
        "vscode": {
          "languageId": "r"
        }
      },
      "outputs": [],
      "source": [
        "## integer to numeric\n",
        "as.numeric(2L)\n",
        "## numeric to character\n",
        "as.character(3)\n",
        "## character to numeric\n",
        "as.numeric(\"3\")\n",
        "## numeric to integer\n",
        "as.integer(2.2)\n",
        "## character to numeric\n",
        "as.numeric(\"A\")\n",
        "## numeric to logical\n",
        "as.logical(1)\n",
        "## character to logical\n",
        "as.logical(\"FALSE\")\n",
        "## logical to numeric\n",
        "as.numeric(FALSE)"
      ]
    },
    {
      "cell_type": "code",
      "execution_count": null,
      "metadata": {
        "colab": {
          "base_uri": "https://localhost:8080/",
          "height": 0
        },
        "id": "3psm9BIC85qt",
        "outputId": "40c90aba-3d37-4c71-a0f5-75a721b4c5a5",
        "vscode": {
          "languageId": "r"
        }
      },
      "outputs": [],
      "source": [
        "class(3L)\n",
        "class(3)\n",
        "## Runnnnnnnnnnnnnnn fasterrrrrrrrrrrrr"
      ]
    },
    {
      "cell_type": "markdown",
      "metadata": {
        "id": "zlHXIIsL3hKk"
      },
      "source": [
        "## Basic math"
      ]
    },
    {
      "cell_type": "code",
      "execution_count": null,
      "metadata": {
        "colab": {
          "base_uri": "https://localhost:8080/",
          "height": 0
        },
        "id": "4i5IqD3o3aqv",
        "outputId": "239fd1a0-0a2d-4e26-b141-9c3046a1b919",
        "vscode": {
          "languageId": "r"
        }
      },
      "outputs": [],
      "source": [
        "139 + 121\n",
        "139 - 121\n",
        "2*3\n",
        "260/60\n",
        "2^3 # exponential diff"
      ]
    },
    {
      "cell_type": "markdown",
      "metadata": {
        "id": "UFuYwBWy3rRV"
      },
      "source": [
        "## Variables"
      ]
    },
    {
      "cell_type": "code",
      "execution_count": null,
      "metadata": {
        "colab": {
          "base_uri": "https://localhost:8080/",
          "height": 0
        },
        "id": "lKfzUW5R3nQb",
        "outputId": "39161060-a91f-41c3-fe8e-dd98841fef3f",
        "vscode": {
          "languageId": "r"
        }
      },
      "outputs": [],
      "source": [
        "x <- 139+121\n",
        "x"
      ]
    },
    {
      "cell_type": "code",
      "execution_count": null,
      "metadata": {
        "colab": {
          "base_uri": "https://localhost:8080/",
          "height": 0
        },
        "id": "u_a0R5Sg3z7j",
        "outputId": "4fbcd161-21bd-4dee-9fd4-9f81e0888a50",
        "vscode": {
          "languageId": "r"
        }
      },
      "outputs": [],
      "source": [
        "y <-x/60\n",
        "y"
      ]
    },
    {
      "cell_type": "markdown",
      "metadata": {
        "id": "bUzGMmq834kz"
      },
      "source": [
        "## Variable reassignment"
      ]
    },
    {
      "cell_type": "code",
      "execution_count": null,
      "metadata": {
        "colab": {
          "base_uri": "https://localhost:8080/",
          "height": 0
        },
        "id": "_L_RBwaQ37SB",
        "outputId": "10277b32-69f0-46c9-97f4-547c4003d94d",
        "vscode": {
          "languageId": "r"
        }
      },
      "outputs": [],
      "source": [
        "# Create x\n",
        "x <- 139+121\n",
        "x"
      ]
    },
    {
      "cell_type": "code",
      "execution_count": null,
      "metadata": {
        "colab": {
          "base_uri": "https://localhost:8080/",
          "height": 0
        },
        "id": "cluxZszy3_b0",
        "outputId": "5eeef1e6-7295-471d-cc04-b8aca97fdb14",
        "vscode": {
          "languageId": "r"
        }
      },
      "outputs": [],
      "source": [
        "# Overwrite x\n",
        "x <- x/60\n",
        "x"
      ]
    },
    {
      "cell_type": "markdown",
      "metadata": {
        "id": "bJl5nD2T4Fmu"
      },
      "source": [
        "## Variable names"
      ]
    },
    {
      "cell_type": "code",
      "execution_count": null,
      "metadata": {
        "colab": {
          "base_uri": "https://localhost:8080/",
          "height": 0
        },
        "id": "ZdOLdNf64MoD",
        "outputId": "2c4e5b68-6f0f-4c8f-cfde-a0e6446032fa",
        "vscode": {
          "languageId": "r"
        }
      },
      "outputs": [],
      "source": [
        "# Total time\n",
        "total <- 139+121\n",
        "total"
      ]
    },
    {
      "cell_type": "markdown",
      "metadata": {
        "id": "E3F4eA7Y4FtB"
      },
      "source": [
        "## Order operations"
      ]
    },
    {
      "cell_type": "code",
      "execution_count": null,
      "metadata": {
        "colab": {
          "base_uri": "https://localhost:8080/",
          "height": 0
        },
        "id": "seurpDyu4XN3",
        "outputId": "94e562ae-735e-43be-e604-d3b678e32d47",
        "vscode": {
          "languageId": "r"
        }
      },
      "outputs": [],
      "source": [
        "total <- 139+121\n",
        "total\n",
        "total_hr <- total/60\n",
        "total_hr"
      ]
    },
    {
      "cell_type": "code",
      "execution_count": null,
      "metadata": {
        "colab": {
          "base_uri": "https://localhost:8080/",
          "height": 0
        },
        "id": "FGQGWZ9K4gfu",
        "outputId": "b00eb84f-d0c1-48dd-c922-a663940ca537",
        "vscode": {
          "languageId": "r"
        }
      },
      "outputs": [],
      "source": [
        "total_hr <- (139+121)/60\n",
        "total_hr"
      ]
    },
    {
      "cell_type": "markdown",
      "metadata": {
        "id": "mf2eojhZ4prS"
      },
      "source": [
        "## String in R"
      ]
    },
    {
      "cell_type": "code",
      "execution_count": null,
      "metadata": {
        "colab": {
          "base_uri": "https://localhost:8080/",
          "height": 0
        },
        "id": "RxxjDr274q_I",
        "outputId": "46efffc5-3de6-471c-8da9-979de6729ffc",
        "vscode": {
          "languageId": "r"
        }
      },
      "outputs": [],
      "source": [
        "movie <- \"Toy Story\"\n",
        "movie"
      ]
    },
    {
      "cell_type": "markdown",
      "metadata": {
        "id": "o8n0fv624_4Y"
      },
      "source": [
        "## c() function"
      ]
    },
    {
      "cell_type": "code",
      "execution_count": 1,
      "metadata": {
        "colab": {
          "base_uri": "https://localhost:8080/",
          "height": 0
        },
        "id": "f1lF-mVP5Bm2",
        "outputId": "87a6e06e-b341-43c5-a05f-3c0dbcf699d7",
        "vscode": {
          "languageId": "r"
        }
      },
      "outputs": [
        {
          "data": {
            "text/html": [
              "<style>\n",
              ".list-inline {list-style: none; margin:0; padding: 0}\n",
              ".list-inline>li {display: inline-block}\n",
              ".list-inline>li:not(:last-child)::after {content: \"\\00b7\"; padding: 0 .5ex}\n",
              "</style>\n",
              "<ol class=list-inline><li>'1'</li><li>'5'</li><li>'A'</li><li>'8'</li><li>'8'</li><li>'6'</li></ol>\n"
            ],
            "text/latex": [
              "\\begin{enumerate*}\n",
              "\\item '1'\n",
              "\\item '5'\n",
              "\\item 'A'\n",
              "\\item '8'\n",
              "\\item '8'\n",
              "\\item '6'\n",
              "\\end{enumerate*}\n"
            ],
            "text/markdown": [
              "1. '1'\n",
              "2. '5'\n",
              "3. 'A'\n",
              "4. '8'\n",
              "5. '8'\n",
              "6. '6'\n",
              "\n",
              "\n"
            ],
            "text/plain": [
              "[1] \"1\" \"5\" \"A\" \"8\" \"8\" \"6\""
            ]
          },
          "metadata": {},
          "output_type": "display_data"
        }
      ],
      "source": [
        "x1 <- c(1,5,\"A\",8,8,6)\n",
        "x1"
      ]
    },
    {
      "cell_type": "code",
      "execution_count": null,
      "metadata": {
        "colab": {
          "base_uri": "https://localhost:8080/",
          "height": 0
        },
        "id": "7y7MO0Nd5F-U",
        "outputId": "de9a08a6-5dfa-4516-9774-1dd55ef5c2a5",
        "vscode": {
          "languageId": "r"
        }
      },
      "outputs": [],
      "source": [
        "x <- 1:5\n",
        "y <-6:10\n",
        "z <-11:15\n",
        "result1 <- c(x,y,z)\n",
        "result1"
      ]
    },
    {
      "cell_type": "code",
      "execution_count": null,
      "metadata": {
        "colab": {
          "base_uri": "https://localhost:8080/"
        },
        "id": "jv-K0Sgj5VI9",
        "outputId": "1ad9cfb0-868b-4059-9341-7b72a2793c42",
        "vscode": {
          "languageId": "r"
        }
      },
      "outputs": [],
      "source": [
        "## Concatenating data: cbind() function\n",
        "df1 <- data.frame(name = c('A','B','C','D','E','F'),\n",
        "                  age = c(22,25,28,19,15,23))\n",
        "print(df1)\n",
        "df2 <- data.frame(gender=c('Male','Male','Female','Male','Female','Female'))\n",
        "print(df2)\n"
      ]
    },
    {
      "cell_type": "code",
      "execution_count": null,
      "metadata": {
        "colab": {
          "base_uri": "https://localhost:8080/",
          "height": 0
        },
        "id": "EImaS7V1EaD0",
        "outputId": "19100c98-de01-4efb-8991-7cb6643278ba",
        "vscode": {
          "languageId": "r"
        }
      },
      "outputs": [],
      "source": [
        "data = cbind(df1, df2)\n",
        "data"
      ]
    },
    {
      "cell_type": "code",
      "execution_count": null,
      "metadata": {
        "colab": {
          "base_uri": "https://localhost:8080/"
        },
        "id": "X9E1v8K_522D",
        "outputId": "0b4d98ca-df23-49eb-8c3b-3631ccec2980",
        "vscode": {
          "languageId": "r"
        }
      },
      "outputs": [],
      "source": [
        "## Concatanating data: rbind() function\n",
        "x <- 1:4\n",
        "y <-6:8\n",
        "z <-11:15\n",
        "result3 = rbind(x,y,z)\n",
        "print(result3)\n",
        "## Parameters:x1, x2: vector, matrix, data frames"
      ]
    },
    {
      "cell_type": "markdown",
      "metadata": {
        "id": "POzFrzpw9Wk9"
      },
      "source": [
        "# Slide 1.4"
      ]
    },
    {
      "cell_type": "markdown",
      "metadata": {
        "id": "Tr-5EIdt9tYj"
      },
      "source": [
        "## Vector"
      ]
    },
    {
      "cell_type": "code",
      "execution_count": null,
      "metadata": {
        "colab": {
          "base_uri": "https://localhost:8080/",
          "height": 86
        },
        "id": "MbGjhnQz9a0V",
        "outputId": "d2a197fb-651c-4882-d7f6-21a048086f8a",
        "vscode": {
          "languageId": "r"
        }
      },
      "outputs": [],
      "source": [
        "## c(x,y)\n",
        "V = c(5,1,3,4)\n",
        "V\n",
        "## x:y\n",
        "a <-3:6\n",
        "a\n",
        "## seq\n",
        "seq(from=1,to=10,by=2)\n",
        "## rep\n",
        "rep(c(3,5),times=2,each=2)"
      ]
    },
    {
      "cell_type": "code",
      "execution_count": null,
      "metadata": {
        "colab": {
          "base_uri": "https://localhost:8080/",
          "height": 52
        },
        "id": "UwtX6aj5-lsN",
        "outputId": "ffe59027-298a-44f9-9e73-cd49636f5ce4",
        "vscode": {
          "languageId": "r"
        }
      },
      "outputs": [],
      "source": [
        "# numeric vector\n",
        "c(1,2,3,4,6)\n",
        "# Character vector\n",
        "c(\"A\",\"B\",\"C\",\"D\")"
      ]
    },
    {
      "cell_type": "code",
      "execution_count": null,
      "metadata": {
        "colab": {
          "base_uri": "https://localhost:8080/",
          "height": 69
        },
        "id": "vkLt-l-D-yqV",
        "outputId": "28524bf6-6471-43d1-8f93-9baec87a2b08",
        "vscode": {
          "languageId": "r"
        }
      },
      "outputs": [],
      "source": [
        "2:9\n",
        "24:19\n",
        "2.2:9.2"
      ]
    },
    {
      "cell_type": "code",
      "execution_count": null,
      "metadata": {
        "colab": {
          "base_uri": "https://localhost:8080/",
          "height": 34
        },
        "id": "EMYBSuYT-5uy",
        "outputId": "8941bb0d-e1fa-4149-c187-168226963fb7",
        "vscode": {
          "languageId": "r"
        }
      },
      "outputs": [],
      "source": [
        "seq(from=3,to=10,by=2)"
      ]
    },
    {
      "cell_type": "markdown",
      "metadata": {
        "id": "OfTT9P1d_KDx"
      },
      "source": [
        "## Factors"
      ]
    },
    {
      "cell_type": "code",
      "execution_count": null,
      "metadata": {
        "colab": {
          "base_uri": "https://localhost:8080/"
        },
        "id": "YTgNuyIn_Ecz",
        "outputId": "c1987341-14d1-4f1f-b858-8f6241fcc471",
        "vscode": {
          "languageId": "r"
        }
      },
      "outputs": [],
      "source": [
        "data <- c(\"East\",\"West\",\"North\",\"South\")\n",
        "print(data)"
      ]
    },
    {
      "cell_type": "code",
      "execution_count": null,
      "metadata": {
        "colab": {
          "base_uri": "https://localhost:8080/"
        },
        "id": "Gs63GntL_V5z",
        "outputId": "3aedf544-5b05-4c12-9b6a-7cf48bbe4822",
        "vscode": {
          "languageId": "r"
        }
      },
      "outputs": [],
      "source": [
        "print(is.factor(data))"
      ]
    },
    {
      "cell_type": "code",
      "execution_count": null,
      "metadata": {
        "colab": {
          "base_uri": "https://localhost:8080/"
        },
        "id": "t4d-lPOl_e45",
        "outputId": "7293465e-b8ab-4825-d640-b9f1f6367aa9",
        "vscode": {
          "languageId": "r"
        }
      },
      "outputs": [],
      "source": [
        "factor_data <- factor(data)\n",
        "print(factor(data))"
      ]
    },
    {
      "cell_type": "code",
      "execution_count": null,
      "metadata": {
        "colab": {
          "base_uri": "https://localhost:8080/"
        },
        "id": "2Haf0m_i_jnC",
        "outputId": "bd4d40c8-fa30-4973-cae6-4675bf4d1a5b",
        "vscode": {
          "languageId": "r"
        }
      },
      "outputs": [],
      "source": [
        "print(is.factor(factor_data))"
      ]
    },
    {
      "cell_type": "markdown",
      "metadata": {
        "id": "PFlZrGKv_v2I"
      },
      "source": [
        "## Vector Operations"
      ]
    },
    {
      "cell_type": "code",
      "execution_count": null,
      "metadata": {
        "colab": {
          "base_uri": "https://localhost:8080/",
          "height": 34
        },
        "id": "xro6wdn4_r2l",
        "outputId": "b77fbca6-6d5a-4403-d761-55165040808c",
        "vscode": {
          "languageId": "r"
        }
      },
      "outputs": [],
      "source": [
        "## names() function\n",
        "# names the elements of a vector\n",
        "year <- c(1985,1999,2010,2002)\n",
        "names(year) <- c(\"The Breakfast Club\",\"American Beauty\",\"Black Swan\",\"Chicago\")\n",
        "year[\"Black Swan\"]"
      ]
    },
    {
      "cell_type": "code",
      "execution_count": null,
      "metadata": {
        "colab": {
          "base_uri": "https://localhost:8080/",
          "height": 34
        },
        "id": "CRrp4lQ1AIU2",
        "outputId": "460b5ab6-46b6-455b-c556-1bc6d01cf9d9",
        "vscode": {
          "languageId": "r"
        }
      },
      "outputs": [],
      "source": [
        "## length() function\n",
        "# return the length of a vector\n",
        "\n",
        "year <- c(1985,1999,2010,2002)\n",
        "length(year)"
      ]
    },
    {
      "cell_type": "code",
      "execution_count": null,
      "metadata": {
        "colab": {
          "base_uri": "https://localhost:8080/"
        },
        "id": "ciuJ9RKeLttS",
        "outputId": "1ebfb8ea-0680-4945-9a0d-1c0e4e3c8fcf",
        "vscode": {
          "languageId": "r"
        }
      },
      "outputs": [],
      "source": [
        "## sort() function\n",
        "year <- c(1985,1999,2010,2002)\n",
        "names(year) <- c(\"The Breakfast Club\",\"American Beauty\",\"Black Swan\",\"Chicago\")\n",
        "year_sorted <- sort(year)\n",
        "print(year_sorted)"
      ]
    },
    {
      "cell_type": "code",
      "execution_count": null,
      "metadata": {
        "colab": {
          "base_uri": "https://localhost:8080/",
          "height": 34
        },
        "id": "uROWINgpL-bV",
        "outputId": "246ea8c1-d4ca-4e66-f589-8460fcb45f22",
        "vscode": {
          "languageId": "r"
        }
      },
      "outputs": [],
      "source": [
        "## min function\n",
        "year <- c(1985,1999,2010,2002)\n",
        "min(year)"
      ]
    },
    {
      "cell_type": "code",
      "execution_count": null,
      "metadata": {
        "colab": {
          "base_uri": "https://localhost:8080/",
          "height": 34
        },
        "id": "sETIY52QMFer",
        "outputId": "8a0fd478-7a3c-493c-bc0b-dd07ca484bcf",
        "vscode": {
          "languageId": "r"
        }
      },
      "outputs": [],
      "source": [
        "## max function\n",
        "year <- c(1985,1999,2010,2002)\n",
        "max(year)"
      ]
    },
    {
      "cell_type": "code",
      "execution_count": null,
      "metadata": {
        "colab": {
          "base_uri": "https://localhost:8080/",
          "height": 34
        },
        "id": "z4wrTBnIMHjj",
        "outputId": "ca3d37c6-ccba-41c8-afb9-cdbf61470e78",
        "vscode": {
          "languageId": "r"
        }
      },
      "outputs": [],
      "source": [
        "##sum() function\n",
        "sum(year)"
      ]
    },
    {
      "cell_type": "code",
      "execution_count": null,
      "metadata": {
        "colab": {
          "base_uri": "https://localhost:8080/",
          "height": 34
        },
        "id": "AudTG04bMR4g",
        "outputId": "6314528a-4be6-400b-dc8a-0eaadd842e71",
        "vscode": {
          "languageId": "r"
        }
      },
      "outputs": [],
      "source": [
        "##mean() function\n",
        "mean(year)"
      ]
    },
    {
      "cell_type": "code",
      "execution_count": null,
      "metadata": {
        "colab": {
          "base_uri": "https://localhost:8080/",
          "height": 52
        },
        "id": "x2rTs3v7MU30",
        "outputId": "1e704661-97c8-4f36-8126-be225eeea175",
        "vscode": {
          "languageId": "r"
        }
      },
      "outputs": [],
      "source": [
        "##summary() function\n",
        "cost_2014 <- c(8.6,8.5,8.1)\n",
        "summary(cost_2014)"
      ]
    },
    {
      "cell_type": "code",
      "execution_count": null,
      "metadata": {
        "colab": {
          "base_uri": "https://localhost:8080/",
          "height": 34
        },
        "id": "MWDWUCG9Melg",
        "outputId": "a65b528f-83d7-4860-fb68-dd4746c4f2f8",
        "vscode": {
          "languageId": "r"
        }
      },
      "outputs": [],
      "source": [
        "## return a range of values\n",
        "cost_2014[1:3]"
      ]
    },
    {
      "cell_type": "code",
      "execution_count": null,
      "metadata": {
        "colab": {
          "base_uri": "https://localhost:8080/",
          "height": 34
        },
        "id": "7enXWwTjMl0U",
        "outputId": "c75bb4fb-f48b-4ad3-b451-4995d49ce273",
        "vscode": {
          "languageId": "r"
        }
      },
      "outputs": [],
      "source": [
        "#return nagative index values\n",
        "titles <- c(\"Black Swan\",\"Casino\",\"City of God\",\"Jumanji\",\"Toy Story\")\n",
        "titles[-1]"
      ]
    },
    {
      "cell_type": "code",
      "execution_count": null,
      "metadata": {
        "colab": {
          "base_uri": "https://localhost:8080/",
          "height": 34
        },
        "id": "fuM3x19KMomm",
        "outputId": "2486e0fe-22a4-4079-a2c9-96b9ceccd448",
        "vscode": {
          "languageId": "r"
        }
      },
      "outputs": [],
      "source": [
        "#Out of range index\n",
        "titles[8]"
      ]
    },
    {
      "cell_type": "code",
      "execution_count": null,
      "metadata": {
        "colab": {
          "base_uri": "https://localhost:8080/",
          "height": 52
        },
        "id": "5zV0LeeUM4jB",
        "outputId": "8e94abbd-39eb-4d7d-848c-33d4ca72c34d",
        "vscode": {
          "languageId": "r"
        }
      },
      "outputs": [],
      "source": [
        "#Conditional index\n",
        "cost_2014>8.3\n",
        "cost_2014[cost_2014>8.3]"
      ]
    },
    {
      "cell_type": "markdown",
      "metadata": {
        "id": "2xotkNpKNB0D"
      },
      "source": [
        "## Arithmetic operations on vectors"
      ]
    },
    {
      "cell_type": "code",
      "execution_count": null,
      "metadata": {
        "colab": {
          "base_uri": "https://localhost:8080/",
          "height": 139
        },
        "id": "ICOiIW9hM_ug",
        "outputId": "1e30eab6-5f72-4dd6-8db5-bf6840b3bf3c",
        "vscode": {
          "languageId": "r"
        }
      },
      "outputs": [],
      "source": [
        "x <- c(1:5)\n",
        "x\n",
        "y<-seq(10,50,by=10)\n",
        "y\n",
        "x+50\n",
        "x+y\n",
        "(x+y)/10\n",
        "x-y\n",
        "x*y"
      ]
    },
    {
      "cell_type": "code",
      "execution_count": null,
      "metadata": {
        "colab": {
          "base_uri": "https://localhost:8080/",
          "height": 34
        },
        "id": "W5VirQIhNRqd",
        "outputId": "340a764e-6359-4d1d-f00b-803fcd7d3c28",
        "vscode": {
          "languageId": "r"
        }
      },
      "outputs": [],
      "source": [
        "## Missing values\n",
        "#Use NA for missing values\n",
        "age_restriction <- c(14,12,10,NA,18,NA)\n",
        "age_restriction"
      ]
    },
    {
      "cell_type": "markdown",
      "metadata": {
        "id": "opvhs59RNn3O"
      },
      "source": [
        "## Lists"
      ]
    },
    {
      "cell_type": "code",
      "execution_count": null,
      "metadata": {
        "colab": {
          "base_uri": "https://localhost:8080/"
        },
        "id": "ylLftrAPNcot",
        "outputId": "cadf76fc-535a-411b-8429-0a655e376841",
        "vscode": {
          "languageId": "r"
        }
      },
      "outputs": [],
      "source": [
        "movie <- list(\"Toy Story\",1995,c(\"Animation\",\"Adventure\",\"Comedy\"))\n",
        "print(movie)"
      ]
    },
    {
      "cell_type": "code",
      "execution_count": null,
      "metadata": {
        "colab": {
          "base_uri": "https://localhost:8080/",
          "height": 69
        },
        "id": "iwXGb_xkNyfH",
        "outputId": "ab5c8ea4-c00c-45e1-cd4d-407b365afe15",
        "vscode": {
          "languageId": "r"
        }
      },
      "outputs": [],
      "source": [
        "# Accessing named lists\n",
        "movie <- list(name = \"Toy Story\",\n",
        "              year = 1995,\n",
        "              genre = c(\"Animation\",\"Adventure\",\"Comedy\"))\n",
        "movie$genre\n",
        "movie[\"genre\"]"
      ]
    },
    {
      "cell_type": "code",
      "execution_count": null,
      "metadata": {
        "colab": {
          "base_uri": "https://localhost:8080/",
          "height": 69
        },
        "id": "i_Cp08ZwOFml",
        "outputId": "443c788f-f49c-425a-929c-263088849fe9",
        "vscode": {
          "languageId": "r"
        }
      },
      "outputs": [],
      "source": [
        "#Accessing named lists\n",
        "movie$name\n",
        "movie$year\n",
        "movie$genre"
      ]
    },
    {
      "cell_type": "code",
      "execution_count": null,
      "metadata": {
        "colab": {
          "base_uri": "https://localhost:8080/",
          "height": 184
        },
        "id": "X2dsNVzlOLJH",
        "outputId": "5d61a1b9-78be-4769-a0cd-16bde9cfa2a3",
        "vscode": {
          "languageId": "r"
        }
      },
      "outputs": [],
      "source": [
        "#Adding items\n",
        "movie[\"age\"] <- 5\n",
        "movie"
      ]
    },
    {
      "cell_type": "code",
      "execution_count": null,
      "metadata": {
        "colab": {
          "base_uri": "https://localhost:8080/",
          "height": 184
        },
        "id": "NsttjYe3Ofos",
        "outputId": "b6421de7-ea1d-4652-9a90-56c60804536e",
        "vscode": {
          "languageId": "r"
        }
      },
      "outputs": [],
      "source": [
        "#Modifying items\n",
        "movie[\"age\"] <- 5\n",
        "movie[\"age\"] <- 6\n",
        "movie"
      ]
    },
    {
      "cell_type": "code",
      "execution_count": null,
      "metadata": {
        "colab": {
          "base_uri": "https://localhost:8080/",
          "height": 149
        },
        "id": "THP8lhgJOrYy",
        "outputId": "7b7816e6-7c2c-4a77-c492-e31f605a8f7d",
        "vscode": {
          "languageId": "r"
        }
      },
      "outputs": [],
      "source": [
        "#Removing items\n",
        "movie[\"age\"] <- NULL\n",
        "movie"
      ]
    },
    {
      "cell_type": "markdown",
      "metadata": {
        "id": "jmdgUDa5O82L"
      },
      "source": [
        "# Slide 1.5\n"
      ]
    },
    {
      "cell_type": "markdown",
      "metadata": {
        "id": "qMRoYvwlPESl"
      },
      "source": [
        "## Array"
      ]
    },
    {
      "cell_type": "code",
      "execution_count": null,
      "metadata": {
        "colab": {
          "base_uri": "https://localhost:8080/"
        },
        "id": "xshQxmA6PNn9",
        "outputId": "e22f5a87-5487-4fe4-d6c6-9843862190cc",
        "vscode": {
          "languageId": "r"
        }
      },
      "outputs": [],
      "source": [
        "# create array\n",
        "movie_vector <- c(\"Akira\",\"Toy Story\",\"Room\",\"The Wave\",\"Whiplash\",\"Star Wars\",\"The Ring\",\"The Artist\",\"Jumanji\")\n",
        "movie_array <- array(movie_vector,dim=c(4,3))\n",
        "print(movie_array)"
      ]
    },
    {
      "cell_type": "code",
      "execution_count": null,
      "metadata": {
        "colab": {
          "base_uri": "https://localhost:8080/",
          "height": 69
        },
        "id": "fbFAMLnAO0Ld",
        "outputId": "813e06ec-abf0-46bb-d75c-5050b3602c7e",
        "vscode": {
          "languageId": "r"
        }
      },
      "outputs": [],
      "source": [
        "# Accessing an array\n",
        "## Access an element\n",
        "movie_array[1,2]\n",
        "## Access row\n",
        "movie_array[1,]\n",
        "## Access column\n",
        "movie_array[,2]"
      ]
    },
    {
      "cell_type": "markdown",
      "metadata": {
        "id": "y-VGtDBRQHNJ"
      },
      "source": [
        "## Matrices"
      ]
    },
    {
      "cell_type": "code",
      "execution_count": null,
      "metadata": {
        "colab": {
          "base_uri": "https://localhost:8080/"
        },
        "id": "s6ManYWQP6sP",
        "outputId": "78e48bc1-b90c-48b6-c873-5ad409478470",
        "vscode": {
          "languageId": "r"
        }
      },
      "outputs": [],
      "source": [
        "# Create an matrix\n",
        "## similar in structure to an array but it has two dimentions\n",
        "movie_matrix <- matrix(movie_vector,nrow=3,ncol=3)\n",
        "print(movie_matrix)"
      ]
    },
    {
      "cell_type": "code",
      "execution_count": null,
      "metadata": {
        "colab": {
          "base_uri": "https://localhost:8080/",
          "height": 114
        },
        "id": "i96ApFumQZT4",
        "outputId": "97bba5bc-12a3-4bb1-b935-926babbccb5e",
        "vscode": {
          "languageId": "r"
        }
      },
      "outputs": [],
      "source": [
        "## Accessing an matrix\n",
        "movie_matrix[2:3,1:2]"
      ]
    },
    {
      "cell_type": "markdown",
      "metadata": {
        "id": "s3RyuZwQQkYa"
      },
      "source": [
        "## DataFrames\n"
      ]
    },
    {
      "cell_type": "code",
      "execution_count": null,
      "metadata": {
        "colab": {
          "base_uri": "https://localhost:8080/"
        },
        "id": "nR_oXoTkQh1m",
        "outputId": "3eeb336b-1008-453b-c705-431f3bb7c81a",
        "vscode": {
          "languageId": "r"
        }
      },
      "outputs": [],
      "source": [
        "#Create a dataframe\n",
        "movies <- data.frame(name = movie_vector,\n",
        "                    year = c(1995,1998,1985,2011,1936,1999,2002,1987,2024))\n",
        "print(movies)"
      ]
    },
    {
      "cell_type": "code",
      "execution_count": null,
      "metadata": {
        "colab": {
          "base_uri": "https://localhost:8080/",
          "height": 225
        },
        "id": "B5qdB0gBQseD",
        "outputId": "71a36666-ca2b-49e3-8289-7080776fcc55",
        "vscode": {
          "languageId": "r"
        }
      },
      "outputs": [],
      "source": [
        "# Acessing dataframes\n",
        "## Access a column\n",
        "print(movies[1])\n",
        "## Access an element\n",
        "print(movies[1,2])\n",
        "## Access a variable\n",
        "movies$name"
      ]
    },
    {
      "cell_type": "code",
      "execution_count": null,
      "metadata": {
        "colab": {
          "base_uri": "https://localhost:8080/"
        },
        "id": "cPWxljnkRM14",
        "outputId": "20e89cba-406b-4e97-f8e8-0381ef9ac210",
        "vscode": {
          "languageId": "r"
        }
      },
      "outputs": [],
      "source": [
        "# data frame structure\n",
        "str(movies)"
      ]
    },
    {
      "cell_type": "code",
      "execution_count": null,
      "metadata": {
        "colab": {
          "base_uri": "https://localhost:8080/",
          "height": 555
        },
        "id": "Glp8YUXWRxp7",
        "outputId": "878aa4d6-6caa-40fb-fe91-53d5d3e8a99e",
        "vscode": {
          "languageId": "r"
        }
      },
      "outputs": [],
      "source": [
        "# head and tail\n",
        "head(movies)\n",
        "tail(movies)\n"
      ]
    },
    {
      "cell_type": "code",
      "execution_count": null,
      "metadata": {
        "colab": {
          "base_uri": "https://localhost:8080/",
          "height": 380
        },
        "id": "GqRLkkD_R3OD",
        "outputId": "6244877f-7302-4e2f-afea-a1cad7c44614",
        "vscode": {
          "languageId": "r"
        }
      },
      "outputs": [],
      "source": [
        "# Inserting a new col\n",
        "movies['length']<- c(81,125,97,199,87,139,130,119,120)\n",
        "movies"
      ]
    },
    {
      "cell_type": "code",
      "execution_count": null,
      "metadata": {
        "colab": {
          "base_uri": "https://localhost:8080/",
          "height": 412
        },
        "id": "jb0-AhcaSA8v",
        "outputId": "a09b12b7-9c65-410e-eae3-a1e912c12c08",
        "vscode": {
          "languageId": "r"
        }
      },
      "outputs": [],
      "source": [
        "# Inserting a new row\n",
        "movies <-rbind(movies,c(name=\"Dr. StrangeLove\",\n",
        "                        year = 1964,length=94)\n",
        "                        )\n",
        "movies"
      ]
    },
    {
      "cell_type": "code",
      "execution_count": null,
      "metadata": {
        "id": "jOLEgL4LSTFv",
        "vscode": {
          "languageId": "r"
        }
      },
      "outputs": [],
      "source": [
        "# Deleting rows\n",
        "movies <- movies[-10,]"
      ]
    },
    {
      "cell_type": "code",
      "execution_count": null,
      "metadata": {
        "colab": {
          "base_uri": "https://localhost:8080/",
          "height": 380
        },
        "id": "xgp8D5MISmo8",
        "outputId": "657ebdae-2cb9-430b-fc3e-7b63c21f11b6",
        "vscode": {
          "languageId": "r"
        }
      },
      "outputs": [],
      "source": [
        "movies"
      ]
    },
    {
      "cell_type": "code",
      "execution_count": null,
      "metadata": {
        "colab": {
          "base_uri": "https://localhost:8080/",
          "height": 380
        },
        "id": "llcrszmZSnXk",
        "outputId": "9444dd4d-74d3-4578-bf2d-5e9780625eee",
        "vscode": {
          "languageId": "r"
        }
      },
      "outputs": [],
      "source": [
        "# Deleting columns\n",
        "movies[\"length\"] <- NULL\n",
        "movies"
      ]
    },
    {
      "cell_type": "markdown",
      "metadata": {
        "id": "MvHqqbObSxJz"
      },
      "source": [
        "# Slide 1.6"
      ]
    },
    {
      "cell_type": "markdown",
      "metadata": {
        "id": "H4sGaGRu4cVL"
      },
      "source": [
        "## Reading CSV files"
      ]
    },
    {
      "cell_type": "code",
      "execution_count": null,
      "metadata": {
        "colab": {
          "base_uri": "https://localhost:8080/",
          "height": 286
        },
        "id": "H1kB9YoaSsvj",
        "outputId": "997a29dc-91d2-4079-d068-5b0851468e26",
        "vscode": {
          "languageId": "r"
        }
      },
      "outputs": [],
      "source": [
        "# read file from csv\n",
        "data = read.csv(\"Vietnam_province_info.csv\")\n",
        "head(data)"
      ]
    },
    {
      "cell_type": "markdown",
      "metadata": {
        "id": "k49NH8iA4lwh"
      },
      "source": [
        "## Reading Excel files"
      ]
    },
    {
      "cell_type": "code",
      "execution_count": null,
      "metadata": {
        "id": "ZnRgRj0k6HI8",
        "vscode": {
          "languageId": "r"
        }
      },
      "outputs": [],
      "source": [
        "# data=read_excel(\"Vietnam_province_info.xlsx\",sheet=\"Vietnam_province_info\")"
      ]
    },
    {
      "cell_type": "markdown",
      "metadata": {
        "id": "-A5ggmIF9qG4"
      },
      "source": [
        "## Accessing data"
      ]
    },
    {
      "cell_type": "code",
      "execution_count": null,
      "metadata": {
        "colab": {
          "base_uri": "https://localhost:8080/",
          "height": 1000
        },
        "id": "U2S8Cg7SVcG7",
        "outputId": "85287e60-fa6e-4d7a-8866-ec84408f48c5",
        "vscode": {
          "languageId": "r"
        }
      },
      "outputs": [],
      "source": [
        "# Access a column\n",
        "data[\"Lat\"]"
      ]
    },
    {
      "cell_type": "code",
      "execution_count": null,
      "metadata": {
        "colab": {
          "base_uri": "https://localhost:8080/",
          "height": 129
        },
        "id": "WrXh4cx1V235",
        "outputId": "988697bf-e441-4d63-af2e-2bc7e82d09e6",
        "vscode": {
          "languageId": "r"
        }
      },
      "outputs": [],
      "source": [
        "# Access a row\n",
        "data[1,]"
      ]
    },
    {
      "cell_type": "code",
      "execution_count": null,
      "metadata": {
        "colab": {
          "base_uri": "https://localhost:8080/",
          "height": 129
        },
        "id": "DnmuYv48WJHK",
        "outputId": "b4491fc0-23ab-4076-d090-884bb47d8833",
        "vscode": {
          "languageId": "r"
        }
      },
      "outputs": [],
      "source": [
        "# Acess interested columns of a row\n",
        "data[1,c(\"Lat\",\"Long\")]"
      ]
    },
    {
      "cell_type": "code",
      "execution_count": null,
      "metadata": {
        "id": "0vxUXbCsWRhz",
        "vscode": {
          "languageId": "r"
        }
      },
      "outputs": [],
      "source": [
        "data()"
      ]
    },
    {
      "cell_type": "code",
      "execution_count": null,
      "metadata": {
        "id": "oGeXfVf1WWH6",
        "vscode": {
          "languageId": "r"
        }
      },
      "outputs": [],
      "source": [
        "help(CO2)"
      ]
    },
    {
      "cell_type": "code",
      "execution_count": null,
      "metadata": {
        "colab": {
          "base_uri": "https://localhost:8080/",
          "height": 1000
        },
        "id": "husDm8KSWZAx",
        "outputId": "8d6bfde5-fc82-4239-d051-dfb6bbee9293",
        "vscode": {
          "languageId": "r"
        }
      },
      "outputs": [],
      "source": [
        "CO2"
      ]
    },
    {
      "cell_type": "markdown",
      "metadata": {
        "id": "dKhf0CdzWda8"
      },
      "source": [
        "## Reading text files into R"
      ]
    },
    {
      "cell_type": "code",
      "execution_count": null,
      "metadata": {
        "colab": {
          "base_uri": "https://localhost:8080/"
        },
        "id": "5Bl_tI_0Wa6x",
        "outputId": "1fd05706-48a6-4647-e524-4df1acd32ab1",
        "vscode": {
          "languageId": "r"
        }
      },
      "outputs": [],
      "source": [
        "text <- readLines(\"text.txt\")\n",
        "print(text)"
      ]
    },
    {
      "cell_type": "code",
      "execution_count": null,
      "metadata": {
        "colab": {
          "base_uri": "https://localhost:8080/",
          "height": 69
        },
        "id": "0CAKtubPXE5a",
        "outputId": "a2d22e44-61b6-4305-8eea-8ff1691318b2",
        "vscode": {
          "languageId": "r"
        }
      },
      "outputs": [],
      "source": [
        "#Operations\n",
        "length(text)\n",
        "nchar(text)\n",
        "file.size(\"text.txt\")"
      ]
    },
    {
      "cell_type": "code",
      "execution_count": null,
      "metadata": {
        "colab": {
          "base_uri": "https://localhost:8080/",
          "height": 34
        },
        "id": "hRK6sUotXRss",
        "outputId": "ee5954a7-4afe-4a52-bea7-830c99495f21",
        "vscode": {
          "languageId": "r"
        }
      },
      "outputs": [],
      "source": [
        "# Reading text files using scan()\n",
        "text <- scan(\"text.txt\",\"\")\n",
        "text"
      ]
    },
    {
      "cell_type": "code",
      "execution_count": null,
      "metadata": {
        "colab": {
          "base_uri": "https://localhost:8080/",
          "height": 132
        },
        "id": "uMBoh7JxXYi8",
        "outputId": "bd97e086-d6af-4d95-852e-fddb62f984f8",
        "vscode": {
          "languageId": "r"
        }
      },
      "outputs": [],
      "source": [
        "# Exporting as a text file\n",
        "m <- matrix(c(1,2,3,4,5,6),nrow=2,ncol=3)\n",
        "m\n",
        "write(m,file = \"matrix_as_text.txt\",ncolumns = 3,sep = \" \")\n"
      ]
    },
    {
      "cell_type": "code",
      "execution_count": null,
      "metadata": {
        "id": "yI9IqTkFXvLh",
        "vscode": {
          "languageId": "r"
        }
      },
      "outputs": [],
      "source": [
        "# Exporting as a CSV file\n",
        "df <- data.frame(m)\n",
        "write.csv(df,file=\"dataset.csv\",row.names=FALSE)\n",
        "write.table(df,file = \"dataset.csv\",row.names=FALSE,col.names=FALSE,sep=\",\")"
      ]
    },
    {
      "cell_type": "code",
      "execution_count": null,
      "metadata": {
        "id": "asAfWblqZT95",
        "vscode": {
          "languageId": "r"
        }
      },
      "outputs": [],
      "source": [
        "library(\"writexl\")"
      ]
    },
    {
      "cell_type": "code",
      "execution_count": null,
      "metadata": {
        "id": "tzlYCke3YsQP",
        "vscode": {
          "languageId": "r"
        }
      },
      "outputs": [],
      "source": [
        "# Saving R objects in .RDAta files\n",
        "var1 <- 10\n",
        "var2 <- 20\n",
        "var3 <- 30\n",
        "\n",
        "save(list = c(\"var1\",\"var2\",\"var3\"),file = \"vars.RData\")"
      ]
    },
    {
      "cell_type": "code",
      "execution_count": null,
      "metadata": {
        "id": "9tcv2KpY2wKu",
        "vscode": {
          "languageId": "r"
        }
      },
      "outputs": [],
      "source": []
    }
  ],
  "metadata": {
    "colab": {
      "provenance": []
    },
    "kernelspec": {
      "display_name": "R",
      "language": "R",
      "name": "ir"
    },
    "language_info": {
      "codemirror_mode": "r",
      "file_extension": ".r",
      "mimetype": "text/x-r-source",
      "name": "R",
      "pygments_lexer": "r",
      "version": "4.4.0"
    }
  },
  "nbformat": 4,
  "nbformat_minor": 0
}
