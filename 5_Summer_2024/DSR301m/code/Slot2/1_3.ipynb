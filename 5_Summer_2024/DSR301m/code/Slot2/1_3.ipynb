{
 "cells": [
  {
   "cell_type": "markdown",
   "id": "4f1e2737",
   "metadata": {},
   "source": [
    "# Data Types"
   ]
  },
  {
   "cell_type": "code",
   "execution_count": 2,
   "id": "90fd7053-07ac-4d72-a45a-ddd32488a63f",
   "metadata": {
    "tags": [],
    "vscode": {
     "languageId": "r"
    }
   },
   "outputs": [
    {
     "data": {
      "text/html": [
       "'integer'"
      ],
      "text/latex": [
       "'integer'"
      ],
      "text/markdown": [
       "'integer'"
      ],
      "text/plain": [
       "[1] \"integer\""
      ]
     },
     "metadata": {},
     "output_type": "display_data"
    },
    {
     "data": {
      "text/html": [
       "TRUE"
      ],
      "text/latex": [
       "TRUE"
      ],
      "text/markdown": [
       "TRUE"
      ],
      "text/plain": [
       "[1] TRUE"
      ]
     },
     "metadata": {},
     "output_type": "display_data"
    }
   ],
   "source": [
    "## integer\n",
    "class(3L)\n",
    "is.integer(2L)"
   ]
  },
  {
   "cell_type": "code",
   "execution_count": 3,
   "id": "249b0f03-a458-413c-9ee1-1fd74b099e13",
   "metadata": {
    "tags": [],
    "vscode": {
     "languageId": "r"
    }
   },
   "outputs": [
    {
     "data": {
      "text/html": [
       "'numeric'"
      ],
      "text/latex": [
       "'numeric'"
      ],
      "text/markdown": [
       "'numeric'"
      ],
      "text/plain": [
       "[1] \"numeric\""
      ]
     },
     "metadata": {},
     "output_type": "display_data"
    },
    {
     "data": {
      "text/html": [
       "TRUE"
      ],
      "text/latex": [
       "TRUE"
      ],
      "text/markdown": [
       "TRUE"
      ],
      "text/plain": [
       "[1] TRUE"
      ]
     },
     "metadata": {},
     "output_type": "display_data"
    },
    {
     "data": {
      "text/html": [
       "TRUE"
      ],
      "text/latex": [
       "TRUE"
      ],
      "text/markdown": [
       "TRUE"
      ],
      "text/plain": [
       "[1] TRUE"
      ]
     },
     "metadata": {},
     "output_type": "display_data"
    }
   ],
   "source": [
    "## numeric\n",
    "class(3)\n",
    "is.numeric(4)\n",
    "is.numeric(4L)"
   ]
  },
  {
   "cell_type": "code",
   "execution_count": 1,
   "id": "0c5ab889-b201-4f9f-a5d8-cac9417a8b04",
   "metadata": {
    "vscode": {
     "languageId": "r"
    }
   },
   "outputs": [
    {
     "data": {
      "text/html": [
       "'character'"
      ],
      "text/latex": [
       "'character'"
      ],
      "text/markdown": [
       "'character'"
      ],
      "text/plain": [
       "[1] \"character\""
      ]
     },
     "metadata": {},
     "output_type": "display_data"
    },
    {
     "data": {
      "text/html": [
       "TRUE"
      ],
      "text/latex": [
       "TRUE"
      ],
      "text/markdown": [
       "TRUE"
      ],
      "text/plain": [
       "[1] TRUE"
      ]
     },
     "metadata": {},
     "output_type": "display_data"
    }
   ],
   "source": [
    "## Character\n",
    "a <- \"My name is Nguyen\"\n",
    "class(a)\n",
    "is.character(a)"
   ]
  },
  {
   "cell_type": "code",
   "execution_count": 2,
   "id": "cefe3704",
   "metadata": {
    "vscode": {
     "languageId": "r"
    }
   },
   "outputs": [
    {
     "data": {
      "text/html": [
       "'logical'"
      ],
      "text/latex": [
       "'logical'"
      ],
      "text/markdown": [
       "'logical'"
      ],
      "text/plain": [
       "[1] \"logical\""
      ]
     },
     "metadata": {},
     "output_type": "display_data"
    },
    {
     "data": {
      "text/html": [
       "TRUE"
      ],
      "text/latex": [
       "TRUE"
      ],
      "text/markdown": [
       "TRUE"
      ],
      "text/plain": [
       "[1] TRUE"
      ]
     },
     "metadata": {},
     "output_type": "display_data"
    }
   ],
   "source": [
    "## Logical\n",
    "b <- TRUE\n",
    "class(b)\n",
    "is.logical(b)"
   ]
  },
  {
   "cell_type": "markdown",
   "id": "43ca06a2",
   "metadata": {},
   "source": [
    "# Data Type Conversation"
   ]
  },
  {
   "cell_type": "code",
   "execution_count": null,
   "id": "fe53838f",
   "metadata": {
    "vscode": {
     "languageId": "r"
    }
   },
   "outputs": [],
   "source": [
    "## integer to numeric\n",
    "as.numeric(10L)\n",
    "## numeric to character\n",
    "as.character(10L)\n",
    "## character to numeric\n",
    "as.numeric(\"10L\")\n",
    "## numeric to integer\n",
    "as.integer(10.1)\n",
    "## character to numeric\n",
    "as.numeric(\"A\")\n",
    "## numeric to logical\n",
    "as.logical(1)\n",
    "## character to logical\n",
    "as.logical(\"FALSE\")\n",
    "## logical to numeric\n",
    "as.numeric(FALSE)"
   ]
  },
  {
   "cell_type": "markdown",
   "id": "ac51f814",
   "metadata": {},
   "source": [
    "# Basic Math"
   ]
  },
  {
   "cell_type": "code",
   "execution_count": null,
   "id": "de7cff28",
   "metadata": {
    "vscode": {
     "languageId": "r"
    }
   },
   "outputs": [],
   "source": [
    "139 + 121\n",
    "139 - 121\n",
    "2*3\n",
    "260/60\n",
    "2^3 # exponential diff"
   ]
  },
  {
   "cell_type": "markdown",
   "id": "649d22c3",
   "metadata": {},
   "source": [
    "# Variables"
   ]
  },
  {
   "cell_type": "code",
   "execution_count": 3,
   "id": "9adf9360",
   "metadata": {
    "vscode": {
     "languageId": "r"
    }
   },
   "outputs": [
    {
     "data": {
      "text/html": [
       "30"
      ],
      "text/latex": [
       "30"
      ],
      "text/markdown": [
       "30"
      ],
      "text/plain": [
       "[1] 30"
      ]
     },
     "metadata": {},
     "output_type": "display_data"
    }
   ],
   "source": [
    "x <- 10 + 20\n",
    "x"
   ]
  },
  {
   "cell_type": "code",
   "execution_count": null,
   "id": "f6992992",
   "metadata": {
    "vscode": {
     "languageId": "r"
    }
   },
   "outputs": [],
   "source": [
    "y <-x/3\n",
    "y"
   ]
  },
  {
   "cell_type": "markdown",
   "id": "863e018c",
   "metadata": {},
   "source": [
    "# Variable Reassigment"
   ]
  },
  {
   "cell_type": "code",
   "execution_count": 7,
   "id": "e4131496",
   "metadata": {
    "vscode": {
     "languageId": "r"
    }
   },
   "outputs": [
    {
     "data": {
      "text/html": [
       "30"
      ],
      "text/latex": [
       "30"
      ],
      "text/markdown": [
       "30"
      ],
      "text/plain": [
       "[1] 30"
      ]
     },
     "metadata": {},
     "output_type": "display_data"
    }
   ],
   "source": [
    "x <- 10 + 20\n",
    "x"
   ]
  },
  {
   "cell_type": "code",
   "execution_count": 8,
   "id": "faa494da",
   "metadata": {
    "vscode": {
     "languageId": "r"
    }
   },
   "outputs": [
    {
     "data": {
      "text/html": [
       "10"
      ],
      "text/latex": [
       "10"
      ],
      "text/markdown": [
       "10"
      ],
      "text/plain": [
       "[1] 10"
      ]
     },
     "metadata": {},
     "output_type": "display_data"
    }
   ],
   "source": [
    "# Overwrite x\n",
    "x <- x/3\n",
    "x"
   ]
  },
  {
   "cell_type": "markdown",
   "id": "944003af",
   "metadata": {},
   "source": [
    "# Variable Names"
   ]
  },
  {
   "cell_type": "code",
   "execution_count": 9,
   "id": "28a61db9",
   "metadata": {
    "vscode": {
     "languageId": "r"
    }
   },
   "outputs": [
    {
     "data": {
      "text/html": [
       "30"
      ],
      "text/latex": [
       "30"
      ],
      "text/markdown": [
       "30"
      ],
      "text/plain": [
       "[1] 30"
      ]
     },
     "metadata": {},
     "output_type": "display_data"
    }
   ],
   "source": [
    "# Total time\n",
    "var <- 10+20\n",
    "var"
   ]
  },
  {
   "cell_type": "markdown",
   "id": "918f2b7b",
   "metadata": {},
   "source": [
    "# String in R"
   ]
  },
  {
   "cell_type": "code",
   "execution_count": 10,
   "id": "828d0ef7",
   "metadata": {
    "vscode": {
     "languageId": "r"
    }
   },
   "outputs": [
    {
     "data": {
      "text/html": [
       "'Dinh Nguyen'"
      ],
      "text/latex": [
       "'Dinh Nguyen'"
      ],
      "text/markdown": [
       "'Dinh Nguyen'"
      ],
      "text/plain": [
       "[1] \"Dinh Nguyen\""
      ]
     },
     "metadata": {},
     "output_type": "display_data"
    }
   ],
   "source": [
    "name <- \"Dinh Nguyen\"\n",
    "name"
   ]
  },
  {
   "cell_type": "markdown",
   "id": "e2c06cd6",
   "metadata": {},
   "source": [
    "# c() function"
   ]
  },
  {
   "cell_type": "code",
   "execution_count": 11,
   "id": "8692d646",
   "metadata": {
    "vscode": {
     "languageId": "r"
    }
   },
   "outputs": [
    {
     "data": {
      "text/html": [
       "<style>\n",
       ".list-inline {list-style: none; margin:0; padding: 0}\n",
       ".list-inline>li {display: inline-block}\n",
       ".list-inline>li:not(:last-child)::after {content: \"\\00b7\"; padding: 0 .5ex}\n",
       "</style>\n",
       "<ol class=list-inline><li>'1'</li><li>'5'</li><li>'A'</li><li>'8'</li><li>'8'</li><li>'6'</li></ol>\n"
      ],
      "text/latex": [
       "\\begin{enumerate*}\n",
       "\\item '1'\n",
       "\\item '5'\n",
       "\\item 'A'\n",
       "\\item '8'\n",
       "\\item '8'\n",
       "\\item '6'\n",
       "\\end{enumerate*}\n"
      ],
      "text/markdown": [
       "1. '1'\n",
       "2. '5'\n",
       "3. 'A'\n",
       "4. '8'\n",
       "5. '8'\n",
       "6. '6'\n",
       "\n",
       "\n"
      ],
      "text/plain": [
       "[1] \"1\" \"5\" \"A\" \"8\" \"8\" \"6\""
      ]
     },
     "metadata": {},
     "output_type": "display_data"
    }
   ],
   "source": [
    "a <- c(1,5,\"A\",8,8,6)\n",
    "a"
   ]
  },
  {
   "cell_type": "code",
   "execution_count": 13,
   "id": "a3dec94d",
   "metadata": {
    "vscode": {
     "languageId": "r"
    }
   },
   "outputs": [
    {
     "data": {
      "text/html": [
       "<style>\n",
       ".list-inline {list-style: none; margin:0; padding: 0}\n",
       ".list-inline>li {display: inline-block}\n",
       ".list-inline>li:not(:last-child)::after {content: \"\\00b7\"; padding: 0 .5ex}\n",
       "</style>\n",
       "<ol class=list-inline><li>1</li><li>2</li><li>3</li><li>4</li><li>5</li><li>10</li><li>11</li><li>12</li><li>13</li><li>14</li><li>15</li><li>20</li><li>21</li><li>22</li><li>23</li><li>24</li><li>25</li></ol>\n"
      ],
      "text/latex": [
       "\\begin{enumerate*}\n",
       "\\item 1\n",
       "\\item 2\n",
       "\\item 3\n",
       "\\item 4\n",
       "\\item 5\n",
       "\\item 10\n",
       "\\item 11\n",
       "\\item 12\n",
       "\\item 13\n",
       "\\item 14\n",
       "\\item 15\n",
       "\\item 20\n",
       "\\item 21\n",
       "\\item 22\n",
       "\\item 23\n",
       "\\item 24\n",
       "\\item 25\n",
       "\\end{enumerate*}\n"
      ],
      "text/markdown": [
       "1. 1\n",
       "2. 2\n",
       "3. 3\n",
       "4. 4\n",
       "5. 5\n",
       "6. 10\n",
       "7. 11\n",
       "8. 12\n",
       "9. 13\n",
       "10. 14\n",
       "11. 15\n",
       "12. 20\n",
       "13. 21\n",
       "14. 22\n",
       "15. 23\n",
       "16. 24\n",
       "17. 25\n",
       "\n",
       "\n"
      ],
      "text/plain": [
       " [1]  1  2  3  4  5 10 11 12 13 14 15 20 21 22 23 24 25"
      ]
     },
     "metadata": {},
     "output_type": "display_data"
    }
   ],
   "source": [
    "x <- 1:5\n",
    "y <- 10:15\n",
    "z <- 20:25\n",
    "result1 <- c(x,y,z)\n",
    "result1"
   ]
  },
  {
   "cell_type": "code",
   "execution_count": 14,
   "id": "a842bdc9",
   "metadata": {
    "vscode": {
     "languageId": "r"
    }
   },
   "outputs": [
    {
     "name": "stdout",
     "output_type": "stream",
     "text": [
      "  name age\n",
      "1    A  22\n",
      "2    B  25\n",
      "3    C  28\n",
      "4    D  19\n",
      "5    E  15\n",
      "6    F  23\n",
      "  gender\n",
      "1   Male\n",
      "2   Male\n",
      "3 Female\n",
      "4   Male\n",
      "5 Female\n",
      "6 Female\n"
     ]
    }
   ],
   "source": [
    "## Concatenating data: cbind() function\n",
    "df1 <- data.frame(name = c('A','B','C','D','E','F'),\n",
    "                  age = c(22,25,28,19,15,23))\n",
    "print(df1)\n",
    "df2 <- data.frame(gender=c('Male','Male','Female','Male','Female','Female'))\n",
    "print(df2)"
   ]
  },
  {
   "cell_type": "code",
   "execution_count": 15,
   "id": "d5775f7c",
   "metadata": {
    "vscode": {
     "languageId": "r"
    }
   },
   "outputs": [
    {
     "data": {
      "text/html": [
       "<table class=\"dataframe\">\n",
       "<caption>A data.frame: 6 × 3</caption>\n",
       "<thead>\n",
       "\t<tr><th scope=col>name</th><th scope=col>age</th><th scope=col>gender</th></tr>\n",
       "\t<tr><th scope=col>&lt;chr&gt;</th><th scope=col>&lt;dbl&gt;</th><th scope=col>&lt;chr&gt;</th></tr>\n",
       "</thead>\n",
       "<tbody>\n",
       "\t<tr><td>A</td><td>22</td><td>Male  </td></tr>\n",
       "\t<tr><td>B</td><td>25</td><td>Male  </td></tr>\n",
       "\t<tr><td>C</td><td>28</td><td>Female</td></tr>\n",
       "\t<tr><td>D</td><td>19</td><td>Male  </td></tr>\n",
       "\t<tr><td>E</td><td>15</td><td>Female</td></tr>\n",
       "\t<tr><td>F</td><td>23</td><td>Female</td></tr>\n",
       "</tbody>\n",
       "</table>\n"
      ],
      "text/latex": [
       "A data.frame: 6 × 3\n",
       "\\begin{tabular}{lll}\n",
       " name & age & gender\\\\\n",
       " <chr> & <dbl> & <chr>\\\\\n",
       "\\hline\n",
       "\t A & 22 & Male  \\\\\n",
       "\t B & 25 & Male  \\\\\n",
       "\t C & 28 & Female\\\\\n",
       "\t D & 19 & Male  \\\\\n",
       "\t E & 15 & Female\\\\\n",
       "\t F & 23 & Female\\\\\n",
       "\\end{tabular}\n"
      ],
      "text/markdown": [
       "\n",
       "A data.frame: 6 × 3\n",
       "\n",
       "| name &lt;chr&gt; | age &lt;dbl&gt; | gender &lt;chr&gt; |\n",
       "|---|---|---|\n",
       "| A | 22 | Male   |\n",
       "| B | 25 | Male   |\n",
       "| C | 28 | Female |\n",
       "| D | 19 | Male   |\n",
       "| E | 15 | Female |\n",
       "| F | 23 | Female |\n",
       "\n"
      ],
      "text/plain": [
       "  name age gender\n",
       "1 A    22  Male  \n",
       "2 B    25  Male  \n",
       "3 C    28  Female\n",
       "4 D    19  Male  \n",
       "5 E    15  Female\n",
       "6 F    23  Female"
      ]
     },
     "metadata": {},
     "output_type": "display_data"
    }
   ],
   "source": [
    "data = cbind(df1, df2)\n",
    "data"
   ]
  },
  {
   "cell_type": "code",
   "execution_count": 16,
   "id": "796409eb",
   "metadata": {
    "vscode": {
     "languageId": "r"
    }
   },
   "outputs": [
    {
     "name": "stderr",
     "output_type": "stream",
     "text": [
      "Warning message in rbind(x, y, z):\n",
      "“number of columns of result is not a multiple of vector length (arg 1)”\n"
     ]
    },
    {
     "name": "stdout",
     "output_type": "stream",
     "text": [
      "  [,1] [,2] [,3] [,4] [,5]\n",
      "x    1    2    3    4    1\n",
      "y    6    7    8    6    7\n",
      "z   11   12   13   14   15\n"
     ]
    }
   ],
   "source": [
    "## Concatanating data: rbind() function\n",
    "x <- 1:4\n",
    "y <-6:8\n",
    "z <-11:15\n",
    "result3 = rbind(x,y,z)\n",
    "print(result3)\n",
    "## Parameters:x1, x2: vector, matrix, data frames"
   ]
  }
 ],
 "metadata": {
  "kernelspec": {
   "display_name": "R",
   "language": "R",
   "name": "ir"
  },
  "language_info": {
   "codemirror_mode": "r",
   "file_extension": ".r",
   "mimetype": "text/x-r-source",
   "name": "R",
   "pygments_lexer": "r",
   "version": "4.4.0"
  }
 },
 "nbformat": 4,
 "nbformat_minor": 5
}
