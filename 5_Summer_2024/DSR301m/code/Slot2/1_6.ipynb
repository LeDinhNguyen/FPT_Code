{
 "cells": [
  {
   "cell_type": "markdown",
   "metadata": {},
   "source": [
    "# Read CSV"
   ]
  },
  {
   "cell_type": "code",
   "execution_count": 34,
   "metadata": {
    "vscode": {
     "languageId": "r"
    }
   },
   "outputs": [
    {
     "data": {
      "text/html": [
       "<table class=\"dataframe\">\n",
       "<caption>A data.frame: 6 × 33</caption>\n",
       "<thead>\n",
       "\t<tr><th></th><th scope=col>id</th><th scope=col>diagnosis</th><th scope=col>radius_mean</th><th scope=col>texture_mean</th><th scope=col>perimeter_mean</th><th scope=col>area_mean</th><th scope=col>smoothness_mean</th><th scope=col>compactness_mean</th><th scope=col>concavity_mean</th><th scope=col>concave.points_mean</th><th scope=col>⋯</th><th scope=col>texture_worst</th><th scope=col>perimeter_worst</th><th scope=col>area_worst</th><th scope=col>smoothness_worst</th><th scope=col>compactness_worst</th><th scope=col>concavity_worst</th><th scope=col>concave.points_worst</th><th scope=col>symmetry_worst</th><th scope=col>fractal_dimension_worst</th><th scope=col>X</th></tr>\n",
       "\t<tr><th></th><th scope=col>&lt;int&gt;</th><th scope=col>&lt;chr&gt;</th><th scope=col>&lt;dbl&gt;</th><th scope=col>&lt;dbl&gt;</th><th scope=col>&lt;dbl&gt;</th><th scope=col>&lt;dbl&gt;</th><th scope=col>&lt;dbl&gt;</th><th scope=col>&lt;dbl&gt;</th><th scope=col>&lt;dbl&gt;</th><th scope=col>&lt;dbl&gt;</th><th scope=col>⋯</th><th scope=col>&lt;dbl&gt;</th><th scope=col>&lt;dbl&gt;</th><th scope=col>&lt;dbl&gt;</th><th scope=col>&lt;dbl&gt;</th><th scope=col>&lt;dbl&gt;</th><th scope=col>&lt;dbl&gt;</th><th scope=col>&lt;dbl&gt;</th><th scope=col>&lt;dbl&gt;</th><th scope=col>&lt;dbl&gt;</th><th scope=col>&lt;lgl&gt;</th></tr>\n",
       "</thead>\n",
       "<tbody>\n",
       "\t<tr><th scope=row>1</th><td>  842302</td><td>M</td><td>17.99</td><td>10.38</td><td>122.80</td><td>1001.0</td><td>0.11840</td><td>0.27760</td><td>0.3001</td><td>0.14710</td><td>⋯</td><td>17.33</td><td>184.60</td><td>2019.0</td><td>0.1622</td><td>0.6656</td><td>0.7119</td><td>0.2654</td><td>0.4601</td><td>0.11890</td><td>NA</td></tr>\n",
       "\t<tr><th scope=row>2</th><td>  842517</td><td>M</td><td>20.57</td><td>17.77</td><td>132.90</td><td>1326.0</td><td>0.08474</td><td>0.07864</td><td>0.0869</td><td>0.07017</td><td>⋯</td><td>23.41</td><td>158.80</td><td>1956.0</td><td>0.1238</td><td>0.1866</td><td>0.2416</td><td>0.1860</td><td>0.2750</td><td>0.08902</td><td>NA</td></tr>\n",
       "\t<tr><th scope=row>3</th><td>84300903</td><td>M</td><td>19.69</td><td>21.25</td><td>130.00</td><td>1203.0</td><td>0.10960</td><td>0.15990</td><td>0.1974</td><td>0.12790</td><td>⋯</td><td>25.53</td><td>152.50</td><td>1709.0</td><td>0.1444</td><td>0.4245</td><td>0.4504</td><td>0.2430</td><td>0.3613</td><td>0.08758</td><td>NA</td></tr>\n",
       "\t<tr><th scope=row>4</th><td>84348301</td><td>M</td><td>11.42</td><td>20.38</td><td> 77.58</td><td> 386.1</td><td>0.14250</td><td>0.28390</td><td>0.2414</td><td>0.10520</td><td>⋯</td><td>26.50</td><td> 98.87</td><td> 567.7</td><td>0.2098</td><td>0.8663</td><td>0.6869</td><td>0.2575</td><td>0.6638</td><td>0.17300</td><td>NA</td></tr>\n",
       "\t<tr><th scope=row>5</th><td>84358402</td><td>M</td><td>20.29</td><td>14.34</td><td>135.10</td><td>1297.0</td><td>0.10030</td><td>0.13280</td><td>0.1980</td><td>0.10430</td><td>⋯</td><td>16.67</td><td>152.20</td><td>1575.0</td><td>0.1374</td><td>0.2050</td><td>0.4000</td><td>0.1625</td><td>0.2364</td><td>0.07678</td><td>NA</td></tr>\n",
       "\t<tr><th scope=row>6</th><td>  843786</td><td>M</td><td>12.45</td><td>15.70</td><td> 82.57</td><td> 477.1</td><td>0.12780</td><td>0.17000</td><td>0.1578</td><td>0.08089</td><td>⋯</td><td>23.75</td><td>103.40</td><td> 741.6</td><td>0.1791</td><td>0.5249</td><td>0.5355</td><td>0.1741</td><td>0.3985</td><td>0.12440</td><td>NA</td></tr>\n",
       "</tbody>\n",
       "</table>\n"
      ],
      "text/latex": [
       "A data.frame: 6 × 33\n",
       "\\begin{tabular}{r|lllllllllllllllllllll}\n",
       "  & id & diagnosis & radius\\_mean & texture\\_mean & perimeter\\_mean & area\\_mean & smoothness\\_mean & compactness\\_mean & concavity\\_mean & concave.points\\_mean & ⋯ & texture\\_worst & perimeter\\_worst & area\\_worst & smoothness\\_worst & compactness\\_worst & concavity\\_worst & concave.points\\_worst & symmetry\\_worst & fractal\\_dimension\\_worst & X\\\\\n",
       "  & <int> & <chr> & <dbl> & <dbl> & <dbl> & <dbl> & <dbl> & <dbl> & <dbl> & <dbl> & ⋯ & <dbl> & <dbl> & <dbl> & <dbl> & <dbl> & <dbl> & <dbl> & <dbl> & <dbl> & <lgl>\\\\\n",
       "\\hline\n",
       "\t1 &   842302 & M & 17.99 & 10.38 & 122.80 & 1001.0 & 0.11840 & 0.27760 & 0.3001 & 0.14710 & ⋯ & 17.33 & 184.60 & 2019.0 & 0.1622 & 0.6656 & 0.7119 & 0.2654 & 0.4601 & 0.11890 & NA\\\\\n",
       "\t2 &   842517 & M & 20.57 & 17.77 & 132.90 & 1326.0 & 0.08474 & 0.07864 & 0.0869 & 0.07017 & ⋯ & 23.41 & 158.80 & 1956.0 & 0.1238 & 0.1866 & 0.2416 & 0.1860 & 0.2750 & 0.08902 & NA\\\\\n",
       "\t3 & 84300903 & M & 19.69 & 21.25 & 130.00 & 1203.0 & 0.10960 & 0.15990 & 0.1974 & 0.12790 & ⋯ & 25.53 & 152.50 & 1709.0 & 0.1444 & 0.4245 & 0.4504 & 0.2430 & 0.3613 & 0.08758 & NA\\\\\n",
       "\t4 & 84348301 & M & 11.42 & 20.38 &  77.58 &  386.1 & 0.14250 & 0.28390 & 0.2414 & 0.10520 & ⋯ & 26.50 &  98.87 &  567.7 & 0.2098 & 0.8663 & 0.6869 & 0.2575 & 0.6638 & 0.17300 & NA\\\\\n",
       "\t5 & 84358402 & M & 20.29 & 14.34 & 135.10 & 1297.0 & 0.10030 & 0.13280 & 0.1980 & 0.10430 & ⋯ & 16.67 & 152.20 & 1575.0 & 0.1374 & 0.2050 & 0.4000 & 0.1625 & 0.2364 & 0.07678 & NA\\\\\n",
       "\t6 &   843786 & M & 12.45 & 15.70 &  82.57 &  477.1 & 0.12780 & 0.17000 & 0.1578 & 0.08089 & ⋯ & 23.75 & 103.40 &  741.6 & 0.1791 & 0.5249 & 0.5355 & 0.1741 & 0.3985 & 0.12440 & NA\\\\\n",
       "\\end{tabular}\n"
      ],
      "text/markdown": [
       "\n",
       "A data.frame: 6 × 33\n",
       "\n",
       "| <!--/--> | id &lt;int&gt; | diagnosis &lt;chr&gt; | radius_mean &lt;dbl&gt; | texture_mean &lt;dbl&gt; | perimeter_mean &lt;dbl&gt; | area_mean &lt;dbl&gt; | smoothness_mean &lt;dbl&gt; | compactness_mean &lt;dbl&gt; | concavity_mean &lt;dbl&gt; | concave.points_mean &lt;dbl&gt; | ⋯ ⋯ | texture_worst &lt;dbl&gt; | perimeter_worst &lt;dbl&gt; | area_worst &lt;dbl&gt; | smoothness_worst &lt;dbl&gt; | compactness_worst &lt;dbl&gt; | concavity_worst &lt;dbl&gt; | concave.points_worst &lt;dbl&gt; | symmetry_worst &lt;dbl&gt; | fractal_dimension_worst &lt;dbl&gt; | X &lt;lgl&gt; |\n",
       "|---|---|---|---|---|---|---|---|---|---|---|---|---|---|---|---|---|---|---|---|---|---|\n",
       "| 1 |   842302 | M | 17.99 | 10.38 | 122.80 | 1001.0 | 0.11840 | 0.27760 | 0.3001 | 0.14710 | ⋯ | 17.33 | 184.60 | 2019.0 | 0.1622 | 0.6656 | 0.7119 | 0.2654 | 0.4601 | 0.11890 | NA |\n",
       "| 2 |   842517 | M | 20.57 | 17.77 | 132.90 | 1326.0 | 0.08474 | 0.07864 | 0.0869 | 0.07017 | ⋯ | 23.41 | 158.80 | 1956.0 | 0.1238 | 0.1866 | 0.2416 | 0.1860 | 0.2750 | 0.08902 | NA |\n",
       "| 3 | 84300903 | M | 19.69 | 21.25 | 130.00 | 1203.0 | 0.10960 | 0.15990 | 0.1974 | 0.12790 | ⋯ | 25.53 | 152.50 | 1709.0 | 0.1444 | 0.4245 | 0.4504 | 0.2430 | 0.3613 | 0.08758 | NA |\n",
       "| 4 | 84348301 | M | 11.42 | 20.38 |  77.58 |  386.1 | 0.14250 | 0.28390 | 0.2414 | 0.10520 | ⋯ | 26.50 |  98.87 |  567.7 | 0.2098 | 0.8663 | 0.6869 | 0.2575 | 0.6638 | 0.17300 | NA |\n",
       "| 5 | 84358402 | M | 20.29 | 14.34 | 135.10 | 1297.0 | 0.10030 | 0.13280 | 0.1980 | 0.10430 | ⋯ | 16.67 | 152.20 | 1575.0 | 0.1374 | 0.2050 | 0.4000 | 0.1625 | 0.2364 | 0.07678 | NA |\n",
       "| 6 |   843786 | M | 12.45 | 15.70 |  82.57 |  477.1 | 0.12780 | 0.17000 | 0.1578 | 0.08089 | ⋯ | 23.75 | 103.40 |  741.6 | 0.1791 | 0.5249 | 0.5355 | 0.1741 | 0.3985 | 0.12440 | NA |\n",
       "\n"
      ],
      "text/plain": [
       "  id       diagnosis radius_mean texture_mean perimeter_mean area_mean\n",
       "1   842302 M         17.99       10.38        122.80         1001.0   \n",
       "2   842517 M         20.57       17.77        132.90         1326.0   \n",
       "3 84300903 M         19.69       21.25        130.00         1203.0   \n",
       "4 84348301 M         11.42       20.38         77.58          386.1   \n",
       "5 84358402 M         20.29       14.34        135.10         1297.0   \n",
       "6   843786 M         12.45       15.70         82.57          477.1   \n",
       "  smoothness_mean compactness_mean concavity_mean concave.points_mean ⋯\n",
       "1 0.11840         0.27760          0.3001         0.14710             ⋯\n",
       "2 0.08474         0.07864          0.0869         0.07017             ⋯\n",
       "3 0.10960         0.15990          0.1974         0.12790             ⋯\n",
       "4 0.14250         0.28390          0.2414         0.10520             ⋯\n",
       "5 0.10030         0.13280          0.1980         0.10430             ⋯\n",
       "6 0.12780         0.17000          0.1578         0.08089             ⋯\n",
       "  texture_worst perimeter_worst area_worst smoothness_worst compactness_worst\n",
       "1 17.33         184.60          2019.0     0.1622           0.6656           \n",
       "2 23.41         158.80          1956.0     0.1238           0.1866           \n",
       "3 25.53         152.50          1709.0     0.1444           0.4245           \n",
       "4 26.50          98.87           567.7     0.2098           0.8663           \n",
       "5 16.67         152.20          1575.0     0.1374           0.2050           \n",
       "6 23.75         103.40           741.6     0.1791           0.5249           \n",
       "  concavity_worst concave.points_worst symmetry_worst fractal_dimension_worst\n",
       "1 0.7119          0.2654               0.4601         0.11890                \n",
       "2 0.2416          0.1860               0.2750         0.08902                \n",
       "3 0.4504          0.2430               0.3613         0.08758                \n",
       "4 0.6869          0.2575               0.6638         0.17300                \n",
       "5 0.4000          0.1625               0.2364         0.07678                \n",
       "6 0.5355          0.1741               0.3985         0.12440                \n",
       "  X \n",
       "1 NA\n",
       "2 NA\n",
       "3 NA\n",
       "4 NA\n",
       "5 NA\n",
       "6 NA"
      ]
     },
     "metadata": {},
     "output_type": "display_data"
    }
   ],
   "source": [
    "data <- read.csv(\"./data.csv\")\n",
    "head(data)"
   ]
  },
  {
   "cell_type": "markdown",
   "metadata": {},
   "source": [
    "# Read Excel"
   ]
  },
  {
   "cell_type": "code",
   "execution_count": 35,
   "metadata": {
    "vscode": {
     "languageId": "r"
    }
   },
   "outputs": [],
   "source": [
    "# data <- read_excel(\"./data.xlsx\")\n",
    "# head(data)"
   ]
  },
  {
   "cell_type": "markdown",
   "metadata": {},
   "source": [
    "# Access Data"
   ]
  },
  {
   "cell_type": "code",
   "execution_count": 36,
   "metadata": {
    "vscode": {
     "languageId": "r"
    }
   },
   "outputs": [
    {
     "data": {
      "text/html": [
       "<table class=\"dataframe\">\n",
       "<caption>A data.frame: 569 × 1</caption>\n",
       "<thead>\n",
       "\t<tr><th scope=col>radius_mean</th></tr>\n",
       "\t<tr><th scope=col>&lt;dbl&gt;</th></tr>\n",
       "</thead>\n",
       "<tbody>\n",
       "\t<tr><td>17.990</td></tr>\n",
       "\t<tr><td>20.570</td></tr>\n",
       "\t<tr><td>19.690</td></tr>\n",
       "\t<tr><td>11.420</td></tr>\n",
       "\t<tr><td>20.290</td></tr>\n",
       "\t<tr><td>12.450</td></tr>\n",
       "\t<tr><td>18.250</td></tr>\n",
       "\t<tr><td>13.710</td></tr>\n",
       "\t<tr><td>13.000</td></tr>\n",
       "\t<tr><td>12.460</td></tr>\n",
       "\t<tr><td>16.020</td></tr>\n",
       "\t<tr><td>15.780</td></tr>\n",
       "\t<tr><td>19.170</td></tr>\n",
       "\t<tr><td>15.850</td></tr>\n",
       "\t<tr><td>13.730</td></tr>\n",
       "\t<tr><td>14.540</td></tr>\n",
       "\t<tr><td>14.680</td></tr>\n",
       "\t<tr><td>16.130</td></tr>\n",
       "\t<tr><td>19.810</td></tr>\n",
       "\t<tr><td>13.540</td></tr>\n",
       "\t<tr><td>13.080</td></tr>\n",
       "\t<tr><td> 9.504</td></tr>\n",
       "\t<tr><td>15.340</td></tr>\n",
       "\t<tr><td>21.160</td></tr>\n",
       "\t<tr><td>16.650</td></tr>\n",
       "\t<tr><td>17.140</td></tr>\n",
       "\t<tr><td>14.580</td></tr>\n",
       "\t<tr><td>18.610</td></tr>\n",
       "\t<tr><td>15.300</td></tr>\n",
       "\t<tr><td>17.570</td></tr>\n",
       "\t<tr><td>⋮</td></tr>\n",
       "\t<tr><td> 7.691</td></tr>\n",
       "\t<tr><td>11.540</td></tr>\n",
       "\t<tr><td>14.470</td></tr>\n",
       "\t<tr><td>14.740</td></tr>\n",
       "\t<tr><td>13.210</td></tr>\n",
       "\t<tr><td>13.870</td></tr>\n",
       "\t<tr><td>13.620</td></tr>\n",
       "\t<tr><td>10.320</td></tr>\n",
       "\t<tr><td>10.260</td></tr>\n",
       "\t<tr><td> 9.683</td></tr>\n",
       "\t<tr><td>10.820</td></tr>\n",
       "\t<tr><td>10.860</td></tr>\n",
       "\t<tr><td>11.130</td></tr>\n",
       "\t<tr><td>12.770</td></tr>\n",
       "\t<tr><td> 9.333</td></tr>\n",
       "\t<tr><td>12.880</td></tr>\n",
       "\t<tr><td>10.290</td></tr>\n",
       "\t<tr><td>10.160</td></tr>\n",
       "\t<tr><td> 9.423</td></tr>\n",
       "\t<tr><td>14.590</td></tr>\n",
       "\t<tr><td>11.510</td></tr>\n",
       "\t<tr><td>14.050</td></tr>\n",
       "\t<tr><td>11.200</td></tr>\n",
       "\t<tr><td>15.220</td></tr>\n",
       "\t<tr><td>20.920</td></tr>\n",
       "\t<tr><td>21.560</td></tr>\n",
       "\t<tr><td>20.130</td></tr>\n",
       "\t<tr><td>16.600</td></tr>\n",
       "\t<tr><td>20.600</td></tr>\n",
       "\t<tr><td> 7.760</td></tr>\n",
       "</tbody>\n",
       "</table>\n"
      ],
      "text/latex": [
       "A data.frame: 569 × 1\n",
       "\\begin{tabular}{l}\n",
       " radius\\_mean\\\\\n",
       " <dbl>\\\\\n",
       "\\hline\n",
       "\t 17.990\\\\\n",
       "\t 20.570\\\\\n",
       "\t 19.690\\\\\n",
       "\t 11.420\\\\\n",
       "\t 20.290\\\\\n",
       "\t 12.450\\\\\n",
       "\t 18.250\\\\\n",
       "\t 13.710\\\\\n",
       "\t 13.000\\\\\n",
       "\t 12.460\\\\\n",
       "\t 16.020\\\\\n",
       "\t 15.780\\\\\n",
       "\t 19.170\\\\\n",
       "\t 15.850\\\\\n",
       "\t 13.730\\\\\n",
       "\t 14.540\\\\\n",
       "\t 14.680\\\\\n",
       "\t 16.130\\\\\n",
       "\t 19.810\\\\\n",
       "\t 13.540\\\\\n",
       "\t 13.080\\\\\n",
       "\t  9.504\\\\\n",
       "\t 15.340\\\\\n",
       "\t 21.160\\\\\n",
       "\t 16.650\\\\\n",
       "\t 17.140\\\\\n",
       "\t 14.580\\\\\n",
       "\t 18.610\\\\\n",
       "\t 15.300\\\\\n",
       "\t 17.570\\\\\n",
       "\t ⋮\\\\\n",
       "\t  7.691\\\\\n",
       "\t 11.540\\\\\n",
       "\t 14.470\\\\\n",
       "\t 14.740\\\\\n",
       "\t 13.210\\\\\n",
       "\t 13.870\\\\\n",
       "\t 13.620\\\\\n",
       "\t 10.320\\\\\n",
       "\t 10.260\\\\\n",
       "\t  9.683\\\\\n",
       "\t 10.820\\\\\n",
       "\t 10.860\\\\\n",
       "\t 11.130\\\\\n",
       "\t 12.770\\\\\n",
       "\t  9.333\\\\\n",
       "\t 12.880\\\\\n",
       "\t 10.290\\\\\n",
       "\t 10.160\\\\\n",
       "\t  9.423\\\\\n",
       "\t 14.590\\\\\n",
       "\t 11.510\\\\\n",
       "\t 14.050\\\\\n",
       "\t 11.200\\\\\n",
       "\t 15.220\\\\\n",
       "\t 20.920\\\\\n",
       "\t 21.560\\\\\n",
       "\t 20.130\\\\\n",
       "\t 16.600\\\\\n",
       "\t 20.600\\\\\n",
       "\t  7.760\\\\\n",
       "\\end{tabular}\n"
      ],
      "text/markdown": [
       "\n",
       "A data.frame: 569 × 1\n",
       "\n",
       "| radius_mean &lt;dbl&gt; |\n",
       "|---|\n",
       "| 17.990 |\n",
       "| 20.570 |\n",
       "| 19.690 |\n",
       "| 11.420 |\n",
       "| 20.290 |\n",
       "| 12.450 |\n",
       "| 18.250 |\n",
       "| 13.710 |\n",
       "| 13.000 |\n",
       "| 12.460 |\n",
       "| 16.020 |\n",
       "| 15.780 |\n",
       "| 19.170 |\n",
       "| 15.850 |\n",
       "| 13.730 |\n",
       "| 14.540 |\n",
       "| 14.680 |\n",
       "| 16.130 |\n",
       "| 19.810 |\n",
       "| 13.540 |\n",
       "| 13.080 |\n",
       "|  9.504 |\n",
       "| 15.340 |\n",
       "| 21.160 |\n",
       "| 16.650 |\n",
       "| 17.140 |\n",
       "| 14.580 |\n",
       "| 18.610 |\n",
       "| 15.300 |\n",
       "| 17.570 |\n",
       "| ⋮ |\n",
       "|  7.691 |\n",
       "| 11.540 |\n",
       "| 14.470 |\n",
       "| 14.740 |\n",
       "| 13.210 |\n",
       "| 13.870 |\n",
       "| 13.620 |\n",
       "| 10.320 |\n",
       "| 10.260 |\n",
       "|  9.683 |\n",
       "| 10.820 |\n",
       "| 10.860 |\n",
       "| 11.130 |\n",
       "| 12.770 |\n",
       "|  9.333 |\n",
       "| 12.880 |\n",
       "| 10.290 |\n",
       "| 10.160 |\n",
       "|  9.423 |\n",
       "| 14.590 |\n",
       "| 11.510 |\n",
       "| 14.050 |\n",
       "| 11.200 |\n",
       "| 15.220 |\n",
       "| 20.920 |\n",
       "| 21.560 |\n",
       "| 20.130 |\n",
       "| 16.600 |\n",
       "| 20.600 |\n",
       "|  7.760 |\n",
       "\n"
      ],
      "text/plain": [
       "    radius_mean\n",
       "1   17.990     \n",
       "2   20.570     \n",
       "3   19.690     \n",
       "4   11.420     \n",
       "5   20.290     \n",
       "6   12.450     \n",
       "7   18.250     \n",
       "8   13.710     \n",
       "9   13.000     \n",
       "10  12.460     \n",
       "11  16.020     \n",
       "12  15.780     \n",
       "13  19.170     \n",
       "14  15.850     \n",
       "15  13.730     \n",
       "16  14.540     \n",
       "17  14.680     \n",
       "18  16.130     \n",
       "19  19.810     \n",
       "20  13.540     \n",
       "21  13.080     \n",
       "22   9.504     \n",
       "23  15.340     \n",
       "24  21.160     \n",
       "25  16.650     \n",
       "26  17.140     \n",
       "27  14.580     \n",
       "28  18.610     \n",
       "29  15.300     \n",
       "30  17.570     \n",
       "⋮   ⋮          \n",
       "540  7.691     \n",
       "541 11.540     \n",
       "542 14.470     \n",
       "543 14.740     \n",
       "544 13.210     \n",
       "545 13.870     \n",
       "546 13.620     \n",
       "547 10.320     \n",
       "548 10.260     \n",
       "549  9.683     \n",
       "550 10.820     \n",
       "551 10.860     \n",
       "552 11.130     \n",
       "553 12.770     \n",
       "554  9.333     \n",
       "555 12.880     \n",
       "556 10.290     \n",
       "557 10.160     \n",
       "558  9.423     \n",
       "559 14.590     \n",
       "560 11.510     \n",
       "561 14.050     \n",
       "562 11.200     \n",
       "563 15.220     \n",
       "564 20.920     \n",
       "565 21.560     \n",
       "566 20.130     \n",
       "567 16.600     \n",
       "568 20.600     \n",
       "569  7.760     "
      ]
     },
     "metadata": {},
     "output_type": "display_data"
    }
   ],
   "source": [
    "# Access a column\n",
    "data[\"radius_mean\"]"
   ]
  },
  {
   "cell_type": "code",
   "execution_count": 37,
   "metadata": {
    "vscode": {
     "languageId": "r"
    }
   },
   "outputs": [
    {
     "data": {
      "text/html": [
       "<table class=\"dataframe\">\n",
       "<caption>A data.frame: 1 × 33</caption>\n",
       "<thead>\n",
       "\t<tr><th></th><th scope=col>id</th><th scope=col>diagnosis</th><th scope=col>radius_mean</th><th scope=col>texture_mean</th><th scope=col>perimeter_mean</th><th scope=col>area_mean</th><th scope=col>smoothness_mean</th><th scope=col>compactness_mean</th><th scope=col>concavity_mean</th><th scope=col>concave.points_mean</th><th scope=col>⋯</th><th scope=col>texture_worst</th><th scope=col>perimeter_worst</th><th scope=col>area_worst</th><th scope=col>smoothness_worst</th><th scope=col>compactness_worst</th><th scope=col>concavity_worst</th><th scope=col>concave.points_worst</th><th scope=col>symmetry_worst</th><th scope=col>fractal_dimension_worst</th><th scope=col>X</th></tr>\n",
       "\t<tr><th></th><th scope=col>&lt;int&gt;</th><th scope=col>&lt;chr&gt;</th><th scope=col>&lt;dbl&gt;</th><th scope=col>&lt;dbl&gt;</th><th scope=col>&lt;dbl&gt;</th><th scope=col>&lt;dbl&gt;</th><th scope=col>&lt;dbl&gt;</th><th scope=col>&lt;dbl&gt;</th><th scope=col>&lt;dbl&gt;</th><th scope=col>&lt;dbl&gt;</th><th scope=col>⋯</th><th scope=col>&lt;dbl&gt;</th><th scope=col>&lt;dbl&gt;</th><th scope=col>&lt;dbl&gt;</th><th scope=col>&lt;dbl&gt;</th><th scope=col>&lt;dbl&gt;</th><th scope=col>&lt;dbl&gt;</th><th scope=col>&lt;dbl&gt;</th><th scope=col>&lt;dbl&gt;</th><th scope=col>&lt;dbl&gt;</th><th scope=col>&lt;lgl&gt;</th></tr>\n",
       "</thead>\n",
       "<tbody>\n",
       "\t<tr><th scope=row>1</th><td>842302</td><td>M</td><td>17.99</td><td>10.38</td><td>122.8</td><td>1001</td><td>0.1184</td><td>0.2776</td><td>0.3001</td><td>0.1471</td><td>⋯</td><td>17.33</td><td>184.6</td><td>2019</td><td>0.1622</td><td>0.6656</td><td>0.7119</td><td>0.2654</td><td>0.4601</td><td>0.1189</td><td>NA</td></tr>\n",
       "</tbody>\n",
       "</table>\n"
      ],
      "text/latex": [
       "A data.frame: 1 × 33\n",
       "\\begin{tabular}{r|lllllllllllllllllllll}\n",
       "  & id & diagnosis & radius\\_mean & texture\\_mean & perimeter\\_mean & area\\_mean & smoothness\\_mean & compactness\\_mean & concavity\\_mean & concave.points\\_mean & ⋯ & texture\\_worst & perimeter\\_worst & area\\_worst & smoothness\\_worst & compactness\\_worst & concavity\\_worst & concave.points\\_worst & symmetry\\_worst & fractal\\_dimension\\_worst & X\\\\\n",
       "  & <int> & <chr> & <dbl> & <dbl> & <dbl> & <dbl> & <dbl> & <dbl> & <dbl> & <dbl> & ⋯ & <dbl> & <dbl> & <dbl> & <dbl> & <dbl> & <dbl> & <dbl> & <dbl> & <dbl> & <lgl>\\\\\n",
       "\\hline\n",
       "\t1 & 842302 & M & 17.99 & 10.38 & 122.8 & 1001 & 0.1184 & 0.2776 & 0.3001 & 0.1471 & ⋯ & 17.33 & 184.6 & 2019 & 0.1622 & 0.6656 & 0.7119 & 0.2654 & 0.4601 & 0.1189 & NA\\\\\n",
       "\\end{tabular}\n"
      ],
      "text/markdown": [
       "\n",
       "A data.frame: 1 × 33\n",
       "\n",
       "| <!--/--> | id &lt;int&gt; | diagnosis &lt;chr&gt; | radius_mean &lt;dbl&gt; | texture_mean &lt;dbl&gt; | perimeter_mean &lt;dbl&gt; | area_mean &lt;dbl&gt; | smoothness_mean &lt;dbl&gt; | compactness_mean &lt;dbl&gt; | concavity_mean &lt;dbl&gt; | concave.points_mean &lt;dbl&gt; | ⋯ ⋯ | texture_worst &lt;dbl&gt; | perimeter_worst &lt;dbl&gt; | area_worst &lt;dbl&gt; | smoothness_worst &lt;dbl&gt; | compactness_worst &lt;dbl&gt; | concavity_worst &lt;dbl&gt; | concave.points_worst &lt;dbl&gt; | symmetry_worst &lt;dbl&gt; | fractal_dimension_worst &lt;dbl&gt; | X &lt;lgl&gt; |\n",
       "|---|---|---|---|---|---|---|---|---|---|---|---|---|---|---|---|---|---|---|---|---|---|\n",
       "| 1 | 842302 | M | 17.99 | 10.38 | 122.8 | 1001 | 0.1184 | 0.2776 | 0.3001 | 0.1471 | ⋯ | 17.33 | 184.6 | 2019 | 0.1622 | 0.6656 | 0.7119 | 0.2654 | 0.4601 | 0.1189 | NA |\n",
       "\n"
      ],
      "text/plain": [
       "  id     diagnosis radius_mean texture_mean perimeter_mean area_mean\n",
       "1 842302 M         17.99       10.38        122.8          1001     \n",
       "  smoothness_mean compactness_mean concavity_mean concave.points_mean ⋯\n",
       "1 0.1184          0.2776           0.3001         0.1471              ⋯\n",
       "  texture_worst perimeter_worst area_worst smoothness_worst compactness_worst\n",
       "1 17.33         184.6           2019       0.1622           0.6656           \n",
       "  concavity_worst concave.points_worst symmetry_worst fractal_dimension_worst\n",
       "1 0.7119          0.2654               0.4601         0.1189                 \n",
       "  X \n",
       "1 NA"
      ]
     },
     "metadata": {},
     "output_type": "display_data"
    }
   ],
   "source": [
    "# Access a row\n",
    "data[1,]"
   ]
  },
  {
   "cell_type": "code",
   "execution_count": 38,
   "metadata": {
    "vscode": {
     "languageId": "r"
    }
   },
   "outputs": [
    {
     "data": {
      "text/html": [
       "<table class=\"dataframe\">\n",
       "<caption>A data.frame: 1 × 2</caption>\n",
       "<thead>\n",
       "\t<tr><th></th><th scope=col>radius_mean</th><th scope=col>texture_mean</th></tr>\n",
       "\t<tr><th></th><th scope=col>&lt;dbl&gt;</th><th scope=col>&lt;dbl&gt;</th></tr>\n",
       "</thead>\n",
       "<tbody>\n",
       "\t<tr><th scope=row>1</th><td>17.99</td><td>10.38</td></tr>\n",
       "</tbody>\n",
       "</table>\n"
      ],
      "text/latex": [
       "A data.frame: 1 × 2\n",
       "\\begin{tabular}{r|ll}\n",
       "  & radius\\_mean & texture\\_mean\\\\\n",
       "  & <dbl> & <dbl>\\\\\n",
       "\\hline\n",
       "\t1 & 17.99 & 10.38\\\\\n",
       "\\end{tabular}\n"
      ],
      "text/markdown": [
       "\n",
       "A data.frame: 1 × 2\n",
       "\n",
       "| <!--/--> | radius_mean &lt;dbl&gt; | texture_mean &lt;dbl&gt; |\n",
       "|---|---|---|\n",
       "| 1 | 17.99 | 10.38 |\n",
       "\n"
      ],
      "text/plain": [
       "  radius_mean texture_mean\n",
       "1 17.99       10.38       "
      ]
     },
     "metadata": {},
     "output_type": "display_data"
    }
   ],
   "source": [
    "# Acess interested columns of a row\n",
    "data[1,c(\"radius_mean\",\"texture_mean\")]"
   ]
  },
  {
   "cell_type": "code",
   "execution_count": 39,
   "metadata": {
    "vscode": {
     "languageId": "r"
    }
   },
   "outputs": [
    {
     "name": "stdout",
     "output_type": "stream",
     "text": [
      "Data sets in package ‘datasets’:\n",
      "\n",
      "AirPassengers           Monthly Airline Passenger Numbers 1949-1960\n",
      "BJsales                 Sales Data with Leading Indicator\n",
      "BJsales.lead (BJsales)\n",
      "                        Sales Data with Leading Indicator\n",
      "BOD                     Biochemical Oxygen Demand\n",
      "CO2                     Carbon Dioxide Uptake in Grass Plants\n",
      "ChickWeight             Weight versus age of chicks on different diets\n",
      "DNase                   Elisa assay of DNase\n",
      "EuStockMarkets          Daily Closing Prices of Major European Stock\n",
      "                        Indices, 1991-1998\n",
      "Formaldehyde            Determination of Formaldehyde\n",
      "HairEyeColor            Hair and Eye Color of Statistics Students\n",
      "Harman23.cor            Harman Example 2.3\n",
      "Harman74.cor            Harman Example 7.4\n",
      "Indometh                Pharmacokinetics of Indomethacin\n",
      "InsectSprays            Effectiveness of Insect Sprays\n",
      "JohnsonJohnson          Quarterly Earnings per Johnson & Johnson Share\n",
      "LakeHuron               Level of Lake Huron 1875-1972\n",
      "LifeCycleSavings        Intercountry Life-Cycle Savings Data\n",
      "Loblolly                Growth of Loblolly Pine Trees\n",
      "Nile                    Flow of the River Nile\n",
      "Orange                  Growth of Orange Trees\n",
      "OrchardSprays           Potency of Orchard Sprays\n",
      "PlantGrowth             Results from an Experiment on Plant Growth\n",
      "Puromycin               Reaction Velocity of an Enzymatic Reaction\n",
      "Seatbelts               Road Casualties in Great Britain 1969-84\n",
      "Theoph                  Pharmacokinetics of Theophylline\n",
      "Titanic                 Survival of passengers on the Titanic\n",
      "ToothGrowth             The Effect of Vitamin C on Tooth Growth in\n",
      "                        Guinea Pigs\n",
      "UCBAdmissions           Student Admissions at UC Berkeley\n",
      "UKDriverDeaths          Road Casualties in Great Britain 1969-84\n",
      "UKgas                   UK Quarterly Gas Consumption\n",
      "USAccDeaths             Accidental Deaths in the US 1973-1978\n",
      "USArrests               Violent Crime Rates by US State\n",
      "USJudgeRatings          Lawyers' Ratings of State Judges in the US\n",
      "                        Superior Court\n",
      "USPersonalExpenditure   Personal Expenditure Data\n",
      "UScitiesD               Distances Between European Cities and Between\n",
      "                        US Cities\n",
      "VADeaths                Death Rates in Virginia (1940)\n",
      "WWWusage                Internet Usage per Minute\n",
      "WorldPhones             The World's Telephones\n",
      "ability.cov             Ability and Intelligence Tests\n",
      "airmiles                Passenger Miles on Commercial US Airlines,\n",
      "                        1937-1960\n",
      "airquality              New York Air Quality Measurements\n",
      "anscombe                Anscombe's Quartet of 'Identical' Simple Linear\n",
      "                        Regressions\n",
      "attenu                  The Joyner-Boore Attenuation Data\n",
      "attitude                The Chatterjee-Price Attitude Data\n",
      "austres                 Quarterly Time Series of the Number of\n",
      "                        Australian Residents\n",
      "beaver1 (beavers)       Body Temperature Series of Two Beavers\n",
      "beaver2 (beavers)       Body Temperature Series of Two Beavers\n",
      "cars                    Speed and Stopping Distances of Cars\n",
      "chickwts                Chicken Weights by Feed Type\n",
      "co2                     Mauna Loa Atmospheric CO2 Concentration\n",
      "crimtab                 Student's 3000 Criminals Data\n",
      "discoveries             Yearly Numbers of Important Discoveries\n",
      "esoph                   Smoking, Alcohol and (O)esophageal Cancer\n",
      "euro                    Conversion Rates of Euro Currencies\n",
      "euro.cross (euro)       Conversion Rates of Euro Currencies\n",
      "eurodist                Distances Between European Cities and Between\n",
      "                        US Cities\n",
      "faithful                Old Faithful Geyser Data\n",
      "fdeaths (UKLungDeaths)\n",
      "                        Monthly Deaths from Lung Diseases in the UK\n",
      "freeny                  Freeny's Revenue Data\n",
      "freeny.x (freeny)       Freeny's Revenue Data\n",
      "freeny.y (freeny)       Freeny's Revenue Data\n",
      "infert                  Infertility after Spontaneous and Induced\n",
      "                        Abortion\n",
      "iris                    Edgar Anderson's Iris Data\n",
      "iris3                   Edgar Anderson's Iris Data\n",
      "islands                 Areas of the World's Major Landmasses\n",
      "ldeaths (UKLungDeaths)\n",
      "                        Monthly Deaths from Lung Diseases in the UK\n",
      "lh                      Luteinizing Hormone in Blood Samples\n",
      "longley                 Longley's Economic Regression Data\n",
      "lynx                    Annual Canadian Lynx trappings 1821-1934\n",
      "mdeaths (UKLungDeaths)\n",
      "                        Monthly Deaths from Lung Diseases in the UK\n",
      "morley                  Michelson Speed of Light Data\n",
      "mtcars                  Motor Trend Car Road Tests\n",
      "nhtemp                  Average Yearly Temperatures in New Haven\n",
      "nottem                  Average Monthly Temperatures at Nottingham,\n",
      "                        1920-1939\n",
      "npk                     Classical N, P, K Factorial Experiment\n",
      "occupationalStatus      Occupational Status of Fathers and their Sons\n",
      "precip                  Annual Precipitation in US Cities\n",
      "presidents              Quarterly Approval Ratings of US Presidents\n",
      "pressure                Vapor Pressure of Mercury as a Function of\n",
      "                        Temperature\n",
      "quakes                  Locations of Earthquakes off Fiji\n",
      "randu                   Random Numbers from Congruential Generator\n",
      "                        RANDU\n",
      "rivers                  Lengths of Major North American Rivers\n",
      "rock                    Measurements on Petroleum Rock Samples\n",
      "sleep                   Student's Sleep Data\n",
      "stack.loss (stackloss)\n",
      "                        Brownlee's Stack Loss Plant Data\n",
      "stack.x (stackloss)     Brownlee's Stack Loss Plant Data\n",
      "stackloss               Brownlee's Stack Loss Plant Data\n",
      "state.abb (state)       US State Facts and Figures\n",
      "state.area (state)      US State Facts and Figures\n",
      "state.center (state)    US State Facts and Figures\n",
      "state.division (state)\n",
      "                        US State Facts and Figures\n",
      "state.name (state)      US State Facts and Figures\n",
      "state.region (state)    US State Facts and Figures\n",
      "state.x77 (state)       US State Facts and Figures\n",
      "sunspot.month           Monthly Sunspot Data, from 1749 to \"Present\"\n",
      "sunspot.year            Yearly Sunspot Data, 1700-1988\n",
      "sunspots                Monthly Sunspot Numbers, 1749-1983\n",
      "swiss                   Swiss Fertility and Socioeconomic Indicators\n",
      "                        (1888) Data\n",
      "treering                Yearly Tree-Ring Data, -6000-1979\n",
      "trees                   Diameter, Height and Volume for Black Cherry\n",
      "                        Trees\n",
      "uspop                   Populations Recorded by the US Census\n",
      "volcano                 Topographic Information on Auckland's Maunga\n",
      "                        Whau Volcano\n",
      "warpbreaks              The Number of Breaks in Yarn during Weaving\n",
      "women                   Average Heights and Weights for American Women\n",
      "\n",
      "Use ‘data(package = .packages(all.available = TRUE))’\n",
      "to list the data sets in all *available* packages."
     ]
    }
   ],
   "source": [
    "data()"
   ]
  },
  {
   "cell_type": "code",
   "execution_count": 40,
   "metadata": {
    "vscode": {
     "languageId": "r"
    }
   },
   "outputs": [
    {
     "name": "stdout",
     "output_type": "stream",
     "text": [
      "CO2                  package:datasets                  R Documentation\n",
      "\n",
      "_\bC_\ba_\br_\bb_\bo_\bn _\bD_\bi_\bo_\bx_\bi_\bd_\be _\bU_\bp_\bt_\ba_\bk_\be _\bi_\bn _\bG_\br_\ba_\bs_\bs _\bP_\bl_\ba_\bn_\bt_\bs\n",
      "\n",
      "_\bD_\be_\bs_\bc_\br_\bi_\bp_\bt_\bi_\bo_\bn:\n",
      "\n",
      "     The ‘CO2’ data frame has 84 rows and 5 columns of data from an\n",
      "     experiment on the cold tolerance of the grass species _Echinochloa\n",
      "     crus-galli_.\n",
      "\n",
      "_\bU_\bs_\ba_\bg_\be:\n",
      "\n",
      "     CO2\n",
      "     \n",
      "_\bF_\bo_\br_\bm_\ba_\bt:\n",
      "\n",
      "     An object of class ‘c(\"nfnGroupedData\", \"nfGroupedData\",\n",
      "     \"groupedData\", \"data.frame\")’ containing the following columns:\n",
      "\n",
      "     Plant an ordered factor with levels ‘Qn1’ < ‘Qn2’ < ‘Qn3’ < ... <\n",
      "          ‘Mc1’ giving a unique identifier for each plant.\n",
      "\n",
      "     Type a factor with levels ‘Quebec’ ‘Mississippi’ giving the origin\n",
      "          of the plant\n",
      "\n",
      "     Treatment a factor with levels ‘nonchilled’ ‘chilled’\n",
      "\n",
      "     conc a numeric vector of ambient carbon dioxide concentrations\n",
      "          (mL/L).\n",
      "\n",
      "     uptake a numeric vector of carbon dioxide uptake rates (umol/m^2\n",
      "          sec).\n",
      "\n",
      "_\bD_\be_\bt_\ba_\bi_\bl_\bs:\n",
      "\n",
      "     The CO2 uptake of six plants from Quebec and six plants from\n",
      "     Mississippi was measured at several levels of ambient CO2\n",
      "     concentration.  Half the plants of each type were chilled\n",
      "     overnight before the experiment was conducted.\n",
      "\n",
      "     This dataset was originally part of package ‘nlme’, and that has\n",
      "     methods (including for ‘[’, ‘as.data.frame’, ‘plot’ and ‘print’)\n",
      "     for its grouped-data classes.\n",
      "\n",
      "_\bS_\bo_\bu_\br_\bc_\be:\n",
      "\n",
      "     Potvin, C., Lechowicz, M. J. and Tardif, S. (1990) “The\n",
      "     statistical analysis of ecophysiological response curves obtained\n",
      "     from experiments involving repeated measures”, _Ecology_, *71*,\n",
      "     1389-1400.\n",
      "\n",
      "     Pinheiro, J. C. and Bates, D. M. (2000) _Mixed-effects Models in S\n",
      "     and S-PLUS_, Springer.\n",
      "\n",
      "_\bE_\bx_\ba_\bm_\bp_\bl_\be_\bs:\n",
      "\n",
      "     require(stats); require(graphics)\n",
      "     \n",
      "     coplot(uptake ~ conc | Plant, data = CO2, show.given = FALSE, type = \"b\")\n",
      "     ## fit the data for the first plant\n",
      "     fm1 <- nls(uptake ~ SSasymp(conc, Asym, lrc, c0),\n",
      "        data = CO2, subset = Plant == \"Qn1\")\n",
      "     summary(fm1)\n",
      "     ## fit each plant separately\n",
      "     fmlist <- list()\n",
      "     for (pp in levels(CO2$Plant)) {\n",
      "       fmlist[[pp]] <- nls(uptake ~ SSasymp(conc, Asym, lrc, c0),\n",
      "           data = CO2, subset = Plant == pp)\n",
      "     }\n",
      "     ## check the coefficients by plant\n",
      "     print(sapply(fmlist, coef), digits = 3)\n",
      "     "
     ]
    }
   ],
   "source": [
    "help(CO2)"
   ]
  },
  {
   "cell_type": "code",
   "execution_count": 41,
   "metadata": {
    "vscode": {
     "languageId": "r"
    }
   },
   "outputs": [
    {
     "data": {
      "text/html": [
       "<table class=\"dataframe\">\n",
       "<caption>A nfnGroupedData: 84 × 5</caption>\n",
       "<thead>\n",
       "\t<tr><th></th><th scope=col>Plant</th><th scope=col>Type</th><th scope=col>Treatment</th><th scope=col>conc</th><th scope=col>uptake</th></tr>\n",
       "\t<tr><th></th><th scope=col>&lt;ord&gt;</th><th scope=col>&lt;fct&gt;</th><th scope=col>&lt;fct&gt;</th><th scope=col>&lt;dbl&gt;</th><th scope=col>&lt;dbl&gt;</th></tr>\n",
       "</thead>\n",
       "<tbody>\n",
       "\t<tr><th scope=row>1</th><td>Qn1</td><td>Quebec</td><td>nonchilled</td><td>  95</td><td>16.0</td></tr>\n",
       "\t<tr><th scope=row>2</th><td>Qn1</td><td>Quebec</td><td>nonchilled</td><td> 175</td><td>30.4</td></tr>\n",
       "\t<tr><th scope=row>3</th><td>Qn1</td><td>Quebec</td><td>nonchilled</td><td> 250</td><td>34.8</td></tr>\n",
       "\t<tr><th scope=row>4</th><td>Qn1</td><td>Quebec</td><td>nonchilled</td><td> 350</td><td>37.2</td></tr>\n",
       "\t<tr><th scope=row>5</th><td>Qn1</td><td>Quebec</td><td>nonchilled</td><td> 500</td><td>35.3</td></tr>\n",
       "\t<tr><th scope=row>6</th><td>Qn1</td><td>Quebec</td><td>nonchilled</td><td> 675</td><td>39.2</td></tr>\n",
       "\t<tr><th scope=row>7</th><td>Qn1</td><td>Quebec</td><td>nonchilled</td><td>1000</td><td>39.7</td></tr>\n",
       "\t<tr><th scope=row>8</th><td>Qn2</td><td>Quebec</td><td>nonchilled</td><td>  95</td><td>13.6</td></tr>\n",
       "\t<tr><th scope=row>9</th><td>Qn2</td><td>Quebec</td><td>nonchilled</td><td> 175</td><td>27.3</td></tr>\n",
       "\t<tr><th scope=row>10</th><td>Qn2</td><td>Quebec</td><td>nonchilled</td><td> 250</td><td>37.1</td></tr>\n",
       "\t<tr><th scope=row>11</th><td>Qn2</td><td>Quebec</td><td>nonchilled</td><td> 350</td><td>41.8</td></tr>\n",
       "\t<tr><th scope=row>12</th><td>Qn2</td><td>Quebec</td><td>nonchilled</td><td> 500</td><td>40.6</td></tr>\n",
       "\t<tr><th scope=row>13</th><td>Qn2</td><td>Quebec</td><td>nonchilled</td><td> 675</td><td>41.4</td></tr>\n",
       "\t<tr><th scope=row>14</th><td>Qn2</td><td>Quebec</td><td>nonchilled</td><td>1000</td><td>44.3</td></tr>\n",
       "\t<tr><th scope=row>15</th><td>Qn3</td><td>Quebec</td><td>nonchilled</td><td>  95</td><td>16.2</td></tr>\n",
       "\t<tr><th scope=row>16</th><td>Qn3</td><td>Quebec</td><td>nonchilled</td><td> 175</td><td>32.4</td></tr>\n",
       "\t<tr><th scope=row>17</th><td>Qn3</td><td>Quebec</td><td>nonchilled</td><td> 250</td><td>40.3</td></tr>\n",
       "\t<tr><th scope=row>18</th><td>Qn3</td><td>Quebec</td><td>nonchilled</td><td> 350</td><td>42.1</td></tr>\n",
       "\t<tr><th scope=row>19</th><td>Qn3</td><td>Quebec</td><td>nonchilled</td><td> 500</td><td>42.9</td></tr>\n",
       "\t<tr><th scope=row>20</th><td>Qn3</td><td>Quebec</td><td>nonchilled</td><td> 675</td><td>43.9</td></tr>\n",
       "\t<tr><th scope=row>21</th><td>Qn3</td><td>Quebec</td><td>nonchilled</td><td>1000</td><td>45.5</td></tr>\n",
       "\t<tr><th scope=row>22</th><td>Qc1</td><td>Quebec</td><td>chilled   </td><td>  95</td><td>14.2</td></tr>\n",
       "\t<tr><th scope=row>23</th><td>Qc1</td><td>Quebec</td><td>chilled   </td><td> 175</td><td>24.1</td></tr>\n",
       "\t<tr><th scope=row>24</th><td>Qc1</td><td>Quebec</td><td>chilled   </td><td> 250</td><td>30.3</td></tr>\n",
       "\t<tr><th scope=row>25</th><td>Qc1</td><td>Quebec</td><td>chilled   </td><td> 350</td><td>34.6</td></tr>\n",
       "\t<tr><th scope=row>26</th><td>Qc1</td><td>Quebec</td><td>chilled   </td><td> 500</td><td>32.5</td></tr>\n",
       "\t<tr><th scope=row>27</th><td>Qc1</td><td>Quebec</td><td>chilled   </td><td> 675</td><td>35.4</td></tr>\n",
       "\t<tr><th scope=row>28</th><td>Qc1</td><td>Quebec</td><td>chilled   </td><td>1000</td><td>38.7</td></tr>\n",
       "\t<tr><th scope=row>29</th><td>Qc2</td><td>Quebec</td><td>chilled   </td><td>  95</td><td> 9.3</td></tr>\n",
       "\t<tr><th scope=row>30</th><td>Qc2</td><td>Quebec</td><td>chilled   </td><td> 175</td><td>27.3</td></tr>\n",
       "\t<tr><th scope=row>⋮</th><td>⋮</td><td>⋮</td><td>⋮</td><td>⋮</td><td>⋮</td></tr>\n",
       "\t<tr><th scope=row>55</th><td>Mn2</td><td>Mississippi</td><td>nonchilled</td><td> 675</td><td>31.1</td></tr>\n",
       "\t<tr><th scope=row>56</th><td>Mn2</td><td>Mississippi</td><td>nonchilled</td><td>1000</td><td>31.5</td></tr>\n",
       "\t<tr><th scope=row>57</th><td>Mn3</td><td>Mississippi</td><td>nonchilled</td><td>  95</td><td>11.3</td></tr>\n",
       "\t<tr><th scope=row>58</th><td>Mn3</td><td>Mississippi</td><td>nonchilled</td><td> 175</td><td>19.4</td></tr>\n",
       "\t<tr><th scope=row>59</th><td>Mn3</td><td>Mississippi</td><td>nonchilled</td><td> 250</td><td>25.8</td></tr>\n",
       "\t<tr><th scope=row>60</th><td>Mn3</td><td>Mississippi</td><td>nonchilled</td><td> 350</td><td>27.9</td></tr>\n",
       "\t<tr><th scope=row>61</th><td>Mn3</td><td>Mississippi</td><td>nonchilled</td><td> 500</td><td>28.5</td></tr>\n",
       "\t<tr><th scope=row>62</th><td>Mn3</td><td>Mississippi</td><td>nonchilled</td><td> 675</td><td>28.1</td></tr>\n",
       "\t<tr><th scope=row>63</th><td>Mn3</td><td>Mississippi</td><td>nonchilled</td><td>1000</td><td>27.8</td></tr>\n",
       "\t<tr><th scope=row>64</th><td>Mc1</td><td>Mississippi</td><td>chilled   </td><td>  95</td><td>10.5</td></tr>\n",
       "\t<tr><th scope=row>65</th><td>Mc1</td><td>Mississippi</td><td>chilled   </td><td> 175</td><td>14.9</td></tr>\n",
       "\t<tr><th scope=row>66</th><td>Mc1</td><td>Mississippi</td><td>chilled   </td><td> 250</td><td>18.1</td></tr>\n",
       "\t<tr><th scope=row>67</th><td>Mc1</td><td>Mississippi</td><td>chilled   </td><td> 350</td><td>18.9</td></tr>\n",
       "\t<tr><th scope=row>68</th><td>Mc1</td><td>Mississippi</td><td>chilled   </td><td> 500</td><td>19.5</td></tr>\n",
       "\t<tr><th scope=row>69</th><td>Mc1</td><td>Mississippi</td><td>chilled   </td><td> 675</td><td>22.2</td></tr>\n",
       "\t<tr><th scope=row>70</th><td>Mc1</td><td>Mississippi</td><td>chilled   </td><td>1000</td><td>21.9</td></tr>\n",
       "\t<tr><th scope=row>71</th><td>Mc2</td><td>Mississippi</td><td>chilled   </td><td>  95</td><td> 7.7</td></tr>\n",
       "\t<tr><th scope=row>72</th><td>Mc2</td><td>Mississippi</td><td>chilled   </td><td> 175</td><td>11.4</td></tr>\n",
       "\t<tr><th scope=row>73</th><td>Mc2</td><td>Mississippi</td><td>chilled   </td><td> 250</td><td>12.3</td></tr>\n",
       "\t<tr><th scope=row>74</th><td>Mc2</td><td>Mississippi</td><td>chilled   </td><td> 350</td><td>13.0</td></tr>\n",
       "\t<tr><th scope=row>75</th><td>Mc2</td><td>Mississippi</td><td>chilled   </td><td> 500</td><td>12.5</td></tr>\n",
       "\t<tr><th scope=row>76</th><td>Mc2</td><td>Mississippi</td><td>chilled   </td><td> 675</td><td>13.7</td></tr>\n",
       "\t<tr><th scope=row>77</th><td>Mc2</td><td>Mississippi</td><td>chilled   </td><td>1000</td><td>14.4</td></tr>\n",
       "\t<tr><th scope=row>78</th><td>Mc3</td><td>Mississippi</td><td>chilled   </td><td>  95</td><td>10.6</td></tr>\n",
       "\t<tr><th scope=row>79</th><td>Mc3</td><td>Mississippi</td><td>chilled   </td><td> 175</td><td>18.0</td></tr>\n",
       "\t<tr><th scope=row>80</th><td>Mc3</td><td>Mississippi</td><td>chilled   </td><td> 250</td><td>17.9</td></tr>\n",
       "\t<tr><th scope=row>81</th><td>Mc3</td><td>Mississippi</td><td>chilled   </td><td> 350</td><td>17.9</td></tr>\n",
       "\t<tr><th scope=row>82</th><td>Mc3</td><td>Mississippi</td><td>chilled   </td><td> 500</td><td>17.9</td></tr>\n",
       "\t<tr><th scope=row>83</th><td>Mc3</td><td>Mississippi</td><td>chilled   </td><td> 675</td><td>18.9</td></tr>\n",
       "\t<tr><th scope=row>84</th><td>Mc3</td><td>Mississippi</td><td>chilled   </td><td>1000</td><td>19.9</td></tr>\n",
       "</tbody>\n",
       "</table>\n"
      ],
      "text/latex": [
       "A nfnGroupedData: 84 × 5\n",
       "\\begin{tabular}{r|lllll}\n",
       "  & Plant & Type & Treatment & conc & uptake\\\\\n",
       "  & <ord> & <fct> & <fct> & <dbl> & <dbl>\\\\\n",
       "\\hline\n",
       "\t1 & Qn1 & Quebec & nonchilled &   95 & 16.0\\\\\n",
       "\t2 & Qn1 & Quebec & nonchilled &  175 & 30.4\\\\\n",
       "\t3 & Qn1 & Quebec & nonchilled &  250 & 34.8\\\\\n",
       "\t4 & Qn1 & Quebec & nonchilled &  350 & 37.2\\\\\n",
       "\t5 & Qn1 & Quebec & nonchilled &  500 & 35.3\\\\\n",
       "\t6 & Qn1 & Quebec & nonchilled &  675 & 39.2\\\\\n",
       "\t7 & Qn1 & Quebec & nonchilled & 1000 & 39.7\\\\\n",
       "\t8 & Qn2 & Quebec & nonchilled &   95 & 13.6\\\\\n",
       "\t9 & Qn2 & Quebec & nonchilled &  175 & 27.3\\\\\n",
       "\t10 & Qn2 & Quebec & nonchilled &  250 & 37.1\\\\\n",
       "\t11 & Qn2 & Quebec & nonchilled &  350 & 41.8\\\\\n",
       "\t12 & Qn2 & Quebec & nonchilled &  500 & 40.6\\\\\n",
       "\t13 & Qn2 & Quebec & nonchilled &  675 & 41.4\\\\\n",
       "\t14 & Qn2 & Quebec & nonchilled & 1000 & 44.3\\\\\n",
       "\t15 & Qn3 & Quebec & nonchilled &   95 & 16.2\\\\\n",
       "\t16 & Qn3 & Quebec & nonchilled &  175 & 32.4\\\\\n",
       "\t17 & Qn3 & Quebec & nonchilled &  250 & 40.3\\\\\n",
       "\t18 & Qn3 & Quebec & nonchilled &  350 & 42.1\\\\\n",
       "\t19 & Qn3 & Quebec & nonchilled &  500 & 42.9\\\\\n",
       "\t20 & Qn3 & Quebec & nonchilled &  675 & 43.9\\\\\n",
       "\t21 & Qn3 & Quebec & nonchilled & 1000 & 45.5\\\\\n",
       "\t22 & Qc1 & Quebec & chilled    &   95 & 14.2\\\\\n",
       "\t23 & Qc1 & Quebec & chilled    &  175 & 24.1\\\\\n",
       "\t24 & Qc1 & Quebec & chilled    &  250 & 30.3\\\\\n",
       "\t25 & Qc1 & Quebec & chilled    &  350 & 34.6\\\\\n",
       "\t26 & Qc1 & Quebec & chilled    &  500 & 32.5\\\\\n",
       "\t27 & Qc1 & Quebec & chilled    &  675 & 35.4\\\\\n",
       "\t28 & Qc1 & Quebec & chilled    & 1000 & 38.7\\\\\n",
       "\t29 & Qc2 & Quebec & chilled    &   95 &  9.3\\\\\n",
       "\t30 & Qc2 & Quebec & chilled    &  175 & 27.3\\\\\n",
       "\t⋮ & ⋮ & ⋮ & ⋮ & ⋮ & ⋮\\\\\n",
       "\t55 & Mn2 & Mississippi & nonchilled &  675 & 31.1\\\\\n",
       "\t56 & Mn2 & Mississippi & nonchilled & 1000 & 31.5\\\\\n",
       "\t57 & Mn3 & Mississippi & nonchilled &   95 & 11.3\\\\\n",
       "\t58 & Mn3 & Mississippi & nonchilled &  175 & 19.4\\\\\n",
       "\t59 & Mn3 & Mississippi & nonchilled &  250 & 25.8\\\\\n",
       "\t60 & Mn3 & Mississippi & nonchilled &  350 & 27.9\\\\\n",
       "\t61 & Mn3 & Mississippi & nonchilled &  500 & 28.5\\\\\n",
       "\t62 & Mn3 & Mississippi & nonchilled &  675 & 28.1\\\\\n",
       "\t63 & Mn3 & Mississippi & nonchilled & 1000 & 27.8\\\\\n",
       "\t64 & Mc1 & Mississippi & chilled    &   95 & 10.5\\\\\n",
       "\t65 & Mc1 & Mississippi & chilled    &  175 & 14.9\\\\\n",
       "\t66 & Mc1 & Mississippi & chilled    &  250 & 18.1\\\\\n",
       "\t67 & Mc1 & Mississippi & chilled    &  350 & 18.9\\\\\n",
       "\t68 & Mc1 & Mississippi & chilled    &  500 & 19.5\\\\\n",
       "\t69 & Mc1 & Mississippi & chilled    &  675 & 22.2\\\\\n",
       "\t70 & Mc1 & Mississippi & chilled    & 1000 & 21.9\\\\\n",
       "\t71 & Mc2 & Mississippi & chilled    &   95 &  7.7\\\\\n",
       "\t72 & Mc2 & Mississippi & chilled    &  175 & 11.4\\\\\n",
       "\t73 & Mc2 & Mississippi & chilled    &  250 & 12.3\\\\\n",
       "\t74 & Mc2 & Mississippi & chilled    &  350 & 13.0\\\\\n",
       "\t75 & Mc2 & Mississippi & chilled    &  500 & 12.5\\\\\n",
       "\t76 & Mc2 & Mississippi & chilled    &  675 & 13.7\\\\\n",
       "\t77 & Mc2 & Mississippi & chilled    & 1000 & 14.4\\\\\n",
       "\t78 & Mc3 & Mississippi & chilled    &   95 & 10.6\\\\\n",
       "\t79 & Mc3 & Mississippi & chilled    &  175 & 18.0\\\\\n",
       "\t80 & Mc3 & Mississippi & chilled    &  250 & 17.9\\\\\n",
       "\t81 & Mc3 & Mississippi & chilled    &  350 & 17.9\\\\\n",
       "\t82 & Mc3 & Mississippi & chilled    &  500 & 17.9\\\\\n",
       "\t83 & Mc3 & Mississippi & chilled    &  675 & 18.9\\\\\n",
       "\t84 & Mc3 & Mississippi & chilled    & 1000 & 19.9\\\\\n",
       "\\end{tabular}\n"
      ],
      "text/markdown": [
       "\n",
       "A nfnGroupedData: 84 × 5\n",
       "\n",
       "| <!--/--> | Plant &lt;ord&gt; | Type &lt;fct&gt; | Treatment &lt;fct&gt; | conc &lt;dbl&gt; | uptake &lt;dbl&gt; |\n",
       "|---|---|---|---|---|---|\n",
       "| 1 | Qn1 | Quebec | nonchilled |   95 | 16.0 |\n",
       "| 2 | Qn1 | Quebec | nonchilled |  175 | 30.4 |\n",
       "| 3 | Qn1 | Quebec | nonchilled |  250 | 34.8 |\n",
       "| 4 | Qn1 | Quebec | nonchilled |  350 | 37.2 |\n",
       "| 5 | Qn1 | Quebec | nonchilled |  500 | 35.3 |\n",
       "| 6 | Qn1 | Quebec | nonchilled |  675 | 39.2 |\n",
       "| 7 | Qn1 | Quebec | nonchilled | 1000 | 39.7 |\n",
       "| 8 | Qn2 | Quebec | nonchilled |   95 | 13.6 |\n",
       "| 9 | Qn2 | Quebec | nonchilled |  175 | 27.3 |\n",
       "| 10 | Qn2 | Quebec | nonchilled |  250 | 37.1 |\n",
       "| 11 | Qn2 | Quebec | nonchilled |  350 | 41.8 |\n",
       "| 12 | Qn2 | Quebec | nonchilled |  500 | 40.6 |\n",
       "| 13 | Qn2 | Quebec | nonchilled |  675 | 41.4 |\n",
       "| 14 | Qn2 | Quebec | nonchilled | 1000 | 44.3 |\n",
       "| 15 | Qn3 | Quebec | nonchilled |   95 | 16.2 |\n",
       "| 16 | Qn3 | Quebec | nonchilled |  175 | 32.4 |\n",
       "| 17 | Qn3 | Quebec | nonchilled |  250 | 40.3 |\n",
       "| 18 | Qn3 | Quebec | nonchilled |  350 | 42.1 |\n",
       "| 19 | Qn3 | Quebec | nonchilled |  500 | 42.9 |\n",
       "| 20 | Qn3 | Quebec | nonchilled |  675 | 43.9 |\n",
       "| 21 | Qn3 | Quebec | nonchilled | 1000 | 45.5 |\n",
       "| 22 | Qc1 | Quebec | chilled    |   95 | 14.2 |\n",
       "| 23 | Qc1 | Quebec | chilled    |  175 | 24.1 |\n",
       "| 24 | Qc1 | Quebec | chilled    |  250 | 30.3 |\n",
       "| 25 | Qc1 | Quebec | chilled    |  350 | 34.6 |\n",
       "| 26 | Qc1 | Quebec | chilled    |  500 | 32.5 |\n",
       "| 27 | Qc1 | Quebec | chilled    |  675 | 35.4 |\n",
       "| 28 | Qc1 | Quebec | chilled    | 1000 | 38.7 |\n",
       "| 29 | Qc2 | Quebec | chilled    |   95 |  9.3 |\n",
       "| 30 | Qc2 | Quebec | chilled    |  175 | 27.3 |\n",
       "| ⋮ | ⋮ | ⋮ | ⋮ | ⋮ | ⋮ |\n",
       "| 55 | Mn2 | Mississippi | nonchilled |  675 | 31.1 |\n",
       "| 56 | Mn2 | Mississippi | nonchilled | 1000 | 31.5 |\n",
       "| 57 | Mn3 | Mississippi | nonchilled |   95 | 11.3 |\n",
       "| 58 | Mn3 | Mississippi | nonchilled |  175 | 19.4 |\n",
       "| 59 | Mn3 | Mississippi | nonchilled |  250 | 25.8 |\n",
       "| 60 | Mn3 | Mississippi | nonchilled |  350 | 27.9 |\n",
       "| 61 | Mn3 | Mississippi | nonchilled |  500 | 28.5 |\n",
       "| 62 | Mn3 | Mississippi | nonchilled |  675 | 28.1 |\n",
       "| 63 | Mn3 | Mississippi | nonchilled | 1000 | 27.8 |\n",
       "| 64 | Mc1 | Mississippi | chilled    |   95 | 10.5 |\n",
       "| 65 | Mc1 | Mississippi | chilled    |  175 | 14.9 |\n",
       "| 66 | Mc1 | Mississippi | chilled    |  250 | 18.1 |\n",
       "| 67 | Mc1 | Mississippi | chilled    |  350 | 18.9 |\n",
       "| 68 | Mc1 | Mississippi | chilled    |  500 | 19.5 |\n",
       "| 69 | Mc1 | Mississippi | chilled    |  675 | 22.2 |\n",
       "| 70 | Mc1 | Mississippi | chilled    | 1000 | 21.9 |\n",
       "| 71 | Mc2 | Mississippi | chilled    |   95 |  7.7 |\n",
       "| 72 | Mc2 | Mississippi | chilled    |  175 | 11.4 |\n",
       "| 73 | Mc2 | Mississippi | chilled    |  250 | 12.3 |\n",
       "| 74 | Mc2 | Mississippi | chilled    |  350 | 13.0 |\n",
       "| 75 | Mc2 | Mississippi | chilled    |  500 | 12.5 |\n",
       "| 76 | Mc2 | Mississippi | chilled    |  675 | 13.7 |\n",
       "| 77 | Mc2 | Mississippi | chilled    | 1000 | 14.4 |\n",
       "| 78 | Mc3 | Mississippi | chilled    |   95 | 10.6 |\n",
       "| 79 | Mc3 | Mississippi | chilled    |  175 | 18.0 |\n",
       "| 80 | Mc3 | Mississippi | chilled    |  250 | 17.9 |\n",
       "| 81 | Mc3 | Mississippi | chilled    |  350 | 17.9 |\n",
       "| 82 | Mc3 | Mississippi | chilled    |  500 | 17.9 |\n",
       "| 83 | Mc3 | Mississippi | chilled    |  675 | 18.9 |\n",
       "| 84 | Mc3 | Mississippi | chilled    | 1000 | 19.9 |\n",
       "\n"
      ],
      "text/plain": [
       "   Plant Type        Treatment  conc uptake\n",
       "1  Qn1   Quebec      nonchilled   95 16.0  \n",
       "2  Qn1   Quebec      nonchilled  175 30.4  \n",
       "3  Qn1   Quebec      nonchilled  250 34.8  \n",
       "4  Qn1   Quebec      nonchilled  350 37.2  \n",
       "5  Qn1   Quebec      nonchilled  500 35.3  \n",
       "6  Qn1   Quebec      nonchilled  675 39.2  \n",
       "7  Qn1   Quebec      nonchilled 1000 39.7  \n",
       "8  Qn2   Quebec      nonchilled   95 13.6  \n",
       "9  Qn2   Quebec      nonchilled  175 27.3  \n",
       "10 Qn2   Quebec      nonchilled  250 37.1  \n",
       "11 Qn2   Quebec      nonchilled  350 41.8  \n",
       "12 Qn2   Quebec      nonchilled  500 40.6  \n",
       "13 Qn2   Quebec      nonchilled  675 41.4  \n",
       "14 Qn2   Quebec      nonchilled 1000 44.3  \n",
       "15 Qn3   Quebec      nonchilled   95 16.2  \n",
       "16 Qn3   Quebec      nonchilled  175 32.4  \n",
       "17 Qn3   Quebec      nonchilled  250 40.3  \n",
       "18 Qn3   Quebec      nonchilled  350 42.1  \n",
       "19 Qn3   Quebec      nonchilled  500 42.9  \n",
       "20 Qn3   Quebec      nonchilled  675 43.9  \n",
       "21 Qn3   Quebec      nonchilled 1000 45.5  \n",
       "22 Qc1   Quebec      chilled      95 14.2  \n",
       "23 Qc1   Quebec      chilled     175 24.1  \n",
       "24 Qc1   Quebec      chilled     250 30.3  \n",
       "25 Qc1   Quebec      chilled     350 34.6  \n",
       "26 Qc1   Quebec      chilled     500 32.5  \n",
       "27 Qc1   Quebec      chilled     675 35.4  \n",
       "28 Qc1   Quebec      chilled    1000 38.7  \n",
       "29 Qc2   Quebec      chilled      95  9.3  \n",
       "30 Qc2   Quebec      chilled     175 27.3  \n",
       "⋮  ⋮     ⋮           ⋮          ⋮    ⋮     \n",
       "55 Mn2   Mississippi nonchilled  675 31.1  \n",
       "56 Mn2   Mississippi nonchilled 1000 31.5  \n",
       "57 Mn3   Mississippi nonchilled   95 11.3  \n",
       "58 Mn3   Mississippi nonchilled  175 19.4  \n",
       "59 Mn3   Mississippi nonchilled  250 25.8  \n",
       "60 Mn3   Mississippi nonchilled  350 27.9  \n",
       "61 Mn3   Mississippi nonchilled  500 28.5  \n",
       "62 Mn3   Mississippi nonchilled  675 28.1  \n",
       "63 Mn3   Mississippi nonchilled 1000 27.8  \n",
       "64 Mc1   Mississippi chilled      95 10.5  \n",
       "65 Mc1   Mississippi chilled     175 14.9  \n",
       "66 Mc1   Mississippi chilled     250 18.1  \n",
       "67 Mc1   Mississippi chilled     350 18.9  \n",
       "68 Mc1   Mississippi chilled     500 19.5  \n",
       "69 Mc1   Mississippi chilled     675 22.2  \n",
       "70 Mc1   Mississippi chilled    1000 21.9  \n",
       "71 Mc2   Mississippi chilled      95  7.7  \n",
       "72 Mc2   Mississippi chilled     175 11.4  \n",
       "73 Mc2   Mississippi chilled     250 12.3  \n",
       "74 Mc2   Mississippi chilled     350 13.0  \n",
       "75 Mc2   Mississippi chilled     500 12.5  \n",
       "76 Mc2   Mississippi chilled     675 13.7  \n",
       "77 Mc2   Mississippi chilled    1000 14.4  \n",
       "78 Mc3   Mississippi chilled      95 10.6  \n",
       "79 Mc3   Mississippi chilled     175 18.0  \n",
       "80 Mc3   Mississippi chilled     250 17.9  \n",
       "81 Mc3   Mississippi chilled     350 17.9  \n",
       "82 Mc3   Mississippi chilled     500 17.9  \n",
       "83 Mc3   Mississippi chilled     675 18.9  \n",
       "84 Mc3   Mississippi chilled    1000 19.9  "
      ]
     },
     "metadata": {},
     "output_type": "display_data"
    }
   ],
   "source": [
    "CO2"
   ]
  },
  {
   "cell_type": "markdown",
   "metadata": {},
   "source": [
    "# Read Text file"
   ]
  },
  {
   "cell_type": "code",
   "execution_count": 42,
   "metadata": {
    "vscode": {
     "languageId": "r"
    }
   },
   "outputs": [
    {
     "name": "stderr",
     "output_type": "stream",
     "text": [
      "Warning message in readLines(\"data.txt\"):\n",
      "“'data.txt' で不完全な最終行が見つかりました”\n"
     ]
    },
    {
     "name": "stdout",
     "output_type": "stream",
     "text": [
      "[1] \"Nguyen\"     \"Nam Anh\"    \"Khuong Duy\" \"Hoang Duy\" \n"
     ]
    }
   ],
   "source": [
    "text <- readLines(\"data.txt\")\n",
    "print(text)"
   ]
  },
  {
   "cell_type": "code",
   "execution_count": 43,
   "metadata": {
    "vscode": {
     "languageId": "r"
    }
   },
   "outputs": [
    {
     "data": {
      "text/html": [
       "4"
      ],
      "text/latex": [
       "4"
      ],
      "text/markdown": [
       "4"
      ],
      "text/plain": [
       "[1] 4"
      ]
     },
     "metadata": {},
     "output_type": "display_data"
    },
    {
     "data": {
      "text/html": [
       "<style>\n",
       ".list-inline {list-style: none; margin:0; padding: 0}\n",
       ".list-inline>li {display: inline-block}\n",
       ".list-inline>li:not(:last-child)::after {content: \"\\00b7\"; padding: 0 .5ex}\n",
       "</style>\n",
       "<ol class=list-inline><li>6</li><li>7</li><li>10</li><li>9</li></ol>\n"
      ],
      "text/latex": [
       "\\begin{enumerate*}\n",
       "\\item 6\n",
       "\\item 7\n",
       "\\item 10\n",
       "\\item 9\n",
       "\\end{enumerate*}\n"
      ],
      "text/markdown": [
       "1. 6\n",
       "2. 7\n",
       "3. 10\n",
       "4. 9\n",
       "\n",
       "\n"
      ],
      "text/plain": [
       "[1]  6  7 10  9"
      ]
     },
     "metadata": {},
     "output_type": "display_data"
    },
    {
     "data": {
      "text/html": [
       "35"
      ],
      "text/latex": [
       "35"
      ],
      "text/markdown": [
       "35"
      ],
      "text/plain": [
       "[1] 35"
      ]
     },
     "metadata": {},
     "output_type": "display_data"
    }
   ],
   "source": [
    "#Operations\n",
    "length(text)\n",
    "nchar(text)\n",
    "file.size(\"data.txt\")"
   ]
  },
  {
   "cell_type": "code",
   "execution_count": 44,
   "metadata": {
    "vscode": {
     "languageId": "r"
    }
   },
   "outputs": [
    {
     "data": {
      "text/html": [
       "<style>\n",
       ".list-inline {list-style: none; margin:0; padding: 0}\n",
       ".list-inline>li {display: inline-block}\n",
       ".list-inline>li:not(:last-child)::after {content: \"\\00b7\"; padding: 0 .5ex}\n",
       "</style>\n",
       "<ol class=list-inline><li>'Nguyen'</li><li>'Nam'</li><li>'Anh'</li><li>'Khuong'</li><li>'Duy'</li><li>'Hoang'</li><li>'Duy'</li></ol>\n"
      ],
      "text/latex": [
       "\\begin{enumerate*}\n",
       "\\item 'Nguyen'\n",
       "\\item 'Nam'\n",
       "\\item 'Anh'\n",
       "\\item 'Khuong'\n",
       "\\item 'Duy'\n",
       "\\item 'Hoang'\n",
       "\\item 'Duy'\n",
       "\\end{enumerate*}\n"
      ],
      "text/markdown": [
       "1. 'Nguyen'\n",
       "2. 'Nam'\n",
       "3. 'Anh'\n",
       "4. 'Khuong'\n",
       "5. 'Duy'\n",
       "6. 'Hoang'\n",
       "7. 'Duy'\n",
       "\n",
       "\n"
      ],
      "text/plain": [
       "[1] \"Nguyen\" \"Nam\"    \"Anh\"    \"Khuong\" \"Duy\"    \"Hoang\"  \"Duy\"   "
      ]
     },
     "metadata": {},
     "output_type": "display_data"
    }
   ],
   "source": [
    "# Reading text files using scan()\n",
    "text <- scan(\"data.txt\",\"\")\n",
    "text"
   ]
  },
  {
   "cell_type": "code",
   "execution_count": 45,
   "metadata": {
    "vscode": {
     "languageId": "r"
    }
   },
   "outputs": [
    {
     "data": {
      "text/html": [
       "<table class=\"dataframe\">\n",
       "<caption>A matrix: 2 × 3 of type dbl</caption>\n",
       "<tbody>\n",
       "\t<tr><td>1</td><td>3</td><td>5</td></tr>\n",
       "\t<tr><td>2</td><td>4</td><td>6</td></tr>\n",
       "</tbody>\n",
       "</table>\n"
      ],
      "text/latex": [
       "A matrix: 2 × 3 of type dbl\n",
       "\\begin{tabular}{lll}\n",
       "\t 1 & 3 & 5\\\\\n",
       "\t 2 & 4 & 6\\\\\n",
       "\\end{tabular}\n"
      ],
      "text/markdown": [
       "\n",
       "A matrix: 2 × 3 of type dbl\n",
       "\n",
       "| 1 | 3 | 5 |\n",
       "| 2 | 4 | 6 |\n",
       "\n"
      ],
      "text/plain": [
       "     [,1] [,2] [,3]\n",
       "[1,] 1    3    5   \n",
       "[2,] 2    4    6   "
      ]
     },
     "metadata": {},
     "output_type": "display_data"
    }
   ],
   "source": [
    "# Exporting as a text file\n",
    "m <- matrix(c(1,2,3,4,5,6),nrow=2,ncol=3)\n",
    "m\n",
    "write(m,file = \"matrix_as_text.txt\",ncolumns = 3,sep = \" \")"
   ]
  },
  {
   "cell_type": "code",
   "execution_count": 46,
   "metadata": {
    "vscode": {
     "languageId": "r"
    }
   },
   "outputs": [],
   "source": [
    "# Exporting as a CSV file\n",
    "df <- data.frame(m)\n",
    "write.csv(df,file=\"dataset.csv\",row.names=FALSE)\n",
    "write.table(df,file = \"dataset.csv\",row.names=FALSE,col.names=FALSE,sep=\",\")"
   ]
  },
  {
   "cell_type": "code",
   "execution_count": 47,
   "metadata": {
    "vscode": {
     "languageId": "r"
    }
   },
   "outputs": [],
   "source": [
    "# install.packages('writexl')\n",
    "# library(\"writexl\")"
   ]
  },
  {
   "cell_type": "code",
   "execution_count": 48,
   "metadata": {
    "vscode": {
     "languageId": "r"
    }
   },
   "outputs": [],
   "source": [
    "# Saving R objects in .RDAta files\n",
    "var1 <- 10\n",
    "var2 <- 20\n",
    "var3 <- 30\n",
    "\n",
    "save(list = c(\"var1\",\"var2\",\"var3\"),file = \"vars.RData\")"
   ]
  }
 ],
 "metadata": {
  "kernelspec": {
   "display_name": "R",
   "language": "R",
   "name": "ir"
  },
  "language_info": {
   "codemirror_mode": "r",
   "file_extension": ".r",
   "mimetype": "text/x-r-source",
   "name": "R",
   "pygments_lexer": "r",
   "version": "4.4.0"
  }
 },
 "nbformat": 4,
 "nbformat_minor": 2
}
