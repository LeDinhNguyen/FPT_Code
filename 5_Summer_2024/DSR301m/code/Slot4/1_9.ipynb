{
  "nbformat": 4,
  "nbformat_minor": 0,
  "metadata": {
    "colab": {
      "provenance": []
    },
    "kernelspec": {
      "name": "ir",
      "display_name": "R"
    },
    "language_info": {
      "name": "R"
    }
  },
  "cells": [
    {
      "cell_type": "code",
      "execution_count": null,
      "metadata": {
        "id": "wxTUn0-PAcGU"
      },
      "outputs": [],
      "source": []
    },
    {
      "cell_type": "markdown",
      "source": [
        "# Regular Expressions"
      ],
      "metadata": {
        "id": "rSTCanvzCRex"
      }
    },
    {
      "cell_type": "markdown",
      "source": [
        "### Regex in R"
      ],
      "metadata": {
        "id": "OmKRGn_5FwHA"
      }
    },
    {
      "cell_type": "code",
      "source": [
        "grep(\"@.*\", c(\"testing@testing.com\", \"not an email\", \"test2@testing.com\"))"
      ],
      "metadata": {
        "colab": {
          "base_uri": "https://localhost:8080/",
          "height": 34
        },
        "id": "v9SQ-AcPCSHr",
        "outputId": "5d356677-0846-4427-dedd-e70e5589c081"
      },
      "execution_count": null,
      "outputs": [
        {
          "output_type": "display_data",
          "data": {
            "text/html": [
              "<style>\n",
              ".list-inline {list-style: none; margin:0; padding: 0}\n",
              ".list-inline>li {display: inline-block}\n",
              ".list-inline>li:not(:last-child)::after {content: \"\\00b7\"; padding: 0 .5ex}\n",
              "</style>\n",
              "<ol class=list-inline><li>1</li><li>3</li></ol>\n"
            ],
            "text/markdown": "1. 1\n2. 3\n\n\n",
            "text/latex": "\\begin{enumerate*}\n\\item 1\n\\item 3\n\\end{enumerate*}\n",
            "text/plain": [
              "[1] 1 3"
            ]
          },
          "metadata": {}
        }
      ]
    },
    {
      "cell_type": "code",
      "source": [
        "grep(\"@.*\", c(\"testing@testing.com\", \"not an email\", \"test2@testing.com\"), value=TRUE)"
      ],
      "metadata": {
        "colab": {
          "base_uri": "https://localhost:8080/",
          "height": 34
        },
        "id": "NM0LSZ-1Dsn8",
        "outputId": "e4bceb76-4b57-4ac7-83aa-8d5918ffa23b"
      },
      "execution_count": null,
      "outputs": [
        {
          "output_type": "display_data",
          "data": {
            "text/html": [
              "<style>\n",
              ".list-inline {list-style: none; margin:0; padding: 0}\n",
              ".list-inline>li {display: inline-block}\n",
              ".list-inline>li:not(:last-child)::after {content: \"\\00b7\"; padding: 0 .5ex}\n",
              "</style>\n",
              "<ol class=list-inline><li>'testing@testing.com'</li><li>'test2@testing.com'</li></ol>\n"
            ],
            "text/markdown": "1. 'testing@testing.com'\n2. 'test2@testing.com'\n\n\n",
            "text/latex": "\\begin{enumerate*}\n\\item 'testing@testing.com'\n\\item 'test2@testing.com'\n\\end{enumerate*}\n",
            "text/plain": [
              "[1] \"testing@testing.com\" \"test2@testing.com\"  "
            ]
          },
          "metadata": {}
        }
      ]
    },
    {
      "cell_type": "code",
      "source": [
        "grep(\"@.*\", \"@newdomain.com\", c(\"testing@testing.com\", \"not an email\", \"test2@testing.com\"), value=TRUE)"
      ],
      "metadata": {
        "colab": {
          "base_uri": "https://localhost:8080/",
          "height": 34
        },
        "id": "FazOgmg4Dwe3",
        "outputId": "3901d8ab-ab37-4d18-a68a-be3543effb76"
      },
      "execution_count": null,
      "outputs": [
        {
          "output_type": "display_data",
          "data": {
            "text/html": [
              "'@newdomain.com'"
            ],
            "text/markdown": "'@newdomain.com'",
            "text/latex": "'@newdomain.com'",
            "text/plain": [
              "[1] \"@newdomain.com\""
            ]
          },
          "metadata": {}
        }
      ]
    },
    {
      "cell_type": "code",
      "source": [
        "matches <- regexpr(\"@.*\", c(\"testing@testing.com\", \"not an email\", \"test2@testing.com\"))\n",
        "regmatches(c(\"test@testing.com\", \"not an email\", \"test2@testing.com\"), matches)"
      ],
      "metadata": {
        "colab": {
          "base_uri": "https://localhost:8080/",
          "height": 34
        },
        "id": "VwXNhPt1D3GI",
        "outputId": "c4807da0-f4d3-4766-9b7e-6b702e6d841e"
      },
      "execution_count": null,
      "outputs": [
        {
          "output_type": "display_data",
          "data": {
            "text/html": [
              "<style>\n",
              ".list-inline {list-style: none; margin:0; padding: 0}\n",
              ".list-inline>li {display: inline-block}\n",
              ".list-inline>li:not(:last-child)::after {content: \"\\00b7\"; padding: 0 .5ex}\n",
              "</style>\n",
              "<ol class=list-inline><li>'sting.com'</li><li>'@testing.com'</li></ol>\n"
            ],
            "text/markdown": "1. 'sting.com'\n2. '@testing.com'\n\n\n",
            "text/latex": "\\begin{enumerate*}\n\\item 'sting.com'\n\\item '@testing.com'\n\\end{enumerate*}\n",
            "text/plain": [
              "[1] \"sting.com\"    \"@testing.com\""
            ]
          },
          "metadata": {}
        }
      ]
    },
    {
      "cell_type": "markdown",
      "source": [
        "### Problem Solving"
      ],
      "metadata": {
        "id": "OV4r6fDUF0Ro"
      }
    },
    {
      "cell_type": "code",
      "source": [
        "Name <- c(\"John Doe\", \"John Doe\", \"Mark Mann\", \"Barry Goode\")\n",
        "Email <- c(\"doej@example.com\", \"jadoe@example.ca\", \"mmann@example.ca\", \"bgoode@example.com\")\n",
        "email_df <- data.frame(Name, Email)\n",
        "email_df"
      ],
      "metadata": {
        "colab": {
          "base_uri": "https://localhost:8080/",
          "height": 224
        },
        "id": "UosHETUHELc2",
        "outputId": "5f7d75be-60cb-4d22-8513-b4cceb67860e"
      },
      "execution_count": null,
      "outputs": [
        {
          "output_type": "display_data",
          "data": {
            "text/html": [
              "<table class=\"dataframe\">\n",
              "<caption>A data.frame: 4 × 2</caption>\n",
              "<thead>\n",
              "\t<tr><th scope=col>Name</th><th scope=col>Email</th></tr>\n",
              "\t<tr><th scope=col>&lt;chr&gt;</th><th scope=col>&lt;chr&gt;</th></tr>\n",
              "</thead>\n",
              "<tbody>\n",
              "\t<tr><td>John Doe   </td><td>doej@example.com  </td></tr>\n",
              "\t<tr><td>John Doe   </td><td>jadoe@example.ca  </td></tr>\n",
              "\t<tr><td>Mark Mann  </td><td>mmann@example.ca  </td></tr>\n",
              "\t<tr><td>Barry Goode</td><td>bgoode@example.com</td></tr>\n",
              "</tbody>\n",
              "</table>\n"
            ],
            "text/markdown": "\nA data.frame: 4 × 2\n\n| Name &lt;chr&gt; | Email &lt;chr&gt; |\n|---|---|\n| John Doe    | doej@example.com   |\n| John Doe    | jadoe@example.ca   |\n| Mark Mann   | mmann@example.ca   |\n| Barry Goode | bgoode@example.com |\n\n",
            "text/latex": "A data.frame: 4 × 2\n\\begin{tabular}{ll}\n Name & Email\\\\\n <chr> & <chr>\\\\\n\\hline\n\t John Doe    & doej@example.com  \\\\\n\t John Doe    & jadoe@example.ca  \\\\\n\t Mark Mann   & mmann@example.ca  \\\\\n\t Barry Goode & bgoode@example.com\\\\\n\\end{tabular}\n",
            "text/plain": [
              "  Name        Email             \n",
              "1 John Doe    doej@example.com  \n",
              "2 John Doe    jadoe@example.ca  \n",
              "3 Mark Mann   mmann@example.ca  \n",
              "4 Barry Goode bgoode@example.com"
            ]
          },
          "metadata": {}
        }
      ]
    },
    {
      "cell_type": "code",
      "source": [
        "matches <- regexpr(\"@.*\\\\.\", email_df[, \"Email\"])\n",
        "email_df[, \"Domain\"] <-  regmatches(email_df[, \"Email\"], matches)\n",
        "email_df"
      ],
      "metadata": {
        "colab": {
          "base_uri": "https://localhost:8080/",
          "height": 224
        },
        "id": "CJK5EgblF2CC",
        "outputId": "6c387393-487e-44d3-c7db-9ec6a7fb6baf"
      },
      "execution_count": null,
      "outputs": [
        {
          "output_type": "display_data",
          "data": {
            "text/html": [
              "<table class=\"dataframe\">\n",
              "<caption>A data.frame: 4 × 3</caption>\n",
              "<thead>\n",
              "\t<tr><th scope=col>Name</th><th scope=col>Email</th><th scope=col>Domain</th></tr>\n",
              "\t<tr><th scope=col>&lt;chr&gt;</th><th scope=col>&lt;chr&gt;</th><th scope=col>&lt;chr&gt;</th></tr>\n",
              "</thead>\n",
              "<tbody>\n",
              "\t<tr><td>John Doe   </td><td>doej@example.com  </td><td>@example.</td></tr>\n",
              "\t<tr><td>John Doe   </td><td>jadoe@example.ca  </td><td>@example.</td></tr>\n",
              "\t<tr><td>Mark Mann  </td><td>mmann@example.ca  </td><td>@example.</td></tr>\n",
              "\t<tr><td>Barry Goode</td><td>bgoode@example.com</td><td>@example.</td></tr>\n",
              "</tbody>\n",
              "</table>\n"
            ],
            "text/markdown": "\nA data.frame: 4 × 3\n\n| Name &lt;chr&gt; | Email &lt;chr&gt; | Domain &lt;chr&gt; |\n|---|---|---|\n| John Doe    | doej@example.com   | @example. |\n| John Doe    | jadoe@example.ca   | @example. |\n| Mark Mann   | mmann@example.ca   | @example. |\n| Barry Goode | bgoode@example.com | @example. |\n\n",
            "text/latex": "A data.frame: 4 × 3\n\\begin{tabular}{lll}\n Name & Email & Domain\\\\\n <chr> & <chr> & <chr>\\\\\n\\hline\n\t John Doe    & doej@example.com   & @example.\\\\\n\t John Doe    & jadoe@example.ca   & @example.\\\\\n\t Mark Mann   & mmann@example.ca   & @example.\\\\\n\t Barry Goode & bgoode@example.com & @example.\\\\\n\\end{tabular}\n",
            "text/plain": [
              "  Name        Email              Domain   \n",
              "1 John Doe    doej@example.com   @example.\n",
              "2 John Doe    jadoe@example.ca   @example.\n",
              "3 Mark Mann   mmann@example.ca   @example.\n",
              "4 Barry Goode bgoode@example.com @example."
            ]
          },
          "metadata": {}
        }
      ]
    },
    {
      "cell_type": "markdown",
      "source": [
        "# Date Format in R"
      ],
      "metadata": {
        "id": "ChuLyYpTGWGE"
      }
    },
    {
      "cell_type": "code",
      "source": [
        "Actor.Name <- c(\"Leonardo Dicaprio\", \"Eddie REdmayne\", \"Matthew McConaughey\", \"Daniel Day-Lewis\")\n",
        "Date.of.Birth <- c(153360000, 379123200, -5011200, -400032000)\n",
        "bestActors <- data.frame(Actor.Name, Date.of.Birth)\n",
        "bestActors"
      ],
      "metadata": {
        "colab": {
          "base_uri": "https://localhost:8080/",
          "height": 224
        },
        "id": "4UPOBELuGJOl",
        "outputId": "530f4003-8024-45ef-b4c8-38e827615dd8"
      },
      "execution_count": null,
      "outputs": [
        {
          "output_type": "display_data",
          "data": {
            "text/html": [
              "<table class=\"dataframe\">\n",
              "<caption>A data.frame: 4 × 2</caption>\n",
              "<thead>\n",
              "\t<tr><th scope=col>Actor.Name</th><th scope=col>Date.of.Birth</th></tr>\n",
              "\t<tr><th scope=col>&lt;chr&gt;</th><th scope=col>&lt;dbl&gt;</th></tr>\n",
              "</thead>\n",
              "<tbody>\n",
              "\t<tr><td>Leonardo Dicaprio  </td><td> 153360000</td></tr>\n",
              "\t<tr><td>Eddie REdmayne     </td><td> 379123200</td></tr>\n",
              "\t<tr><td>Matthew McConaughey</td><td>  -5011200</td></tr>\n",
              "\t<tr><td>Daniel Day-Lewis   </td><td>-400032000</td></tr>\n",
              "</tbody>\n",
              "</table>\n"
            ],
            "text/markdown": "\nA data.frame: 4 × 2\n\n| Actor.Name &lt;chr&gt; | Date.of.Birth &lt;dbl&gt; |\n|---|---|\n| Leonardo Dicaprio   |  153360000 |\n| Eddie REdmayne      |  379123200 |\n| Matthew McConaughey |   -5011200 |\n| Daniel Day-Lewis    | -400032000 |\n\n",
            "text/latex": "A data.frame: 4 × 2\n\\begin{tabular}{ll}\n Actor.Name & Date.of.Birth\\\\\n <chr> & <dbl>\\\\\n\\hline\n\t Leonardo Dicaprio   &  153360000\\\\\n\t Eddie REdmayne      &  379123200\\\\\n\t Matthew McConaughey &   -5011200\\\\\n\t Daniel Day-Lewis    & -400032000\\\\\n\\end{tabular}\n",
            "text/plain": [
              "  Actor.Name          Date.of.Birth\n",
              "1 Leonardo Dicaprio    153360000   \n",
              "2 Eddie REdmayne       379123200   \n",
              "3 Matthew McConaughey   -5011200   \n",
              "4 Daniel Day-Lewis    -400032000   "
            ]
          },
          "metadata": {}
        }
      ]
    },
    {
      "cell_type": "code",
      "source": [
        "actors.birthday <- as.POSIXct(bestActors$Date.of.Birth, origin = \"1970-01-01\")\n",
        "actors.birthday"
      ],
      "metadata": {
        "colab": {
          "base_uri": "https://localhost:8080/",
          "height": 35
        },
        "id": "rzU0ifujGZwT",
        "outputId": "ab749045-9324-4019-d29b-6c329543ea09"
      },
      "execution_count": null,
      "outputs": [
        {
          "output_type": "display_data",
          "data": {
            "text/plain": [
              "[1] \"1974-11-11 UTC\" \"1982-01-06 UTC\" \"1969-11-04 UTC\" \"1957-04-29 UTC\""
            ]
          },
          "metadata": {}
        }
      ]
    },
    {
      "cell_type": "code",
      "source": [
        "actors.birthday <- as.Date(actors.birthday)\n",
        "actors.birthday"
      ],
      "metadata": {
        "colab": {
          "base_uri": "https://localhost:8080/",
          "height": 34
        },
        "id": "ZMJBaXAfGZrG",
        "outputId": "c84d24ac-42a5-4b73-e539-8cf7d40d7d80"
      },
      "execution_count": null,
      "outputs": [
        {
          "output_type": "display_data",
          "data": {
            "text/html": [
              "<style>\n",
              ".list-inline {list-style: none; margin:0; padding: 0}\n",
              ".list-inline>li {display: inline-block}\n",
              ".list-inline>li:not(:last-child)::after {content: \"\\00b7\"; padding: 0 .5ex}\n",
              "</style>\n",
              "<ol class=list-inline><li><time datetime=\"1974-11-11\">1974-11-11</time></li><li><time datetime=\"1982-01-06\">1982-01-06</time></li><li><time datetime=\"1969-11-04\">1969-11-04</time></li><li><time datetime=\"1957-04-29\">1957-04-29</time></li></ol>\n"
            ],
            "text/markdown": "1. 1974-11-11\n2. 1982-01-06\n3. 1969-11-04\n4. 1957-04-29\n\n\n",
            "text/latex": "\\begin{enumerate*}\n\\item 1974-11-11\n\\item 1982-01-06\n\\item 1969-11-04\n\\item 1957-04-29\n\\end{enumerate*}\n",
            "text/plain": [
              "[1] \"1974-11-11\" \"1982-01-06\" \"1969-11-04\" \"1957-04-29\""
            ]
          },
          "metadata": {}
        }
      ]
    },
    {
      "cell_type": "code",
      "source": [
        "Actress.Name <- c(\"Brie Larson\", \"Julianne Moore\", \"Cate Blanchett\", \"Jennifer Lawrence\")\n",
        "Date.of.Birth <- c(\"1989/10/01\", \"1960/12/03\", \"1869/05/14\", \"1990/08/15\")\n",
        "bestActresses <- data.frame(Actor.Name, Date.of.Birth)\n",
        "bestActresses"
      ],
      "metadata": {
        "colab": {
          "base_uri": "https://localhost:8080/",
          "height": 224
        },
        "id": "6TeZ0RoLGZoP",
        "outputId": "ff025ac5-fc6b-4553-a03f-728aa59878f0"
      },
      "execution_count": null,
      "outputs": [
        {
          "output_type": "display_data",
          "data": {
            "text/html": [
              "<table class=\"dataframe\">\n",
              "<caption>A data.frame: 4 × 2</caption>\n",
              "<thead>\n",
              "\t<tr><th scope=col>Actor.Name</th><th scope=col>Date.of.Birth</th></tr>\n",
              "\t<tr><th scope=col>&lt;chr&gt;</th><th scope=col>&lt;chr&gt;</th></tr>\n",
              "</thead>\n",
              "<tbody>\n",
              "\t<tr><td>Leonardo Dicaprio  </td><td>1989/10/01</td></tr>\n",
              "\t<tr><td>Eddie REdmayne     </td><td>1960/12/03</td></tr>\n",
              "\t<tr><td>Matthew McConaughey</td><td>1869/05/14</td></tr>\n",
              "\t<tr><td>Daniel Day-Lewis   </td><td>1990/08/15</td></tr>\n",
              "</tbody>\n",
              "</table>\n"
            ],
            "text/markdown": "\nA data.frame: 4 × 2\n\n| Actor.Name &lt;chr&gt; | Date.of.Birth &lt;chr&gt; |\n|---|---|\n| Leonardo Dicaprio   | 1989/10/01 |\n| Eddie REdmayne      | 1960/12/03 |\n| Matthew McConaughey | 1869/05/14 |\n| Daniel Day-Lewis    | 1990/08/15 |\n\n",
            "text/latex": "A data.frame: 4 × 2\n\\begin{tabular}{ll}\n Actor.Name & Date.of.Birth\\\\\n <chr> & <chr>\\\\\n\\hline\n\t Leonardo Dicaprio   & 1989/10/01\\\\\n\t Eddie REdmayne      & 1960/12/03\\\\\n\t Matthew McConaughey & 1869/05/14\\\\\n\t Daniel Day-Lewis    & 1990/08/15\\\\\n\\end{tabular}\n",
            "text/plain": [
              "  Actor.Name          Date.of.Birth\n",
              "1 Leonardo Dicaprio   1989/10/01   \n",
              "2 Eddie REdmayne      1960/12/03   \n",
              "3 Matthew McConaughey 1869/05/14   \n",
              "4 Daniel Day-Lewis    1990/08/15   "
            ]
          },
          "metadata": {}
        }
      ]
    },
    {
      "cell_type": "code",
      "source": [
        "actresses.birthday <- as.Date(bestActresses$Date.of.Birth, \"%Y/%m/%d\")\n",
        "actresses.birthday"
      ],
      "metadata": {
        "colab": {
          "base_uri": "https://localhost:8080/",
          "height": 34
        },
        "id": "8uucYnm-JVV0",
        "outputId": "ab663464-2b98-4e86-9233-99941ca51e89"
      },
      "execution_count": null,
      "outputs": [
        {
          "output_type": "display_data",
          "data": {
            "text/html": [
              "<style>\n",
              ".list-inline {list-style: none; margin:0; padding: 0}\n",
              ".list-inline>li {display: inline-block}\n",
              ".list-inline>li:not(:last-child)::after {content: \"\\00b7\"; padding: 0 .5ex}\n",
              "</style>\n",
              "<ol class=list-inline><li><time datetime=\"1989-10-01\">1989-10-01</time></li><li><time datetime=\"1960-12-03\">1960-12-03</time></li><li><time datetime=\"1869-05-14\">1869-05-14</time></li><li><time datetime=\"1990-08-15\">1990-08-15</time></li></ol>\n"
            ],
            "text/markdown": "1. 1989-10-01\n2. 1960-12-03\n3. 1869-05-14\n4. 1990-08-15\n\n\n",
            "text/latex": "\\begin{enumerate*}\n\\item 1989-10-01\n\\item 1960-12-03\n\\item 1869-05-14\n\\item 1990-08-15\n\\end{enumerate*}\n",
            "text/plain": [
              "[1] \"1989-10-01\" \"1960-12-03\" \"1869-05-14\" \"1990-08-15\""
            ]
          },
          "metadata": {}
        }
      ]
    },
    {
      "cell_type": "code",
      "source": [
        "as.Date(\"27/06/94\", \"%d/%m/%y\")"
      ],
      "metadata": {
        "colab": {
          "base_uri": "https://localhost:8080/",
          "height": 34
        },
        "id": "Gmr8V0hkGZlq",
        "outputId": "fa8a948c-6801-4f08-eb63-ff091ce6e017"
      },
      "execution_count": null,
      "outputs": [
        {
          "output_type": "display_data",
          "data": {
            "text/html": [
              "<time datetime=\"1994-06-27\">1994-06-27</time>"
            ],
            "text/markdown": "1994-06-27",
            "text/latex": "1994-06-27",
            "text/plain": [
              "[1] \"1994-06-27\""
            ]
          },
          "metadata": {}
        }
      ]
    },
    {
      "cell_type": "code",
      "source": [
        "as.Date(\"1994/06/27\") - as.Date(\"1959/01/01\")"
      ],
      "metadata": {
        "colab": {
          "base_uri": "https://localhost:8080/",
          "height": 35
        },
        "id": "EdzyH22AGZjC",
        "outputId": "1c0a8214-898a-4134-b8bd-f24b139d8b27"
      },
      "execution_count": null,
      "outputs": [
        {
          "output_type": "display_data",
          "data": {
            "text/plain": [
              "Time difference of 12961 days"
            ]
          },
          "metadata": {}
        }
      ]
    },
    {
      "cell_type": "code",
      "source": [
        "as.Date(\"1994/06/27\") > as.Date(\"1959/01/01\")"
      ],
      "metadata": {
        "colab": {
          "base_uri": "https://localhost:8080/",
          "height": 34
        },
        "id": "6P8fEffLGZge",
        "outputId": "51c1ef4e-3c8a-4d91-8fb6-8e4e32e7c0da"
      },
      "execution_count": null,
      "outputs": [
        {
          "output_type": "display_data",
          "data": {
            "text/html": [
              "TRUE"
            ],
            "text/markdown": "TRUE",
            "text/latex": "TRUE",
            "text/plain": [
              "[1] TRUE"
            ]
          },
          "metadata": {}
        }
      ]
    },
    {
      "cell_type": "code",
      "source": [
        "as.Date(\"1994/06/27\") - 14"
      ],
      "metadata": {
        "colab": {
          "base_uri": "https://localhost:8080/",
          "height": 34
        },
        "id": "qZarM48cGZbO",
        "outputId": "232035ee-2210-4a33-d9ca-ea077a4f0423"
      },
      "execution_count": null,
      "outputs": [
        {
          "output_type": "display_data",
          "data": {
            "text/html": [
              "<time datetime=\"1994-06-13\">1994-06-13</time>"
            ],
            "text/markdown": "1994-06-13",
            "text/latex": "1994-06-13",
            "text/plain": [
              "[1] \"1994-06-13\""
            ]
          },
          "metadata": {}
        }
      ]
    },
    {
      "cell_type": "code",
      "source": [
        "weekdays(Sys.Date())"
      ],
      "metadata": {
        "colab": {
          "base_uri": "https://localhost:8080/",
          "height": 34
        },
        "id": "2E8xuEF_GZZO",
        "outputId": "599ab84f-accd-4817-9e82-6d88844a2820"
      },
      "execution_count": null,
      "outputs": [
        {
          "output_type": "display_data",
          "data": {
            "text/html": [
              "'Friday'"
            ],
            "text/markdown": "'Friday'",
            "text/latex": "'Friday'",
            "text/plain": [
              "[1] \"Friday\""
            ]
          },
          "metadata": {}
        }
      ]
    },
    {
      "cell_type": "code",
      "source": [
        "months(Sys.Date())"
      ],
      "metadata": {
        "colab": {
          "base_uri": "https://localhost:8080/",
          "height": 34
        },
        "id": "Lq53QqBFGZWB",
        "outputId": "5b9c2807-b658-4ae2-bca2-d1c57a0a445b"
      },
      "execution_count": null,
      "outputs": [
        {
          "output_type": "display_data",
          "data": {
            "text/html": [
              "'May'"
            ],
            "text/markdown": "'May'",
            "text/latex": "'May'",
            "text/plain": [
              "[1] \"May\""
            ]
          },
          "metadata": {}
        }
      ]
    },
    {
      "cell_type": "code",
      "source": [
        "quarters(Sys.Date())"
      ],
      "metadata": {
        "colab": {
          "base_uri": "https://localhost:8080/",
          "height": 34
        },
        "id": "n-d0iBscGZTT",
        "outputId": "42ad91aa-5342-482c-baab-39f8f81c9698"
      },
      "execution_count": null,
      "outputs": [
        {
          "output_type": "display_data",
          "data": {
            "text/html": [
              "'Q2'"
            ],
            "text/markdown": "'Q2'",
            "text/latex": "'Q2'",
            "text/plain": [
              "[1] \"Q2\""
            ]
          },
          "metadata": {}
        }
      ]
    },
    {
      "cell_type": "code",
      "source": [
        "julian(Sys.Date())"
      ],
      "metadata": {
        "colab": {
          "base_uri": "https://localhost:8080/",
          "height": 34
        },
        "id": "aNnTbFX0GZQV",
        "outputId": "3ff99f96-299b-4118-df56-eb9a9b90e924"
      },
      "execution_count": null,
      "outputs": [
        {
          "output_type": "display_data",
          "data": {
            "text/html": [
              "19860"
            ],
            "text/markdown": "19860",
            "text/latex": "19860",
            "text/plain": [
              "[1] 19860\n",
              "attr(,\"origin\")\n",
              "[1] \"1970-01-01\""
            ]
          },
          "metadata": {}
        }
      ]
    },
    {
      "cell_type": "code",
      "source": [
        "seq(Sys.Date(), by=\"month\", length.out=4)"
      ],
      "metadata": {
        "colab": {
          "base_uri": "https://localhost:8080/",
          "height": 34
        },
        "id": "aPV1aMI1LID8",
        "outputId": "221cfe28-d4a7-4116-a311-b32719986354"
      },
      "execution_count": null,
      "outputs": [
        {
          "output_type": "display_data",
          "data": {
            "text/html": [
              "<style>\n",
              ".list-inline {list-style: none; margin:0; padding: 0}\n",
              ".list-inline>li {display: inline-block}\n",
              ".list-inline>li:not(:last-child)::after {content: \"\\00b7\"; padding: 0 .5ex}\n",
              "</style>\n",
              "<ol class=list-inline><li><time datetime=\"2024-05-17\">2024-05-17</time></li><li><time datetime=\"2024-06-17\">2024-06-17</time></li><li><time datetime=\"2024-07-17\">2024-07-17</time></li><li><time datetime=\"2024-08-17\">2024-08-17</time></li></ol>\n"
            ],
            "text/markdown": "1. 2024-05-17\n2. 2024-06-17\n3. 2024-07-17\n4. 2024-08-17\n\n\n",
            "text/latex": "\\begin{enumerate*}\n\\item 2024-05-17\n\\item 2024-06-17\n\\item 2024-07-17\n\\item 2024-08-17\n\\end{enumerate*}\n",
            "text/plain": [
              "[1] \"2024-05-17\" \"2024-06-17\" \"2024-07-17\" \"2024-08-17\""
            ]
          },
          "metadata": {}
        }
      ]
    },
    {
      "cell_type": "markdown",
      "source": [
        "# Debugging"
      ],
      "metadata": {
        "id": "Ve1MXYNRLVVO"
      }
    },
    {
      "cell_type": "markdown",
      "source": [
        "### Producing an error"
      ],
      "metadata": {
        "id": "FJUDbrp0L-HN"
      }
    },
    {
      "cell_type": "code",
      "source": [
        "\"a\" + 10"
      ],
      "metadata": {
        "colab": {
          "base_uri": "https://localhost:8080/",
          "height": 73
        },
        "id": "hqqkBvY5LNwg",
        "outputId": "a0acab3e-ff3a-4aa8-e357-767a7d271a95"
      },
      "execution_count": null,
      "outputs": [
        {
          "output_type": "error",
          "ename": "ERROR",
          "evalue": "Error in \"a\" + 10: non-numeric argument to binary operator\n",
          "traceback": [
            "Error in \"a\" + 10: non-numeric argument to binary operator\nTraceback:\n"
          ]
        }
      ]
    },
    {
      "cell_type": "markdown",
      "source": [
        "### Error halts execution"
      ],
      "metadata": {
        "id": "K3bgFIlmMAOI"
      }
    },
    {
      "cell_type": "code",
      "source": [
        "for (i in 1:3) {\n",
        "  print(i + \"a\")\n",
        "}"
      ],
      "metadata": {
        "colab": {
          "base_uri": "https://localhost:8080/",
          "height": 108
        },
        "id": "hlzKeW-TLhwF",
        "outputId": "2e852c6c-f5ca-4e13-a923-8fbf6bf022fb"
      },
      "execution_count": null,
      "outputs": [
        {
          "output_type": "error",
          "ename": "ERROR",
          "evalue": "Error in i + \"a\": non-numeric argument to binary operator\n",
          "traceback": [
            "Error in i + \"a\": non-numeric argument to binary operator\nTraceback:\n",
            "1. print(i + \"a\")"
          ]
        }
      ]
    },
    {
      "cell_type": "markdown",
      "source": [
        "### Error catching with tryCatch\n",
        "\n"
      ],
      "metadata": {
        "id": "EO2_zV91MDN-"
      }
    },
    {
      "cell_type": "code",
      "source": [
        "tryCatch(10+10)"
      ],
      "metadata": {
        "colab": {
          "base_uri": "https://localhost:8080/",
          "height": 34
        },
        "id": "JqxMDykqL6Cp",
        "outputId": "42b09acd-b69c-4cae-b4ea-2b331c1a6e5f"
      },
      "execution_count": null,
      "outputs": [
        {
          "output_type": "display_data",
          "data": {
            "text/html": [
              "20"
            ],
            "text/markdown": "20",
            "text/latex": "20",
            "text/plain": [
              "[1] 20"
            ]
          },
          "metadata": {}
        }
      ]
    },
    {
      "cell_type": "code",
      "source": [
        "tryCatch(\"a\"+10)"
      ],
      "metadata": {
        "colab": {
          "base_uri": "https://localhost:8080/",
          "height": 126
        },
        "id": "B-MG91CYMJ76",
        "outputId": "e2b854ec-fb60-409c-f554-123350d07f9b"
      },
      "execution_count": null,
      "outputs": [
        {
          "output_type": "error",
          "ename": "ERROR",
          "evalue": "Error in \"a\" + 10: non-numeric argument to binary operator\n",
          "traceback": [
            "Error in \"a\" + 10: non-numeric argument to binary operator\nTraceback:\n",
            "1. tryCatch(\"a\" + 10)",
            "2. tryCatchList(expr, classes, parentenv, handlers)"
          ]
        }
      ]
    },
    {
      "cell_type": "code",
      "source": [
        "tryCatch(\"a\"+10, error=function(a) print(\"Error\"))"
      ],
      "metadata": {
        "colab": {
          "base_uri": "https://localhost:8080/"
        },
        "id": "S49lSkhTMLRR",
        "outputId": "2627a6d4-a503-4de7-f86f-b9dede0d2627"
      },
      "execution_count": null,
      "outputs": [
        {
          "output_type": "stream",
          "name": "stdout",
          "text": [
            "[1] \"Error\"\n"
          ]
        }
      ]
    },
    {
      "cell_type": "code",
      "source": [
        "tryCatch(\"a\"+10, error=function(a) print(\"10a\"))"
      ],
      "metadata": {
        "colab": {
          "base_uri": "https://localhost:8080/"
        },
        "id": "uPF1NG_eMT6q",
        "outputId": "7bf60728-a399-4ed4-a3f2-9ba9fc1bc0e0"
      },
      "execution_count": null,
      "outputs": [
        {
          "output_type": "stream",
          "name": "stdout",
          "text": [
            "[1] \"10a\"\n"
          ]
        }
      ]
    },
    {
      "cell_type": "code",
      "source": [
        "tryCatch(\n",
        "  for (i in 1:3) {\n",
        "    print(i + \"a\")\n",
        "  },\n",
        "  error=function(e) print(e)\n",
        ")"
      ],
      "metadata": {
        "colab": {
          "base_uri": "https://localhost:8080/"
        },
        "id": "gNU0zS6ZMfIr",
        "outputId": "e5e87049-887e-4132-f113-776dfb39a369"
      },
      "execution_count": null,
      "outputs": [
        {
          "output_type": "stream",
          "name": "stdout",
          "text": [
            "<simpleError in i + \"a\": non-numeric argument to binary operator>\n"
          ]
        }
      ]
    },
    {
      "cell_type": "code",
      "source": [
        "as.integer(\"A\")"
      ],
      "metadata": {
        "colab": {
          "base_uri": "https://localhost:8080/",
          "height": 70
        },
        "id": "uhC2vweAMrpZ",
        "outputId": "a5ae450b-1100-47dc-f095-7b571b48883d"
      },
      "execution_count": null,
      "outputs": [
        {
          "output_type": "stream",
          "name": "stderr",
          "text": [
            "Warning message in eval(expr, envir, enclos):\n",
            "“NAs introduced by coercion”\n"
          ]
        },
        {
          "output_type": "display_data",
          "data": {
            "text/html": [
              "&lt;NA&gt;"
            ],
            "text/markdown": "&lt;NA&gt;",
            "text/latex": "<NA>",
            "text/plain": [
              "[1] NA"
            ]
          },
          "metadata": {}
        }
      ]
    },
    {
      "cell_type": "code",
      "source": [
        "tryCatch(as.integer(\"A\"), error=function(e) print(\"warning\"))"
      ],
      "metadata": {
        "colab": {
          "base_uri": "https://localhost:8080/",
          "height": 70
        },
        "id": "g-GhFyn0MjN9",
        "outputId": "b28ffb4c-d711-46c5-f6ad-487d201a5791"
      },
      "execution_count": null,
      "outputs": [
        {
          "output_type": "stream",
          "name": "stderr",
          "text": [
            "Warning message in doTryCatch(return(expr), name, parentenv, handler):\n",
            "“NAs introduced by coercion”\n"
          ]
        },
        {
          "output_type": "display_data",
          "data": {
            "text/html": [
              "&lt;NA&gt;"
            ],
            "text/markdown": "&lt;NA&gt;",
            "text/latex": "<NA>",
            "text/plain": [
              "[1] NA"
            ]
          },
          "metadata": {}
        }
      ]
    },
    {
      "cell_type": "code",
      "source": [],
      "metadata": {
        "id": "FEAHQc3iMzNq"
      },
      "execution_count": null,
      "outputs": []
    }
  ]
}