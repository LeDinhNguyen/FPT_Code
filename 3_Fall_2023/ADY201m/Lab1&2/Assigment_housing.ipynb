{
  "nbformat": 4,
  "nbformat_minor": 0,
  "metadata": {
    "colab": {
      "provenance": []
    },
    "kernelspec": {
      "name": "python3",
      "display_name": "Python 3"
    },
    "language_info": {
      "name": "python"
    }
  },
  "cells": [
    {
      "cell_type": "markdown",
      "source": [
        "# House Price Prediction"
      ],
      "metadata": {
        "id": "Dni9aSDQA0Gx"
      }
    },
    {
      "cell_type": "markdown",
      "source": [
        "**In this assigment, students will utilise knowledge about Keras and Machine Learning to build a model to solve certain example data set provide by SKLearn, Tensorflow, and Keras.**"
      ],
      "metadata": {
        "id": "h1StOaccA1ov"
      }
    },
    {
      "cell_type": "markdown",
      "source": [
        " Assigment1. Explore data visualisation\n",
        "\n",
        "* Follow Material to make some visualisation to gain insight from a dataset\n",
        "* Template: California Housing prices.\n",
        "* Task: Titanic dataset"
      ],
      "metadata": {
        "id": "CnSKqMd7A2vj"
      }
    },
    {
      "cell_type": "markdown",
      "source": [
        "* Step1. Fetch Data"
      ],
      "metadata": {
        "id": "t3RjihOgA5zj"
      }
    },
    {
      "cell_type": "code",
      "execution_count": null,
      "metadata": {
        "id": "30iXxAecz0en"
      },
      "outputs": [],
      "source": [
        "import os\n",
        "import tarfile\n",
        "from six.moves import urllib\n",
        "DOWNLOAD_ROOT = \"https://raw.githubusercontent.com/ageron/handson-ml2/master/\"\n",
        "HOUSING_PATH = os.path.join(\"data\", \"housing\")\n",
        "HOUSING_URL = DOWNLOAD_ROOT + \"datasets/housing/housing.tgz\"\n",
        "def fetch_housing_data(housing_url=HOUSING_URL, housing_path=HOUSING_PATH):\n",
        "  if not os.path.isdir(housing_path):\n",
        "    os.makedirs(housing_path)\n",
        "    tgz_path = os.path.join(housing_path, \"housing.tgz\")\n",
        "    urllib.request.urlretrieve(housing_url, tgz_path)\n",
        "    housing_tgz = tarfile.open(tgz_path)\n",
        "    housing_tgz.extractall(path=housing_path)\n",
        "    housing_tgz.close()\n",
        "fetch_housing_data()"
      ]
    },
    {
      "cell_type": "markdown",
      "source": [
        "* Take a Quick Look at the Data Structure"
      ],
      "metadata": {
        "id": "qAZTTThYA8V2"
      }
    },
    {
      "cell_type": "code",
      "source": [
        "import pandas as pd\n",
        "def load_housing_data(housing_path=HOUSING_PATH):\n",
        "  csv_path = os.path.join(housing_path, \"housing.csv\")\n",
        "  return pd.read_csv(csv_path)"
      ],
      "metadata": {
        "id": "bXmEasI8A8Ng"
      },
      "execution_count": null,
      "outputs": []
    },
    {
      "cell_type": "markdown",
      "source": [
        "Look at the top five rows using the DataFrame’s `head()` method"
      ],
      "metadata": {
        "id": "rncy0A_5A_ld"
      }
    },
    {
      "cell_type": "code",
      "source": [
        "housing = load_housing_data()\n",
        "housing.head()"
      ],
      "metadata": {
        "id": "XgQa2jZ5A8K0"
      },
      "execution_count": null,
      "outputs": []
    },
    {
      "cell_type": "markdown",
      "source": [
        "The `info()` method is useful to get a quick description of the data"
      ],
      "metadata": {
        "id": "uwAtxCEtBEIf"
      }
    },
    {
      "cell_type": "code",
      "source": [
        "housing.info()"
      ],
      "metadata": {
        "id": "nNGuJsAqA8IC"
      },
      "execution_count": null,
      "outputs": []
    },
    {
      "cell_type": "code",
      "source": [
        "housing[\"ocean_proximity\"].value_counts()"
      ],
      "metadata": {
        "id": "fChiqJHWA8Fc"
      },
      "execution_count": null,
      "outputs": []
    },
    {
      "cell_type": "code",
      "source": [
        "housing.describe()"
      ],
      "metadata": {
        "id": "RQLyy8hMA8Cs"
      },
      "execution_count": null,
      "outputs": []
    },
    {
      "cell_type": "code",
      "source": [
        "housing.columns"
      ],
      "metadata": {
        "id": "QyiUlz_JA7_0"
      },
      "execution_count": null,
      "outputs": []
    },
    {
      "cell_type": "code",
      "source": [
        "# only in a Jupyter notebook\n",
        "%matplotlib inline\n",
        "import matplotlib.pyplot as plt\n",
        "housing.hist(bins=50, figsize=(20,15), column=housing.columns[2:])\n",
        "plt.show()"
      ],
      "metadata": {
        "id": "_G3vEfAiA79a"
      },
      "execution_count": null,
      "outputs": []
    },
    {
      "cell_type": "markdown",
      "source": [
        "* Visualizing Geographical Data"
      ],
      "metadata": {
        "id": "orKw6zdrBQrK"
      }
    },
    {
      "cell_type": "code",
      "source": [
        "housing.plot(kind=\"scatter\", x=\"longitude\", y=\"latitude\")"
      ],
      "metadata": {
        "id": "3LX87RIjBLqv"
      },
      "execution_count": null,
      "outputs": []
    },
    {
      "cell_type": "code",
      "source": [
        "housing.plot(kind=\"scatter\", x=\"longitude\", y=\"latitude\", alpha=0.1)"
      ],
      "metadata": {
        "id": "iwr_NR_SBLoc"
      },
      "execution_count": null,
      "outputs": []
    },
    {
      "cell_type": "code",
      "source": [
        "housing.plot(\n",
        "    kind=\"scatter\", x=\"longitude\", y=\"latitude\", alpha=0.4,\n",
        "    s=housing[\"population\"]/100, label=\"population\", figsize=(10,7),\n",
        "    c=\"median_house_value\", cmap=plt.get_cmap(\"jet\"), colorbar=True,\n",
        ")\n",
        "plt.legend()"
      ],
      "metadata": {
        "id": "RZgjkrXXBLli"
      },
      "execution_count": null,
      "outputs": []
    },
    {
      "cell_type": "markdown",
      "source": [
        "* Looking for Correlations"
      ],
      "metadata": {
        "id": "DQZzDGWBBTgK"
      }
    },
    {
      "cell_type": "code",
      "source": [
        "corr_matrix = housing.corr(numeric_only=True)"
      ],
      "metadata": {
        "id": "yk9by_S-BLi5"
      },
      "execution_count": null,
      "outputs": []
    },
    {
      "cell_type": "markdown",
      "source": [
        "Look at how much each attribute correlates with the median house value:"
      ],
      "metadata": {
        "id": "sBUIYlQRBWDq"
      }
    },
    {
      "cell_type": "code",
      "source": [
        "corr_matrix[\"median_house_value\"].sort_values(ascending=False)"
      ],
      "metadata": {
        "id": "tlIClvvSBLgi"
      },
      "execution_count": null,
      "outputs": []
    },
    {
      "cell_type": "code",
      "source": [
        "from pandas.plotting import scatter_matrix\n",
        "attributes = [\"median_house_value\", \"median_income\", \"total_rooms\", \"housing_median_age\"]\n",
        "scatter_matrix(housing[attributes], figsize=(12, 8))"
      ],
      "metadata": {
        "id": "HgHTzrsBBLd3"
      },
      "execution_count": null,
      "outputs": []
    }
  ]
}