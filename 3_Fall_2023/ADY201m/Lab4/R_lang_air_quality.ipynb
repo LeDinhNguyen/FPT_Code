{
  "cells": [
    {
      "cell_type": "markdown",
      "metadata": {
        "id": "WRe22EY9diZx"
      },
      "source": [
        "# Datasets `airquality`\n"
      ]
    },
    {
      "cell_type": "markdown",
      "metadata": {
        "id": "Fnq1Gc1GTQp9"
      },
      "source": [
        "## Load Dataset"
      ]
    },
    {
      "cell_type": "code",
      "execution_count": null,
      "metadata": {
        "id": "fnJoV1naqc3K"
      },
      "outputs": [],
      "source": [
        "data() #list all dataset in R_L\n",
        "library(datasets)\n",
        "data(airquality) # load data\n",
        "?airquality #get in4 about this data"
      ]
    },
    {
      "cell_type": "code",
      "execution_count": null,
      "metadata": {
        "id": "GKSEQCY5nDID"
      },
      "outputs": [],
      "source": [
        "?airquality #get in4 about this data"
      ]
    },
    {
      "cell_type": "code",
      "execution_count": null,
      "metadata": {
        "colab": {
          "base_uri": "https://localhost:8080/",
          "height": 34
        },
        "id": "2V03Lp-iQd0U",
        "outputId": "93c1a01c-8cf5-43e9-c35a-7b297763d61d"
      },
      "outputs": [
        {
          "output_type": "display_data",
          "data": {
            "text/html": [
              "<style>\n",
              ".list-inline {list-style: none; margin:0; padding: 0}\n",
              ".list-inline>li {display: inline-block}\n",
              ".list-inline>li:not(:last-child)::after {content: \"\\00b7\"; padding: 0 .5ex}\n",
              "</style>\n",
              "<ol class=list-inline><li>10</li><li>12</li></ol>\n"
            ],
            "text/markdown": "1. 10\n2. 12\n\n\n",
            "text/latex": "\\begin{enumerate*}\n\\item 10\n\\item 12\n\\end{enumerate*}\n",
            "text/plain": [
              "[1] 10 12"
            ]
          },
          "metadata": {}
        }
      ],
      "source": [
        "a <- c(10, 12)\n",
        "a"
      ]
    },
    {
      "cell_type": "code",
      "execution_count": null,
      "metadata": {
        "colab": {
          "base_uri": "https://localhost:8080/",
          "height": 286
        },
        "id": "w1Ylqr7OQgiO",
        "outputId": "6e682059-53e2-4e4f-dcc6-0e8c24ab6da0"
      },
      "outputs": [
        {
          "output_type": "display_data",
          "data": {
            "text/html": [
              "<table class=\"dataframe\">\n",
              "<caption>A data.frame: 6 × 6</caption>\n",
              "<thead>\n",
              "\t<tr><th></th><th scope=col>Ozone</th><th scope=col>Solar.R</th><th scope=col>Wind</th><th scope=col>Temp</th><th scope=col>Month</th><th scope=col>Day</th></tr>\n",
              "\t<tr><th></th><th scope=col>&lt;int&gt;</th><th scope=col>&lt;int&gt;</th><th scope=col>&lt;dbl&gt;</th><th scope=col>&lt;int&gt;</th><th scope=col>&lt;int&gt;</th><th scope=col>&lt;int&gt;</th></tr>\n",
              "</thead>\n",
              "<tbody>\n",
              "\t<tr><th scope=row>1</th><td>41</td><td>190</td><td> 7.4</td><td>67</td><td>5</td><td>1</td></tr>\n",
              "\t<tr><th scope=row>2</th><td>36</td><td>118</td><td> 8.0</td><td>72</td><td>5</td><td>2</td></tr>\n",
              "\t<tr><th scope=row>3</th><td>12</td><td>149</td><td>12.6</td><td>74</td><td>5</td><td>3</td></tr>\n",
              "\t<tr><th scope=row>4</th><td>18</td><td>313</td><td>11.5</td><td>62</td><td>5</td><td>4</td></tr>\n",
              "\t<tr><th scope=row>5</th><td>NA</td><td> NA</td><td>14.3</td><td>56</td><td>5</td><td>5</td></tr>\n",
              "\t<tr><th scope=row>6</th><td>28</td><td> NA</td><td>14.9</td><td>66</td><td>5</td><td>6</td></tr>\n",
              "</tbody>\n",
              "</table>\n"
            ],
            "text/markdown": "\nA data.frame: 6 × 6\n\n| <!--/--> | Ozone &lt;int&gt; | Solar.R &lt;int&gt; | Wind &lt;dbl&gt; | Temp &lt;int&gt; | Month &lt;int&gt; | Day &lt;int&gt; |\n|---|---|---|---|---|---|---|\n| 1 | 41 | 190 |  7.4 | 67 | 5 | 1 |\n| 2 | 36 | 118 |  8.0 | 72 | 5 | 2 |\n| 3 | 12 | 149 | 12.6 | 74 | 5 | 3 |\n| 4 | 18 | 313 | 11.5 | 62 | 5 | 4 |\n| 5 | NA |  NA | 14.3 | 56 | 5 | 5 |\n| 6 | 28 |  NA | 14.9 | 66 | 5 | 6 |\n\n",
            "text/latex": "A data.frame: 6 × 6\n\\begin{tabular}{r|llllll}\n  & Ozone & Solar.R & Wind & Temp & Month & Day\\\\\n  & <int> & <int> & <dbl> & <int> & <int> & <int>\\\\\n\\hline\n\t1 & 41 & 190 &  7.4 & 67 & 5 & 1\\\\\n\t2 & 36 & 118 &  8.0 & 72 & 5 & 2\\\\\n\t3 & 12 & 149 & 12.6 & 74 & 5 & 3\\\\\n\t4 & 18 & 313 & 11.5 & 62 & 5 & 4\\\\\n\t5 & NA &  NA & 14.3 & 56 & 5 & 5\\\\\n\t6 & 28 &  NA & 14.9 & 66 & 5 & 6\\\\\n\\end{tabular}\n",
            "text/plain": [
              "  Ozone Solar.R Wind Temp Month Day\n",
              "1 41    190      7.4 67   5     1  \n",
              "2 36    118      8.0 72   5     2  \n",
              "3 12    149     12.6 74   5     3  \n",
              "4 18    313     11.5 62   5     4  \n",
              "5 NA     NA     14.3 56   5     5  \n",
              "6 28     NA     14.9 66   5     6  "
            ]
          },
          "metadata": {}
        }
      ],
      "source": [
        "head(airquality) #view first 6 rows"
      ]
    },
    {
      "cell_type": "code",
      "execution_count": null,
      "metadata": {
        "colab": {
          "base_uri": "https://localhost:8080/",
          "height": 286
        },
        "id": "jOLTqdYGq8Ku",
        "outputId": "85dd4732-750f-4561-a644-91b8fd848a84"
      },
      "outputs": [
        {
          "output_type": "display_data",
          "data": {
            "text/html": [
              "<table class=\"dataframe\">\n",
              "<caption>A data.frame: 6 × 6</caption>\n",
              "<thead>\n",
              "\t<tr><th></th><th scope=col>Ozone</th><th scope=col>Solar.R</th><th scope=col>Wind</th><th scope=col>Temp</th><th scope=col>Month</th><th scope=col>Day</th></tr>\n",
              "\t<tr><th></th><th scope=col>&lt;int&gt;</th><th scope=col>&lt;int&gt;</th><th scope=col>&lt;dbl&gt;</th><th scope=col>&lt;int&gt;</th><th scope=col>&lt;int&gt;</th><th scope=col>&lt;int&gt;</th></tr>\n",
              "</thead>\n",
              "<tbody>\n",
              "\t<tr><th scope=row>148</th><td>14</td><td> 20</td><td>16.6</td><td>63</td><td>9</td><td>25</td></tr>\n",
              "\t<tr><th scope=row>149</th><td>30</td><td>193</td><td> 6.9</td><td>70</td><td>9</td><td>26</td></tr>\n",
              "\t<tr><th scope=row>150</th><td>NA</td><td>145</td><td>13.2</td><td>77</td><td>9</td><td>27</td></tr>\n",
              "\t<tr><th scope=row>151</th><td>14</td><td>191</td><td>14.3</td><td>75</td><td>9</td><td>28</td></tr>\n",
              "\t<tr><th scope=row>152</th><td>18</td><td>131</td><td> 8.0</td><td>76</td><td>9</td><td>29</td></tr>\n",
              "\t<tr><th scope=row>153</th><td>20</td><td>223</td><td>11.5</td><td>68</td><td>9</td><td>30</td></tr>\n",
              "</tbody>\n",
              "</table>\n"
            ],
            "text/markdown": "\nA data.frame: 6 × 6\n\n| <!--/--> | Ozone &lt;int&gt; | Solar.R &lt;int&gt; | Wind &lt;dbl&gt; | Temp &lt;int&gt; | Month &lt;int&gt; | Day &lt;int&gt; |\n|---|---|---|---|---|---|---|\n| 148 | 14 |  20 | 16.6 | 63 | 9 | 25 |\n| 149 | 30 | 193 |  6.9 | 70 | 9 | 26 |\n| 150 | NA | 145 | 13.2 | 77 | 9 | 27 |\n| 151 | 14 | 191 | 14.3 | 75 | 9 | 28 |\n| 152 | 18 | 131 |  8.0 | 76 | 9 | 29 |\n| 153 | 20 | 223 | 11.5 | 68 | 9 | 30 |\n\n",
            "text/latex": "A data.frame: 6 × 6\n\\begin{tabular}{r|llllll}\n  & Ozone & Solar.R & Wind & Temp & Month & Day\\\\\n  & <int> & <int> & <dbl> & <int> & <int> & <int>\\\\\n\\hline\n\t148 & 14 &  20 & 16.6 & 63 & 9 & 25\\\\\n\t149 & 30 & 193 &  6.9 & 70 & 9 & 26\\\\\n\t150 & NA & 145 & 13.2 & 77 & 9 & 27\\\\\n\t151 & 14 & 191 & 14.3 & 75 & 9 & 28\\\\\n\t152 & 18 & 131 &  8.0 & 76 & 9 & 29\\\\\n\t153 & 20 & 223 & 11.5 & 68 & 9 & 30\\\\\n\\end{tabular}\n",
            "text/plain": [
              "    Ozone Solar.R Wind Temp Month Day\n",
              "148 14     20     16.6 63   9     25 \n",
              "149 30    193      6.9 70   9     26 \n",
              "150 NA    145     13.2 77   9     27 \n",
              "151 14    191     14.3 75   9     28 \n",
              "152 18    131      8.0 76   9     29 \n",
              "153 20    223     11.5 68   9     30 "
            ]
          },
          "metadata": {}
        }
      ],
      "source": [
        "tail(airquality) #view last 6 rows"
      ]
    },
    {
      "cell_type": "markdown",
      "metadata": {
        "id": "uUq41LsVSqnA"
      },
      "source": [
        "1. cocat (month, day ) as date\n",
        "2. draw time series chart\n",
        "3. pretict the next day how it changes\n",
        "4. iteration > non - stationary > stationary time series\n"
      ]
    },
    {
      "cell_type": "markdown",
      "metadata": {
        "id": "8Hfk4EbJdnYE"
      },
      "source": [
        "## Discover Dataset\n"
      ]
    },
    {
      "cell_type": "code",
      "execution_count": null,
      "metadata": {
        "collapsed": true,
        "id": "caNXiuKfLY24",
        "colab": {
          "base_uri": "https://localhost:8080/"
        },
        "outputId": "ddc2232c-cdf7-4a56-ea6c-cee609eba164"
      },
      "outputs": [
        {
          "output_type": "stream",
          "name": "stdout",
          "text": [
            " Ozone Solar.R Wind Temp Month Day\n",
            "    41     190  7.4   67     5   1\n",
            "    36     118  8.0   72     5   2\n",
            "    12     149 12.6   74     5   3\n",
            "    18     313 11.5   62     5   4\n",
            "    NA      NA 14.3   56     5   5\n",
            "    28      NA 14.9   66     5   6\n",
            "    23     299  8.6   65     5   7\n",
            "    19      99 13.8   59     5   8\n",
            "     8      19 20.1   61     5   9\n",
            "    NA     194  8.6   69     5  10\n",
            "     7      NA  6.9   74     5  11\n",
            "    16     256  9.7   69     5  12\n",
            "    11     290  9.2   66     5  13\n",
            "    14     274 10.9   68     5  14\n",
            "    18      65 13.2   58     5  15\n",
            "    14     334 11.5   64     5  16\n",
            "    34     307 12.0   66     5  17\n",
            "     6      78 18.4   57     5  18\n",
            "    30     322 11.5   68     5  19\n",
            "    11      44  9.7   62     5  20\n",
            "     1       8  9.7   59     5  21\n",
            "    11     320 16.6   73     5  22\n",
            "     4      25  9.7   61     5  23\n",
            "    32      92 12.0   61     5  24\n",
            "    NA      66 16.6   57     5  25\n",
            "    NA     266 14.9   58     5  26\n",
            "    NA      NA  8.0   57     5  27\n",
            "    23      13 12.0   67     5  28\n",
            "    45     252 14.9   81     5  29\n",
            "   115     223  5.7   79     5  30\n",
            "    37     279  7.4   76     5  31\n",
            "    NA     286  8.6   78     6   1\n",
            "    NA     287  9.7   74     6   2\n",
            "    NA     242 16.1   67     6   3\n",
            "    NA     186  9.2   84     6   4\n",
            "    NA     220  8.6   85     6   5\n",
            "    NA     264 14.3   79     6   6\n",
            "    29     127  9.7   82     6   7\n",
            "    NA     273  6.9   87     6   8\n",
            "    71     291 13.8   90     6   9\n",
            "    39     323 11.5   87     6  10\n",
            "    NA     259 10.9   93     6  11\n",
            "    NA     250  9.2   92     6  12\n",
            "    23     148  8.0   82     6  13\n",
            "    NA     332 13.8   80     6  14\n",
            "    NA     322 11.5   79     6  15\n",
            "    21     191 14.9   77     6  16\n",
            "    37     284 20.7   72     6  17\n",
            "    20      37  9.2   65     6  18\n",
            "    12     120 11.5   73     6  19\n",
            "    13     137 10.3   76     6  20\n",
            "    NA     150  6.3   77     6  21\n",
            "    NA      59  1.7   76     6  22\n",
            "    NA      91  4.6   76     6  23\n",
            "    NA     250  6.3   76     6  24\n",
            "    NA     135  8.0   75     6  25\n",
            "    NA     127  8.0   78     6  26\n",
            "    NA      47 10.3   73     6  27\n",
            "    NA      98 11.5   80     6  28\n",
            "    NA      31 14.9   77     6  29\n",
            "    NA     138  8.0   83     6  30\n",
            "   135     269  4.1   84     7   1\n",
            "    49     248  9.2   85     7   2\n",
            "    32     236  9.2   81     7   3\n",
            "    NA     101 10.9   84     7   4\n",
            "    64     175  4.6   83     7   5\n",
            "    40     314 10.9   83     7   6\n",
            "    77     276  5.1   88     7   7\n",
            "    97     267  6.3   92     7   8\n",
            "    97     272  5.7   92     7   9\n",
            "    85     175  7.4   89     7  10\n",
            "    NA     139  8.6   82     7  11\n",
            "    10     264 14.3   73     7  12\n",
            "    27     175 14.9   81     7  13\n",
            "    NA     291 14.9   91     7  14\n",
            "     7      48 14.3   80     7  15\n",
            "    48     260  6.9   81     7  16\n",
            "    35     274 10.3   82     7  17\n",
            "    61     285  6.3   84     7  18\n",
            "    79     187  5.1   87     7  19\n",
            "    63     220 11.5   85     7  20\n",
            "    16       7  6.9   74     7  21\n",
            "    NA     258  9.7   81     7  22\n",
            "    NA     295 11.5   82     7  23\n",
            "    80     294  8.6   86     7  24\n",
            "   108     223  8.0   85     7  25\n",
            "    20      81  8.6   82     7  26\n",
            "    52      82 12.0   86     7  27\n",
            "    82     213  7.4   88     7  28\n",
            "    50     275  7.4   86     7  29\n",
            "    64     253  7.4   83     7  30\n",
            "    59     254  9.2   81     7  31\n",
            "    39      83  6.9   81     8   1\n",
            "     9      24 13.8   81     8   2\n",
            "    16      77  7.4   82     8   3\n",
            "    78      NA  6.9   86     8   4\n",
            "    35      NA  7.4   85     8   5\n",
            "    66      NA  4.6   87     8   6\n",
            "   122     255  4.0   89     8   7\n",
            "    89     229 10.3   90     8   8\n",
            "   110     207  8.0   90     8   9\n",
            "    NA     222  8.6   92     8  10\n",
            "    NA     137 11.5   86     8  11\n",
            "    44     192 11.5   86     8  12\n",
            "    28     273 11.5   82     8  13\n",
            "    65     157  9.7   80     8  14\n",
            "    NA      64 11.5   79     8  15\n",
            "    22      71 10.3   77     8  16\n",
            "    59      51  6.3   79     8  17\n",
            "    23     115  7.4   76     8  18\n",
            "    31     244 10.9   78     8  19\n",
            "    44     190 10.3   78     8  20\n",
            "    21     259 15.5   77     8  21\n",
            "     9      36 14.3   72     8  22\n",
            "    NA     255 12.6   75     8  23\n",
            "    45     212  9.7   79     8  24\n",
            "   168     238  3.4   81     8  25\n",
            "    73     215  8.0   86     8  26\n",
            "    NA     153  5.7   88     8  27\n",
            "    76     203  9.7   97     8  28\n",
            "   118     225  2.3   94     8  29\n",
            "    84     237  6.3   96     8  30\n",
            "    85     188  6.3   94     8  31\n",
            "    96     167  6.9   91     9   1\n",
            "    78     197  5.1   92     9   2\n",
            "    73     183  2.8   93     9   3\n",
            "    91     189  4.6   93     9   4\n",
            "    47      95  7.4   87     9   5\n",
            "    32      92 15.5   84     9   6\n",
            "    20     252 10.9   80     9   7\n",
            "    23     220 10.3   78     9   8\n",
            "    21     230 10.9   75     9   9\n",
            "    24     259  9.7   73     9  10\n",
            "    44     236 14.9   81     9  11\n",
            "    21     259 15.5   76     9  12\n",
            "    28     238  6.3   77     9  13\n",
            "     9      24 10.9   71     9  14\n",
            "    13     112 11.5   71     9  15\n",
            "    46     237  6.9   78     9  16\n",
            "    18     224 13.8   67     9  17\n",
            "    13      27 10.3   76     9  18\n",
            "    24     238 10.3   68     9  19\n",
            "    16     201  8.0   82     9  20\n",
            "    13     238 12.6   64     9  21\n",
            "    23      14  9.2   71     9  22\n",
            "    36     139 10.3   81     9  23\n",
            "     7      49 10.3   69     9  24\n",
            "    14      20 16.6   63     9  25\n",
            "    30     193  6.9   70     9  26\n",
            "    NA     145 13.2   77     9  27\n",
            "    14     191 14.3   75     9  28\n",
            "    18     131  8.0   76     9  29\n",
            "    20     223 11.5   68     9  30\n"
          ]
        }
      ],
      "source": [
        "# show dataframe without displaying index row\n",
        "print(airquality, row.names = FALSE)"
      ]
    },
    {
      "cell_type": "code",
      "execution_count": null,
      "metadata": {
        "colab": {
          "base_uri": "https://localhost:8080/",
          "height": 34
        },
        "id": "iU7CDCRMtZUj",
        "outputId": "caa13d87-591d-4e31-9e9a-b03034378f16"
      },
      "outputs": [
        {
          "output_type": "display_data",
          "data": {
            "text/html": [
              "<style>\n",
              ".dl-inline {width: auto; margin:0; padding: 0}\n",
              ".dl-inline>dt, .dl-inline>dd {float: none; width: auto; display: inline-block}\n",
              ".dl-inline>dt::after {content: \":\\0020\"; padding-right: .5ex}\n",
              ".dl-inline>dt:not(:first-of-type) {padding-left: .5ex}\n",
              "</style><dl class=dl-inline><dt>Ozone</dt><dd>153</dd><dt>Solar.R</dt><dd>153</dd><dt>Wind</dt><dd>153</dd><dt>Temp</dt><dd>153</dd><dt>Month</dt><dd>153</dd><dt>Day</dt><dd>153</dd></dl>\n"
            ],
            "text/markdown": "Ozone\n:   153Solar.R\n:   153Wind\n:   153Temp\n:   153Month\n:   153Day\n:   153\n\n",
            "text/latex": "\\begin{description*}\n\\item[Ozone] 153\n\\item[Solar.R] 153\n\\item[Wind] 153\n\\item[Temp] 153\n\\item[Month] 153\n\\item[Day] 153\n\\end{description*}\n",
            "text/plain": [
              "  Ozone Solar.R    Wind    Temp   Month     Day \n",
              "    153     153     153     153     153     153 "
            ]
          },
          "metadata": {}
        }
      ],
      "source": [
        "lengths(airquality) #to view the lenght of each row"
      ]
    },
    {
      "cell_type": "code",
      "execution_count": null,
      "metadata": {
        "colab": {
          "base_uri": "https://localhost:8080/",
          "height": 34
        },
        "id": "aShRqRwyVmxn",
        "outputId": "43fcf639-987d-4cb2-eb7c-9683994e043c"
      },
      "outputs": [
        {
          "output_type": "display_data",
          "data": {
            "text/html": [
              "<style>\n",
              ".list-inline {list-style: none; margin:0; padding: 0}\n",
              ".list-inline>li {display: inline-block}\n",
              ".list-inline>li:not(:last-child)::after {content: \"\\00b7\"; padding: 0 .5ex}\n",
              "</style>\n",
              "<ol class=list-inline><li>'Ozone'</li><li>'Solar.R'</li><li>'Wind'</li><li>'Temp'</li><li>'Month'</li><li>'Day'</li></ol>\n"
            ],
            "text/markdown": "1. 'Ozone'\n2. 'Solar.R'\n3. 'Wind'\n4. 'Temp'\n5. 'Month'\n6. 'Day'\n\n\n",
            "text/latex": "\\begin{enumerate*}\n\\item 'Ozone'\n\\item 'Solar.R'\n\\item 'Wind'\n\\item 'Temp'\n\\item 'Month'\n\\item 'Day'\n\\end{enumerate*}\n",
            "text/plain": [
              "[1] \"Ozone\"   \"Solar.R\" \"Wind\"    \"Temp\"    \"Month\"   \"Day\"    "
            ]
          },
          "metadata": {}
        }
      ],
      "source": [
        "colnames(airquality) #view the first column of data"
      ]
    },
    {
      "cell_type": "code",
      "execution_count": null,
      "metadata": {
        "colab": {
          "base_uri": "https://localhost:8080/",
          "height": 34
        },
        "id": "xtNv3sK4VtJb",
        "outputId": "02cc4924-0d9b-4bee-b917-486dee72832f"
      },
      "outputs": [
        {
          "output_type": "display_data",
          "data": {
            "text/html": [
              "<style>\n",
              ".dl-inline {width: auto; margin:0; padding: 0}\n",
              ".dl-inline>dt, .dl-inline>dd {float: none; width: auto; display: inline-block}\n",
              ".dl-inline>dt::after {content: \":\\0020\"; padding-right: .5ex}\n",
              ".dl-inline>dt:not(:first-of-type) {padding-left: .5ex}\n",
              "</style><dl class=dl-inline><dt>Ozone</dt><dd>37</dd><dt>Solar.R</dt><dd>7</dd><dt>Wind</dt><dd>0</dd><dt>Temp</dt><dd>0</dd><dt>Month</dt><dd>0</dd><dt>Day</dt><dd>0</dd></dl>\n"
            ],
            "text/markdown": "Ozone\n:   37Solar.R\n:   7Wind\n:   0Temp\n:   0Month\n:   0Day\n:   0\n\n",
            "text/latex": "\\begin{description*}\n\\item[Ozone] 37\n\\item[Solar.R] 7\n\\item[Wind] 0\n\\item[Temp] 0\n\\item[Month] 0\n\\item[Day] 0\n\\end{description*}\n",
            "text/plain": [
              "  Ozone Solar.R    Wind    Temp   Month     Day \n",
              "     37       7       0       0       0       0 "
            ]
          },
          "metadata": {}
        }
      ],
      "source": [
        "colSums(is.na(airquality)) #col"
      ]
    },
    {
      "cell_type": "code",
      "execution_count": null,
      "metadata": {
        "colab": {
          "base_uri": "https://localhost:8080/",
          "height": 1000
        },
        "id": "GccJhXHoVvVK",
        "outputId": "ba3c6f2b-2271-4d4d-ed04-789db788f30c"
      },
      "outputs": [
        {
          "output_type": "display_data",
          "data": {
            "text/html": [
              "<table class=\"dataframe\">\n",
              "<caption>A data.frame: 111 × 6</caption>\n",
              "<thead>\n",
              "\t<tr><th></th><th scope=col>Ozone</th><th scope=col>Solar.R</th><th scope=col>Wind</th><th scope=col>Temp</th><th scope=col>Month</th><th scope=col>Day</th></tr>\n",
              "\t<tr><th></th><th scope=col>&lt;int&gt;</th><th scope=col>&lt;int&gt;</th><th scope=col>&lt;dbl&gt;</th><th scope=col>&lt;int&gt;</th><th scope=col>&lt;int&gt;</th><th scope=col>&lt;int&gt;</th></tr>\n",
              "</thead>\n",
              "<tbody>\n",
              "\t<tr><th scope=row>1</th><td> 41</td><td>190</td><td> 7.4</td><td>67</td><td>5</td><td> 1</td></tr>\n",
              "\t<tr><th scope=row>2</th><td> 36</td><td>118</td><td> 8.0</td><td>72</td><td>5</td><td> 2</td></tr>\n",
              "\t<tr><th scope=row>3</th><td> 12</td><td>149</td><td>12.6</td><td>74</td><td>5</td><td> 3</td></tr>\n",
              "\t<tr><th scope=row>4</th><td> 18</td><td>313</td><td>11.5</td><td>62</td><td>5</td><td> 4</td></tr>\n",
              "\t<tr><th scope=row>7</th><td> 23</td><td>299</td><td> 8.6</td><td>65</td><td>5</td><td> 7</td></tr>\n",
              "\t<tr><th scope=row>8</th><td> 19</td><td> 99</td><td>13.8</td><td>59</td><td>5</td><td> 8</td></tr>\n",
              "\t<tr><th scope=row>9</th><td>  8</td><td> 19</td><td>20.1</td><td>61</td><td>5</td><td> 9</td></tr>\n",
              "\t<tr><th scope=row>12</th><td> 16</td><td>256</td><td> 9.7</td><td>69</td><td>5</td><td>12</td></tr>\n",
              "\t<tr><th scope=row>13</th><td> 11</td><td>290</td><td> 9.2</td><td>66</td><td>5</td><td>13</td></tr>\n",
              "\t<tr><th scope=row>14</th><td> 14</td><td>274</td><td>10.9</td><td>68</td><td>5</td><td>14</td></tr>\n",
              "\t<tr><th scope=row>15</th><td> 18</td><td> 65</td><td>13.2</td><td>58</td><td>5</td><td>15</td></tr>\n",
              "\t<tr><th scope=row>16</th><td> 14</td><td>334</td><td>11.5</td><td>64</td><td>5</td><td>16</td></tr>\n",
              "\t<tr><th scope=row>17</th><td> 34</td><td>307</td><td>12.0</td><td>66</td><td>5</td><td>17</td></tr>\n",
              "\t<tr><th scope=row>18</th><td>  6</td><td> 78</td><td>18.4</td><td>57</td><td>5</td><td>18</td></tr>\n",
              "\t<tr><th scope=row>19</th><td> 30</td><td>322</td><td>11.5</td><td>68</td><td>5</td><td>19</td></tr>\n",
              "\t<tr><th scope=row>20</th><td> 11</td><td> 44</td><td> 9.7</td><td>62</td><td>5</td><td>20</td></tr>\n",
              "\t<tr><th scope=row>21</th><td>  1</td><td>  8</td><td> 9.7</td><td>59</td><td>5</td><td>21</td></tr>\n",
              "\t<tr><th scope=row>22</th><td> 11</td><td>320</td><td>16.6</td><td>73</td><td>5</td><td>22</td></tr>\n",
              "\t<tr><th scope=row>23</th><td>  4</td><td> 25</td><td> 9.7</td><td>61</td><td>5</td><td>23</td></tr>\n",
              "\t<tr><th scope=row>24</th><td> 32</td><td> 92</td><td>12.0</td><td>61</td><td>5</td><td>24</td></tr>\n",
              "\t<tr><th scope=row>28</th><td> 23</td><td> 13</td><td>12.0</td><td>67</td><td>5</td><td>28</td></tr>\n",
              "\t<tr><th scope=row>29</th><td> 45</td><td>252</td><td>14.9</td><td>81</td><td>5</td><td>29</td></tr>\n",
              "\t<tr><th scope=row>30</th><td>115</td><td>223</td><td> 5.7</td><td>79</td><td>5</td><td>30</td></tr>\n",
              "\t<tr><th scope=row>31</th><td> 37</td><td>279</td><td> 7.4</td><td>76</td><td>5</td><td>31</td></tr>\n",
              "\t<tr><th scope=row>38</th><td> 29</td><td>127</td><td> 9.7</td><td>82</td><td>6</td><td> 7</td></tr>\n",
              "\t<tr><th scope=row>40</th><td> 71</td><td>291</td><td>13.8</td><td>90</td><td>6</td><td> 9</td></tr>\n",
              "\t<tr><th scope=row>41</th><td> 39</td><td>323</td><td>11.5</td><td>87</td><td>6</td><td>10</td></tr>\n",
              "\t<tr><th scope=row>44</th><td> 23</td><td>148</td><td> 8.0</td><td>82</td><td>6</td><td>13</td></tr>\n",
              "\t<tr><th scope=row>47</th><td> 21</td><td>191</td><td>14.9</td><td>77</td><td>6</td><td>16</td></tr>\n",
              "\t<tr><th scope=row>48</th><td> 37</td><td>284</td><td>20.7</td><td>72</td><td>6</td><td>17</td></tr>\n",
              "\t<tr><th scope=row>⋮</th><td>⋮</td><td>⋮</td><td>⋮</td><td>⋮</td><td>⋮</td><td>⋮</td></tr>\n",
              "\t<tr><th scope=row>123</th><td>85</td><td>188</td><td> 6.3</td><td>94</td><td>8</td><td>31</td></tr>\n",
              "\t<tr><th scope=row>124</th><td>96</td><td>167</td><td> 6.9</td><td>91</td><td>9</td><td> 1</td></tr>\n",
              "\t<tr><th scope=row>125</th><td>78</td><td>197</td><td> 5.1</td><td>92</td><td>9</td><td> 2</td></tr>\n",
              "\t<tr><th scope=row>126</th><td>73</td><td>183</td><td> 2.8</td><td>93</td><td>9</td><td> 3</td></tr>\n",
              "\t<tr><th scope=row>127</th><td>91</td><td>189</td><td> 4.6</td><td>93</td><td>9</td><td> 4</td></tr>\n",
              "\t<tr><th scope=row>128</th><td>47</td><td> 95</td><td> 7.4</td><td>87</td><td>9</td><td> 5</td></tr>\n",
              "\t<tr><th scope=row>129</th><td>32</td><td> 92</td><td>15.5</td><td>84</td><td>9</td><td> 6</td></tr>\n",
              "\t<tr><th scope=row>130</th><td>20</td><td>252</td><td>10.9</td><td>80</td><td>9</td><td> 7</td></tr>\n",
              "\t<tr><th scope=row>131</th><td>23</td><td>220</td><td>10.3</td><td>78</td><td>9</td><td> 8</td></tr>\n",
              "\t<tr><th scope=row>132</th><td>21</td><td>230</td><td>10.9</td><td>75</td><td>9</td><td> 9</td></tr>\n",
              "\t<tr><th scope=row>133</th><td>24</td><td>259</td><td> 9.7</td><td>73</td><td>9</td><td>10</td></tr>\n",
              "\t<tr><th scope=row>134</th><td>44</td><td>236</td><td>14.9</td><td>81</td><td>9</td><td>11</td></tr>\n",
              "\t<tr><th scope=row>135</th><td>21</td><td>259</td><td>15.5</td><td>76</td><td>9</td><td>12</td></tr>\n",
              "\t<tr><th scope=row>136</th><td>28</td><td>238</td><td> 6.3</td><td>77</td><td>9</td><td>13</td></tr>\n",
              "\t<tr><th scope=row>137</th><td> 9</td><td> 24</td><td>10.9</td><td>71</td><td>9</td><td>14</td></tr>\n",
              "\t<tr><th scope=row>138</th><td>13</td><td>112</td><td>11.5</td><td>71</td><td>9</td><td>15</td></tr>\n",
              "\t<tr><th scope=row>139</th><td>46</td><td>237</td><td> 6.9</td><td>78</td><td>9</td><td>16</td></tr>\n",
              "\t<tr><th scope=row>140</th><td>18</td><td>224</td><td>13.8</td><td>67</td><td>9</td><td>17</td></tr>\n",
              "\t<tr><th scope=row>141</th><td>13</td><td> 27</td><td>10.3</td><td>76</td><td>9</td><td>18</td></tr>\n",
              "\t<tr><th scope=row>142</th><td>24</td><td>238</td><td>10.3</td><td>68</td><td>9</td><td>19</td></tr>\n",
              "\t<tr><th scope=row>143</th><td>16</td><td>201</td><td> 8.0</td><td>82</td><td>9</td><td>20</td></tr>\n",
              "\t<tr><th scope=row>144</th><td>13</td><td>238</td><td>12.6</td><td>64</td><td>9</td><td>21</td></tr>\n",
              "\t<tr><th scope=row>145</th><td>23</td><td> 14</td><td> 9.2</td><td>71</td><td>9</td><td>22</td></tr>\n",
              "\t<tr><th scope=row>146</th><td>36</td><td>139</td><td>10.3</td><td>81</td><td>9</td><td>23</td></tr>\n",
              "\t<tr><th scope=row>147</th><td> 7</td><td> 49</td><td>10.3</td><td>69</td><td>9</td><td>24</td></tr>\n",
              "\t<tr><th scope=row>148</th><td>14</td><td> 20</td><td>16.6</td><td>63</td><td>9</td><td>25</td></tr>\n",
              "\t<tr><th scope=row>149</th><td>30</td><td>193</td><td> 6.9</td><td>70</td><td>9</td><td>26</td></tr>\n",
              "\t<tr><th scope=row>151</th><td>14</td><td>191</td><td>14.3</td><td>75</td><td>9</td><td>28</td></tr>\n",
              "\t<tr><th scope=row>152</th><td>18</td><td>131</td><td> 8.0</td><td>76</td><td>9</td><td>29</td></tr>\n",
              "\t<tr><th scope=row>153</th><td>20</td><td>223</td><td>11.5</td><td>68</td><td>9</td><td>30</td></tr>\n",
              "</tbody>\n",
              "</table>\n"
            ],
            "text/markdown": "\nA data.frame: 111 × 6\n\n| <!--/--> | Ozone &lt;int&gt; | Solar.R &lt;int&gt; | Wind &lt;dbl&gt; | Temp &lt;int&gt; | Month &lt;int&gt; | Day &lt;int&gt; |\n|---|---|---|---|---|---|---|\n| 1 |  41 | 190 |  7.4 | 67 | 5 |  1 |\n| 2 |  36 | 118 |  8.0 | 72 | 5 |  2 |\n| 3 |  12 | 149 | 12.6 | 74 | 5 |  3 |\n| 4 |  18 | 313 | 11.5 | 62 | 5 |  4 |\n| 7 |  23 | 299 |  8.6 | 65 | 5 |  7 |\n| 8 |  19 |  99 | 13.8 | 59 | 5 |  8 |\n| 9 |   8 |  19 | 20.1 | 61 | 5 |  9 |\n| 12 |  16 | 256 |  9.7 | 69 | 5 | 12 |\n| 13 |  11 | 290 |  9.2 | 66 | 5 | 13 |\n| 14 |  14 | 274 | 10.9 | 68 | 5 | 14 |\n| 15 |  18 |  65 | 13.2 | 58 | 5 | 15 |\n| 16 |  14 | 334 | 11.5 | 64 | 5 | 16 |\n| 17 |  34 | 307 | 12.0 | 66 | 5 | 17 |\n| 18 |   6 |  78 | 18.4 | 57 | 5 | 18 |\n| 19 |  30 | 322 | 11.5 | 68 | 5 | 19 |\n| 20 |  11 |  44 |  9.7 | 62 | 5 | 20 |\n| 21 |   1 |   8 |  9.7 | 59 | 5 | 21 |\n| 22 |  11 | 320 | 16.6 | 73 | 5 | 22 |\n| 23 |   4 |  25 |  9.7 | 61 | 5 | 23 |\n| 24 |  32 |  92 | 12.0 | 61 | 5 | 24 |\n| 28 |  23 |  13 | 12.0 | 67 | 5 | 28 |\n| 29 |  45 | 252 | 14.9 | 81 | 5 | 29 |\n| 30 | 115 | 223 |  5.7 | 79 | 5 | 30 |\n| 31 |  37 | 279 |  7.4 | 76 | 5 | 31 |\n| 38 |  29 | 127 |  9.7 | 82 | 6 |  7 |\n| 40 |  71 | 291 | 13.8 | 90 | 6 |  9 |\n| 41 |  39 | 323 | 11.5 | 87 | 6 | 10 |\n| 44 |  23 | 148 |  8.0 | 82 | 6 | 13 |\n| 47 |  21 | 191 | 14.9 | 77 | 6 | 16 |\n| 48 |  37 | 284 | 20.7 | 72 | 6 | 17 |\n| ⋮ | ⋮ | ⋮ | ⋮ | ⋮ | ⋮ | ⋮ |\n| 123 | 85 | 188 |  6.3 | 94 | 8 | 31 |\n| 124 | 96 | 167 |  6.9 | 91 | 9 |  1 |\n| 125 | 78 | 197 |  5.1 | 92 | 9 |  2 |\n| 126 | 73 | 183 |  2.8 | 93 | 9 |  3 |\n| 127 | 91 | 189 |  4.6 | 93 | 9 |  4 |\n| 128 | 47 |  95 |  7.4 | 87 | 9 |  5 |\n| 129 | 32 |  92 | 15.5 | 84 | 9 |  6 |\n| 130 | 20 | 252 | 10.9 | 80 | 9 |  7 |\n| 131 | 23 | 220 | 10.3 | 78 | 9 |  8 |\n| 132 | 21 | 230 | 10.9 | 75 | 9 |  9 |\n| 133 | 24 | 259 |  9.7 | 73 | 9 | 10 |\n| 134 | 44 | 236 | 14.9 | 81 | 9 | 11 |\n| 135 | 21 | 259 | 15.5 | 76 | 9 | 12 |\n| 136 | 28 | 238 |  6.3 | 77 | 9 | 13 |\n| 137 |  9 |  24 | 10.9 | 71 | 9 | 14 |\n| 138 | 13 | 112 | 11.5 | 71 | 9 | 15 |\n| 139 | 46 | 237 |  6.9 | 78 | 9 | 16 |\n| 140 | 18 | 224 | 13.8 | 67 | 9 | 17 |\n| 141 | 13 |  27 | 10.3 | 76 | 9 | 18 |\n| 142 | 24 | 238 | 10.3 | 68 | 9 | 19 |\n| 143 | 16 | 201 |  8.0 | 82 | 9 | 20 |\n| 144 | 13 | 238 | 12.6 | 64 | 9 | 21 |\n| 145 | 23 |  14 |  9.2 | 71 | 9 | 22 |\n| 146 | 36 | 139 | 10.3 | 81 | 9 | 23 |\n| 147 |  7 |  49 | 10.3 | 69 | 9 | 24 |\n| 148 | 14 |  20 | 16.6 | 63 | 9 | 25 |\n| 149 | 30 | 193 |  6.9 | 70 | 9 | 26 |\n| 151 | 14 | 191 | 14.3 | 75 | 9 | 28 |\n| 152 | 18 | 131 |  8.0 | 76 | 9 | 29 |\n| 153 | 20 | 223 | 11.5 | 68 | 9 | 30 |\n\n",
            "text/latex": "A data.frame: 111 × 6\n\\begin{tabular}{r|llllll}\n  & Ozone & Solar.R & Wind & Temp & Month & Day\\\\\n  & <int> & <int> & <dbl> & <int> & <int> & <int>\\\\\n\\hline\n\t1 &  41 & 190 &  7.4 & 67 & 5 &  1\\\\\n\t2 &  36 & 118 &  8.0 & 72 & 5 &  2\\\\\n\t3 &  12 & 149 & 12.6 & 74 & 5 &  3\\\\\n\t4 &  18 & 313 & 11.5 & 62 & 5 &  4\\\\\n\t7 &  23 & 299 &  8.6 & 65 & 5 &  7\\\\\n\t8 &  19 &  99 & 13.8 & 59 & 5 &  8\\\\\n\t9 &   8 &  19 & 20.1 & 61 & 5 &  9\\\\\n\t12 &  16 & 256 &  9.7 & 69 & 5 & 12\\\\\n\t13 &  11 & 290 &  9.2 & 66 & 5 & 13\\\\\n\t14 &  14 & 274 & 10.9 & 68 & 5 & 14\\\\\n\t15 &  18 &  65 & 13.2 & 58 & 5 & 15\\\\\n\t16 &  14 & 334 & 11.5 & 64 & 5 & 16\\\\\n\t17 &  34 & 307 & 12.0 & 66 & 5 & 17\\\\\n\t18 &   6 &  78 & 18.4 & 57 & 5 & 18\\\\\n\t19 &  30 & 322 & 11.5 & 68 & 5 & 19\\\\\n\t20 &  11 &  44 &  9.7 & 62 & 5 & 20\\\\\n\t21 &   1 &   8 &  9.7 & 59 & 5 & 21\\\\\n\t22 &  11 & 320 & 16.6 & 73 & 5 & 22\\\\\n\t23 &   4 &  25 &  9.7 & 61 & 5 & 23\\\\\n\t24 &  32 &  92 & 12.0 & 61 & 5 & 24\\\\\n\t28 &  23 &  13 & 12.0 & 67 & 5 & 28\\\\\n\t29 &  45 & 252 & 14.9 & 81 & 5 & 29\\\\\n\t30 & 115 & 223 &  5.7 & 79 & 5 & 30\\\\\n\t31 &  37 & 279 &  7.4 & 76 & 5 & 31\\\\\n\t38 &  29 & 127 &  9.7 & 82 & 6 &  7\\\\\n\t40 &  71 & 291 & 13.8 & 90 & 6 &  9\\\\\n\t41 &  39 & 323 & 11.5 & 87 & 6 & 10\\\\\n\t44 &  23 & 148 &  8.0 & 82 & 6 & 13\\\\\n\t47 &  21 & 191 & 14.9 & 77 & 6 & 16\\\\\n\t48 &  37 & 284 & 20.7 & 72 & 6 & 17\\\\\n\t⋮ & ⋮ & ⋮ & ⋮ & ⋮ & ⋮ & ⋮\\\\\n\t123 & 85 & 188 &  6.3 & 94 & 8 & 31\\\\\n\t124 & 96 & 167 &  6.9 & 91 & 9 &  1\\\\\n\t125 & 78 & 197 &  5.1 & 92 & 9 &  2\\\\\n\t126 & 73 & 183 &  2.8 & 93 & 9 &  3\\\\\n\t127 & 91 & 189 &  4.6 & 93 & 9 &  4\\\\\n\t128 & 47 &  95 &  7.4 & 87 & 9 &  5\\\\\n\t129 & 32 &  92 & 15.5 & 84 & 9 &  6\\\\\n\t130 & 20 & 252 & 10.9 & 80 & 9 &  7\\\\\n\t131 & 23 & 220 & 10.3 & 78 & 9 &  8\\\\\n\t132 & 21 & 230 & 10.9 & 75 & 9 &  9\\\\\n\t133 & 24 & 259 &  9.7 & 73 & 9 & 10\\\\\n\t134 & 44 & 236 & 14.9 & 81 & 9 & 11\\\\\n\t135 & 21 & 259 & 15.5 & 76 & 9 & 12\\\\\n\t136 & 28 & 238 &  6.3 & 77 & 9 & 13\\\\\n\t137 &  9 &  24 & 10.9 & 71 & 9 & 14\\\\\n\t138 & 13 & 112 & 11.5 & 71 & 9 & 15\\\\\n\t139 & 46 & 237 &  6.9 & 78 & 9 & 16\\\\\n\t140 & 18 & 224 & 13.8 & 67 & 9 & 17\\\\\n\t141 & 13 &  27 & 10.3 & 76 & 9 & 18\\\\\n\t142 & 24 & 238 & 10.3 & 68 & 9 & 19\\\\\n\t143 & 16 & 201 &  8.0 & 82 & 9 & 20\\\\\n\t144 & 13 & 238 & 12.6 & 64 & 9 & 21\\\\\n\t145 & 23 &  14 &  9.2 & 71 & 9 & 22\\\\\n\t146 & 36 & 139 & 10.3 & 81 & 9 & 23\\\\\n\t147 &  7 &  49 & 10.3 & 69 & 9 & 24\\\\\n\t148 & 14 &  20 & 16.6 & 63 & 9 & 25\\\\\n\t149 & 30 & 193 &  6.9 & 70 & 9 & 26\\\\\n\t151 & 14 & 191 & 14.3 & 75 & 9 & 28\\\\\n\t152 & 18 & 131 &  8.0 & 76 & 9 & 29\\\\\n\t153 & 20 & 223 & 11.5 & 68 & 9 & 30\\\\\n\\end{tabular}\n",
            "text/plain": [
              "    Ozone Solar.R Wind Temp Month Day\n",
              "1    41   190      7.4 67   5      1 \n",
              "2    36   118      8.0 72   5      2 \n",
              "3    12   149     12.6 74   5      3 \n",
              "4    18   313     11.5 62   5      4 \n",
              "7    23   299      8.6 65   5      7 \n",
              "8    19    99     13.8 59   5      8 \n",
              "9     8    19     20.1 61   5      9 \n",
              "12   16   256      9.7 69   5     12 \n",
              "13   11   290      9.2 66   5     13 \n",
              "14   14   274     10.9 68   5     14 \n",
              "15   18    65     13.2 58   5     15 \n",
              "16   14   334     11.5 64   5     16 \n",
              "17   34   307     12.0 66   5     17 \n",
              "18    6    78     18.4 57   5     18 \n",
              "19   30   322     11.5 68   5     19 \n",
              "20   11    44      9.7 62   5     20 \n",
              "21    1     8      9.7 59   5     21 \n",
              "22   11   320     16.6 73   5     22 \n",
              "23    4    25      9.7 61   5     23 \n",
              "24   32    92     12.0 61   5     24 \n",
              "28   23    13     12.0 67   5     28 \n",
              "29   45   252     14.9 81   5     29 \n",
              "30  115   223      5.7 79   5     30 \n",
              "31   37   279      7.4 76   5     31 \n",
              "38   29   127      9.7 82   6      7 \n",
              "40   71   291     13.8 90   6      9 \n",
              "41   39   323     11.5 87   6     10 \n",
              "44   23   148      8.0 82   6     13 \n",
              "47   21   191     14.9 77   6     16 \n",
              "48   37   284     20.7 72   6     17 \n",
              "⋮   ⋮     ⋮       ⋮    ⋮    ⋮     ⋮  \n",
              "123 85    188      6.3 94   8     31 \n",
              "124 96    167      6.9 91   9      1 \n",
              "125 78    197      5.1 92   9      2 \n",
              "126 73    183      2.8 93   9      3 \n",
              "127 91    189      4.6 93   9      4 \n",
              "128 47     95      7.4 87   9      5 \n",
              "129 32     92     15.5 84   9      6 \n",
              "130 20    252     10.9 80   9      7 \n",
              "131 23    220     10.3 78   9      8 \n",
              "132 21    230     10.9 75   9      9 \n",
              "133 24    259      9.7 73   9     10 \n",
              "134 44    236     14.9 81   9     11 \n",
              "135 21    259     15.5 76   9     12 \n",
              "136 28    238      6.3 77   9     13 \n",
              "137  9     24     10.9 71   9     14 \n",
              "138 13    112     11.5 71   9     15 \n",
              "139 46    237      6.9 78   9     16 \n",
              "140 18    224     13.8 67   9     17 \n",
              "141 13     27     10.3 76   9     18 \n",
              "142 24    238     10.3 68   9     19 \n",
              "143 16    201      8.0 82   9     20 \n",
              "144 13    238     12.6 64   9     21 \n",
              "145 23     14      9.2 71   9     22 \n",
              "146 36    139     10.3 81   9     23 \n",
              "147  7     49     10.3 69   9     24 \n",
              "148 14     20     16.6 63   9     25 \n",
              "149 30    193      6.9 70   9     26 \n",
              "151 14    191     14.3 75   9     28 \n",
              "152 18    131      8.0 76   9     29 \n",
              "153 20    223     11.5 68   9     30 "
            ]
          },
          "metadata": {}
        }
      ],
      "source": [
        "mydata <- na.omit(airquality) # na.omit set values after NA omission\n",
        "mydata"
      ]
    },
    {
      "cell_type": "code",
      "execution_count": null,
      "metadata": {
        "colab": {
          "base_uri": "https://localhost:8080/",
          "height": 34
        },
        "id": "d-1NsWogVxRM",
        "outputId": "1038d010-4c06-45d4-f477-be822ed5d498"
      },
      "outputs": [
        {
          "output_type": "display_data",
          "data": {
            "text/html": [
              "<style>\n",
              ".dl-inline {width: auto; margin:0; padding: 0}\n",
              ".dl-inline>dt, .dl-inline>dd {float: none; width: auto; display: inline-block}\n",
              ".dl-inline>dt::after {content: \":\\0020\"; padding-right: .5ex}\n",
              ".dl-inline>dt:not(:first-of-type) {padding-left: .5ex}\n",
              "</style><dl class=dl-inline><dt>Ozone</dt><dd>0</dd><dt>Solar.R</dt><dd>0</dd><dt>Wind</dt><dd>0</dd><dt>Temp</dt><dd>0</dd><dt>Month</dt><dd>0</dd><dt>Day</dt><dd>0</dd></dl>\n"
            ],
            "text/markdown": "Ozone\n:   0Solar.R\n:   0Wind\n:   0Temp\n:   0Month\n:   0Day\n:   0\n\n",
            "text/latex": "\\begin{description*}\n\\item[Ozone] 0\n\\item[Solar.R] 0\n\\item[Wind] 0\n\\item[Temp] 0\n\\item[Month] 0\n\\item[Day] 0\n\\end{description*}\n",
            "text/plain": [
              "  Ozone Solar.R    Wind    Temp   Month     Day \n",
              "      0       0       0       0       0       0 "
            ]
          },
          "metadata": {}
        }
      ],
      "source": [
        "colSums(is.na(mydata)) # check NA values' existence"
      ]
    },
    {
      "cell_type": "code",
      "execution_count": null,
      "metadata": {
        "colab": {
          "base_uri": "https://localhost:8080/",
          "height": 34
        },
        "id": "zxMa9T2pV9sB",
        "outputId": "75e3cb8b-cc57-4456-e5dd-7e2ce56de586"
      },
      "outputs": [
        {
          "output_type": "display_data",
          "data": {
            "text/html": [
              "<style>\n",
              ".list-inline {list-style: none; margin:0; padding: 0}\n",
              ".list-inline>li {display: inline-block}\n",
              ".list-inline>li:not(:last-child)::after {content: \"\\00b7\"; padding: 0 .5ex}\n",
              "</style>\n",
              "<ol class=list-inline><li>153</li><li>6</li></ol>\n"
            ],
            "text/markdown": "1. 153\n2. 6\n\n\n",
            "text/latex": "\\begin{enumerate*}\n\\item 153\n\\item 6\n\\end{enumerate*}\n",
            "text/plain": [
              "[1] 153   6"
            ]
          },
          "metadata": {}
        }
      ],
      "source": [
        "dim(airquality) #size of the table"
      ]
    },
    {
      "cell_type": "code",
      "execution_count": null,
      "metadata": {
        "id": "oJoLwlIFt1Ut"
      },
      "outputs": [],
      "source": [
        "mean <- mean(airquality$Temp) # or mean(airquality[,4])"
      ]
    },
    {
      "cell_type": "code",
      "execution_count": null,
      "metadata": {
        "id": "3aNq8HN2WE3N"
      },
      "outputs": [],
      "source": [
        "median <- median(airquality$Temp)"
      ]
    },
    {
      "cell_type": "code",
      "execution_count": null,
      "metadata": {
        "colab": {
          "base_uri": "https://localhost:8080/",
          "height": 286
        },
        "id": "7PgJuVIuDuVo",
        "outputId": "d196d6ea-63a9-48b0-d8c8-61e94bf443cf"
      },
      "outputs": [
        {
          "output_type": "display_data",
          "data": {
            "text/html": [
              "<table class=\"dataframe\">\n",
              "<caption>A data.frame: 6 × 4</caption>\n",
              "<thead>\n",
              "\t<tr><th></th><th scope=col>Ozone</th><th scope=col>Solar.R</th><th scope=col>Wind</th><th scope=col>Temp</th></tr>\n",
              "\t<tr><th></th><th scope=col>&lt;int&gt;</th><th scope=col>&lt;int&gt;</th><th scope=col>&lt;dbl&gt;</th><th scope=col>&lt;int&gt;</th></tr>\n",
              "</thead>\n",
              "<tbody>\n",
              "\t<tr><th scope=row>1</th><td>41</td><td>190</td><td> 7.4</td><td>67</td></tr>\n",
              "\t<tr><th scope=row>2</th><td>36</td><td>118</td><td> 8.0</td><td>72</td></tr>\n",
              "\t<tr><th scope=row>3</th><td>12</td><td>149</td><td>12.6</td><td>74</td></tr>\n",
              "\t<tr><th scope=row>4</th><td>18</td><td>313</td><td>11.5</td><td>62</td></tr>\n",
              "\t<tr><th scope=row>5</th><td>NA</td><td> NA</td><td>14.3</td><td>56</td></tr>\n",
              "\t<tr><th scope=row>6</th><td>28</td><td> NA</td><td>14.9</td><td>66</td></tr>\n",
              "</tbody>\n",
              "</table>\n"
            ],
            "text/markdown": "\nA data.frame: 6 × 4\n\n| <!--/--> | Ozone &lt;int&gt; | Solar.R &lt;int&gt; | Wind &lt;dbl&gt; | Temp &lt;int&gt; |\n|---|---|---|---|---|\n| 1 | 41 | 190 |  7.4 | 67 |\n| 2 | 36 | 118 |  8.0 | 72 |\n| 3 | 12 | 149 | 12.6 | 74 |\n| 4 | 18 | 313 | 11.5 | 62 |\n| 5 | NA |  NA | 14.3 | 56 |\n| 6 | 28 |  NA | 14.9 | 66 |\n\n",
            "text/latex": "A data.frame: 6 × 4\n\\begin{tabular}{r|llll}\n  & Ozone & Solar.R & Wind & Temp\\\\\n  & <int> & <int> & <dbl> & <int>\\\\\n\\hline\n\t1 & 41 & 190 &  7.4 & 67\\\\\n\t2 & 36 & 118 &  8.0 & 72\\\\\n\t3 & 12 & 149 & 12.6 & 74\\\\\n\t4 & 18 & 313 & 11.5 & 62\\\\\n\t5 & NA &  NA & 14.3 & 56\\\\\n\t6 & 28 &  NA & 14.9 & 66\\\\\n\\end{tabular}\n",
            "text/plain": [
              "  Ozone Solar.R Wind Temp\n",
              "1 41    190      7.4 67  \n",
              "2 36    118      8.0 72  \n",
              "3 12    149     12.6 74  \n",
              "4 18    313     11.5 62  \n",
              "5 NA     NA     14.3 56  \n",
              "6 28     NA     14.9 66  "
            ]
          },
          "metadata": {}
        }
      ],
      "source": [
        "head(airquality[1:4]) # display row from 1 to 4"
      ]
    },
    {
      "cell_type": "code",
      "execution_count": null,
      "metadata": {
        "colab": {
          "base_uri": "https://localhost:8080/",
          "height": 161
        },
        "id": "Te6nbLoqWSs8",
        "outputId": "57c0ca33-6988-47e9-a14a-bc99e4857bbf"
      },
      "outputs": [
        {
          "output_type": "display_data",
          "data": {
            "text/html": [
              "<table class=\"dataframe\">\n",
              "<caption>A data.frame: 2 × 6</caption>\n",
              "<thead>\n",
              "\t<tr><th></th><th scope=col>Ozone</th><th scope=col>Solar.R</th><th scope=col>Wind</th><th scope=col>Temp</th><th scope=col>Month</th><th scope=col>Day</th></tr>\n",
              "\t<tr><th></th><th scope=col>&lt;int&gt;</th><th scope=col>&lt;int&gt;</th><th scope=col>&lt;dbl&gt;</th><th scope=col>&lt;int&gt;</th><th scope=col>&lt;int&gt;</th><th scope=col>&lt;int&gt;</th></tr>\n",
              "</thead>\n",
              "<tbody>\n",
              "\t<tr><th scope=row>1</th><td>41</td><td>190</td><td> 7.4</td><td>67</td><td>5</td><td>1</td></tr>\n",
              "\t<tr><th scope=row>4</th><td>18</td><td>313</td><td>11.5</td><td>62</td><td>5</td><td>4</td></tr>\n",
              "</tbody>\n",
              "</table>\n"
            ],
            "text/markdown": "\nA data.frame: 2 × 6\n\n| <!--/--> | Ozone &lt;int&gt; | Solar.R &lt;int&gt; | Wind &lt;dbl&gt; | Temp &lt;int&gt; | Month &lt;int&gt; | Day &lt;int&gt; |\n|---|---|---|---|---|---|---|\n| 1 | 41 | 190 |  7.4 | 67 | 5 | 1 |\n| 4 | 18 | 313 | 11.5 | 62 | 5 | 4 |\n\n",
            "text/latex": "A data.frame: 2 × 6\n\\begin{tabular}{r|llllll}\n  & Ozone & Solar.R & Wind & Temp & Month & Day\\\\\n  & <int> & <int> & <dbl> & <int> & <int> & <int>\\\\\n\\hline\n\t1 & 41 & 190 &  7.4 & 67 & 5 & 1\\\\\n\t4 & 18 & 313 & 11.5 & 62 & 5 & 4\\\\\n\\end{tabular}\n",
            "text/plain": [
              "  Ozone Solar.R Wind Temp Month Day\n",
              "1 41    190      7.4 67   5     1  \n",
              "4 18    313     11.5 62   5     4  "
            ]
          },
          "metadata": {}
        }
      ],
      "source": [
        "airquality[c(1,4),]"
      ]
    },
    {
      "cell_type": "code",
      "execution_count": null,
      "metadata": {
        "colab": {
          "base_uri": "https://localhost:8080/",
          "height": 286
        },
        "id": "eNiVFMbLWVuZ",
        "outputId": "6f6bbc8a-f168-4303-b4af-5ead9dd8676f"
      },
      "outputs": [
        {
          "output_type": "display_data",
          "data": {
            "text/html": [
              "<table class=\"dataframe\">\n",
              "<caption>A data.frame: 6 × 4</caption>\n",
              "<thead>\n",
              "\t<tr><th></th><th scope=col>Solar.R</th><th scope=col>Wind</th><th scope=col>Month</th><th scope=col>Day</th></tr>\n",
              "\t<tr><th></th><th scope=col>&lt;int&gt;</th><th scope=col>&lt;dbl&gt;</th><th scope=col>&lt;int&gt;</th><th scope=col>&lt;int&gt;</th></tr>\n",
              "</thead>\n",
              "<tbody>\n",
              "\t<tr><th scope=row>1</th><td>190</td><td> 7.4</td><td>5</td><td>1</td></tr>\n",
              "\t<tr><th scope=row>2</th><td>118</td><td> 8.0</td><td>5</td><td>2</td></tr>\n",
              "\t<tr><th scope=row>3</th><td>149</td><td>12.6</td><td>5</td><td>3</td></tr>\n",
              "\t<tr><th scope=row>4</th><td>313</td><td>11.5</td><td>5</td><td>4</td></tr>\n",
              "\t<tr><th scope=row>5</th><td> NA</td><td>14.3</td><td>5</td><td>5</td></tr>\n",
              "\t<tr><th scope=row>6</th><td> NA</td><td>14.9</td><td>5</td><td>6</td></tr>\n",
              "</tbody>\n",
              "</table>\n"
            ],
            "text/markdown": "\nA data.frame: 6 × 4\n\n| <!--/--> | Solar.R &lt;int&gt; | Wind &lt;dbl&gt; | Month &lt;int&gt; | Day &lt;int&gt; |\n|---|---|---|---|---|\n| 1 | 190 |  7.4 | 5 | 1 |\n| 2 | 118 |  8.0 | 5 | 2 |\n| 3 | 149 | 12.6 | 5 | 3 |\n| 4 | 313 | 11.5 | 5 | 4 |\n| 5 |  NA | 14.3 | 5 | 5 |\n| 6 |  NA | 14.9 | 5 | 6 |\n\n",
            "text/latex": "A data.frame: 6 × 4\n\\begin{tabular}{r|llll}\n  & Solar.R & Wind & Month & Day\\\\\n  & <int> & <dbl> & <int> & <int>\\\\\n\\hline\n\t1 & 190 &  7.4 & 5 & 1\\\\\n\t2 & 118 &  8.0 & 5 & 2\\\\\n\t3 & 149 & 12.6 & 5 & 3\\\\\n\t4 & 313 & 11.5 & 5 & 4\\\\\n\t5 &  NA & 14.3 & 5 & 5\\\\\n\t6 &  NA & 14.9 & 5 & 6\\\\\n\\end{tabular}\n",
            "text/plain": [
              "  Solar.R Wind Month Day\n",
              "1 190      7.4 5     1  \n",
              "2 118      8.0 5     2  \n",
              "3 149     12.6 5     3  \n",
              "4 313     11.5 5     4  \n",
              "5  NA     14.3 5     5  \n",
              "6  NA     14.9 5     6  "
            ]
          },
          "metadata": {}
        }
      ],
      "source": [
        "head(airquality[,-c(1,4)]) # (-) avoid row or column"
      ]
    },
    {
      "cell_type": "code",
      "execution_count": null,
      "metadata": {
        "colab": {
          "base_uri": "https://localhost:8080/",
          "height": 411
        },
        "id": "0GAY638UA-dH",
        "outputId": "c0341413-d8d1-48c3-c52e-4fcc3da29c18"
      },
      "outputs": [
        {
          "output_type": "display_data",
          "data": {
            "text/html": [
              "<table class=\"dataframe\">\n",
              "<caption>A data.frame: 10 × 2</caption>\n",
              "<thead>\n",
              "\t<tr><th></th><th scope=col>Temp</th><th scope=col>Month</th></tr>\n",
              "\t<tr><th></th><th scope=col>&lt;int&gt;</th><th scope=col>&lt;int&gt;</th></tr>\n",
              "</thead>\n",
              "<tbody>\n",
              "\t<tr><th scope=row>35</th><td>84</td><td>6</td></tr>\n",
              "\t<tr><th scope=row>36</th><td>85</td><td>6</td></tr>\n",
              "\t<tr><th scope=row>38</th><td>82</td><td>6</td></tr>\n",
              "\t<tr><th scope=row>39</th><td>87</td><td>6</td></tr>\n",
              "\t<tr><th scope=row>40</th><td>90</td><td>6</td></tr>\n",
              "\t<tr><th scope=row>41</th><td>87</td><td>6</td></tr>\n",
              "\t<tr><th scope=row>42</th><td>93</td><td>6</td></tr>\n",
              "\t<tr><th scope=row>43</th><td>92</td><td>6</td></tr>\n",
              "\t<tr><th scope=row>44</th><td>82</td><td>6</td></tr>\n",
              "\t<tr><th scope=row>61</th><td>83</td><td>6</td></tr>\n",
              "</tbody>\n",
              "</table>\n"
            ],
            "text/markdown": "\nA data.frame: 10 × 2\n\n| <!--/--> | Temp &lt;int&gt; | Month &lt;int&gt; |\n|---|---|---|\n| 35 | 84 | 6 |\n| 36 | 85 | 6 |\n| 38 | 82 | 6 |\n| 39 | 87 | 6 |\n| 40 | 90 | 6 |\n| 41 | 87 | 6 |\n| 42 | 93 | 6 |\n| 43 | 92 | 6 |\n| 44 | 82 | 6 |\n| 61 | 83 | 6 |\n\n",
            "text/latex": "A data.frame: 10 × 2\n\\begin{tabular}{r|ll}\n  & Temp & Month\\\\\n  & <int> & <int>\\\\\n\\hline\n\t35 & 84 & 6\\\\\n\t36 & 85 & 6\\\\\n\t38 & 82 & 6\\\\\n\t39 & 87 & 6\\\\\n\t40 & 90 & 6\\\\\n\t41 & 87 & 6\\\\\n\t42 & 93 & 6\\\\\n\t43 & 92 & 6\\\\\n\t44 & 82 & 6\\\\\n\t61 & 83 & 6\\\\\n\\end{tabular}\n",
            "text/plain": [
              "   Temp Month\n",
              "35 84   6    \n",
              "36 85   6    \n",
              "38 82   6    \n",
              "39 87   6    \n",
              "40 90   6    \n",
              "41 87   6    \n",
              "42 93   6    \n",
              "43 92   6    \n",
              "44 82   6    \n",
              "61 83   6    "
            ]
          },
          "metadata": {}
        }
      ],
      "source": [
        "# display airquality which Temp over 80 in June\n",
        "subset_data <- airquality[airquality$Temp > 80 & airquality$Month == 6,c('Temp','Month') ]\n",
        "subset_data"
      ]
    },
    {
      "cell_type": "code",
      "execution_count": null,
      "metadata": {
        "colab": {
          "base_uri": "https://localhost:8080/",
          "height": 233
        },
        "id": "kT8sn5yGfYRh",
        "outputId": "3ba045e3-cbe3-4a3e-9936-5c4ce89eb3a0"
      },
      "outputs": [
        {
          "output_type": "display_data",
          "data": {
            "text/html": [
              "<table class=\"dataframe\">\n",
              "<caption>A data.frame: 1 × 6</caption>\n",
              "<thead>\n",
              "\t<tr><th></th><th scope=col>Ozone</th><th scope=col>Solar.R</th><th scope=col>Wind</th><th scope=col>Temp</th><th scope=col>Month</th><th scope=col>Day</th></tr>\n",
              "\t<tr><th></th><th scope=col>&lt;int&gt;</th><th scope=col>&lt;int&gt;</th><th scope=col>&lt;dbl&gt;</th><th scope=col>&lt;int&gt;</th><th scope=col>&lt;int&gt;</th><th scope=col>&lt;int&gt;</th></tr>\n",
              "</thead>\n",
              "<tbody>\n",
              "\t<tr><th scope=row>1</th><td>41</td><td>190</td><td>7.4</td><td>67</td><td>5</td><td>1</td></tr>\n",
              "</tbody>\n",
              "</table>\n"
            ],
            "text/markdown": "\nA data.frame: 1 × 6\n\n| <!--/--> | Ozone &lt;int&gt; | Solar.R &lt;int&gt; | Wind &lt;dbl&gt; | Temp &lt;int&gt; | Month &lt;int&gt; | Day &lt;int&gt; |\n|---|---|---|---|---|---|---|\n| 1 | 41 | 190 | 7.4 | 67 | 5 | 1 |\n\n",
            "text/latex": "A data.frame: 1 × 6\n\\begin{tabular}{r|llllll}\n  & Ozone & Solar.R & Wind & Temp & Month & Day\\\\\n  & <int> & <int> & <dbl> & <int> & <int> & <int>\\\\\n\\hline\n\t1 & 41 & 190 & 7.4 & 67 & 5 & 1\\\\\n\\end{tabular}\n",
            "text/plain": [
              "  Ozone Solar.R Wind Temp Month Day\n",
              "1 41    190     7.4  67   5     1  "
            ]
          },
          "metadata": {}
        },
        {
          "output_type": "display_data",
          "data": {
            "text/html": [
              "<style>\n",
              ".list-inline {list-style: none; margin:0; padding: 0}\n",
              ".list-inline>li {display: inline-block}\n",
              ".list-inline>li:not(:last-child)::after {content: \"\\00b7\"; padding: 0 .5ex}\n",
              "</style>\n",
              "<ol class=list-inline><li>41</li><li>36</li><li>12</li><li>18</li><li>&lt;NA&gt;</li><li>28</li><li>23</li><li>19</li><li>8</li><li>&lt;NA&gt;</li><li>7</li><li>16</li><li>11</li><li>14</li><li>18</li><li>14</li><li>34</li><li>6</li><li>30</li><li>11</li><li>1</li><li>11</li><li>4</li><li>32</li><li>&lt;NA&gt;</li><li>&lt;NA&gt;</li><li>&lt;NA&gt;</li><li>23</li><li>45</li><li>115</li><li>37</li><li>&lt;NA&gt;</li><li>&lt;NA&gt;</li><li>&lt;NA&gt;</li><li>&lt;NA&gt;</li><li>&lt;NA&gt;</li><li>&lt;NA&gt;</li><li>29</li><li>&lt;NA&gt;</li><li>71</li><li>39</li><li>&lt;NA&gt;</li><li>&lt;NA&gt;</li><li>23</li><li>&lt;NA&gt;</li><li>&lt;NA&gt;</li><li>21</li><li>37</li><li>20</li><li>12</li><li>13</li><li>&lt;NA&gt;</li><li>&lt;NA&gt;</li><li>&lt;NA&gt;</li><li>&lt;NA&gt;</li><li>&lt;NA&gt;</li><li>&lt;NA&gt;</li><li>&lt;NA&gt;</li><li>&lt;NA&gt;</li><li>&lt;NA&gt;</li><li>&lt;NA&gt;</li><li>135</li><li>49</li><li>32</li><li>&lt;NA&gt;</li><li>64</li><li>40</li><li>77</li><li>97</li><li>97</li><li>85</li><li>&lt;NA&gt;</li><li>10</li><li>27</li><li>&lt;NA&gt;</li><li>7</li><li>48</li><li>35</li><li>61</li><li>79</li><li>63</li><li>16</li><li>&lt;NA&gt;</li><li>&lt;NA&gt;</li><li>80</li><li>108</li><li>20</li><li>52</li><li>82</li><li>50</li><li>64</li><li>59</li><li>39</li><li>9</li><li>16</li><li>78</li><li>35</li><li>66</li><li>122</li><li>89</li><li>110</li><li>&lt;NA&gt;</li><li>&lt;NA&gt;</li><li>44</li><li>28</li><li>65</li><li>&lt;NA&gt;</li><li>22</li><li>59</li><li>23</li><li>31</li><li>44</li><li>21</li><li>9</li><li>&lt;NA&gt;</li><li>45</li><li>168</li><li>73</li><li>&lt;NA&gt;</li><li>76</li><li>118</li><li>84</li><li>85</li><li>96</li><li>78</li><li>73</li><li>91</li><li>47</li><li>32</li><li>20</li><li>23</li><li>21</li><li>24</li><li>44</li><li>21</li><li>28</li><li>9</li><li>13</li><li>46</li><li>18</li><li>13</li><li>24</li><li>16</li><li>13</li><li>23</li><li>36</li><li>7</li><li>14</li><li>30</li><li>&lt;NA&gt;</li><li>14</li><li>18</li><li>20</li></ol>\n"
            ],
            "text/markdown": "1. 41\n2. 36\n3. 12\n4. 18\n5. &lt;NA&gt;\n6. 28\n7. 23\n8. 19\n9. 8\n10. &lt;NA&gt;\n11. 7\n12. 16\n13. 11\n14. 14\n15. 18\n16. 14\n17. 34\n18. 6\n19. 30\n20. 11\n21. 1\n22. 11\n23. 4\n24. 32\n25. &lt;NA&gt;\n26. &lt;NA&gt;\n27. &lt;NA&gt;\n28. 23\n29. 45\n30. 115\n31. 37\n32. &lt;NA&gt;\n33. &lt;NA&gt;\n34. &lt;NA&gt;\n35. &lt;NA&gt;\n36. &lt;NA&gt;\n37. &lt;NA&gt;\n38. 29\n39. &lt;NA&gt;\n40. 71\n41. 39\n42. &lt;NA&gt;\n43. &lt;NA&gt;\n44. 23\n45. &lt;NA&gt;\n46. &lt;NA&gt;\n47. 21\n48. 37\n49. 20\n50. 12\n51. 13\n52. &lt;NA&gt;\n53. &lt;NA&gt;\n54. &lt;NA&gt;\n55. &lt;NA&gt;\n56. &lt;NA&gt;\n57. &lt;NA&gt;\n58. &lt;NA&gt;\n59. &lt;NA&gt;\n60. &lt;NA&gt;\n61. &lt;NA&gt;\n62. 135\n63. 49\n64. 32\n65. &lt;NA&gt;\n66. 64\n67. 40\n68. 77\n69. 97\n70. 97\n71. 85\n72. &lt;NA&gt;\n73. 10\n74. 27\n75. &lt;NA&gt;\n76. 7\n77. 48\n78. 35\n79. 61\n80. 79\n81. 63\n82. 16\n83. &lt;NA&gt;\n84. &lt;NA&gt;\n85. 80\n86. 108\n87. 20\n88. 52\n89. 82\n90. 50\n91. 64\n92. 59\n93. 39\n94. 9\n95. 16\n96. 78\n97. 35\n98. 66\n99. 122\n100. 89\n101. 110\n102. &lt;NA&gt;\n103. &lt;NA&gt;\n104. 44\n105. 28\n106. 65\n107. &lt;NA&gt;\n108. 22\n109. 59\n110. 23\n111. 31\n112. 44\n113. 21\n114. 9\n115. &lt;NA&gt;\n116. 45\n117. 168\n118. 73\n119. &lt;NA&gt;\n120. 76\n121. 118\n122. 84\n123. 85\n124. 96\n125. 78\n126. 73\n127. 91\n128. 47\n129. 32\n130. 20\n131. 23\n132. 21\n133. 24\n134. 44\n135. 21\n136. 28\n137. 9\n138. 13\n139. 46\n140. 18\n141. 13\n142. 24\n143. 16\n144. 13\n145. 23\n146. 36\n147. 7\n148. 14\n149. 30\n150. &lt;NA&gt;\n151. 14\n152. 18\n153. 20\n\n\n",
            "text/latex": "\\begin{enumerate*}\n\\item 41\n\\item 36\n\\item 12\n\\item 18\n\\item <NA>\n\\item 28\n\\item 23\n\\item 19\n\\item 8\n\\item <NA>\n\\item 7\n\\item 16\n\\item 11\n\\item 14\n\\item 18\n\\item 14\n\\item 34\n\\item 6\n\\item 30\n\\item 11\n\\item 1\n\\item 11\n\\item 4\n\\item 32\n\\item <NA>\n\\item <NA>\n\\item <NA>\n\\item 23\n\\item 45\n\\item 115\n\\item 37\n\\item <NA>\n\\item <NA>\n\\item <NA>\n\\item <NA>\n\\item <NA>\n\\item <NA>\n\\item 29\n\\item <NA>\n\\item 71\n\\item 39\n\\item <NA>\n\\item <NA>\n\\item 23\n\\item <NA>\n\\item <NA>\n\\item 21\n\\item 37\n\\item 20\n\\item 12\n\\item 13\n\\item <NA>\n\\item <NA>\n\\item <NA>\n\\item <NA>\n\\item <NA>\n\\item <NA>\n\\item <NA>\n\\item <NA>\n\\item <NA>\n\\item <NA>\n\\item 135\n\\item 49\n\\item 32\n\\item <NA>\n\\item 64\n\\item 40\n\\item 77\n\\item 97\n\\item 97\n\\item 85\n\\item <NA>\n\\item 10\n\\item 27\n\\item <NA>\n\\item 7\n\\item 48\n\\item 35\n\\item 61\n\\item 79\n\\item 63\n\\item 16\n\\item <NA>\n\\item <NA>\n\\item 80\n\\item 108\n\\item 20\n\\item 52\n\\item 82\n\\item 50\n\\item 64\n\\item 59\n\\item 39\n\\item 9\n\\item 16\n\\item 78\n\\item 35\n\\item 66\n\\item 122\n\\item 89\n\\item 110\n\\item <NA>\n\\item <NA>\n\\item 44\n\\item 28\n\\item 65\n\\item <NA>\n\\item 22\n\\item 59\n\\item 23\n\\item 31\n\\item 44\n\\item 21\n\\item 9\n\\item <NA>\n\\item 45\n\\item 168\n\\item 73\n\\item <NA>\n\\item 76\n\\item 118\n\\item 84\n\\item 85\n\\item 96\n\\item 78\n\\item 73\n\\item 91\n\\item 47\n\\item 32\n\\item 20\n\\item 23\n\\item 21\n\\item 24\n\\item 44\n\\item 21\n\\item 28\n\\item 9\n\\item 13\n\\item 46\n\\item 18\n\\item 13\n\\item 24\n\\item 16\n\\item 13\n\\item 23\n\\item 36\n\\item 7\n\\item 14\n\\item 30\n\\item <NA>\n\\item 14\n\\item 18\n\\item 20\n\\end{enumerate*}\n",
            "text/plain": [
              "  [1]  41  36  12  18  NA  28  23  19   8  NA   7  16  11  14  18  14  34   6\n",
              " [19]  30  11   1  11   4  32  NA  NA  NA  23  45 115  37  NA  NA  NA  NA  NA\n",
              " [37]  NA  29  NA  71  39  NA  NA  23  NA  NA  21  37  20  12  13  NA  NA  NA\n",
              " [55]  NA  NA  NA  NA  NA  NA  NA 135  49  32  NA  64  40  77  97  97  85  NA\n",
              " [73]  10  27  NA   7  48  35  61  79  63  16  NA  NA  80 108  20  52  82  50\n",
              " [91]  64  59  39   9  16  78  35  66 122  89 110  NA  NA  44  28  65  NA  22\n",
              "[109]  59  23  31  44  21   9  NA  45 168  73  NA  76 118  84  85  96  78  73\n",
              "[127]  91  47  32  20  23  21  24  44  21  28   9  13  46  18  13  24  16  13\n",
              "[145]  23  36   7  14  30  NA  14  18  20"
            ]
          },
          "metadata": {}
        }
      ],
      "source": [
        "airquality[1,] #[i,] i^th row\n",
        "airquality[,1] # [,i] i^th column"
      ]
    },
    {
      "cell_type": "code",
      "execution_count": null,
      "metadata": {
        "colab": {
          "base_uri": "https://localhost:8080/",
          "height": 857
        },
        "id": "KIA38N80eKpp",
        "outputId": "4850f589-d658-492e-cc11-f8014e1fd037"
      },
      "outputs": [
        {
          "output_type": "display_data",
          "data": {
            "text/plain": [
              "Plot with title “Histogram of Temp”"
            ],
            "image/png": "[encoded data removed]"
          },
          "metadata": {
            "image/png": {
              "width": 420,
              "height": 420
            }
          }
        },
        {
          "output_type": "display_data",
          "data": {
            "text/plain": [
              "Plot with title “Histogram with Distribution Chart”"
            ],
            "image/png": "[encoded data removed]"
          },
          "metadata": {
            "image/png": {
              "width": 420,
              "height": 420
            }
          }
        }
      ],
      "source": [
        "#par(mfrow = c(1,2)) #c(m,n) tạo ra biểu đồ có  m dài n cao\n",
        "hist(airquality[,4],main = \"Histogram of Temp\",xlab = \"Temp\",col = \"lightblue\",breaks = 900) # how to rename of histogram\n",
        "# logistic distribution\n",
        "hist(airquality$Temp, col = 'black', freq = FALSE, breaks = 10, border = FALSE, main = \"Histogram with Distribution Chart\")\n",
        "mu <- mean(airquality$Temp)\n",
        "sigma <- sd(airquality$Temp)\n",
        "curve(dnorm(x, mean = mu, sd = sigma), col = 'red', lwd = 2, add = TRUE、)\n"
      ]
    },
    {
      "cell_type": "code",
      "execution_count": null,
      "metadata": {
        "colab": {
          "base_uri": "https://localhost:8080/",
          "height": 295
        },
        "id": "hIwksDjAQ3O7",
        "outputId": "67155218-c4e3-448b-f4b9-3002dd11f80a"
      },
      "outputs": [
        {
          "output_type": "display_data",
          "data": {
            "text/plain": [
              "     Ozone           Solar.R           Wind             Temp      \n",
              " Min.   :  1.00   Min.   :  7.0   Min.   : 1.700   Min.   :56.00  \n",
              " 1st Qu.: 18.00   1st Qu.:115.8   1st Qu.: 7.400   1st Qu.:72.00  \n",
              " Median : 31.50   Median :205.0   Median : 9.700   Median :79.00  \n",
              " Mean   : 42.13   Mean   :185.9   Mean   : 9.958   Mean   :77.88  \n",
              " 3rd Qu.: 63.25   3rd Qu.:258.8   3rd Qu.:11.500   3rd Qu.:85.00  \n",
              " Max.   :168.00   Max.   :334.0   Max.   :20.700   Max.   :97.00  \n",
              " NA's   :37       NA's   :7                                       \n",
              "     Month            Day      \n",
              " Min.   :5.000   Min.   : 1.0  \n",
              " 1st Qu.:6.000   1st Qu.: 8.0  \n",
              " Median :7.000   Median :16.0  \n",
              " Mean   :6.993   Mean   :15.8  \n",
              " 3rd Qu.:8.000   3rd Qu.:23.0  \n",
              " Max.   :9.000   Max.   :31.0  \n",
              "                               "
            ]
          },
          "metadata": {}
        }
      ],
      "source": [
        "# show standard stasistical output\n",
        "summary(airquality)"
      ]
    },
    {
      "cell_type": "code",
      "execution_count": null,
      "metadata": {
        "colab": {
          "base_uri": "https://localhost:8080/",
          "height": 437
        },
        "id": "KQVJTKWZwW5r",
        "outputId": "23021716-c881-4c34-c96c-d1158d933654"
      },
      "outputs": [
        {
          "output_type": "display_data",
          "data": {
            "text/plain": [
              "plot without title"
            ],
            "image/png": "[encoded data removed]"
          },
          "metadata": {
            "image/png": {
              "width": 420,
              "height": 420
            }
          }
        }
      ],
      "source": [
        "# boxplot\n",
        "boxplot(airquality)"
      ]
    },
    {
      "cell_type": "code",
      "execution_count": null,
      "metadata": {
        "colab": {
          "base_uri": "https://localhost:8080/",
          "height": 437
        },
        "id": "Wz7uxCfgyaWu",
        "outputId": "cecbebfa-2497-4f9d-cd46-0463c3f56b85"
      },
      "outputs": [
        {
          "output_type": "display_data",
          "data": {
            "text/plain": [
              "plot without title"
            ],
            "image/png": "[encoded data removed]"
          },
          "metadata": {
            "image/png": {
              "width": 420,
              "height": 420
            }
          }
        }
      ],
      "source": [
        "boxplot(airquality$Wind)"
      ]
    },
    {
      "cell_type": "code",
      "execution_count": null,
      "metadata": {
        "colab": {
          "base_uri": "https://localhost:8080/",
          "height": 437
        },
        "id": "NPwLveHFMuIG",
        "outputId": "f921a17e-43fd-4809-d3eb-bb833c3e1515"
      },
      "outputs": [
        {
          "output_type": "display_data",
          "data": {
            "text/plain": [
              "plot without title"
            ],
            "image/png": "[encoded data removed]"
          },
          "metadata": {
            "image/png": {
              "width": 420,
              "height": 420
            }
          }
        }
      ],
      "source": [
        "#col = c(colours) -> thể hiện màu sắc cho từng\n",
        "with(airquality, boxplot(Temp ~ Month,col = c('blue','red','brown'), names = c(\"May\", \"June\",\"July\", \"August\", \"September\")))"
      ]
    },
    {
      "cell_type": "code",
      "execution_count": null,
      "metadata": {
        "id": "PFTCZqhrXUP2"
      },
      "outputs": [],
      "source": [
        "library(ggplot2)"
      ]
    },
    {
      "cell_type": "markdown",
      "metadata": {
        "id": "yhJO0ldq_Ae1"
      },
      "source": [
        "# Assigment"
      ]
    },
    {
      "cell_type": "code",
      "execution_count": null,
      "metadata": {
        "colab": {
          "base_uri": "https://localhost:8080/"
        },
        "id": "J-zYGvJzYG_F",
        "outputId": "1f08bc4b-8878-43bf-f3af-710b43c9d4d9"
      },
      "outputs": [
        {
          "output_type": "stream",
          "name": "stderr",
          "text": [
            "\n",
            "Attaching package: ‘dplyr’\n",
            "\n",
            "\n",
            "The following objects are masked from ‘package:stats’:\n",
            "\n",
            "    filter, lag\n",
            "\n",
            "\n",
            "The following objects are masked from ‘package:base’:\n",
            "\n",
            "    intersect, setdiff, setequal, union\n",
            "\n",
            "\n",
            "Installing package into ‘/usr/local/lib/R/site-library’\n",
            "(as ‘lib’ is unspecified)\n",
            "\n",
            "corrplot 0.92 loaded\n",
            "\n",
            "Installing package into ‘/usr/local/lib/R/site-library’\n",
            "(as ‘lib’ is unspecified)\n",
            "\n",
            "also installing the dependencies ‘checkmate’, ‘htmlwidgets’, ‘gridExtra’, ‘htmlTable’, ‘viridis’, ‘Formula’\n",
            "\n",
            "\n",
            "\n",
            "Attaching package: ‘Hmisc’\n",
            "\n",
            "\n",
            "The following objects are masked from ‘package:dplyr’:\n",
            "\n",
            "    src, summarize\n",
            "\n",
            "\n",
            "The following objects are masked from ‘package:base’:\n",
            "\n",
            "    format.pval, units\n",
            "\n",
            "\n"
          ]
        }
      ],
      "source": [
        "# Install packages\n",
        "library(ggplot2)\n",
        "library(dplyr)\n",
        "install.packages(\"corrplot\")\n",
        "library(\"corrplot\")\n",
        "install.packages(\"Hmisc\")\n",
        "library(\"Hmisc\")"
      ]
    },
    {
      "cell_type": "code",
      "execution_count": null,
      "metadata": {
        "colab": {
          "base_uri": "https://localhost:8080/",
          "height": 255
        },
        "id": "kbBWD-4TxT-i",
        "outputId": "1237dafb-2cc7-47ac-bc1e-4339362eddf8"
      },
      "outputs": [
        {
          "output_type": "display_data",
          "data": {
            "text/html": [
              "<table class=\"dataframe\">\n",
              "<caption>A matrix: 6 × 6 of type dbl</caption>\n",
              "<thead>\n",
              "\t<tr><th></th><th scope=col>Ozone</th><th scope=col>Solar.R</th><th scope=col>Wind</th><th scope=col>Temp</th><th scope=col>Month</th><th scope=col>Day</th></tr>\n",
              "</thead>\n",
              "<tbody>\n",
              "\t<tr><th scope=row>Ozone</th><td> 1.000000000</td><td> 0.34834169</td><td>-0.61249658</td><td> 0.6985414</td><td> 0.142885168</td><td>-0.005189769</td></tr>\n",
              "\t<tr><th scope=row>Solar.R</th><td> 0.348341693</td><td> 1.00000000</td><td>-0.12718345</td><td> 0.2940876</td><td>-0.074066683</td><td>-0.057753801</td></tr>\n",
              "\t<tr><th scope=row>Wind</th><td>-0.612496576</td><td>-0.12718345</td><td> 1.00000000</td><td>-0.4971897</td><td>-0.194495804</td><td> 0.049871017</td></tr>\n",
              "\t<tr><th scope=row>Temp</th><td> 0.698541410</td><td> 0.29408764</td><td>-0.49718972</td><td> 1.0000000</td><td> 0.403971709</td><td>-0.096545800</td></tr>\n",
              "\t<tr><th scope=row>Month</th><td> 0.142885168</td><td>-0.07406668</td><td>-0.19449580</td><td> 0.4039717</td><td> 1.000000000</td><td>-0.009001079</td></tr>\n",
              "\t<tr><th scope=row>Day</th><td>-0.005189769</td><td>-0.05775380</td><td> 0.04987102</td><td>-0.0965458</td><td>-0.009001079</td><td> 1.000000000</td></tr>\n",
              "</tbody>\n",
              "</table>\n"
            ],
            "text/markdown": "\nA matrix: 6 × 6 of type dbl\n\n| <!--/--> | Ozone | Solar.R | Wind | Temp | Month | Day |\n|---|---|---|---|---|---|---|\n| Ozone |  1.000000000 |  0.34834169 | -0.61249658 |  0.6985414 |  0.142885168 | -0.005189769 |\n| Solar.R |  0.348341693 |  1.00000000 | -0.12718345 |  0.2940876 | -0.074066683 | -0.057753801 |\n| Wind | -0.612496576 | -0.12718345 |  1.00000000 | -0.4971897 | -0.194495804 |  0.049871017 |\n| Temp |  0.698541410 |  0.29408764 | -0.49718972 |  1.0000000 |  0.403971709 | -0.096545800 |\n| Month |  0.142885168 | -0.07406668 | -0.19449580 |  0.4039717 |  1.000000000 | -0.009001079 |\n| Day | -0.005189769 | -0.05775380 |  0.04987102 | -0.0965458 | -0.009001079 |  1.000000000 |\n\n",
            "text/latex": "A matrix: 6 × 6 of type dbl\n\\begin{tabular}{r|llllll}\n  & Ozone & Solar.R & Wind & Temp & Month & Day\\\\\n\\hline\n\tOzone &  1.000000000 &  0.34834169 & -0.61249658 &  0.6985414 &  0.142885168 & -0.005189769\\\\\n\tSolar.R &  0.348341693 &  1.00000000 & -0.12718345 &  0.2940876 & -0.074066683 & -0.057753801\\\\\n\tWind & -0.612496576 & -0.12718345 &  1.00000000 & -0.4971897 & -0.194495804 &  0.049871017\\\\\n\tTemp &  0.698541410 &  0.29408764 & -0.49718972 &  1.0000000 &  0.403971709 & -0.096545800\\\\\n\tMonth &  0.142885168 & -0.07406668 & -0.19449580 &  0.4039717 &  1.000000000 & -0.009001079\\\\\n\tDay & -0.005189769 & -0.05775380 &  0.04987102 & -0.0965458 & -0.009001079 &  1.000000000\\\\\n\\end{tabular}\n",
            "text/plain": [
              "        Ozone        Solar.R     Wind        Temp       Month       \n",
              "Ozone    1.000000000  0.34834169 -0.61249658  0.6985414  0.142885168\n",
              "Solar.R  0.348341693  1.00000000 -0.12718345  0.2940876 -0.074066683\n",
              "Wind    -0.612496576 -0.12718345  1.00000000 -0.4971897 -0.194495804\n",
              "Temp     0.698541410  0.29408764 -0.49718972  1.0000000  0.403971709\n",
              "Month    0.142885168 -0.07406668 -0.19449580  0.4039717  1.000000000\n",
              "Day     -0.005189769 -0.05775380  0.04987102 -0.0965458 -0.009001079\n",
              "        Day         \n",
              "Ozone   -0.005189769\n",
              "Solar.R -0.057753801\n",
              "Wind     0.049871017\n",
              "Temp    -0.096545800\n",
              "Month   -0.009001079\n",
              "Day      1.000000000"
            ]
          },
          "metadata": {}
        }
      ],
      "source": [
        "mydata <- na.omit(airquality)\n",
        "mydata.cor <- cor(mydata)\n",
        "mydata.cor"
      ]
    },
    {
      "cell_type": "code",
      "execution_count": null,
      "metadata": {
        "colab": {
          "base_uri": "https://localhost:8080/",
          "height": 347
        },
        "id": "NcmLfJwSxImG",
        "outputId": "8e4c9c8d-a6d2-47e9-b9a2-e7becf422800"
      },
      "outputs": [
        {
          "output_type": "display_data",
          "data": {
            "text/plain": [
              "        Ozone Solar.R  Wind  Temp Month   Day\n",
              "Ozone    1.00    0.35 -0.61  0.70  0.14 -0.01\n",
              "Solar.R  0.35    1.00 -0.13  0.29 -0.07 -0.06\n",
              "Wind    -0.61   -0.13  1.00 -0.50 -0.19  0.05\n",
              "Temp     0.70    0.29 -0.50  1.00  0.40 -0.10\n",
              "Month    0.14   -0.07 -0.19  0.40  1.00 -0.01\n",
              "Day     -0.01   -0.06  0.05 -0.10 -0.01  1.00\n",
              "\n",
              "n= 111 \n",
              "\n",
              "\n",
              "P\n",
              "        Ozone  Solar.R Wind   Temp   Month  Day   \n",
              "Ozone          0.0002  0.0000 0.0000 0.1346 0.9569\n",
              "Solar.R 0.0002         0.1835 0.0017 0.4398 0.5471\n",
              "Wind    0.0000 0.1835         0.0000 0.0408 0.6032\n",
              "Temp    0.0000 0.0017  0.0000        0.0000 0.3134\n",
              "Month   0.1346 0.4398  0.0408 0.0000        0.9253\n",
              "Day     0.9569 0.5471  0.6032 0.3134 0.9253       "
            ]
          },
          "metadata": {}
        }
      ],
      "source": [
        "mydata.rcorr <- rcorr(as.matrix(mydata)) #???\n",
        "mydata.rcorr"
      ]
    },
    {
      "cell_type": "code",
      "execution_count": null,
      "metadata": {
        "colab": {
          "base_uri": "https://localhost:8080/",
          "height": 437
        },
        "id": "Pa1-9Fu1xglv",
        "outputId": "eedb934a-13db-4829-bbb0-b238a12491e0"
      },
      "outputs": [
        {
          "output_type": "display_data",
          "data": {
            "text/plain": [
              "plot without title"
            ],
            "image/png": "[encoded data removed]"
          },
          "metadata": {
            "image/png": {
              "width": 420,
              "height": 420
            }
          }
        }
      ],
      "source": [
        "heatmap(mydata.cor)"
      ]
    },
    {
      "cell_type": "code",
      "execution_count": null,
      "metadata": {
        "id": "UT4K32dlE1H0"
      },
      "outputs": [],
      "source": [
        "airquality$Month[airquality$Month == 5]<- \"May\"\n",
        "airquality$Month[airquality$Month == 6]<- \"June\"\n",
        "airquality$Month[airquality$Month == 7]<- \"July\"\n",
        "airquality$Month[airquality$Month == 8]<- \"August\"\n",
        "airquality$Month[airquality$Month == 9]<- \"September\"\n",
        "airquality$Month<-factor(airquality$Month, levels=c(\"May\", \"June\",\"July\", \"August\", \"September\"))"
      ]
    },
    {
      "cell_type": "code",
      "execution_count": null,
      "metadata": {
        "colab": {
          "base_uri": "https://localhost:8080/"
        },
        "id": "wy6iYFZlQDjT",
        "outputId": "3ea39e8a-7fff-47e3-ff97-0ec9f5dd1744"
      },
      "outputs": [
        {
          "output_type": "stream",
          "name": "stdout",
          "text": [
            "      Month Count\n",
            "1       May    31\n",
            "2      June    30\n",
            "3      July    31\n",
            "4    August    31\n",
            "5 September    30\n"
          ]
        }
      ],
      "source": [
        "# Create a factor with specified levels and ordered months\n",
        "airquality$Month <- factor(airquality$Month, levels = c(\"May\", \"June\", \"July\", \"August\", \"September\"), ordered = TRUE)\n",
        "\n",
        "# Count the occurrences of each month\n",
        "month_counts <- table(airquality$Month)\n",
        "\n",
        "# Convert the result to a data frame for better visualization (optional)\n",
        "month_counts_df <- data.frame(Month = as.character(names(month_counts)), Count = as.numeric(month_counts))\n",
        "\n",
        "# Display the data frame\n",
        "print(month_counts_df)"
      ]
    },
    {
      "cell_type": "code",
      "execution_count": null,
      "metadata": {
        "id": "DbbKY0FPwLhU"
      },
      "outputs": [],
      "source": [
        "a <- c(airquality$Temp)\n",
        "b <- c(airquality$Ozone)"
      ]
    },
    {
      "cell_type": "code",
      "execution_count": null,
      "metadata": {
        "id": "JnrgNI3PtnZ2"
      },
      "outputs": [],
      "source": [
        "relation = lm(b~a)"
      ]
    },
    {
      "cell_type": "code",
      "execution_count": null,
      "metadata": {
        "colab": {
          "base_uri": "https://localhost:8080/",
          "height": 472
        },
        "id": "qm0wXsInzb5g",
        "outputId": "dd844ebe-91f3-46a6-851d-f013a465c321"
      },
      "outputs": [
        {
          "output_type": "stream",
          "name": "stderr",
          "text": [
            "Warning message:\n",
            "“\u001b[1m\u001b[22m`qplot()` was deprecated in ggplot2 3.4.0.”\n"
          ]
        },
        {
          "output_type": "display_data",
          "data": {
            "text/plain": [
              "plot without title"
            ],
            "image/png": "[encoded data removed]"
          },
          "metadata": {
            "image/png": {
              "width": 420,
              "height": 420
            }
          }
        }
      ],
      "source": [
        "p1 <- qplot(data = airquality,Temp,fill = Month,geom = \"histogram\", bins = 20) + scale_fill_viridis_d()\n",
        "p1"
      ]
    },
    {
      "cell_type": "code",
      "source": [
        "plot.ts(airquality$Temp)"
      ],
      "metadata": {
        "colab": {
          "base_uri": "https://localhost:8080/",
          "height": 437
        },
        "id": "f4pwA4wrVbVR",
        "outputId": "6055845b-9fba-42ee-ce10-e795d81607c0"
      },
      "execution_count": null,
      "outputs": [
        {
          "output_type": "display_data",
          "data": {
            "text/plain": [
              "plot without title"
            ],
            "image/png": "[encoded data removed]"
          },
          "metadata": {
            "image/png": {
              "width": 420,
              "height": 420
            }
          }
        }
      ]
    },
    {
      "cell_type": "markdown",
      "source": [
        "# Time Series"
      ],
      "metadata": {
        "id": "SP3c_wy2Bkli"
      }
    },
    {
      "cell_type": "code",
      "source": [
        "time_series <- ts(airquality)"
      ],
      "metadata": {
        "id": "VZm5diCmB33y"
      },
      "execution_count": null,
      "outputs": []
    },
    {
      "cell_type": "code",
      "source": [
        "time_series"
      ],
      "metadata": {
        "colab": {
          "base_uri": "https://localhost:8080/",
          "height": 1000
        },
        "id": "B0sb_wykCIjw",
        "outputId": "9dc7d597-89fa-4ff2-b67f-4299db024d75"
      },
      "execution_count": null,
      "outputs": [
        {
          "output_type": "display_data",
          "data": {
            "text/html": [
              "<table class=\"dataframe\">\n",
              "<caption>A Time Series: 153 × 6</caption>\n",
              "<thead>\n",
              "\t<tr><th></th><th scope=col>Ozone</th><th scope=col>Solar.R</th><th scope=col>Wind</th><th scope=col>Temp</th><th scope=col>Month</th><th scope=col>Day</th></tr>\n",
              "</thead>\n",
              "<tbody>\n",
              "\t<tr><th scope=row>  1</th><td> 41</td><td>190</td><td> 7.4</td><td>67</td><td>1</td><td> 1</td></tr>\n",
              "\t<tr><th scope=row>  2</th><td> 36</td><td>118</td><td> 8.0</td><td>72</td><td>1</td><td> 2</td></tr>\n",
              "\t<tr><th scope=row>  3</th><td> 12</td><td>149</td><td>12.6</td><td>74</td><td>1</td><td> 3</td></tr>\n",
              "\t<tr><th scope=row>  4</th><td> 18</td><td>313</td><td>11.5</td><td>62</td><td>1</td><td> 4</td></tr>\n",
              "\t<tr><th scope=row>  5</th><td> NA</td><td> NA</td><td>14.3</td><td>56</td><td>1</td><td> 5</td></tr>\n",
              "\t<tr><th scope=row>  6</th><td> 28</td><td> NA</td><td>14.9</td><td>66</td><td>1</td><td> 6</td></tr>\n",
              "\t<tr><th scope=row>  7</th><td> 23</td><td>299</td><td> 8.6</td><td>65</td><td>1</td><td> 7</td></tr>\n",
              "\t<tr><th scope=row>  8</th><td> 19</td><td> 99</td><td>13.8</td><td>59</td><td>1</td><td> 8</td></tr>\n",
              "\t<tr><th scope=row>  9</th><td>  8</td><td> 19</td><td>20.1</td><td>61</td><td>1</td><td> 9</td></tr>\n",
              "\t<tr><th scope=row> 10</th><td> NA</td><td>194</td><td> 8.6</td><td>69</td><td>1</td><td>10</td></tr>\n",
              "\t<tr><th scope=row> 11</th><td>  7</td><td> NA</td><td> 6.9</td><td>74</td><td>1</td><td>11</td></tr>\n",
              "\t<tr><th scope=row> 12</th><td> 16</td><td>256</td><td> 9.7</td><td>69</td><td>1</td><td>12</td></tr>\n",
              "\t<tr><th scope=row> 13</th><td> 11</td><td>290</td><td> 9.2</td><td>66</td><td>1</td><td>13</td></tr>\n",
              "\t<tr><th scope=row> 14</th><td> 14</td><td>274</td><td>10.9</td><td>68</td><td>1</td><td>14</td></tr>\n",
              "\t<tr><th scope=row> 15</th><td> 18</td><td> 65</td><td>13.2</td><td>58</td><td>1</td><td>15</td></tr>\n",
              "\t<tr><th scope=row> 16</th><td> 14</td><td>334</td><td>11.5</td><td>64</td><td>1</td><td>16</td></tr>\n",
              "\t<tr><th scope=row> 17</th><td> 34</td><td>307</td><td>12.0</td><td>66</td><td>1</td><td>17</td></tr>\n",
              "\t<tr><th scope=row> 18</th><td>  6</td><td> 78</td><td>18.4</td><td>57</td><td>1</td><td>18</td></tr>\n",
              "\t<tr><th scope=row> 19</th><td> 30</td><td>322</td><td>11.5</td><td>68</td><td>1</td><td>19</td></tr>\n",
              "\t<tr><th scope=row> 20</th><td> 11</td><td> 44</td><td> 9.7</td><td>62</td><td>1</td><td>20</td></tr>\n",
              "\t<tr><th scope=row> 21</th><td>  1</td><td>  8</td><td> 9.7</td><td>59</td><td>1</td><td>21</td></tr>\n",
              "\t<tr><th scope=row> 22</th><td> 11</td><td>320</td><td>16.6</td><td>73</td><td>1</td><td>22</td></tr>\n",
              "\t<tr><th scope=row> 23</th><td>  4</td><td> 25</td><td> 9.7</td><td>61</td><td>1</td><td>23</td></tr>\n",
              "\t<tr><th scope=row> 24</th><td> 32</td><td> 92</td><td>12.0</td><td>61</td><td>1</td><td>24</td></tr>\n",
              "\t<tr><th scope=row> 25</th><td> NA</td><td> 66</td><td>16.6</td><td>57</td><td>1</td><td>25</td></tr>\n",
              "\t<tr><th scope=row> 26</th><td> NA</td><td>266</td><td>14.9</td><td>58</td><td>1</td><td>26</td></tr>\n",
              "\t<tr><th scope=row> 27</th><td> NA</td><td> NA</td><td> 8.0</td><td>57</td><td>1</td><td>27</td></tr>\n",
              "\t<tr><th scope=row> 28</th><td> 23</td><td> 13</td><td>12.0</td><td>67</td><td>1</td><td>28</td></tr>\n",
              "\t<tr><th scope=row> 29</th><td> 45</td><td>252</td><td>14.9</td><td>81</td><td>1</td><td>29</td></tr>\n",
              "\t<tr><th scope=row> 30</th><td>115</td><td>223</td><td> 5.7</td><td>79</td><td>1</td><td>30</td></tr>\n",
              "\t<tr><th scope=row> 31</th><td> 37</td><td>279</td><td> 7.4</td><td>76</td><td>1</td><td>31</td></tr>\n",
              "\t<tr><th scope=row> 32</th><td> NA</td><td>286</td><td> 8.6</td><td>78</td><td>2</td><td> 1</td></tr>\n",
              "\t<tr><th scope=row> 33</th><td> NA</td><td>287</td><td> 9.7</td><td>74</td><td>2</td><td> 2</td></tr>\n",
              "\t<tr><th scope=row> 34</th><td> NA</td><td>242</td><td>16.1</td><td>67</td><td>2</td><td> 3</td></tr>\n",
              "\t<tr><th scope=row> 35</th><td> NA</td><td>186</td><td> 9.2</td><td>84</td><td>2</td><td> 4</td></tr>\n",
              "\t<tr><th scope=row> 36</th><td> NA</td><td>220</td><td> 8.6</td><td>85</td><td>2</td><td> 5</td></tr>\n",
              "\t<tr><th scope=row> 37</th><td> NA</td><td>264</td><td>14.3</td><td>79</td><td>2</td><td> 6</td></tr>\n",
              "\t<tr><th scope=row> 38</th><td> 29</td><td>127</td><td> 9.7</td><td>82</td><td>2</td><td> 7</td></tr>\n",
              "\t<tr><th scope=row> 39</th><td> NA</td><td>273</td><td> 6.9</td><td>87</td><td>2</td><td> 8</td></tr>\n",
              "\t<tr><th scope=row> 40</th><td> 71</td><td>291</td><td>13.8</td><td>90</td><td>2</td><td> 9</td></tr>\n",
              "\t<tr><th scope=row> 41</th><td> 39</td><td>323</td><td>11.5</td><td>87</td><td>2</td><td>10</td></tr>\n",
              "\t<tr><th scope=row> 42</th><td> NA</td><td>259</td><td>10.9</td><td>93</td><td>2</td><td>11</td></tr>\n",
              "\t<tr><th scope=row> 43</th><td> NA</td><td>250</td><td> 9.2</td><td>92</td><td>2</td><td>12</td></tr>\n",
              "\t<tr><th scope=row> 44</th><td> 23</td><td>148</td><td> 8.0</td><td>82</td><td>2</td><td>13</td></tr>\n",
              "\t<tr><th scope=row> 45</th><td> NA</td><td>332</td><td>13.8</td><td>80</td><td>2</td><td>14</td></tr>\n",
              "\t<tr><th scope=row> 46</th><td> NA</td><td>322</td><td>11.5</td><td>79</td><td>2</td><td>15</td></tr>\n",
              "\t<tr><th scope=row> 47</th><td> 21</td><td>191</td><td>14.9</td><td>77</td><td>2</td><td>16</td></tr>\n",
              "\t<tr><th scope=row> 48</th><td> 37</td><td>284</td><td>20.7</td><td>72</td><td>2</td><td>17</td></tr>\n",
              "\t<tr><th scope=row> 49</th><td> 20</td><td> 37</td><td> 9.2</td><td>65</td><td>2</td><td>18</td></tr>\n",
              "\t<tr><th scope=row> 50</th><td> 12</td><td>120</td><td>11.5</td><td>73</td><td>2</td><td>19</td></tr>\n",
              "\t<tr><th scope=row> 51</th><td> 13</td><td>137</td><td>10.3</td><td>76</td><td>2</td><td>20</td></tr>\n",
              "\t<tr><th scope=row> 52</th><td> NA</td><td>150</td><td> 6.3</td><td>77</td><td>2</td><td>21</td></tr>\n",
              "\t<tr><th scope=row> 53</th><td> NA</td><td> 59</td><td> 1.7</td><td>76</td><td>2</td><td>22</td></tr>\n",
              "\t<tr><th scope=row> 54</th><td> NA</td><td> 91</td><td> 4.6</td><td>76</td><td>2</td><td>23</td></tr>\n",
              "\t<tr><th scope=row> 55</th><td> NA</td><td>250</td><td> 6.3</td><td>76</td><td>2</td><td>24</td></tr>\n",
              "\t<tr><th scope=row> 56</th><td> NA</td><td>135</td><td> 8.0</td><td>75</td><td>2</td><td>25</td></tr>\n",
              "\t<tr><th scope=row> 57</th><td> NA</td><td>127</td><td> 8.0</td><td>78</td><td>2</td><td>26</td></tr>\n",
              "\t<tr><th scope=row> 58</th><td> NA</td><td> 47</td><td>10.3</td><td>73</td><td>2</td><td>27</td></tr>\n",
              "\t<tr><th scope=row> 59</th><td> NA</td><td> 98</td><td>11.5</td><td>80</td><td>2</td><td>28</td></tr>\n",
              "\t<tr><th scope=row> 60</th><td> NA</td><td> 31</td><td>14.9</td><td>77</td><td>2</td><td>29</td></tr>\n",
              "\t<tr><th scope=row> 61</th><td> NA</td><td>138</td><td> 8.0</td><td>83</td><td>2</td><td>30</td></tr>\n",
              "\t<tr><th scope=row> 62</th><td>135</td><td>269</td><td> 4.1</td><td>84</td><td>3</td><td> 1</td></tr>\n",
              "\t<tr><th scope=row> 63</th><td> 49</td><td>248</td><td> 9.2</td><td>85</td><td>3</td><td> 2</td></tr>\n",
              "\t<tr><th scope=row> 64</th><td> 32</td><td>236</td><td> 9.2</td><td>81</td><td>3</td><td> 3</td></tr>\n",
              "\t<tr><th scope=row> 65</th><td> NA</td><td>101</td><td>10.9</td><td>84</td><td>3</td><td> 4</td></tr>\n",
              "\t<tr><th scope=row> 66</th><td> 64</td><td>175</td><td> 4.6</td><td>83</td><td>3</td><td> 5</td></tr>\n",
              "\t<tr><th scope=row> 67</th><td> 40</td><td>314</td><td>10.9</td><td>83</td><td>3</td><td> 6</td></tr>\n",
              "\t<tr><th scope=row> 68</th><td> 77</td><td>276</td><td> 5.1</td><td>88</td><td>3</td><td> 7</td></tr>\n",
              "\t<tr><th scope=row> 69</th><td> 97</td><td>267</td><td> 6.3</td><td>92</td><td>3</td><td> 8</td></tr>\n",
              "\t<tr><th scope=row> 70</th><td> 97</td><td>272</td><td> 5.7</td><td>92</td><td>3</td><td> 9</td></tr>\n",
              "\t<tr><th scope=row> 71</th><td> 85</td><td>175</td><td> 7.4</td><td>89</td><td>3</td><td>10</td></tr>\n",
              "\t<tr><th scope=row> 72</th><td> NA</td><td>139</td><td> 8.6</td><td>82</td><td>3</td><td>11</td></tr>\n",
              "\t<tr><th scope=row> 73</th><td> 10</td><td>264</td><td>14.3</td><td>73</td><td>3</td><td>12</td></tr>\n",
              "\t<tr><th scope=row> 74</th><td> 27</td><td>175</td><td>14.9</td><td>81</td><td>3</td><td>13</td></tr>\n",
              "\t<tr><th scope=row> 75</th><td> NA</td><td>291</td><td>14.9</td><td>91</td><td>3</td><td>14</td></tr>\n",
              "\t<tr><th scope=row> 76</th><td>  7</td><td> 48</td><td>14.3</td><td>80</td><td>3</td><td>15</td></tr>\n",
              "\t<tr><th scope=row> 77</th><td> 48</td><td>260</td><td> 6.9</td><td>81</td><td>3</td><td>16</td></tr>\n",
              "\t<tr><th scope=row> 78</th><td> 35</td><td>274</td><td>10.3</td><td>82</td><td>3</td><td>17</td></tr>\n",
              "\t<tr><th scope=row> 79</th><td> 61</td><td>285</td><td> 6.3</td><td>84</td><td>3</td><td>18</td></tr>\n",
              "\t<tr><th scope=row> 80</th><td> 79</td><td>187</td><td> 5.1</td><td>87</td><td>3</td><td>19</td></tr>\n",
              "\t<tr><th scope=row> 81</th><td> 63</td><td>220</td><td>11.5</td><td>85</td><td>3</td><td>20</td></tr>\n",
              "\t<tr><th scope=row> 82</th><td> 16</td><td>  7</td><td> 6.9</td><td>74</td><td>3</td><td>21</td></tr>\n",
              "\t<tr><th scope=row> 83</th><td> NA</td><td>258</td><td> 9.7</td><td>81</td><td>3</td><td>22</td></tr>\n",
              "\t<tr><th scope=row> 84</th><td> NA</td><td>295</td><td>11.5</td><td>82</td><td>3</td><td>23</td></tr>\n",
              "\t<tr><th scope=row> 85</th><td> 80</td><td>294</td><td> 8.6</td><td>86</td><td>3</td><td>24</td></tr>\n",
              "\t<tr><th scope=row> 86</th><td>108</td><td>223</td><td> 8.0</td><td>85</td><td>3</td><td>25</td></tr>\n",
              "\t<tr><th scope=row> 87</th><td> 20</td><td> 81</td><td> 8.6</td><td>82</td><td>3</td><td>26</td></tr>\n",
              "\t<tr><th scope=row> 88</th><td> 52</td><td> 82</td><td>12.0</td><td>86</td><td>3</td><td>27</td></tr>\n",
              "\t<tr><th scope=row> 89</th><td> 82</td><td>213</td><td> 7.4</td><td>88</td><td>3</td><td>28</td></tr>\n",
              "\t<tr><th scope=row> 90</th><td> 50</td><td>275</td><td> 7.4</td><td>86</td><td>3</td><td>29</td></tr>\n",
              "\t<tr><th scope=row> 91</th><td> 64</td><td>253</td><td> 7.4</td><td>83</td><td>3</td><td>30</td></tr>\n",
              "\t<tr><th scope=row> 92</th><td> 59</td><td>254</td><td> 9.2</td><td>81</td><td>3</td><td>31</td></tr>\n",
              "\t<tr><th scope=row> 93</th><td> 39</td><td> 83</td><td> 6.9</td><td>81</td><td>4</td><td> 1</td></tr>\n",
              "\t<tr><th scope=row> 94</th><td>  9</td><td> 24</td><td>13.8</td><td>81</td><td>4</td><td> 2</td></tr>\n",
              "\t<tr><th scope=row> 95</th><td> 16</td><td> 77</td><td> 7.4</td><td>82</td><td>4</td><td> 3</td></tr>\n",
              "\t<tr><th scope=row> 96</th><td> 78</td><td> NA</td><td> 6.9</td><td>86</td><td>4</td><td> 4</td></tr>\n",
              "\t<tr><th scope=row> 97</th><td> 35</td><td> NA</td><td> 7.4</td><td>85</td><td>4</td><td> 5</td></tr>\n",
              "\t<tr><th scope=row> 98</th><td> 66</td><td> NA</td><td> 4.6</td><td>87</td><td>4</td><td> 6</td></tr>\n",
              "\t<tr><th scope=row> 99</th><td>122</td><td>255</td><td> 4.0</td><td>89</td><td>4</td><td> 7</td></tr>\n",
              "\t<tr><th scope=row>100</th><td> 89</td><td>229</td><td>10.3</td><td>90</td><td>4</td><td> 8</td></tr>\n",
              "\t<tr><th scope=row>101</th><td>110</td><td>207</td><td> 8.0</td><td>90</td><td>4</td><td> 9</td></tr>\n",
              "\t<tr><th scope=row>102</th><td> NA</td><td>222</td><td> 8.6</td><td>92</td><td>4</td><td>10</td></tr>\n",
              "\t<tr><th scope=row>103</th><td> NA</td><td>137</td><td>11.5</td><td>86</td><td>4</td><td>11</td></tr>\n",
              "\t<tr><th scope=row>104</th><td> 44</td><td>192</td><td>11.5</td><td>86</td><td>4</td><td>12</td></tr>\n",
              "\t<tr><th scope=row>105</th><td> 28</td><td>273</td><td>11.5</td><td>82</td><td>4</td><td>13</td></tr>\n",
              "\t<tr><th scope=row>106</th><td> 65</td><td>157</td><td> 9.7</td><td>80</td><td>4</td><td>14</td></tr>\n",
              "\t<tr><th scope=row>107</th><td> NA</td><td> 64</td><td>11.5</td><td>79</td><td>4</td><td>15</td></tr>\n",
              "\t<tr><th scope=row>108</th><td> 22</td><td> 71</td><td>10.3</td><td>77</td><td>4</td><td>16</td></tr>\n",
              "\t<tr><th scope=row>109</th><td> 59</td><td> 51</td><td> 6.3</td><td>79</td><td>4</td><td>17</td></tr>\n",
              "\t<tr><th scope=row>110</th><td> 23</td><td>115</td><td> 7.4</td><td>76</td><td>4</td><td>18</td></tr>\n",
              "\t<tr><th scope=row>111</th><td> 31</td><td>244</td><td>10.9</td><td>78</td><td>4</td><td>19</td></tr>\n",
              "\t<tr><th scope=row>112</th><td> 44</td><td>190</td><td>10.3</td><td>78</td><td>4</td><td>20</td></tr>\n",
              "\t<tr><th scope=row>113</th><td> 21</td><td>259</td><td>15.5</td><td>77</td><td>4</td><td>21</td></tr>\n",
              "\t<tr><th scope=row>114</th><td>  9</td><td> 36</td><td>14.3</td><td>72</td><td>4</td><td>22</td></tr>\n",
              "\t<tr><th scope=row>115</th><td> NA</td><td>255</td><td>12.6</td><td>75</td><td>4</td><td>23</td></tr>\n",
              "\t<tr><th scope=row>116</th><td> 45</td><td>212</td><td> 9.7</td><td>79</td><td>4</td><td>24</td></tr>\n",
              "\t<tr><th scope=row>117</th><td>168</td><td>238</td><td> 3.4</td><td>81</td><td>4</td><td>25</td></tr>\n",
              "\t<tr><th scope=row>118</th><td> 73</td><td>215</td><td> 8.0</td><td>86</td><td>4</td><td>26</td></tr>\n",
              "\t<tr><th scope=row>119</th><td> NA</td><td>153</td><td> 5.7</td><td>88</td><td>4</td><td>27</td></tr>\n",
              "\t<tr><th scope=row>120</th><td> 76</td><td>203</td><td> 9.7</td><td>97</td><td>4</td><td>28</td></tr>\n",
              "\t<tr><th scope=row>121</th><td>118</td><td>225</td><td> 2.3</td><td>94</td><td>4</td><td>29</td></tr>\n",
              "\t<tr><th scope=row>122</th><td> 84</td><td>237</td><td> 6.3</td><td>96</td><td>4</td><td>30</td></tr>\n",
              "\t<tr><th scope=row>123</th><td> 85</td><td>188</td><td> 6.3</td><td>94</td><td>4</td><td>31</td></tr>\n",
              "\t<tr><th scope=row>124</th><td> 96</td><td>167</td><td> 6.9</td><td>91</td><td>5</td><td> 1</td></tr>\n",
              "\t<tr><th scope=row>125</th><td> 78</td><td>197</td><td> 5.1</td><td>92</td><td>5</td><td> 2</td></tr>\n",
              "\t<tr><th scope=row>126</th><td> 73</td><td>183</td><td> 2.8</td><td>93</td><td>5</td><td> 3</td></tr>\n",
              "\t<tr><th scope=row>127</th><td> 91</td><td>189</td><td> 4.6</td><td>93</td><td>5</td><td> 4</td></tr>\n",
              "\t<tr><th scope=row>128</th><td> 47</td><td> 95</td><td> 7.4</td><td>87</td><td>5</td><td> 5</td></tr>\n",
              "\t<tr><th scope=row>129</th><td> 32</td><td> 92</td><td>15.5</td><td>84</td><td>5</td><td> 6</td></tr>\n",
              "\t<tr><th scope=row>130</th><td> 20</td><td>252</td><td>10.9</td><td>80</td><td>5</td><td> 7</td></tr>\n",
              "\t<tr><th scope=row>131</th><td> 23</td><td>220</td><td>10.3</td><td>78</td><td>5</td><td> 8</td></tr>\n",
              "\t<tr><th scope=row>132</th><td> 21</td><td>230</td><td>10.9</td><td>75</td><td>5</td><td> 9</td></tr>\n",
              "\t<tr><th scope=row>133</th><td> 24</td><td>259</td><td> 9.7</td><td>73</td><td>5</td><td>10</td></tr>\n",
              "\t<tr><th scope=row>134</th><td> 44</td><td>236</td><td>14.9</td><td>81</td><td>5</td><td>11</td></tr>\n",
              "\t<tr><th scope=row>135</th><td> 21</td><td>259</td><td>15.5</td><td>76</td><td>5</td><td>12</td></tr>\n",
              "\t<tr><th scope=row>136</th><td> 28</td><td>238</td><td> 6.3</td><td>77</td><td>5</td><td>13</td></tr>\n",
              "\t<tr><th scope=row>137</th><td>  9</td><td> 24</td><td>10.9</td><td>71</td><td>5</td><td>14</td></tr>\n",
              "\t<tr><th scope=row>138</th><td> 13</td><td>112</td><td>11.5</td><td>71</td><td>5</td><td>15</td></tr>\n",
              "\t<tr><th scope=row>139</th><td> 46</td><td>237</td><td> 6.9</td><td>78</td><td>5</td><td>16</td></tr>\n",
              "\t<tr><th scope=row>140</th><td> 18</td><td>224</td><td>13.8</td><td>67</td><td>5</td><td>17</td></tr>\n",
              "\t<tr><th scope=row>141</th><td> 13</td><td> 27</td><td>10.3</td><td>76</td><td>5</td><td>18</td></tr>\n",
              "\t<tr><th scope=row>142</th><td> 24</td><td>238</td><td>10.3</td><td>68</td><td>5</td><td>19</td></tr>\n",
              "\t<tr><th scope=row>143</th><td> 16</td><td>201</td><td> 8.0</td><td>82</td><td>5</td><td>20</td></tr>\n",
              "\t<tr><th scope=row>144</th><td> 13</td><td>238</td><td>12.6</td><td>64</td><td>5</td><td>21</td></tr>\n",
              "\t<tr><th scope=row>145</th><td> 23</td><td> 14</td><td> 9.2</td><td>71</td><td>5</td><td>22</td></tr>\n",
              "\t<tr><th scope=row>146</th><td> 36</td><td>139</td><td>10.3</td><td>81</td><td>5</td><td>23</td></tr>\n",
              "\t<tr><th scope=row>147</th><td>  7</td><td> 49</td><td>10.3</td><td>69</td><td>5</td><td>24</td></tr>\n",
              "\t<tr><th scope=row>148</th><td> 14</td><td> 20</td><td>16.6</td><td>63</td><td>5</td><td>25</td></tr>\n",
              "\t<tr><th scope=row>149</th><td> 30</td><td>193</td><td> 6.9</td><td>70</td><td>5</td><td>26</td></tr>\n",
              "\t<tr><th scope=row>150</th><td> NA</td><td>145</td><td>13.2</td><td>77</td><td>5</td><td>27</td></tr>\n",
              "\t<tr><th scope=row>151</th><td> 14</td><td>191</td><td>14.3</td><td>75</td><td>5</td><td>28</td></tr>\n",
              "\t<tr><th scope=row>152</th><td> 18</td><td>131</td><td> 8.0</td><td>76</td><td>5</td><td>29</td></tr>\n",
              "\t<tr><th scope=row>153</th><td> 20</td><td>223</td><td>11.5</td><td>68</td><td>5</td><td>30</td></tr>\n",
              "</tbody>\n",
              "</table>\n"
            ],
            "text/markdown": "\nA Time Series: 153 × 6\n\n| <!--/--> | Ozone | Solar.R | Wind | Temp | Month | Day |\n|---|---|---|---|---|---|---|\n|   1 |  41 | 190 |  7.4 | 67 | 1 |  1 |\n|   2 |  36 | 118 |  8.0 | 72 | 1 |  2 |\n|   3 |  12 | 149 | 12.6 | 74 | 1 |  3 |\n|   4 |  18 | 313 | 11.5 | 62 | 1 |  4 |\n|   5 |  NA |  NA | 14.3 | 56 | 1 |  5 |\n|   6 |  28 |  NA | 14.9 | 66 | 1 |  6 |\n|   7 |  23 | 299 |  8.6 | 65 | 1 |  7 |\n|   8 |  19 |  99 | 13.8 | 59 | 1 |  8 |\n|   9 |   8 |  19 | 20.1 | 61 | 1 |  9 |\n|  10 |  NA | 194 |  8.6 | 69 | 1 | 10 |\n|  11 |   7 |  NA |  6.9 | 74 | 1 | 11 |\n|  12 |  16 | 256 |  9.7 | 69 | 1 | 12 |\n|  13 |  11 | 290 |  9.2 | 66 | 1 | 13 |\n|  14 |  14 | 274 | 10.9 | 68 | 1 | 14 |\n|  15 |  18 |  65 | 13.2 | 58 | 1 | 15 |\n|  16 |  14 | 334 | 11.5 | 64 | 1 | 16 |\n|  17 |  34 | 307 | 12.0 | 66 | 1 | 17 |\n|  18 |   6 |  78 | 18.4 | 57 | 1 | 18 |\n|  19 |  30 | 322 | 11.5 | 68 | 1 | 19 |\n|  20 |  11 |  44 |  9.7 | 62 | 1 | 20 |\n|  21 |   1 |   8 |  9.7 | 59 | 1 | 21 |\n|  22 |  11 | 320 | 16.6 | 73 | 1 | 22 |\n|  23 |   4 |  25 |  9.7 | 61 | 1 | 23 |\n|  24 |  32 |  92 | 12.0 | 61 | 1 | 24 |\n|  25 |  NA |  66 | 16.6 | 57 | 1 | 25 |\n|  26 |  NA | 266 | 14.9 | 58 | 1 | 26 |\n|  27 |  NA |  NA |  8.0 | 57 | 1 | 27 |\n|  28 |  23 |  13 | 12.0 | 67 | 1 | 28 |\n|  29 |  45 | 252 | 14.9 | 81 | 1 | 29 |\n|  30 | 115 | 223 |  5.7 | 79 | 1 | 30 |\n|  31 |  37 | 279 |  7.4 | 76 | 1 | 31 |\n|  32 |  NA | 286 |  8.6 | 78 | 2 |  1 |\n|  33 |  NA | 287 |  9.7 | 74 | 2 |  2 |\n|  34 |  NA | 242 | 16.1 | 67 | 2 |  3 |\n|  35 |  NA | 186 |  9.2 | 84 | 2 |  4 |\n|  36 |  NA | 220 |  8.6 | 85 | 2 |  5 |\n|  37 |  NA | 264 | 14.3 | 79 | 2 |  6 |\n|  38 |  29 | 127 |  9.7 | 82 | 2 |  7 |\n|  39 |  NA | 273 |  6.9 | 87 | 2 |  8 |\n|  40 |  71 | 291 | 13.8 | 90 | 2 |  9 |\n|  41 |  39 | 323 | 11.5 | 87 | 2 | 10 |\n|  42 |  NA | 259 | 10.9 | 93 | 2 | 11 |\n|  43 |  NA | 250 |  9.2 | 92 | 2 | 12 |\n|  44 |  23 | 148 |  8.0 | 82 | 2 | 13 |\n|  45 |  NA | 332 | 13.8 | 80 | 2 | 14 |\n|  46 |  NA | 322 | 11.5 | 79 | 2 | 15 |\n|  47 |  21 | 191 | 14.9 | 77 | 2 | 16 |\n|  48 |  37 | 284 | 20.7 | 72 | 2 | 17 |\n|  49 |  20 |  37 |  9.2 | 65 | 2 | 18 |\n|  50 |  12 | 120 | 11.5 | 73 | 2 | 19 |\n|  51 |  13 | 137 | 10.3 | 76 | 2 | 20 |\n|  52 |  NA | 150 |  6.3 | 77 | 2 | 21 |\n|  53 |  NA |  59 |  1.7 | 76 | 2 | 22 |\n|  54 |  NA |  91 |  4.6 | 76 | 2 | 23 |\n|  55 |  NA | 250 |  6.3 | 76 | 2 | 24 |\n|  56 |  NA | 135 |  8.0 | 75 | 2 | 25 |\n|  57 |  NA | 127 |  8.0 | 78 | 2 | 26 |\n|  58 |  NA |  47 | 10.3 | 73 | 2 | 27 |\n|  59 |  NA |  98 | 11.5 | 80 | 2 | 28 |\n|  60 |  NA |  31 | 14.9 | 77 | 2 | 29 |\n|  61 |  NA | 138 |  8.0 | 83 | 2 | 30 |\n|  62 | 135 | 269 |  4.1 | 84 | 3 |  1 |\n|  63 |  49 | 248 |  9.2 | 85 | 3 |  2 |\n|  64 |  32 | 236 |  9.2 | 81 | 3 |  3 |\n|  65 |  NA | 101 | 10.9 | 84 | 3 |  4 |\n|  66 |  64 | 175 |  4.6 | 83 | 3 |  5 |\n|  67 |  40 | 314 | 10.9 | 83 | 3 |  6 |\n|  68 |  77 | 276 |  5.1 | 88 | 3 |  7 |\n|  69 |  97 | 267 |  6.3 | 92 | 3 |  8 |\n|  70 |  97 | 272 |  5.7 | 92 | 3 |  9 |\n|  71 |  85 | 175 |  7.4 | 89 | 3 | 10 |\n|  72 |  NA | 139 |  8.6 | 82 | 3 | 11 |\n|  73 |  10 | 264 | 14.3 | 73 | 3 | 12 |\n|  74 |  27 | 175 | 14.9 | 81 | 3 | 13 |\n|  75 |  NA | 291 | 14.9 | 91 | 3 | 14 |\n|  76 |   7 |  48 | 14.3 | 80 | 3 | 15 |\n|  77 |  48 | 260 |  6.9 | 81 | 3 | 16 |\n|  78 |  35 | 274 | 10.3 | 82 | 3 | 17 |\n|  79 |  61 | 285 |  6.3 | 84 | 3 | 18 |\n|  80 |  79 | 187 |  5.1 | 87 | 3 | 19 |\n|  81 |  63 | 220 | 11.5 | 85 | 3 | 20 |\n|  82 |  16 |   7 |  6.9 | 74 | 3 | 21 |\n|  83 |  NA | 258 |  9.7 | 81 | 3 | 22 |\n|  84 |  NA | 295 | 11.5 | 82 | 3 | 23 |\n|  85 |  80 | 294 |  8.6 | 86 | 3 | 24 |\n|  86 | 108 | 223 |  8.0 | 85 | 3 | 25 |\n|  87 |  20 |  81 |  8.6 | 82 | 3 | 26 |\n|  88 |  52 |  82 | 12.0 | 86 | 3 | 27 |\n|  89 |  82 | 213 |  7.4 | 88 | 3 | 28 |\n|  90 |  50 | 275 |  7.4 | 86 | 3 | 29 |\n|  91 |  64 | 253 |  7.4 | 83 | 3 | 30 |\n|  92 |  59 | 254 |  9.2 | 81 | 3 | 31 |\n|  93 |  39 |  83 |  6.9 | 81 | 4 |  1 |\n|  94 |   9 |  24 | 13.8 | 81 | 4 |  2 |\n|  95 |  16 |  77 |  7.4 | 82 | 4 |  3 |\n|  96 |  78 |  NA |  6.9 | 86 | 4 |  4 |\n|  97 |  35 |  NA |  7.4 | 85 | 4 |  5 |\n|  98 |  66 |  NA |  4.6 | 87 | 4 |  6 |\n|  99 | 122 | 255 |  4.0 | 89 | 4 |  7 |\n| 100 |  89 | 229 | 10.3 | 90 | 4 |  8 |\n| 101 | 110 | 207 |  8.0 | 90 | 4 |  9 |\n| 102 |  NA | 222 |  8.6 | 92 | 4 | 10 |\n| 103 |  NA | 137 | 11.5 | 86 | 4 | 11 |\n| 104 |  44 | 192 | 11.5 | 86 | 4 | 12 |\n| 105 |  28 | 273 | 11.5 | 82 | 4 | 13 |\n| 106 |  65 | 157 |  9.7 | 80 | 4 | 14 |\n| 107 |  NA |  64 | 11.5 | 79 | 4 | 15 |\n| 108 |  22 |  71 | 10.3 | 77 | 4 | 16 |\n| 109 |  59 |  51 |  6.3 | 79 | 4 | 17 |\n| 110 |  23 | 115 |  7.4 | 76 | 4 | 18 |\n| 111 |  31 | 244 | 10.9 | 78 | 4 | 19 |\n| 112 |  44 | 190 | 10.3 | 78 | 4 | 20 |\n| 113 |  21 | 259 | 15.5 | 77 | 4 | 21 |\n| 114 |   9 |  36 | 14.3 | 72 | 4 | 22 |\n| 115 |  NA | 255 | 12.6 | 75 | 4 | 23 |\n| 116 |  45 | 212 |  9.7 | 79 | 4 | 24 |\n| 117 | 168 | 238 |  3.4 | 81 | 4 | 25 |\n| 118 |  73 | 215 |  8.0 | 86 | 4 | 26 |\n| 119 |  NA | 153 |  5.7 | 88 | 4 | 27 |\n| 120 |  76 | 203 |  9.7 | 97 | 4 | 28 |\n| 121 | 118 | 225 |  2.3 | 94 | 4 | 29 |\n| 122 |  84 | 237 |  6.3 | 96 | 4 | 30 |\n| 123 |  85 | 188 |  6.3 | 94 | 4 | 31 |\n| 124 |  96 | 167 |  6.9 | 91 | 5 |  1 |\n| 125 |  78 | 197 |  5.1 | 92 | 5 |  2 |\n| 126 |  73 | 183 |  2.8 | 93 | 5 |  3 |\n| 127 |  91 | 189 |  4.6 | 93 | 5 |  4 |\n| 128 |  47 |  95 |  7.4 | 87 | 5 |  5 |\n| 129 |  32 |  92 | 15.5 | 84 | 5 |  6 |\n| 130 |  20 | 252 | 10.9 | 80 | 5 |  7 |\n| 131 |  23 | 220 | 10.3 | 78 | 5 |  8 |\n| 132 |  21 | 230 | 10.9 | 75 | 5 |  9 |\n| 133 |  24 | 259 |  9.7 | 73 | 5 | 10 |\n| 134 |  44 | 236 | 14.9 | 81 | 5 | 11 |\n| 135 |  21 | 259 | 15.5 | 76 | 5 | 12 |\n| 136 |  28 | 238 |  6.3 | 77 | 5 | 13 |\n| 137 |   9 |  24 | 10.9 | 71 | 5 | 14 |\n| 138 |  13 | 112 | 11.5 | 71 | 5 | 15 |\n| 139 |  46 | 237 |  6.9 | 78 | 5 | 16 |\n| 140 |  18 | 224 | 13.8 | 67 | 5 | 17 |\n| 141 |  13 |  27 | 10.3 | 76 | 5 | 18 |\n| 142 |  24 | 238 | 10.3 | 68 | 5 | 19 |\n| 143 |  16 | 201 |  8.0 | 82 | 5 | 20 |\n| 144 |  13 | 238 | 12.6 | 64 | 5 | 21 |\n| 145 |  23 |  14 |  9.2 | 71 | 5 | 22 |\n| 146 |  36 | 139 | 10.3 | 81 | 5 | 23 |\n| 147 |   7 |  49 | 10.3 | 69 | 5 | 24 |\n| 148 |  14 |  20 | 16.6 | 63 | 5 | 25 |\n| 149 |  30 | 193 |  6.9 | 70 | 5 | 26 |\n| 150 |  NA | 145 | 13.2 | 77 | 5 | 27 |\n| 151 |  14 | 191 | 14.3 | 75 | 5 | 28 |\n| 152 |  18 | 131 |  8.0 | 76 | 5 | 29 |\n| 153 |  20 | 223 | 11.5 | 68 | 5 | 30 |\n\n",
            "text/latex": "A Time Series: 153 × 6\n\\begin{tabular}{r|llllll}\n  & Ozone & Solar.R & Wind & Temp & Month & Day\\\\\n\\hline\n\t  1 &  41 & 190 &  7.4 & 67 & 1 &  1\\\\\n\t  2 &  36 & 118 &  8.0 & 72 & 1 &  2\\\\\n\t  3 &  12 & 149 & 12.6 & 74 & 1 &  3\\\\\n\t  4 &  18 & 313 & 11.5 & 62 & 1 &  4\\\\\n\t  5 &  NA &  NA & 14.3 & 56 & 1 &  5\\\\\n\t  6 &  28 &  NA & 14.9 & 66 & 1 &  6\\\\\n\t  7 &  23 & 299 &  8.6 & 65 & 1 &  7\\\\\n\t  8 &  19 &  99 & 13.8 & 59 & 1 &  8\\\\\n\t  9 &   8 &  19 & 20.1 & 61 & 1 &  9\\\\\n\t 10 &  NA & 194 &  8.6 & 69 & 1 & 10\\\\\n\t 11 &   7 &  NA &  6.9 & 74 & 1 & 11\\\\\n\t 12 &  16 & 256 &  9.7 & 69 & 1 & 12\\\\\n\t 13 &  11 & 290 &  9.2 & 66 & 1 & 13\\\\\n\t 14 &  14 & 274 & 10.9 & 68 & 1 & 14\\\\\n\t 15 &  18 &  65 & 13.2 & 58 & 1 & 15\\\\\n\t 16 &  14 & 334 & 11.5 & 64 & 1 & 16\\\\\n\t 17 &  34 & 307 & 12.0 & 66 & 1 & 17\\\\\n\t 18 &   6 &  78 & 18.4 & 57 & 1 & 18\\\\\n\t 19 &  30 & 322 & 11.5 & 68 & 1 & 19\\\\\n\t 20 &  11 &  44 &  9.7 & 62 & 1 & 20\\\\\n\t 21 &   1 &   8 &  9.7 & 59 & 1 & 21\\\\\n\t 22 &  11 & 320 & 16.6 & 73 & 1 & 22\\\\\n\t 23 &   4 &  25 &  9.7 & 61 & 1 & 23\\\\\n\t 24 &  32 &  92 & 12.0 & 61 & 1 & 24\\\\\n\t 25 &  NA &  66 & 16.6 & 57 & 1 & 25\\\\\n\t 26 &  NA & 266 & 14.9 & 58 & 1 & 26\\\\\n\t 27 &  NA &  NA &  8.0 & 57 & 1 & 27\\\\\n\t 28 &  23 &  13 & 12.0 & 67 & 1 & 28\\\\\n\t 29 &  45 & 252 & 14.9 & 81 & 1 & 29\\\\\n\t 30 & 115 & 223 &  5.7 & 79 & 1 & 30\\\\\n\t 31 &  37 & 279 &  7.4 & 76 & 1 & 31\\\\\n\t 32 &  NA & 286 &  8.6 & 78 & 2 &  1\\\\\n\t 33 &  NA & 287 &  9.7 & 74 & 2 &  2\\\\\n\t 34 &  NA & 242 & 16.1 & 67 & 2 &  3\\\\\n\t 35 &  NA & 186 &  9.2 & 84 & 2 &  4\\\\\n\t 36 &  NA & 220 &  8.6 & 85 & 2 &  5\\\\\n\t 37 &  NA & 264 & 14.3 & 79 & 2 &  6\\\\\n\t 38 &  29 & 127 &  9.7 & 82 & 2 &  7\\\\\n\t 39 &  NA & 273 &  6.9 & 87 & 2 &  8\\\\\n\t 40 &  71 & 291 & 13.8 & 90 & 2 &  9\\\\\n\t 41 &  39 & 323 & 11.5 & 87 & 2 & 10\\\\\n\t 42 &  NA & 259 & 10.9 & 93 & 2 & 11\\\\\n\t 43 &  NA & 250 &  9.2 & 92 & 2 & 12\\\\\n\t 44 &  23 & 148 &  8.0 & 82 & 2 & 13\\\\\n\t 45 &  NA & 332 & 13.8 & 80 & 2 & 14\\\\\n\t 46 &  NA & 322 & 11.5 & 79 & 2 & 15\\\\\n\t 47 &  21 & 191 & 14.9 & 77 & 2 & 16\\\\\n\t 48 &  37 & 284 & 20.7 & 72 & 2 & 17\\\\\n\t 49 &  20 &  37 &  9.2 & 65 & 2 & 18\\\\\n\t 50 &  12 & 120 & 11.5 & 73 & 2 & 19\\\\\n\t 51 &  13 & 137 & 10.3 & 76 & 2 & 20\\\\\n\t 52 &  NA & 150 &  6.3 & 77 & 2 & 21\\\\\n\t 53 &  NA &  59 &  1.7 & 76 & 2 & 22\\\\\n\t 54 &  NA &  91 &  4.6 & 76 & 2 & 23\\\\\n\t 55 &  NA & 250 &  6.3 & 76 & 2 & 24\\\\\n\t 56 &  NA & 135 &  8.0 & 75 & 2 & 25\\\\\n\t 57 &  NA & 127 &  8.0 & 78 & 2 & 26\\\\\n\t 58 &  NA &  47 & 10.3 & 73 & 2 & 27\\\\\n\t 59 &  NA &  98 & 11.5 & 80 & 2 & 28\\\\\n\t 60 &  NA &  31 & 14.9 & 77 & 2 & 29\\\\\n\t 61 &  NA & 138 &  8.0 & 83 & 2 & 30\\\\\n\t 62 & 135 & 269 &  4.1 & 84 & 3 &  1\\\\\n\t 63 &  49 & 248 &  9.2 & 85 & 3 &  2\\\\\n\t 64 &  32 & 236 &  9.2 & 81 & 3 &  3\\\\\n\t 65 &  NA & 101 & 10.9 & 84 & 3 &  4\\\\\n\t 66 &  64 & 175 &  4.6 & 83 & 3 &  5\\\\\n\t 67 &  40 & 314 & 10.9 & 83 & 3 &  6\\\\\n\t 68 &  77 & 276 &  5.1 & 88 & 3 &  7\\\\\n\t 69 &  97 & 267 &  6.3 & 92 & 3 &  8\\\\\n\t 70 &  97 & 272 &  5.7 & 92 & 3 &  9\\\\\n\t 71 &  85 & 175 &  7.4 & 89 & 3 & 10\\\\\n\t 72 &  NA & 139 &  8.6 & 82 & 3 & 11\\\\\n\t 73 &  10 & 264 & 14.3 & 73 & 3 & 12\\\\\n\t 74 &  27 & 175 & 14.9 & 81 & 3 & 13\\\\\n\t 75 &  NA & 291 & 14.9 & 91 & 3 & 14\\\\\n\t 76 &   7 &  48 & 14.3 & 80 & 3 & 15\\\\\n\t 77 &  48 & 260 &  6.9 & 81 & 3 & 16\\\\\n\t 78 &  35 & 274 & 10.3 & 82 & 3 & 17\\\\\n\t 79 &  61 & 285 &  6.3 & 84 & 3 & 18\\\\\n\t 80 &  79 & 187 &  5.1 & 87 & 3 & 19\\\\\n\t 81 &  63 & 220 & 11.5 & 85 & 3 & 20\\\\\n\t 82 &  16 &   7 &  6.9 & 74 & 3 & 21\\\\\n\t 83 &  NA & 258 &  9.7 & 81 & 3 & 22\\\\\n\t 84 &  NA & 295 & 11.5 & 82 & 3 & 23\\\\\n\t 85 &  80 & 294 &  8.6 & 86 & 3 & 24\\\\\n\t 86 & 108 & 223 &  8.0 & 85 & 3 & 25\\\\\n\t 87 &  20 &  81 &  8.6 & 82 & 3 & 26\\\\\n\t 88 &  52 &  82 & 12.0 & 86 & 3 & 27\\\\\n\t 89 &  82 & 213 &  7.4 & 88 & 3 & 28\\\\\n\t 90 &  50 & 275 &  7.4 & 86 & 3 & 29\\\\\n\t 91 &  64 & 253 &  7.4 & 83 & 3 & 30\\\\\n\t 92 &  59 & 254 &  9.2 & 81 & 3 & 31\\\\\n\t 93 &  39 &  83 &  6.9 & 81 & 4 &  1\\\\\n\t 94 &   9 &  24 & 13.8 & 81 & 4 &  2\\\\\n\t 95 &  16 &  77 &  7.4 & 82 & 4 &  3\\\\\n\t 96 &  78 &  NA &  6.9 & 86 & 4 &  4\\\\\n\t 97 &  35 &  NA &  7.4 & 85 & 4 &  5\\\\\n\t 98 &  66 &  NA &  4.6 & 87 & 4 &  6\\\\\n\t 99 & 122 & 255 &  4.0 & 89 & 4 &  7\\\\\n\t100 &  89 & 229 & 10.3 & 90 & 4 &  8\\\\\n\t101 & 110 & 207 &  8.0 & 90 & 4 &  9\\\\\n\t102 &  NA & 222 &  8.6 & 92 & 4 & 10\\\\\n\t103 &  NA & 137 & 11.5 & 86 & 4 & 11\\\\\n\t104 &  44 & 192 & 11.5 & 86 & 4 & 12\\\\\n\t105 &  28 & 273 & 11.5 & 82 & 4 & 13\\\\\n\t106 &  65 & 157 &  9.7 & 80 & 4 & 14\\\\\n\t107 &  NA &  64 & 11.5 & 79 & 4 & 15\\\\\n\t108 &  22 &  71 & 10.3 & 77 & 4 & 16\\\\\n\t109 &  59 &  51 &  6.3 & 79 & 4 & 17\\\\\n\t110 &  23 & 115 &  7.4 & 76 & 4 & 18\\\\\n\t111 &  31 & 244 & 10.9 & 78 & 4 & 19\\\\\n\t112 &  44 & 190 & 10.3 & 78 & 4 & 20\\\\\n\t113 &  21 & 259 & 15.5 & 77 & 4 & 21\\\\\n\t114 &   9 &  36 & 14.3 & 72 & 4 & 22\\\\\n\t115 &  NA & 255 & 12.6 & 75 & 4 & 23\\\\\n\t116 &  45 & 212 &  9.7 & 79 & 4 & 24\\\\\n\t117 & 168 & 238 &  3.4 & 81 & 4 & 25\\\\\n\t118 &  73 & 215 &  8.0 & 86 & 4 & 26\\\\\n\t119 &  NA & 153 &  5.7 & 88 & 4 & 27\\\\\n\t120 &  76 & 203 &  9.7 & 97 & 4 & 28\\\\\n\t121 & 118 & 225 &  2.3 & 94 & 4 & 29\\\\\n\t122 &  84 & 237 &  6.3 & 96 & 4 & 30\\\\\n\t123 &  85 & 188 &  6.3 & 94 & 4 & 31\\\\\n\t124 &  96 & 167 &  6.9 & 91 & 5 &  1\\\\\n\t125 &  78 & 197 &  5.1 & 92 & 5 &  2\\\\\n\t126 &  73 & 183 &  2.8 & 93 & 5 &  3\\\\\n\t127 &  91 & 189 &  4.6 & 93 & 5 &  4\\\\\n\t128 &  47 &  95 &  7.4 & 87 & 5 &  5\\\\\n\t129 &  32 &  92 & 15.5 & 84 & 5 &  6\\\\\n\t130 &  20 & 252 & 10.9 & 80 & 5 &  7\\\\\n\t131 &  23 & 220 & 10.3 & 78 & 5 &  8\\\\\n\t132 &  21 & 230 & 10.9 & 75 & 5 &  9\\\\\n\t133 &  24 & 259 &  9.7 & 73 & 5 & 10\\\\\n\t134 &  44 & 236 & 14.9 & 81 & 5 & 11\\\\\n\t135 &  21 & 259 & 15.5 & 76 & 5 & 12\\\\\n\t136 &  28 & 238 &  6.3 & 77 & 5 & 13\\\\\n\t137 &   9 &  24 & 10.9 & 71 & 5 & 14\\\\\n\t138 &  13 & 112 & 11.5 & 71 & 5 & 15\\\\\n\t139 &  46 & 237 &  6.9 & 78 & 5 & 16\\\\\n\t140 &  18 & 224 & 13.8 & 67 & 5 & 17\\\\\n\t141 &  13 &  27 & 10.3 & 76 & 5 & 18\\\\\n\t142 &  24 & 238 & 10.3 & 68 & 5 & 19\\\\\n\t143 &  16 & 201 &  8.0 & 82 & 5 & 20\\\\\n\t144 &  13 & 238 & 12.6 & 64 & 5 & 21\\\\\n\t145 &  23 &  14 &  9.2 & 71 & 5 & 22\\\\\n\t146 &  36 & 139 & 10.3 & 81 & 5 & 23\\\\\n\t147 &   7 &  49 & 10.3 & 69 & 5 & 24\\\\\n\t148 &  14 &  20 & 16.6 & 63 & 5 & 25\\\\\n\t149 &  30 & 193 &  6.9 & 70 & 5 & 26\\\\\n\t150 &  NA & 145 & 13.2 & 77 & 5 & 27\\\\\n\t151 &  14 & 191 & 14.3 & 75 & 5 & 28\\\\\n\t152 &  18 & 131 &  8.0 & 76 & 5 & 29\\\\\n\t153 &  20 & 223 & 11.5 & 68 & 5 & 30\\\\\n\\end{tabular}\n",
            "text/plain": [
              "    Ozone Solar.R Wind Temp Month Day\n",
              "  1  41   190      7.4 67   1      1 \n",
              "  2  36   118      8.0 72   1      2 \n",
              "  3  12   149     12.6 74   1      3 \n",
              "  4  18   313     11.5 62   1      4 \n",
              "  5  NA    NA     14.3 56   1      5 \n",
              "  6  28    NA     14.9 66   1      6 \n",
              "  7  23   299      8.6 65   1      7 \n",
              "  8  19    99     13.8 59   1      8 \n",
              "  9   8    19     20.1 61   1      9 \n",
              " 10  NA   194      8.6 69   1     10 \n",
              " 11   7    NA      6.9 74   1     11 \n",
              " 12  16   256      9.7 69   1     12 \n",
              " 13  11   290      9.2 66   1     13 \n",
              " 14  14   274     10.9 68   1     14 \n",
              " 15  18    65     13.2 58   1     15 \n",
              " 16  14   334     11.5 64   1     16 \n",
              " 17  34   307     12.0 66   1     17 \n",
              " 18   6    78     18.4 57   1     18 \n",
              " 19  30   322     11.5 68   1     19 \n",
              " 20  11    44      9.7 62   1     20 \n",
              " 21   1     8      9.7 59   1     21 \n",
              " 22  11   320     16.6 73   1     22 \n",
              " 23   4    25      9.7 61   1     23 \n",
              " 24  32    92     12.0 61   1     24 \n",
              " 25  NA    66     16.6 57   1     25 \n",
              " 26  NA   266     14.9 58   1     26 \n",
              " 27  NA    NA      8.0 57   1     27 \n",
              " 28  23    13     12.0 67   1     28 \n",
              " 29  45   252     14.9 81   1     29 \n",
              " 30 115   223      5.7 79   1     30 \n",
              " 31  37   279      7.4 76   1     31 \n",
              " 32  NA   286      8.6 78   2      1 \n",
              " 33  NA   287      9.7 74   2      2 \n",
              " 34  NA   242     16.1 67   2      3 \n",
              " 35  NA   186      9.2 84   2      4 \n",
              " 36  NA   220      8.6 85   2      5 \n",
              " 37  NA   264     14.3 79   2      6 \n",
              " 38  29   127      9.7 82   2      7 \n",
              " 39  NA   273      6.9 87   2      8 \n",
              " 40  71   291     13.8 90   2      9 \n",
              " 41  39   323     11.5 87   2     10 \n",
              " 42  NA   259     10.9 93   2     11 \n",
              " 43  NA   250      9.2 92   2     12 \n",
              " 44  23   148      8.0 82   2     13 \n",
              " 45  NA   332     13.8 80   2     14 \n",
              " 46  NA   322     11.5 79   2     15 \n",
              " 47  21   191     14.9 77   2     16 \n",
              " 48  37   284     20.7 72   2     17 \n",
              " 49  20    37      9.2 65   2     18 \n",
              " 50  12   120     11.5 73   2     19 \n",
              " 51  13   137     10.3 76   2     20 \n",
              " 52  NA   150      6.3 77   2     21 \n",
              " 53  NA    59      1.7 76   2     22 \n",
              " 54  NA    91      4.6 76   2     23 \n",
              " 55  NA   250      6.3 76   2     24 \n",
              " 56  NA   135      8.0 75   2     25 \n",
              " 57  NA   127      8.0 78   2     26 \n",
              " 58  NA    47     10.3 73   2     27 \n",
              " 59  NA    98     11.5 80   2     28 \n",
              " 60  NA    31     14.9 77   2     29 \n",
              " 61  NA   138      8.0 83   2     30 \n",
              " 62 135   269      4.1 84   3      1 \n",
              " 63  49   248      9.2 85   3      2 \n",
              " 64  32   236      9.2 81   3      3 \n",
              " 65  NA   101     10.9 84   3      4 \n",
              " 66  64   175      4.6 83   3      5 \n",
              " 67  40   314     10.9 83   3      6 \n",
              " 68  77   276      5.1 88   3      7 \n",
              " 69  97   267      6.3 92   3      8 \n",
              " 70  97   272      5.7 92   3      9 \n",
              " 71  85   175      7.4 89   3     10 \n",
              " 72  NA   139      8.6 82   3     11 \n",
              " 73  10   264     14.3 73   3     12 \n",
              " 74  27   175     14.9 81   3     13 \n",
              " 75  NA   291     14.9 91   3     14 \n",
              " 76   7    48     14.3 80   3     15 \n",
              " 77  48   260      6.9 81   3     16 \n",
              " 78  35   274     10.3 82   3     17 \n",
              " 79  61   285      6.3 84   3     18 \n",
              " 80  79   187      5.1 87   3     19 \n",
              " 81  63   220     11.5 85   3     20 \n",
              " 82  16     7      6.9 74   3     21 \n",
              " 83  NA   258      9.7 81   3     22 \n",
              " 84  NA   295     11.5 82   3     23 \n",
              " 85  80   294      8.6 86   3     24 \n",
              " 86 108   223      8.0 85   3     25 \n",
              " 87  20    81      8.6 82   3     26 \n",
              " 88  52    82     12.0 86   3     27 \n",
              " 89  82   213      7.4 88   3     28 \n",
              " 90  50   275      7.4 86   3     29 \n",
              " 91  64   253      7.4 83   3     30 \n",
              " 92  59   254      9.2 81   3     31 \n",
              " 93  39    83      6.9 81   4      1 \n",
              " 94   9    24     13.8 81   4      2 \n",
              " 95  16    77      7.4 82   4      3 \n",
              " 96  78    NA      6.9 86   4      4 \n",
              " 97  35    NA      7.4 85   4      5 \n",
              " 98  66    NA      4.6 87   4      6 \n",
              " 99 122   255      4.0 89   4      7 \n",
              "100  89   229     10.3 90   4      8 \n",
              "101 110   207      8.0 90   4      9 \n",
              "102  NA   222      8.6 92   4     10 \n",
              "103  NA   137     11.5 86   4     11 \n",
              "104  44   192     11.5 86   4     12 \n",
              "105  28   273     11.5 82   4     13 \n",
              "106  65   157      9.7 80   4     14 \n",
              "107  NA    64     11.5 79   4     15 \n",
              "108  22    71     10.3 77   4     16 \n",
              "109  59    51      6.3 79   4     17 \n",
              "110  23   115      7.4 76   4     18 \n",
              "111  31   244     10.9 78   4     19 \n",
              "112  44   190     10.3 78   4     20 \n",
              "113  21   259     15.5 77   4     21 \n",
              "114   9    36     14.3 72   4     22 \n",
              "115  NA   255     12.6 75   4     23 \n",
              "116  45   212      9.7 79   4     24 \n",
              "117 168   238      3.4 81   4     25 \n",
              "118  73   215      8.0 86   4     26 \n",
              "119  NA   153      5.7 88   4     27 \n",
              "120  76   203      9.7 97   4     28 \n",
              "121 118   225      2.3 94   4     29 \n",
              "122  84   237      6.3 96   4     30 \n",
              "123  85   188      6.3 94   4     31 \n",
              "124  96   167      6.9 91   5      1 \n",
              "125  78   197      5.1 92   5      2 \n",
              "126  73   183      2.8 93   5      3 \n",
              "127  91   189      4.6 93   5      4 \n",
              "128  47    95      7.4 87   5      5 \n",
              "129  32    92     15.5 84   5      6 \n",
              "130  20   252     10.9 80   5      7 \n",
              "131  23   220     10.3 78   5      8 \n",
              "132  21   230     10.9 75   5      9 \n",
              "133  24   259      9.7 73   5     10 \n",
              "134  44   236     14.9 81   5     11 \n",
              "135  21   259     15.5 76   5     12 \n",
              "136  28   238      6.3 77   5     13 \n",
              "137   9    24     10.9 71   5     14 \n",
              "138  13   112     11.5 71   5     15 \n",
              "139  46   237      6.9 78   5     16 \n",
              "140  18   224     13.8 67   5     17 \n",
              "141  13    27     10.3 76   5     18 \n",
              "142  24   238     10.3 68   5     19 \n",
              "143  16   201      8.0 82   5     20 \n",
              "144  13   238     12.6 64   5     21 \n",
              "145  23    14      9.2 71   5     22 \n",
              "146  36   139     10.3 81   5     23 \n",
              "147   7    49     10.3 69   5     24 \n",
              "148  14    20     16.6 63   5     25 \n",
              "149  30   193      6.9 70   5     26 \n",
              "150  NA   145     13.2 77   5     27 \n",
              "151  14   191     14.3 75   5     28 \n",
              "152  18   131      8.0 76   5     29 \n",
              "153  20   223     11.5 68   5     30 "
            ]
          },
          "metadata": {}
        }
      ]
    }
  ],
  "metadata": {
    "colab": {
      "provenance": []
    },
    "kernelspec": {
      "display_name": "R",
      "name": "ir"
    },
    "language_info": {
      "name": "R"
    }
  },
  "nbformat": 4,
  "nbformat_minor": 0
}