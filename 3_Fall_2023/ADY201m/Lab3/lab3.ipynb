{
 "cells": [
  {
   "cell_type": "code",
   "execution_count": 63,
   "metadata": {
    "colab": {
     "base_uri": "https://localhost:8080/",
     "height": 314
    },
    "id": "ZYjYduL5eiUo",
    "outputId": "05a47576-5b96-4200-b548-7e561424cc57"
   },
   "outputs": [],
   "source": [
    "import pandas as pd\n",
    "import ibm_db_dbi\n",
    "import ibm_db\n",
    "# from sqlalchemy import create_engine"
   ]
  },
  {
   "cell_type": "code",
   "execution_count": 64,
   "metadata": {
    "id": "fTS3NB-5e4ET"
   },
   "outputs": [],
   "source": [
    "dsn_hostname = \"1bbf73c5-d84a-4bb0-85b9-ab1a4348f4a4.c3n41cmd0nqnrk39u98g.databases.appdomain.cloud\"\n",
    "dsn_uid = \"xkk84284\"        # e.g. \"abc12345\"\n",
    "dsn_pwd = \"QdRxktEwkW0eOMFE\"      # e.g. \"7dBZ3wWt9XN6$o0J\"\n",
    "\n",
    "dsn_driver = \"{IBM DB2 ODBC DRIVER}\"\n",
    "dsn_database = \"bludb\"            # e.g. \"BLUDB\"\n",
    "dsn_port = \"32286\"                # e.g. \"32733\"\n",
    "dsn_protocol = \"TCPIP\"            # i.e. \"TCPIP\"\n",
    "dsn_security = \"SSL\"          #i.e. \"SSL\""
   ]
  },
  {
   "cell_type": "code",
   "execution_count": 4,
   "metadata": {
    "colab": {
     "base_uri": "https://localhost:8080/"
    },
    "id": "5zp_OE2vfuL0",
    "outputId": "dd85b2ba-204c-4902-92cb-c68d4ded5dd4"
   },
   "outputs": [
    {
     "name": "stdout",
     "output_type": "stream",
     "text": [
      "Connected to database:  bludb as user:  xkk84284 on host:  1bbf73c5-d84a-4bb0-85b9-ab1a4348f4a4.c3n41cmd0nqnrk39u98g.databases.appdomain.cloud\n"
     ]
    }
   ],
   "source": [
    "# Create database connection\n",
    "# DO NOT MODIFY THIS CELL. Just RUN it with Shift + Enter\n",
    "dsn = (\n",
    "    \"DRIVER={0};\"\n",
    "    \"DATABASE={1};\"\n",
    "    \"HOSTNAME={2};\"\n",
    "    \"PORT={3};\"\n",
    "    \"PROTOCOL={4};\"\n",
    "    \"UID={5};\"\n",
    "    \"PWD={6};\"\n",
    "    \"SECURITY={7};\").format(dsn_driver, dsn_database, dsn_hostname, dsn_port, dsn_protocol, dsn_uid, dsn_pwd,dsn_security)\n",
    "\n",
    "try:\n",
    "    conn = ibm_db.connect(dsn, \"\", \"\")\n",
    "    print (\"Connected to database: \", dsn_database, \"as user: \", dsn_uid, \"on host: \", dsn_hostname)\n",
    "\n",
    "except:\n",
    "    print (\"Unable to connect: \", ibm_db.conn_errormsg() )\n"
   ]
  },
  {
   "cell_type": "code",
   "execution_count": 91,
   "metadata": {},
   "outputs": [],
   "source": [
    "dsn = (\n",
    "    \"DRIVER={0};\"\n",
    "    \"DATABASE={1};\"\n",
    "    \"HOSTNAME={2};\"\n",
    "    \"PORT={3};\"\n",
    "    \"PROTOCOL={4};\"\n",
    "    \"UID={5};\"\n",
    "    \"PWD={6};\"\n",
    "    \"SECURITY={7};\").format(dsn_driver, dsn_database, dsn_hostname, dsn_port, dsn_protocol, dsn_uid, dsn_pwd,dsn_security)\n",
    "conn = ibm_db.connect(dsn, \"\", \"\")\n",
    "pconn = ibm_db_dbi.Connection(conn)"
   ]
  },
  {
   "cell_type": "code",
   "execution_count": 197,
   "metadata": {},
   "outputs": [
    {
     "data": {
      "text/plain": [
       "480"
      ]
     },
     "execution_count": 197,
     "metadata": {},
     "output_type": "execute_result"
    }
   ],
   "source": [
    "df = pd.read_sql('SELECT * FROM CHICAGO',pconn)\n",
    "sum(df[\"COLLEGE_ELIGIBILITY__\"] == \"NDA\")"
   ]
  },
  {
   "cell_type": "code",
   "execution_count": 253,
   "metadata": {},
   "outputs": [
    {
     "data": {
      "text/html": [
       "<div>\n",
       "<style scoped>\n",
       "    .dataframe tbody tr th:only-of-type {\n",
       "        vertical-align: middle;\n",
       "    }\n",
       "\n",
       "    .dataframe tbody tr th {\n",
       "        vertical-align: top;\n",
       "    }\n",
       "\n",
       "    .dataframe thead th {\n",
       "        text-align: right;\n",
       "    }\n",
       "</style>\n",
       "<table border=\"1\" class=\"dataframe\">\n",
       "  <thead>\n",
       "    <tr style=\"text-align: right;\">\n",
       "      <th></th>\n",
       "      <th>COMMUNITY_AREA_NAME</th>\n",
       "      <th>COMMUNITY_AREA_NUMBER</th>\n",
       "      <th>COLLEGE_ELIGIBILITY__</th>\n",
       "      <th>NAME_OF_SCHOOL</th>\n",
       "    </tr>\n",
       "  </thead>\n",
       "  <tbody>\n",
       "    <tr>\n",
       "      <th>66</th>\n",
       "      <td>ARCHER HEIGHTS</td>\n",
       "      <td>57</td>\n",
       "      <td>22.9</td>\n",
       "      <td>Marie Sklodowska Curie Metropolitan High School</td>\n",
       "    </tr>\n",
       "    <tr>\n",
       "      <th>67</th>\n",
       "      <td>BRIGHTON PARK</td>\n",
       "      <td>58</td>\n",
       "      <td>22.1</td>\n",
       "      <td>Thomas Kelly High School</td>\n",
       "    </tr>\n",
       "    <tr>\n",
       "      <th>68</th>\n",
       "      <td>NEW CITY</td>\n",
       "      <td>61</td>\n",
       "      <td>10.5</td>\n",
       "      <td>Edward Tilden Career Community Academy High Sc...</td>\n",
       "    </tr>\n",
       "    <tr>\n",
       "      <th>69</th>\n",
       "      <td>NEW CITY</td>\n",
       "      <td>61</td>\n",
       "      <td>5.5</td>\n",
       "      <td>Ellen H Richards Career Academy High School</td>\n",
       "    </tr>\n",
       "    <tr>\n",
       "      <th>70</th>\n",
       "      <td>WEST ELSDON</td>\n",
       "      <td>62</td>\n",
       "      <td>22.6</td>\n",
       "      <td>John Hancock College Preparatory High School</td>\n",
       "    </tr>\n",
       "    <tr>\n",
       "      <th>71</th>\n",
       "      <td>GAGE PARK</td>\n",
       "      <td>63</td>\n",
       "      <td>7.9</td>\n",
       "      <td>Gage Park High School</td>\n",
       "    </tr>\n",
       "    <tr>\n",
       "      <th>72</th>\n",
       "      <td>WEST LAWN</td>\n",
       "      <td>65</td>\n",
       "      <td>30.1</td>\n",
       "      <td>Gurdon S Hubbard High School</td>\n",
       "    </tr>\n",
       "    <tr>\n",
       "      <th>73</th>\n",
       "      <td>WEST ENGLEWOOD</td>\n",
       "      <td>67</td>\n",
       "      <td>40</td>\n",
       "      <td>Southside Occupational Academy High School</td>\n",
       "    </tr>\n",
       "    <tr>\n",
       "      <th>74</th>\n",
       "      <td>WEST ENGLEWOOD</td>\n",
       "      <td>67</td>\n",
       "      <td>29.1</td>\n",
       "      <td>Robert Lindblom Math &amp; Science Academy High Sc...</td>\n",
       "    </tr>\n",
       "    <tr>\n",
       "      <th>75</th>\n",
       "      <td>WEST ENGLEWOOD</td>\n",
       "      <td>67</td>\n",
       "      <td>5.9</td>\n",
       "      <td>William Rainey Harper High School</td>\n",
       "    </tr>\n",
       "    <tr>\n",
       "      <th>76</th>\n",
       "      <td>ENGLEWOOD</td>\n",
       "      <td>68</td>\n",
       "      <td>16.7</td>\n",
       "      <td>Hope College Preparatory High School</td>\n",
       "    </tr>\n",
       "    <tr>\n",
       "      <th>77</th>\n",
       "      <td>ENGLEWOOD</td>\n",
       "      <td>68</td>\n",
       "      <td>7.9</td>\n",
       "      <td>TEAM Englewood Community Academy High School</td>\n",
       "    </tr>\n",
       "    <tr>\n",
       "      <th>78</th>\n",
       "      <td>ENGLEWOOD</td>\n",
       "      <td>68</td>\n",
       "      <td>2.9</td>\n",
       "      <td>Paul Robeson High School</td>\n",
       "    </tr>\n",
       "    <tr>\n",
       "      <th>79</th>\n",
       "      <td>GREATER GRAND CROSSING</td>\n",
       "      <td>69</td>\n",
       "      <td>10.8</td>\n",
       "      <td>Emil G Hirsch Metropolitan High School</td>\n",
       "    </tr>\n",
       "    <tr>\n",
       "      <th>80</th>\n",
       "      <td>ASHBURN</td>\n",
       "      <td>70</td>\n",
       "      <td>13.1</td>\n",
       "      <td>William J Bogan High School</td>\n",
       "    </tr>\n",
       "    <tr>\n",
       "      <th>81</th>\n",
       "      <td>WASHINGTON HEIGHTS</td>\n",
       "      <td>73</td>\n",
       "      <td>8.3</td>\n",
       "      <td>Percy L Julian High School</td>\n",
       "    </tr>\n",
       "    <tr>\n",
       "      <th>82</th>\n",
       "      <td>MOUNT GREENWOOD</td>\n",
       "      <td>74</td>\n",
       "      <td>30.7</td>\n",
       "      <td>Chicago High School for Agricultural Sciences</td>\n",
       "    </tr>\n",
       "    <tr>\n",
       "      <th>83</th>\n",
       "      <td>MORGAN PARK</td>\n",
       "      <td>75</td>\n",
       "      <td>33.6</td>\n",
       "      <td>Morgan Park High School</td>\n",
       "    </tr>\n",
       "    <tr>\n",
       "      <th>84</th>\n",
       "      <td>EDGEWATER</td>\n",
       "      <td>77</td>\n",
       "      <td>23.4</td>\n",
       "      <td>Hyman G Rickover Naval Academy High School</td>\n",
       "    </tr>\n",
       "    <tr>\n",
       "      <th>85</th>\n",
       "      <td>EDGEWATER</td>\n",
       "      <td>77</td>\n",
       "      <td>17.5</td>\n",
       "      <td>Nicholas Senn High School</td>\n",
       "    </tr>\n",
       "  </tbody>\n",
       "</table>\n",
       "</div>"
      ],
      "text/plain": [
       "       COMMUNITY_AREA_NAME  COMMUNITY_AREA_NUMBER COLLEGE_ELIGIBILITY__  \\\n",
       "66          ARCHER HEIGHTS                     57                  22.9   \n",
       "67           BRIGHTON PARK                     58                  22.1   \n",
       "68                NEW CITY                     61                  10.5   \n",
       "69                NEW CITY                     61                   5.5   \n",
       "70             WEST ELSDON                     62                  22.6   \n",
       "71               GAGE PARK                     63                   7.9   \n",
       "72               WEST LAWN                     65                  30.1   \n",
       "73          WEST ENGLEWOOD                     67                    40   \n",
       "74          WEST ENGLEWOOD                     67                  29.1   \n",
       "75          WEST ENGLEWOOD                     67                   5.9   \n",
       "76               ENGLEWOOD                     68                  16.7   \n",
       "77               ENGLEWOOD                     68                   7.9   \n",
       "78               ENGLEWOOD                     68                   2.9   \n",
       "79  GREATER GRAND CROSSING                     69                  10.8   \n",
       "80                 ASHBURN                     70                  13.1   \n",
       "81      WASHINGTON HEIGHTS                     73                   8.3   \n",
       "82         MOUNT GREENWOOD                     74                  30.7   \n",
       "83             MORGAN PARK                     75                  33.6   \n",
       "84               EDGEWATER                     77                  23.4   \n",
       "85               EDGEWATER                     77                  17.5   \n",
       "\n",
       "                                       NAME_OF_SCHOOL  \n",
       "66    Marie Sklodowska Curie Metropolitan High School  \n",
       "67                           Thomas Kelly High School  \n",
       "68  Edward Tilden Career Community Academy High Sc...  \n",
       "69        Ellen H Richards Career Academy High School  \n",
       "70       John Hancock College Preparatory High School  \n",
       "71                              Gage Park High School  \n",
       "72                       Gurdon S Hubbard High School  \n",
       "73         Southside Occupational Academy High School  \n",
       "74  Robert Lindblom Math & Science Academy High Sc...  \n",
       "75                  William Rainey Harper High School  \n",
       "76               Hope College Preparatory High School  \n",
       "77       TEAM Englewood Community Academy High School  \n",
       "78                           Paul Robeson High School  \n",
       "79             Emil G Hirsch Metropolitan High School  \n",
       "80                        William J Bogan High School  \n",
       "81                         Percy L Julian High School  \n",
       "82      Chicago High School for Agricultural Sciences  \n",
       "83                            Morgan Park High School  \n",
       "84         Hyman G Rickover Naval Academy High School  \n",
       "85                          Nicholas Senn High School  "
      ]
     },
     "execution_count": 253,
     "metadata": {},
     "output_type": "execute_result"
    }
   ],
   "source": [
    "query=\"\"\"\n",
    "  SELECT \n",
    "    COMMUNITY_AREA_NAME,\n",
    "    COMMUNITY_AREA_NUMBER,\n",
    "    COLLEGE_ELIGIBILITY__,\n",
    "    NAME_OF_SCHOOL\n",
    "  FROM CHICAGO\n",
    "  WHERE COLLEGE_ELIGIBILITY__ NOT LIKE \\'NDA\\'\n",
    "  ORDER BY \n",
    "    COMMUNITY_AREA_NUMBER,\n",
    "    CAST(COLLEGE_ELIGIBILITY__ AS INT) DESC\n",
    "\"\"\"\n",
    "df = pd.read_sql(query, pconn)\n",
    "df.tail(20)"
   ]
  },
  {
   "cell_type": "code",
   "execution_count": 147,
   "metadata": {
    "colab": {
     "base_uri": "https://localhost:8080/"
    },
    "id": "i2lhmubDpzi9",
    "outputId": "d9852fd1-f4f3-4043-b243-d846f0752225"
   },
   "outputs": [
    {
     "ename": "KeyError",
     "evalue": "\"['COLLEGE_ELIGIBILITY__'] not in index\"",
     "output_type": "error",
     "traceback": [
      "\u001b[0;31m---------------------------------------------------------------------------\u001b[0m",
      "\u001b[0;31mKeyError\u001b[0m                                  Traceback (most recent call last)",
      "\u001b[1;32m/home/ledinhnguyen/ComputerScience/Programming/FPTU_Code/ADY201m/Lab3/lab3.ipynb Cell 7\u001b[0m line \u001b[0;36m2\n\u001b[1;32m      <a href='vscode-notebook-cell:/home/ledinhnguyen/ComputerScience/Programming/FPTU_Code/ADY201m/Lab3/lab3.ipynb#W6sZmlsZQ%3D%3D?line=0'>1</a>\u001b[0m cols \u001b[39m=\u001b[39m [\u001b[39m\"\u001b[39m\u001b[39mSCHOOL_ID\u001b[39m\u001b[39m\"\u001b[39m, \u001b[39m\"\u001b[39m\u001b[39mCOLLEGE_ELIGIBILITY__\u001b[39m\u001b[39m\"\u001b[39m]\n\u001b[0;32m----> <a href='vscode-notebook-cell:/home/ledinhnguyen/ComputerScience/Programming/FPTU_Code/ADY201m/Lab3/lab3.ipynb#W6sZmlsZQ%3D%3D?line=1'>2</a>\u001b[0m df2 \u001b[39m=\u001b[39m df[cols]\n\u001b[1;32m      <a href='vscode-notebook-cell:/home/ledinhnguyen/ComputerScience/Programming/FPTU_Code/ADY201m/Lab3/lab3.ipynb#W6sZmlsZQ%3D%3D?line=2'>3</a>\u001b[0m df2\n",
      "File \u001b[0;32m~/.local/lib/python3.10/site-packages/pandas/core/frame.py:3464\u001b[0m, in \u001b[0;36mDataFrame.__getitem__\u001b[0;34m(self, key)\u001b[0m\n\u001b[1;32m   3462\u001b[0m     \u001b[39mif\u001b[39;00m is_iterator(key):\n\u001b[1;32m   3463\u001b[0m         key \u001b[39m=\u001b[39m \u001b[39mlist\u001b[39m(key)\n\u001b[0;32m-> 3464\u001b[0m     indexer \u001b[39m=\u001b[39m \u001b[39mself\u001b[39;49m\u001b[39m.\u001b[39;49mloc\u001b[39m.\u001b[39;49m_get_listlike_indexer(key, axis\u001b[39m=\u001b[39;49m\u001b[39m1\u001b[39;49m)[\u001b[39m1\u001b[39m]\n\u001b[1;32m   3466\u001b[0m \u001b[39m# take() does not accept boolean indexers\u001b[39;00m\n\u001b[1;32m   3467\u001b[0m \u001b[39mif\u001b[39;00m \u001b[39mgetattr\u001b[39m(indexer, \u001b[39m\"\u001b[39m\u001b[39mdtype\u001b[39m\u001b[39m\"\u001b[39m, \u001b[39mNone\u001b[39;00m) \u001b[39m==\u001b[39m \u001b[39mbool\u001b[39m:\n",
      "File \u001b[0;32m~/.local/lib/python3.10/site-packages/pandas/core/indexing.py:1314\u001b[0m, in \u001b[0;36m_LocIndexer._get_listlike_indexer\u001b[0;34m(self, key, axis)\u001b[0m\n\u001b[1;32m   1311\u001b[0m \u001b[39melse\u001b[39;00m:\n\u001b[1;32m   1312\u001b[0m     keyarr, indexer, new_indexer \u001b[39m=\u001b[39m ax\u001b[39m.\u001b[39m_reindex_non_unique(keyarr)\n\u001b[0;32m-> 1314\u001b[0m \u001b[39mself\u001b[39;49m\u001b[39m.\u001b[39;49m_validate_read_indexer(keyarr, indexer, axis)\n\u001b[1;32m   1316\u001b[0m \u001b[39mif\u001b[39;00m needs_i8_conversion(ax\u001b[39m.\u001b[39mdtype) \u001b[39mor\u001b[39;00m \u001b[39misinstance\u001b[39m(\n\u001b[1;32m   1317\u001b[0m     ax, (IntervalIndex, CategoricalIndex)\n\u001b[1;32m   1318\u001b[0m ):\n\u001b[1;32m   1319\u001b[0m     \u001b[39m# For CategoricalIndex take instead of reindex to preserve dtype.\u001b[39;00m\n\u001b[1;32m   1320\u001b[0m     \u001b[39m#  For IntervalIndex this is to map integers to the Intervals they match to.\u001b[39;00m\n\u001b[1;32m   1321\u001b[0m     keyarr \u001b[39m=\u001b[39m ax\u001b[39m.\u001b[39mtake(indexer)\n",
      "File \u001b[0;32m~/.local/lib/python3.10/site-packages/pandas/core/indexing.py:1377\u001b[0m, in \u001b[0;36m_LocIndexer._validate_read_indexer\u001b[0;34m(self, key, indexer, axis)\u001b[0m\n\u001b[1;32m   1374\u001b[0m     \u001b[39mraise\u001b[39;00m \u001b[39mKeyError\u001b[39;00m(\u001b[39mf\u001b[39m\u001b[39m\"\u001b[39m\u001b[39mNone of [\u001b[39m\u001b[39m{\u001b[39;00mkey\u001b[39m}\u001b[39;00m\u001b[39m] are in the [\u001b[39m\u001b[39m{\u001b[39;00maxis_name\u001b[39m}\u001b[39;00m\u001b[39m]\u001b[39m\u001b[39m\"\u001b[39m)\n\u001b[1;32m   1376\u001b[0m not_found \u001b[39m=\u001b[39m \u001b[39mlist\u001b[39m(ensure_index(key)[missing_mask\u001b[39m.\u001b[39mnonzero()[\u001b[39m0\u001b[39m]]\u001b[39m.\u001b[39munique())\n\u001b[0;32m-> 1377\u001b[0m \u001b[39mraise\u001b[39;00m \u001b[39mKeyError\u001b[39;00m(\u001b[39mf\u001b[39m\u001b[39m\"\u001b[39m\u001b[39m{\u001b[39;00mnot_found\u001b[39m}\u001b[39;00m\u001b[39m not in index\u001b[39m\u001b[39m\"\u001b[39m)\n",
      "\u001b[0;31mKeyError\u001b[0m: \"['COLLEGE_ELIGIBILITY__'] not in index\""
     ]
    }
   ],
   "source": [
    "cols = [\"SCHOOL_ID\", \"COLLEGE_ELIGIBILITY__\"]\n",
    "df2 = df[cols]\n",
    "df2"
   ]
  },
  {
   "cell_type": "markdown",
   "metadata": {
    "id": "3C6Vs_yluod1"
   },
   "source": [
    "# Question 1. Calculate the total number of students in each grade level."
   ]
  },
  {
   "cell_type": "code",
   "execution_count": 20,
   "metadata": {
    "colab": {
     "base_uri": "https://localhost:8080/"
    },
    "id": "zHTDSVEgqFyA",
    "outputId": "588b8d62-d512-4ab4-c720-0aae77f56272"
   },
   "outputs": [
    {
     "data": {
      "text/html": [
       "<div>\n",
       "<style scoped>\n",
       "    .dataframe tbody tr th:only-of-type {\n",
       "        vertical-align: middle;\n",
       "    }\n",
       "\n",
       "    .dataframe tbody tr th {\n",
       "        vertical-align: top;\n",
       "    }\n",
       "\n",
       "    .dataframe thead th {\n",
       "        text-align: right;\n",
       "    }\n",
       "</style>\n",
       "<table border=\"1\" class=\"dataframe\">\n",
       "  <thead>\n",
       "    <tr style=\"text-align: right;\">\n",
       "      <th></th>\n",
       "      <th>ELEMENTARY__MIDDLE__OR_HIGH_SCHOOL</th>\n",
       "      <th>TOTAL_NUMBER_OF_STUDENTS</th>\n",
       "    </tr>\n",
       "  </thead>\n",
       "  <tbody>\n",
       "    <tr>\n",
       "      <th>0</th>\n",
       "      <td>ES</td>\n",
       "      <td>462</td>\n",
       "    </tr>\n",
       "    <tr>\n",
       "      <th>1</th>\n",
       "      <td>HS</td>\n",
       "      <td>93</td>\n",
       "    </tr>\n",
       "    <tr>\n",
       "      <th>2</th>\n",
       "      <td>MS</td>\n",
       "      <td>11</td>\n",
       "    </tr>\n",
       "  </tbody>\n",
       "</table>\n",
       "</div>"
      ],
      "text/plain": [
       "  ELEMENTARY__MIDDLE__OR_HIGH_SCHOOL  TOTAL_NUMBER_OF_STUDENTS\n",
       "0                                 ES                       462\n",
       "1                                 HS                        93\n",
       "2                                 MS                        11"
      ]
     },
     "execution_count": 20,
     "metadata": {},
     "output_type": "execute_result"
    }
   ],
   "source": [
    "q1 = pd.read_sql(\n",
    "  \"\"\"\n",
    "  SELECT\n",
    "      ELEMENTARY__MIDDLE__OR_HIGH_SCHOOL,\n",
    "      COUNT(*) as total_number_of_students\n",
    "  FROM chicago\n",
    "  GROUP BY ELEMENTARY__MIDDLE__OR_HIGH_SCHOOL;\n",
    "  \"\"\",\n",
    "pconn)\n",
    "q1"
   ]
  },
  {
   "cell_type": "markdown",
   "metadata": {},
   "source": [
    "# QUESTION 2.Find the top 5 student groups with the largest number of Students and highest safety"
   ]
  },
  {
   "cell_type": "code",
   "execution_count": 21,
   "metadata": {},
   "outputs": [
    {
     "data": {
      "text/html": [
       "<div>\n",
       "<style scoped>\n",
       "    .dataframe tbody tr th:only-of-type {\n",
       "        vertical-align: middle;\n",
       "    }\n",
       "\n",
       "    .dataframe tbody tr th {\n",
       "        vertical-align: top;\n",
       "    }\n",
       "\n",
       "    .dataframe thead th {\n",
       "        text-align: right;\n",
       "    }\n",
       "</style>\n",
       "<table border=\"1\" class=\"dataframe\">\n",
       "  <thead>\n",
       "    <tr style=\"text-align: right;\">\n",
       "      <th></th>\n",
       "      <th>NAME_OF_SCHOOL</th>\n",
       "      <th>SAFETY_SCORE</th>\n",
       "      <th>COLLEGE_ENROLLMENT</th>\n",
       "      <th>SAFETY_ICON</th>\n",
       "    </tr>\n",
       "  </thead>\n",
       "  <tbody>\n",
       "    <tr>\n",
       "      <th>0</th>\n",
       "      <td>Northside College Preparatory High School</td>\n",
       "      <td>99</td>\n",
       "      <td>1053</td>\n",
       "      <td>Very Strong</td>\n",
       "    </tr>\n",
       "    <tr>\n",
       "      <th>1</th>\n",
       "      <td>Alexander Graham Bell Elementary School</td>\n",
       "      <td>99</td>\n",
       "      <td>998</td>\n",
       "      <td>Very Strong</td>\n",
       "    </tr>\n",
       "    <tr>\n",
       "      <th>2</th>\n",
       "      <td>James G Blaine Elementary School</td>\n",
       "      <td>99</td>\n",
       "      <td>923</td>\n",
       "      <td>Very Strong</td>\n",
       "    </tr>\n",
       "    <tr>\n",
       "      <th>3</th>\n",
       "      <td>Abraham Lincoln Elementary School</td>\n",
       "      <td>99</td>\n",
       "      <td>813</td>\n",
       "      <td>Very Strong</td>\n",
       "    </tr>\n",
       "    <tr>\n",
       "      <th>4</th>\n",
       "      <td>Oriole Park Elementary School</td>\n",
       "      <td>99</td>\n",
       "      <td>648</td>\n",
       "      <td>Very Strong</td>\n",
       "    </tr>\n",
       "  </tbody>\n",
       "</table>\n",
       "</div>"
      ],
      "text/plain": [
       "                              NAME_OF_SCHOOL  SAFETY_SCORE  \\\n",
       "0  Northside College Preparatory High School            99   \n",
       "1    Alexander Graham Bell Elementary School            99   \n",
       "2           James G Blaine Elementary School            99   \n",
       "3          Abraham Lincoln Elementary School            99   \n",
       "4              Oriole Park Elementary School            99   \n",
       "\n",
       "   COLLEGE_ENROLLMENT  SAFETY_ICON  \n",
       "0                1053  Very Strong  \n",
       "1                 998  Very Strong  \n",
       "2                 923  Very Strong  \n",
       "3                 813  Very Strong  \n",
       "4                 648  Very Strong  "
      ]
     },
     "execution_count": 21,
     "metadata": {},
     "output_type": "execute_result"
    }
   ],
   "source": [
    "q2 = pd.read_sql(\n",
    "  \"\"\"\n",
    "  SELECT\n",
    "    NAME_OF_SCHOOL,SAFETY_SCORE, COLLEGE_ENROLLMENT, SAFETY_ICON\n",
    "  FROM chicago\n",
    "  WHERE SAFETY_SCORE not like \\'%NONE%\\'\n",
    "  ORDER BY SAFETY_SCORE DESC, COLLEGE_ENROLLMENT DESC LIMIT 5\n",
    "  \"\"\"\n",
    "  ,pconn)\n",
    "q2"
   ]
  },
  {
   "cell_type": "code",
   "execution_count": 22,
   "metadata": {},
   "outputs": [
    {
     "data": {
      "text/html": [
       "<div>\n",
       "<style scoped>\n",
       "    .dataframe tbody tr th:only-of-type {\n",
       "        vertical-align: middle;\n",
       "    }\n",
       "\n",
       "    .dataframe tbody tr th {\n",
       "        vertical-align: top;\n",
       "    }\n",
       "\n",
       "    .dataframe thead th {\n",
       "        text-align: right;\n",
       "    }\n",
       "</style>\n",
       "<table border=\"1\" class=\"dataframe\">\n",
       "  <thead>\n",
       "    <tr style=\"text-align: right;\">\n",
       "      <th></th>\n",
       "      <th>NAME_OF_SCHOOL</th>\n",
       "      <th>SAFETY_SCORE</th>\n",
       "      <th>COLLEGE_ENROLLMENT</th>\n",
       "      <th>SAFETY_ICON</th>\n",
       "    </tr>\n",
       "  </thead>\n",
       "  <tbody>\n",
       "    <tr>\n",
       "      <th>408</th>\n",
       "      <td>Northside College Preparatory High School</td>\n",
       "      <td>99.0</td>\n",
       "      <td>1053</td>\n",
       "      <td>Very Strong</td>\n",
       "    </tr>\n",
       "    <tr>\n",
       "      <th>10</th>\n",
       "      <td>Alexander Graham Bell Elementary School</td>\n",
       "      <td>99.0</td>\n",
       "      <td>998</td>\n",
       "      <td>Very Strong</td>\n",
       "    </tr>\n",
       "    <tr>\n",
       "      <th>245</th>\n",
       "      <td>James G Blaine Elementary School</td>\n",
       "      <td>99.0</td>\n",
       "      <td>923</td>\n",
       "      <td>Very Strong</td>\n",
       "    </tr>\n",
       "    <tr>\n",
       "      <th>0</th>\n",
       "      <td>Abraham Lincoln Elementary School</td>\n",
       "      <td>99.0</td>\n",
       "      <td>813</td>\n",
       "      <td>Very Strong</td>\n",
       "    </tr>\n",
       "    <tr>\n",
       "      <th>417</th>\n",
       "      <td>Oriole Park Elementary School</td>\n",
       "      <td>99.0</td>\n",
       "      <td>648</td>\n",
       "      <td>Very Strong</td>\n",
       "    </tr>\n",
       "  </tbody>\n",
       "</table>\n",
       "</div>"
      ],
      "text/plain": [
       "                                NAME_OF_SCHOOL  SAFETY_SCORE  \\\n",
       "408  Northside College Preparatory High School          99.0   \n",
       "10     Alexander Graham Bell Elementary School          99.0   \n",
       "245           James G Blaine Elementary School          99.0   \n",
       "0            Abraham Lincoln Elementary School          99.0   \n",
       "417              Oriole Park Elementary School          99.0   \n",
       "\n",
       "     COLLEGE_ENROLLMENT  SAFETY_ICON  \n",
       "408                1053  Very Strong  \n",
       "10                  998  Very Strong  \n",
       "245                 923  Very Strong  \n",
       "0                   813  Very Strong  \n",
       "417                 648  Very Strong  "
      ]
     },
     "execution_count": 22,
     "metadata": {},
     "output_type": "execute_result"
    }
   ],
   "source": [
    "df = pd.read_sql('SELECT * FROM CHICAGO',pconn)\n",
    "\n",
    "col = [\"NAME_OF_SCHOOL\", \"SAFETY_SCORE\", \"COLLEGE_ENROLLMENT\", \"SAFETY_ICON\"]\n",
    "df[col].sort_values([\"SAFETY_SCORE\", \"COLLEGE_ENROLLMENT\"], ascending=False).head(5)"
   ]
  },
  {
   "cell_type": "markdown",
   "metadata": {
    "id": "qrf8upc80zz0"
   },
   "source": [
    "# Question 3. Calculate average of AVERAGE_STUDENT_ATTENDANCE of 10 schools with least SAFETY_SCORE"
   ]
  },
  {
   "cell_type": "code",
   "execution_count": 23,
   "metadata": {
    "colab": {
     "base_uri": "https://localhost:8080/"
    },
    "id": "syC9hp5K07xX",
    "outputId": "365592fd-6313-4006-c7c7-4aef18cc5a2b"
   },
   "outputs": [
    {
     "data": {
      "text/html": [
       "<div>\n",
       "<style scoped>\n",
       "    .dataframe tbody tr th:only-of-type {\n",
       "        vertical-align: middle;\n",
       "    }\n",
       "\n",
       "    .dataframe tbody tr th {\n",
       "        vertical-align: top;\n",
       "    }\n",
       "\n",
       "    .dataframe thead th {\n",
       "        text-align: right;\n",
       "    }\n",
       "</style>\n",
       "<table border=\"1\" class=\"dataframe\">\n",
       "  <thead>\n",
       "    <tr style=\"text-align: right;\">\n",
       "      <th></th>\n",
       "      <th>AVERAGE_ATTENDANCE</th>\n",
       "    </tr>\n",
       "  </thead>\n",
       "  <tbody>\n",
       "    <tr>\n",
       "      <th>0</th>\n",
       "      <td>89.12</td>\n",
       "    </tr>\n",
       "  </tbody>\n",
       "</table>\n",
       "</div>"
      ],
      "text/plain": [
       "   AVERAGE_ATTENDANCE\n",
       "0               89.12"
      ]
     },
     "execution_count": 23,
     "metadata": {},
     "output_type": "execute_result"
    }
   ],
   "source": [
    "q3 = pd.read_sql(\n",
    "    \"\"\"\n",
    "    SELECT ROUND(AVG(CAST(REPLACE(AVERAGE_STUDENT_ATTENDANCE, '%', '') AS DECIMAL(5, 2))),2) AS average_attendance\n",
    "    FROM (\n",
    "        SELECT \n",
    "            NAME_OF_SCHOOL,\n",
    "            AVERAGE_STUDENT_ATTENDANCE,\n",
    "            SAFETY_SCORE\n",
    "        FROM chicago\n",
    "        ORDER BY SAFETY_SCORE\n",
    "        LIMIT 10\n",
    "    ) AS subquery;\n",
    "    \"\"\", \n",
    "    pconn\n",
    ")\n",
    "q3"
   ]
  },
  {
   "cell_type": "code",
   "execution_count": 42,
   "metadata": {},
   "outputs": [
    {
     "data": {
      "text/html": [
       "<div>\n",
       "<style scoped>\n",
       "    .dataframe tbody tr th:only-of-type {\n",
       "        vertical-align: middle;\n",
       "    }\n",
       "\n",
       "    .dataframe tbody tr th {\n",
       "        vertical-align: top;\n",
       "    }\n",
       "\n",
       "    .dataframe thead th {\n",
       "        text-align: right;\n",
       "    }\n",
       "</style>\n",
       "<table border=\"1\" class=\"dataframe\">\n",
       "  <thead>\n",
       "    <tr style=\"text-align: right;\">\n",
       "      <th></th>\n",
       "      <th>NAME_OF_SCHOOL</th>\n",
       "      <th>AVERAGE_STUDENT_ATTENDANCE</th>\n",
       "      <th>SAFETY_SCORE</th>\n",
       "    </tr>\n",
       "  </thead>\n",
       "  <tbody>\n",
       "    <tr>\n",
       "      <th>0</th>\n",
       "      <td>Edmond Burke Elementary School</td>\n",
       "      <td>89.30%</td>\n",
       "      <td>1</td>\n",
       "    </tr>\n",
       "    <tr>\n",
       "      <th>1</th>\n",
       "      <td>Luke O'Toole Elementary School</td>\n",
       "      <td>89.20%</td>\n",
       "      <td>5</td>\n",
       "    </tr>\n",
       "    <tr>\n",
       "      <th>2</th>\n",
       "      <td>George W Tilton Elementary School</td>\n",
       "      <td>91.40%</td>\n",
       "      <td>6</td>\n",
       "    </tr>\n",
       "    <tr>\n",
       "      <th>3</th>\n",
       "      <td>Foster Park Elementary School</td>\n",
       "      <td>93.70%</td>\n",
       "      <td>11</td>\n",
       "    </tr>\n",
       "    <tr>\n",
       "      <th>4</th>\n",
       "      <td>Emil G Hirsch Metropolitan High School</td>\n",
       "      <td>84.80%</td>\n",
       "      <td>13</td>\n",
       "    </tr>\n",
       "    <tr>\n",
       "      <th>5</th>\n",
       "      <td>William W Carter Elementary School</td>\n",
       "      <td>91.20%</td>\n",
       "      <td>13</td>\n",
       "    </tr>\n",
       "    <tr>\n",
       "      <th>6</th>\n",
       "      <td>John Fiske Elementary School</td>\n",
       "      <td>92.90%</td>\n",
       "      <td>13</td>\n",
       "    </tr>\n",
       "    <tr>\n",
       "      <th>7</th>\n",
       "      <td>Countee Cullen Elementary School</td>\n",
       "      <td>94.10%</td>\n",
       "      <td>14</td>\n",
       "    </tr>\n",
       "    <tr>\n",
       "      <th>8</th>\n",
       "      <td>Gage Park High School</td>\n",
       "      <td>72.50%</td>\n",
       "      <td>14</td>\n",
       "    </tr>\n",
       "    <tr>\n",
       "      <th>9</th>\n",
       "      <td>Asa Philip Randolph Elementary School</td>\n",
       "      <td>92.10%</td>\n",
       "      <td>15</td>\n",
       "    </tr>\n",
       "  </tbody>\n",
       "</table>\n",
       "</div>"
      ],
      "text/plain": [
       "                           NAME_OF_SCHOOL AVERAGE_STUDENT_ATTENDANCE  \\\n",
       "0          Edmond Burke Elementary School                     89.30%   \n",
       "1          Luke O'Toole Elementary School                     89.20%   \n",
       "2       George W Tilton Elementary School                     91.40%   \n",
       "3           Foster Park Elementary School                     93.70%   \n",
       "4  Emil G Hirsch Metropolitan High School                     84.80%   \n",
       "5      William W Carter Elementary School                     91.20%   \n",
       "6            John Fiske Elementary School                     92.90%   \n",
       "7        Countee Cullen Elementary School                     94.10%   \n",
       "8                   Gage Park High School                     72.50%   \n",
       "9   Asa Philip Randolph Elementary School                     92.10%   \n",
       "\n",
       "   SAFETY_SCORE  \n",
       "0             1  \n",
       "1             5  \n",
       "2             6  \n",
       "3            11  \n",
       "4            13  \n",
       "5            13  \n",
       "6            13  \n",
       "7            14  \n",
       "8            14  \n",
       "9            15  "
      ]
     },
     "execution_count": 42,
     "metadata": {},
     "output_type": "execute_result"
    }
   ],
   "source": [
    "df = pd.read_sql(\"\"\"SELECT \n",
    "            Name_OF_SCHOOL,\n",
    "            AVERAGE_STUDENT_ATTENDANCE,\n",
    "            SAFETY_SCORE\n",
    "        FROM chicago\n",
    "        ORDER BY SAFETY_SCORE\n",
    "        LIMIT 10\"\"\",\n",
    "  pconn)\n",
    "df"
   ]
  },
  {
   "cell_type": "markdown",
   "metadata": {
    "id": "MV3tDqOou-YT"
   },
   "source": [
    "# Question 4. Find 10 High school with highest College_Eligibility__ score."
   ]
  },
  {
   "cell_type": "code",
   "execution_count": 24,
   "metadata": {
    "colab": {
     "base_uri": "https://localhost:8080/"
    },
    "id": "XTSjjbZmzCX2",
    "outputId": "268e8a4f-19bd-44f6-cad4-6509fa451933"
   },
   "outputs": [
    {
     "data": {
      "text/html": [
       "<div>\n",
       "<style scoped>\n",
       "    .dataframe tbody tr th:only-of-type {\n",
       "        vertical-align: middle;\n",
       "    }\n",
       "\n",
       "    .dataframe tbody tr th {\n",
       "        vertical-align: top;\n",
       "    }\n",
       "\n",
       "    .dataframe thead th {\n",
       "        text-align: right;\n",
       "    }\n",
       "</style>\n",
       "<table border=\"1\" class=\"dataframe\">\n",
       "  <thead>\n",
       "    <tr style=\"text-align: right;\">\n",
       "      <th></th>\n",
       "      <th>NAME_OF_SCHOOL</th>\n",
       "      <th>COLLEGE_ELIGIBILITY_SCORE</th>\n",
       "    </tr>\n",
       "  </thead>\n",
       "  <tbody>\n",
       "    <tr>\n",
       "      <th>0</th>\n",
       "      <td>Northside College Preparatory High School</td>\n",
       "      <td>98.0</td>\n",
       "    </tr>\n",
       "    <tr>\n",
       "      <th>1</th>\n",
       "      <td>Walter Payton College Preparatory High School</td>\n",
       "      <td>96.4</td>\n",
       "    </tr>\n",
       "    <tr>\n",
       "      <th>2</th>\n",
       "      <td>Whitney M Young Magnet High School</td>\n",
       "      <td>89.0</td>\n",
       "    </tr>\n",
       "    <tr>\n",
       "      <th>3</th>\n",
       "      <td>William Jones College Preparatory High School</td>\n",
       "      <td>83.3</td>\n",
       "    </tr>\n",
       "    <tr>\n",
       "      <th>4</th>\n",
       "      <td>Albert G Lane Technical High School</td>\n",
       "      <td>67.9</td>\n",
       "    </tr>\n",
       "    <tr>\n",
       "      <th>5</th>\n",
       "      <td>Northside Learning Center High School</td>\n",
       "      <td>66.7</td>\n",
       "    </tr>\n",
       "    <tr>\n",
       "      <th>6</th>\n",
       "      <td>Jacqueline B Vaughn Occupational High School</td>\n",
       "      <td>55.6</td>\n",
       "    </tr>\n",
       "    <tr>\n",
       "      <th>7</th>\n",
       "      <td>Lincoln Park High School</td>\n",
       "      <td>53.6</td>\n",
       "    </tr>\n",
       "    <tr>\n",
       "      <th>8</th>\n",
       "      <td>Gwendolyn Brooks College Preparatory Academy H...</td>\n",
       "      <td>51.1</td>\n",
       "    </tr>\n",
       "    <tr>\n",
       "      <th>9</th>\n",
       "      <td>DeVry University Advantage Academy High School</td>\n",
       "      <td>40.6</td>\n",
       "    </tr>\n",
       "  </tbody>\n",
       "</table>\n",
       "</div>"
      ],
      "text/plain": [
       "                                      NAME_OF_SCHOOL  \\\n",
       "0          Northside College Preparatory High School   \n",
       "1      Walter Payton College Preparatory High School   \n",
       "2                 Whitney M Young Magnet High School   \n",
       "3      William Jones College Preparatory High School   \n",
       "4                Albert G Lane Technical High School   \n",
       "5              Northside Learning Center High School   \n",
       "6       Jacqueline B Vaughn Occupational High School   \n",
       "7                           Lincoln Park High School   \n",
       "8  Gwendolyn Brooks College Preparatory Academy H...   \n",
       "9     DeVry University Advantage Academy High School   \n",
       "\n",
       "   COLLEGE_ELIGIBILITY_SCORE  \n",
       "0                       98.0  \n",
       "1                       96.4  \n",
       "2                       89.0  \n",
       "3                       83.3  \n",
       "4                       67.9  \n",
       "5                       66.7  \n",
       "6                       55.6  \n",
       "7                       53.6  \n",
       "8                       51.1  \n",
       "9                       40.6  "
      ]
     },
     "execution_count": 24,
     "metadata": {},
     "output_type": "execute_result"
    }
   ],
   "source": [
    "q4 = pd.read_sql(\n",
    "    \"\"\"\n",
    "    SELECT Name_OF_SCHOOL, CAST(College_Eligibility__ AS FLOAT) AS College_Eligibility_Score\n",
    "    FROM chicago\n",
    "    WHERE COLLEGE_ELIGIBILITY__ NOT LIKE '%NDA%'\n",
    "    ORDER BY College_Eligibility_Score DESC\n",
    "    LIMIT 10;\n",
    "    \"\"\",\n",
    "    pconn\n",
    ")\n",
    "q4"
   ]
  },
  {
   "cell_type": "markdown",
   "metadata": {
    "id": "iyWXTDIIZiS7"
   },
   "source": [
    "# CHICAGO MAP"
   ]
  },
  {
   "cell_type": "code",
   "execution_count": null,
   "metadata": {
    "colab": {
     "base_uri": "https://localhost:8080/"
    },
    "id": "JKojqxbUKfhA",
    "outputId": "895bc2e1-20be-4aff-c530-2a3fa26d0af8"
   },
   "outputs": [],
   "source": [
    "! pip install openpyxl"
   ]
  },
  {
   "cell_type": "code",
   "execution_count": null,
   "metadata": {
    "colab": {
     "base_uri": "https://localhost:8080/"
    },
    "id": "LvV57BArLBPz",
    "outputId": "896cd80c-7fbc-498c-f5dc-297ce02d27a2"
   },
   "outputs": [],
   "source": [
    "! mamba install openpyxl==3.0.9 -y"
   ]
  },
  {
   "cell_type": "code",
   "execution_count": null,
   "metadata": {
    "id": "SdjnsiC4LGEt"
   },
   "outputs": [],
   "source": [
    "import numpy as np  # useful for many scientific computing in Python\n",
    "import pandas as pd # primary data structure library"
   ]
  },
  {
   "cell_type": "code",
   "execution_count": null,
   "metadata": {
    "colab": {
     "base_uri": "https://localhost:8080/",
     "height": 599
    },
    "id": "ZOPVsDbTLG_z",
    "outputId": "223e8a16-84da-4308-9fb1-6924017ebc68"
   },
   "outputs": [],
   "source": [
    "! pip3 install folium==0.5.0\n",
    "import folium\n",
    "\n",
    "print('Folium installed and imported!')"
   ]
  },
  {
   "cell_type": "code",
   "execution_count": null,
   "metadata": {
    "colab": {
     "base_uri": "https://localhost:8080/",
     "height": 656
    },
    "id": "1XuZqLoALSSD",
    "outputId": "7ac387e2-8d6f-4b59-9eee-3d2f6bc5a149"
   },
   "outputs": [],
   "source": [
    "# define the world map\n",
    "world_map = folium.Map()\n",
    "\n",
    "# display world map\n",
    "world_map"
   ]
  },
  {
   "cell_type": "code",
   "execution_count": null,
   "metadata": {
    "id": "u2tVX6BxQ4b_"
   },
   "outputs": [],
   "source": [
    "# define the Chicago map with a higher zoom level\n",
    "chicago_map = folium.Map(location=[41.84969736, -87.6252787], zoom_start=12)\n",
    "\n",
    "# display Chicago map\n",
    "chicago_map\n",
    "\n",
    "#save Chicago map into .html\n",
    "chicago_map.save('chicago.html')"
   ]
  },
  {
   "cell_type": "code",
   "execution_count": null,
   "metadata": {
    "colab": {
     "base_uri": "https://localhost:8080/"
    },
    "id": "Gx8JA8dtXBly",
    "outputId": "686085e3-07c3-4026-adb4-1b7ac88b0532"
   },
   "outputs": [],
   "source": [
    "folium.Marker([42.01017628, -87.68446868])"
   ]
  },
  {
   "cell_type": "markdown",
   "metadata": {
    "id": "PFOENozSYA_-"
   },
   "source": [
    "#### Figure out all school destination"
   ]
  },
  {
   "cell_type": "code",
   "execution_count": null,
   "metadata": {},
   "outputs": [],
   "source": [
    "import folium\n",
    "\n",
    "print('Folium installed and imported!')"
   ]
  },
  {
   "cell_type": "code",
   "execution_count": null,
   "metadata": {},
   "outputs": [],
   "source": [
    "# define the world map\n",
    "world_map = folium.Map()\n",
    "\n",
    "# display world map\n",
    "world_map"
   ]
  },
  {
   "cell_type": "code",
   "execution_count": null,
   "metadata": {
    "colab": {
     "base_uri": "https://localhost:8080/",
     "height": 175
    },
    "id": "uOzqvj64YI7w",
    "outputId": "fb1bd118-87c3-41f7-a0a4-e16e3904de21"
   },
   "outputs": [],
   "source": [
    "loc = pd.read_sql('SELECT REPLACE(REPLACE(Location, \\'(\\', \\'\\'), \\')\\', \\'\\') as des FROM CHICAGO', pconn)\n",
    "loc"
   ]
  },
  {
   "cell_type": "code",
   "execution_count": null,
   "metadata": {},
   "outputs": [],
   "source": [
    "kd = pd.read_sql('SELECT Latitude FROM Chicago', pconn)\n",
    "vd = pd.read_sql('SELECT Longitude FROM Chicago', pconn)"
   ]
  },
  {
   "cell_type": "code",
   "execution_count": null,
   "metadata": {},
   "outputs": [],
   "source": [
    "sl = \"\"\"SELECT * FROM CHICAGO\"\"\"\n",
    "df = pd.read_sql(sl,pconn)\n",
    "from folium.plugins import MarkerCluster\n",
    "chicago_map = folium.Map(location=[41.84969736, -87.6252787], zoom_start=12)\n",
    "\n",
    "\n",
    "tooltip = 'Click me!'\n",
    "\n",
    "\n",
    "df1 = df[['LATITUDE','LONGITUDE','NAME_OF_SCHOOL']]\n",
    "# df2 = df[['LATITUDE','LONGITUDE']]\n",
    "marker_cluster = MarkerCluster().add_to(chicago_map)\n",
    "for index, row in df1.iterrows():\n",
    "    latitude = row['LATITUDE']\n",
    "    longitude = row['LONGITUDE']\n",
    "    label = row['NAME_OF_SCHOOL']\n",
    "    folium.Marker([latitude, longitude],\n",
    "                popup=folium.Popup(label,parse_html=True,max_width='1000000%'),\n",
    "                icon=folium.Icon(icon='glyphicon glyphicon-headphones',)).add_to(marker_cluster)\n",
    "\n",
    "chicago_map.save('chicathanh.html')\n",
    "chicago_map"
   ]
  },
  {
   "cell_type": "code",
   "execution_count": null,
   "metadata": {},
   "outputs": [],
   "source": [
    "import folium\n",
    "import pandas as pd\n",
    "\n",
    "# Define the Chicago map with a higher zoom level\n",
    "chicago_map = folium.Map(location=[41.84969736, -87.6252787], zoom_start=12)\n",
    "\n",
    "# Assuming you have DataFrames 'kd' and 'vd' with latitude and longitude data\n",
    "# Replace 'LATITUDE' and 'LONGITUDE' with your actual column names\n",
    "url = \"https://leafletjs.com/examples/custom-icons/{}\".format\n",
    "icon_image = url(\"leaf-red.png\")\n",
    "shadow_image = url(\"leaf-shadow.png\")\n",
    "\n",
    "icon = folium.CustomIcon(\n",
    "    icon_image,\n",
    "    icon_size=(38, 95),\n",
    "    icon_anchor=(22, 94),\n",
    "    shadow_image=shadow_image,\n",
    "    shadow_size=(50, 64),\n",
    "    shadow_anchor=(4, 62),\n",
    "    popup_anchor=(-3, -76),\n",
    ")\n",
    "# Iterate through rows in 'kd' and 'vd' DataFrames and add markers\n",
    "for index, row in kd.iterrows():\n",
    "    latitude = row['LATITUDE']  # Replace 'LATITUDE' with your actual column name\n",
    "    longitude = vd.iloc[index]['LONGITUDE']  # Replace 'LONGITUDE' with your actual column name\n",
    "\n",
    "    # Create markers with latitude and longitude\n",
    "    folium.Marker(location=[latitude, longitude]).add_to(chicago_map)\n",
    "\n",
    "# Save the Chicago map to an HTML file\n",
    "chicago_map.save('chicago.html')\n",
    "\n",
    "# Display the Chicago map (if running in a Jupyter Notebook or interactive environment)\n",
    "chicago_map\n"
   ]
  },
  {
   "cell_type": "code",
   "execution_count": null,
   "metadata": {
    "colab": {
     "base_uri": "https://localhost:8080/",
     "height": 175
    },
    "id": "l5ZYkpTR8tLR",
    "outputId": "51e19cee-e703-4e5a-f9ad-237fd787276a"
   },
   "outputs": [],
   "source": [
    "ibm_db.close()"
   ]
  }
 ],
 "metadata": {
  "colab": {
   "provenance": []
  },
  "kernelspec": {
   "display_name": "Python 3 (ipykernel)",
   "language": "python",
   "name": "python3"
  },
  "language_info": {
   "codemirror_mode": {
    "name": "ipython",
    "version": 3
   },
   "file_extension": ".py",
   "mimetype": "text/x-python",
   "name": "python",
   "nbconvert_exporter": "python",
   "pygments_lexer": "ipython3",
   "version": "3.11.3"
  }
 },
 "nbformat": 4,
 "nbformat_minor": 1
}
