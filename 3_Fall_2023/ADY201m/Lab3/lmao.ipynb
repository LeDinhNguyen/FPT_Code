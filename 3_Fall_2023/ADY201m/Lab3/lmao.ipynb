{
 "cells": [
  {
   "cell_type": "code",
   "execution_count": null,
   "id": "b56eab017924b2e8",
   "metadata": {
    "ExecuteTime": {
     "end_time": "2023-09-25T13:58:02.549339600Z",
     "start_time": "2023-09-25T13:58:02.039845800Z"
    },
    "collapsed": false
   },
   "outputs": [],
   "source": [
    "import pyodbc\n",
    "import numpy as np\n",
    "import pandas as pd\n",
    "print(\"imported successfully\")"
   ]
  },
  {
   "cell_type": "code",
   "execution_count": null,
   "id": "9bd5bb34eacfd39",
   "metadata": {
    "ExecuteTime": {
     "end_time": "2023-09-25T13:58:44.929863900Z",
     "start_time": "2023-09-25T13:58:44.811534500Z"
    },
    "collapsed": false
   },
   "outputs": [],
   "source": [
    "SERVER = \"LAPTOP-STSGIRJL\\MINHAN\"\n",
    "DATABASE = 'NEWDATABASE'\n",
    "USERNAME = 'sa'\n",
    "PASSWORD = '12345'\n",
    "connectionString = f'DRIVER={{SQL Server}};SERVER={SERVER};DATABASE={DATABASE};UID={USERNAME};PWD={PASSWORD}'\n",
    "conn = pyodbc.connect(connectionString)\n",
    "print(\"Connection Successfully!\")"
   ]
  },
  {
   "cell_type": "code",
   "execution_count": null,
   "id": "129bd5914f18d6e9",
   "metadata": {
    "ExecuteTime": {
     "end_time": "2023-09-25T13:58:45.542448500Z",
     "start_time": "2023-09-25T13:58:45.539205800Z"
    },
    "collapsed": false
   },
   "outputs": [],
   "source": [
    "def execute(statement, column: list):\n",
    "    cursor = conn.cursor()\n",
    "    cursor.execute(statement)\n",
    "    records = cursor.fetchall()\n",
    "    cursor.close()\n",
    "    return pd.DataFrame(np.array(records), columns=[a for a in column])"
   ]
  },
  {
   "cell_type": "code",
   "execution_count": null,
   "id": "ca10b6301ecfd79a",
   "metadata": {
    "ExecuteTime": {
     "end_time": "2023-09-25T14:03:26.904719200Z",
     "start_time": "2023-09-25T14:03:26.857409500Z"
    },
    "collapsed": false
   },
   "outputs": [],
   "source": [
    "result = execute(\"\"\"\n",
    "SELECT *\n",
    "FROM SCHOOL s\n",
    "\"\"\",[a for a in range(1,80)] )\n",
    "total = result.copy()\n",
    "total"
   ]
  },
  {
   "cell_type": "code",
   "execution_count": null,
   "id": "de918c9cc89b4ade",
   "metadata": {
    "ExecuteTime": {
     "end_time": "2023-09-25T13:58:46.746569300Z",
     "start_time": "2023-09-25T13:58:46.712200700Z"
    },
    "collapsed": false
   },
   "outputs": [],
   "source": [
    "result = execute(\"\"\"\n",
    "SELECT TOP 10\n",
    "    SCHOOL_ID,\n",
    "    NAME_OF_SCHOOL,\n",
    "    Elementary_Middle_or_High_School \n",
    "FROM SCHOOL s\n",
    "ORDER BY SCHOOL_ID\n",
    "\"\"\",['SCHOOL_ID',\n",
    "     'NAME_OF_SCHOOL',\n",
    "     'Elementary_Middle_or_High_School'] )\n",
    "result"
   ]
  },
  {
   "cell_type": "code",
   "execution_count": null,
   "id": "3bce7ceab639e12e",
   "metadata": {
    "ExecuteTime": {
     "end_time": "2023-09-25T13:58:48.529484200Z",
     "start_time": "2023-09-25T13:58:48.519578900Z"
    },
    "collapsed": false
   },
   "outputs": [],
   "source": [
    "result = execute(\"\"\"\n",
    "SELECT \n",
    "    SCHOOL_ID,\n",
    "    Name_of_School,\n",
    "    Collaborative_Name\n",
    "FROM SCHOOL\n",
    "WHERE Collaborative_Name = 'WEST SIDE COLLABORATIVE'\n",
    "\"\"\",[\n",
    "    'SCHOOL_ID',\n",
    "    'Name_of_School',\n",
    "    'Collaborative Name'] )\n",
    "result"
   ]
  },
  {
   "cell_type": "code",
   "execution_count": null,
   "id": "c834858f3b5d1b09",
   "metadata": {
    "ExecuteTime": {
     "end_time": "2023-09-25T13:58:49.481900700Z",
     "start_time": "2023-09-25T13:58:49.450447100Z"
    },
    "collapsed": false
   },
   "outputs": [],
   "source": [
    "result = execute(\"\"\"\n",
    "SELECT Name_of_School, Safety_Score\n",
    "FROM SCHOOL\n",
    "WHERE Safety_Score >= 80\n",
    "\"\"\",[\n",
    "    'Name_of_School', 'Safety_Score'] )\n",
    "result"
   ]
  },
  {
   "cell_type": "code",
   "execution_count": null,
   "id": "7fd01b13f69f7339",
   "metadata": {
    "ExecuteTime": {
     "end_time": "2023-09-25T14:00:06.110913700Z",
     "start_time": "2023-09-25T14:00:06.079669200Z"
    },
    "collapsed": false
   },
   "outputs": [],
   "source": [
    "result = execute(\"\"\"\n",
    "SELECT Name_of_School, Average_Student_Attendance, Average_Teacher_Attendance\n",
    "FROM SCHOOL\n",
    "ORDER BY Average_Student_Attendance DESC, Average_Teacher_Attendance DESC \n",
    "\"\"\",[\n",
    "    'Name_of_School', 'Average_Student_Attendance',' Average_Teacher_Attendance'\n",
    "    ] )\n",
    "result"
   ]
  },
  {
   "cell_type": "code",
   "execution_count": null,
   "id": "35086d66f664c9ea",
   "metadata": {
    "ExecuteTime": {
     "end_time": "2023-09-25T14:08:16.868023400Z",
     "start_time": "2023-09-25T14:08:16.836266200Z"
    },
    "collapsed": false
   },
   "outputs": [],
   "source": [
    "cursor = conn.cursor()\n",
    "cursor.execute(\"\"\"\n",
    "DELETE FROM SCHOOL \n",
    "WHERE Collaborative_Name = 'WEST SIDE COLLABORATIVE'\n",
    "\"\"\")\n",
    "cursor.commit()\n",
    "cursor.close()\n",
    "print(\"commit successfully\")"
   ]
  },
  {
   "cell_type": "code",
   "execution_count": null,
   "id": "25b87e702029c8f6",
   "metadata": {
    "ExecuteTime": {
     "end_time": "2023-09-25T14:08:25.949037500Z",
     "start_time": "2023-09-25T14:08:25.928943300Z"
    },
    "collapsed": false
   },
   "outputs": [],
   "source": [
    "result = execute(\"\"\"\n",
    "SELECT \n",
    "    Collaborative_Name,\n",
    "    COUNT(Collaborative_Name)\n",
    "FROM SCHOOL\n",
    "GROUP BY Collaborative_Name\n",
    "\"\"\",[\n",
    "    'Collaborative Name',\n",
    "    'AMMOUNT'] )\n",
    "result"
   ]
  },
  {
   "cell_type": "code",
   "execution_count": null,
   "id": "cf9bd07c2b89824d",
   "metadata": {
    "ExecuteTime": {
     "end_time": "2023-09-25T11:00:53.504514900Z",
     "start_time": "2023-09-25T11:00:53.488605300Z"
    },
    "collapsed": false
   },
   "outputs": [],
   "source": [
    "print(\"Em yêu ADY\")"
   ]
  },
  {
   "cell_type": "code",
   "execution_count": null,
   "id": "7d30eb678796ccd3",
   "metadata": {
    "ExecuteTime": {
     "end_time": "2023-09-25T14:22:15.105028900Z",
     "start_time": "2023-09-25T14:22:15.097275500Z"
    },
    "collapsed": false
   },
   "outputs": [],
   "source": [
    "cursor = conn.cursor()\n",
    "cursor.execute(\"\"\"\n",
    "INSERT INTO SCHOOL (School_ID, Name_of_School, Elementary_Middle_or_High_School, Street_Address, City, State, ZIP_Code, Phone_Number, Link, Network_Manager, Collaborative_Name, Adequate_Yearly_Progress_Made, Track_Schedule, CPS_Performance_Policy_Status, CPS_Performance_Policy_Level, Healthy_Schools_Certified, Safety_Icon, Safety_Score, Family_Involvement_Icon, Family_Involvement_Score, Environment_Icon, Environment_Score, Instruction_Icon, Instruction_Score, Leaders_Icon, Leaders_Score, Teachers_Icon, Teachers_Score, Parent_Engagement_Icon, Parent_Engagement_Score, Parent_Environment_Icon, Parent_Environment_Score, Average_Student_Attendance, Rate_of_Misconducts_per_100_students, Average_Teacher_Attendance, Individualized_Education_Program_Compliance_Rate, Pk_2_Literacy, Pk_2_Math, Gr3_5_Grade_Level_Math, Gr3_5_Grade_Level_Read, Gr3_5_Keep_Pace_Read, Gr3_5_Keep_Pace_Math, Gr6_8_Grade_Level_Math, Gr6_8_Grade_Level_Read, Gr6_8_Keep_Pace_Math, Gr6_8_Keep_Pace_Read, Gr_8_Explore_Math, Gr_8_Explore_Read, ISAT_Exceeding_Math, ISAT_Exceeding_Reading, ISAT_Value_Add_Math, ISAT_Value_Add_Read, ISAT_Value_Add_Color_Math, ISAT_Value_Add_Color_Read, Students_Taking_Algebra, Students_Passing_Algebra, _9th_Grade_EXPLORE_2009, _9th_Grade_EXPLORE_2010, _10th_Grade_PLAN_2009, _10th_Grade_PLAN_2010, Net_Change_EXPLORE_and_PLAN, _11th_Grade_Average_ACT_2011, Net_Change_PLAN_and_ACT, College_Eligibility, Graduation_Rate, College_Enrollment_Rate, College_Enrollment_number_of_students, General_Services_Route, Freshman_on_Track_Rate, RCDTS_Code, X_COORDINATE, Y_COORDINATE, Latitude, Longitude, Community_Area_Number, Community_Area_Name, Ward, Police_District, Location) \n",
    "VALUES \n",
    "(7276942, N'FPT UNIVERSITY', N'UNI', N'2819 W 21st Pl ', N'Chicago', N'IL', 60623, N'(773) 535-4580', N'http://schoolreports.cps.edu/SchoolProgressReport_Eng/Spring2011Eng_609966.pdf', N'Fullerton Elementary Network', N'WEST SIDE COLLABORATIVE', 0, N'Standard', N'Not on Probation', N'Not Enough Data', 0, N'Average', 54, N'Average', 58, N'Weak', 37, N'Average', 41, N'Very Strong', 83, N'Very Strong', 88, N'Average', 51, N'Strong', 55, 95.0999984741211, 4.3000001907348633, 0, 97.699996948242188, 47.5, 39.900001525878906, 30.799999237060547, 27.799999237060547, 47.799999237060547, 38.599998474121094, 41.099998474121094, 38.5, 49.200000762939453, 55.400001525878906, 15.300000190734863, 30.5, 11.199999809265137, 12, -1.7999999523162842, -0.30000001192092896, N'Red', N'Yellow', N'NDA', N'NDA', N'NDA', N'NDA', N'NDA', N'NDA', N'NDA', N'NDA', N'NDA', N'NDA', N'NDA', N'NDA', 826, 30, N'NDA', 150000000000000, 1137482.25, 1919394.875, 41.934967041015625, -87.7701644897461, 19, N'BELMONT CRAGIN', 30, 25, N'(41.93496641, -87.77016525)')\n",
    "\n",
    "\"\"\")\n",
    "cursor.commit()\n",
    "cursor.close()\n",
    "print(\"commit successfully\")"
   ]
  },
  {
   "cell_type": "code",
   "execution_count": null,
   "id": "360b8ebb7346b588",
   "metadata": {
    "ExecuteTime": {
     "end_time": "2023-09-25T14:22:18.390775300Z",
     "start_time": "2023-09-25T14:22:18.378619700Z"
    },
    "collapsed": false
   },
   "outputs": [],
   "source": [
    "result = execute(\"\"\"\n",
    "SELECT \n",
    "    Collaborative_Name,\n",
    "    COUNT(Collaborative_Name)\n",
    "FROM SCHOOL\n",
    "GROUP BY Collaborative_Name\n",
    "\"\"\",[\n",
    "    'Collaborative Name',\n",
    "    'AMMOUNT'] )\n",
    "result"
   ]
  },
  {
   "cell_type": "code",
   "execution_count": null,
   "id": "70eea7362a945727",
   "metadata": {
    "ExecuteTime": {
     "end_time": "2023-09-25T14:24:18.948041800Z",
     "start_time": "2023-09-25T14:24:18.921886Z"
    },
    "collapsed": false
   },
   "outputs": [],
   "source": [
    "result = execute(\"\"\"\n",
    "SELECT \n",
    "\tName_of_School,\n",
    "\tCollaborative_Name\n",
    "FROM SCHOOL\n",
    "WHERE School_ID = 7276942\n",
    "\"\"\",[\n",
    "    'SCHOOL NAME',\n",
    "    'Collaborative_Name'] )\n",
    "result"
   ]
  },
  {
   "cell_type": "code",
   "execution_count": null,
   "id": "e37480f56b190615",
   "metadata": {
    "ExecuteTime": {
     "end_time": "2023-09-25T14:26:54.809645100Z",
     "start_time": "2023-09-25T14:26:54.800437200Z"
    },
    "collapsed": false
   },
   "outputs": [],
   "source": [
    "cursor = conn.cursor()\n",
    "cursor.execute(\"\"\"\n",
    "UPDATE SCHOOL SET Name_of_School = 'FPT POLYTECHNIC' WHERE School_ID = 7276942\n",
    "\"\"\")\n",
    "cursor.commit()\n",
    "cursor.close()\n",
    "print(\"commit successfully\")"
   ]
  },
  {
   "cell_type": "code",
   "execution_count": null,
   "id": "28cec2b9caa97c91",
   "metadata": {
    "ExecuteTime": {
     "end_time": "2023-09-25T14:26:56.806935Z",
     "start_time": "2023-09-25T14:26:56.800822800Z"
    },
    "collapsed": false
   },
   "outputs": [],
   "source": [
    "result = execute(\"\"\"\n",
    "SELECT \n",
    "\tName_of_School,\n",
    "\tCollaborative_Name\n",
    "FROM SCHOOL\n",
    "WHERE School_ID = 7276942\n",
    "\"\"\",[\n",
    "    'SCHOOL NAME',\n",
    "    'Collaborative_Name'] )\n",
    "result"
   ]
  },
  {
   "cell_type": "code",
   "execution_count": null,
   "id": "eaabfa1b23168243",
   "metadata": {
    "collapsed": false
   },
   "outputs": [],
   "source": []
  }
 ],
 "metadata": {
  "kernelspec": {
   "display_name": "Python 3",
   "language": "python",
   "name": "python3"
  },
  "language_info": {
   "codemirror_mode": {
    "name": "ipython",
    "version": 3
   },
   "file_extension": ".py",
   "mimetype": "text/x-python",
   "name": "python",
   "nbconvert_exporter": "python",
   "pygments_lexer": "ipython3",
   "version": "3.10.12"
  }
 },
 "nbformat": 4,
 "nbformat_minor": 5
}
