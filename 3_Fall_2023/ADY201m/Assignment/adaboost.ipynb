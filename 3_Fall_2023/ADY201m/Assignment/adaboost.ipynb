{
 "cells": [
  {
   "cell_type": "markdown",
   "metadata": {},
   "source": [
    "# Data"
   ]
  },
  {
   "cell_type": "code",
   "execution_count": 1,
   "metadata": {},
   "outputs": [],
   "source": [
    "from sklearn.preprocessing import StandardScaler\n",
    "import numpy as np\n",
    "import pandas as pd\n",
    "import matplotlib.pyplot as plt\n",
    "import seaborn as sns  \n",
    "\n",
    "df = pd.read_csv(\"./data/CARDIO_TRAIN.csv\")\n",
    "df = df.drop(columns=\"Unnamed: 0\")"
   ]
  },
  {
   "cell_type": "code",
   "execution_count": 2,
   "metadata": {},
   "outputs": [
    {
     "data": {
      "text/plain": [
       "Index(['ID', 'AGE', 'GENDER', 'HEIGHT', 'WEIGHT', 'AP_HI', 'AP_LO',\n",
       "       'CHOLESTEROL', 'GLUC', 'SMOKE', 'ALCO', 'ACTIVE', 'CARDIO'],\n",
       "      dtype='object')"
      ]
     },
     "execution_count": 2,
     "metadata": {},
     "output_type": "execute_result"
    }
   ],
   "source": [
    "df.columns"
   ]
  },
  {
   "cell_type": "code",
   "execution_count": 3,
   "metadata": {},
   "outputs": [
    {
     "data": {
      "text/plain": [
       "CARDIO         1.000000\n",
       "AGE            0.237985\n",
       "CHOLESTEROL    0.221147\n",
       "WEIGHT         0.181659\n",
       "GLUC           0.089307\n",
       "AP_LO          0.065719\n",
       "AP_HI          0.054475\n",
       "GENDER         0.008109\n",
       "ID             0.003799\n",
       "ALCO          -0.007330\n",
       "HEIGHT        -0.010821\n",
       "SMOKE         -0.015486\n",
       "ACTIVE        -0.035653\n",
       "Name: CARDIO, dtype: float64"
      ]
     },
     "execution_count": 3,
     "metadata": {},
     "output_type": "execute_result"
    }
   ],
   "source": [
    "df.corr()[\"CARDIO\"].sort_values(ascending=False)"
   ]
  },
  {
   "cell_type": "code",
   "execution_count": 4,
   "metadata": {},
   "outputs": [
    {
     "data": {
      "text/html": [
       "<div>\n",
       "<style scoped>\n",
       "    .dataframe tbody tr th:only-of-type {\n",
       "        vertical-align: middle;\n",
       "    }\n",
       "\n",
       "    .dataframe tbody tr th {\n",
       "        vertical-align: top;\n",
       "    }\n",
       "\n",
       "    .dataframe thead th {\n",
       "        text-align: right;\n",
       "    }\n",
       "</style>\n",
       "<table border=\"1\" class=\"dataframe\">\n",
       "  <thead>\n",
       "    <tr style=\"text-align: right;\">\n",
       "      <th></th>\n",
       "      <th>CHOLESTEROL</th>\n",
       "      <th>GLUC</th>\n",
       "      <th>AGE</th>\n",
       "      <th>WEIGHT</th>\n",
       "      <th>AP_HI</th>\n",
       "      <th>AP_LO</th>\n",
       "      <th>HEIGHT</th>\n",
       "      <th>SMOKE</th>\n",
       "      <th>ACTIVE</th>\n",
       "    </tr>\n",
       "  </thead>\n",
       "  <tbody>\n",
       "    <tr>\n",
       "      <th>0</th>\n",
       "      <td>1</td>\n",
       "      <td>1</td>\n",
       "      <td>50</td>\n",
       "      <td>62.0</td>\n",
       "      <td>110</td>\n",
       "      <td>80</td>\n",
       "      <td>168</td>\n",
       "      <td>0</td>\n",
       "      <td>1</td>\n",
       "    </tr>\n",
       "    <tr>\n",
       "      <th>1</th>\n",
       "      <td>3</td>\n",
       "      <td>1</td>\n",
       "      <td>55</td>\n",
       "      <td>85.0</td>\n",
       "      <td>140</td>\n",
       "      <td>90</td>\n",
       "      <td>156</td>\n",
       "      <td>0</td>\n",
       "      <td>1</td>\n",
       "    </tr>\n",
       "    <tr>\n",
       "      <th>2</th>\n",
       "      <td>3</td>\n",
       "      <td>1</td>\n",
       "      <td>51</td>\n",
       "      <td>64.0</td>\n",
       "      <td>130</td>\n",
       "      <td>70</td>\n",
       "      <td>165</td>\n",
       "      <td>0</td>\n",
       "      <td>0</td>\n",
       "    </tr>\n",
       "    <tr>\n",
       "      <th>3</th>\n",
       "      <td>1</td>\n",
       "      <td>1</td>\n",
       "      <td>48</td>\n",
       "      <td>82.0</td>\n",
       "      <td>150</td>\n",
       "      <td>100</td>\n",
       "      <td>169</td>\n",
       "      <td>0</td>\n",
       "      <td>1</td>\n",
       "    </tr>\n",
       "    <tr>\n",
       "      <th>4</th>\n",
       "      <td>1</td>\n",
       "      <td>1</td>\n",
       "      <td>47</td>\n",
       "      <td>56.0</td>\n",
       "      <td>100</td>\n",
       "      <td>60</td>\n",
       "      <td>156</td>\n",
       "      <td>0</td>\n",
       "      <td>0</td>\n",
       "    </tr>\n",
       "    <tr>\n",
       "      <th>...</th>\n",
       "      <td>...</td>\n",
       "      <td>...</td>\n",
       "      <td>...</td>\n",
       "      <td>...</td>\n",
       "      <td>...</td>\n",
       "      <td>...</td>\n",
       "      <td>...</td>\n",
       "      <td>...</td>\n",
       "      <td>...</td>\n",
       "    </tr>\n",
       "    <tr>\n",
       "      <th>69995</th>\n",
       "      <td>1</td>\n",
       "      <td>1</td>\n",
       "      <td>52</td>\n",
       "      <td>76.0</td>\n",
       "      <td>120</td>\n",
       "      <td>80</td>\n",
       "      <td>168</td>\n",
       "      <td>1</td>\n",
       "      <td>1</td>\n",
       "    </tr>\n",
       "    <tr>\n",
       "      <th>69996</th>\n",
       "      <td>2</td>\n",
       "      <td>2</td>\n",
       "      <td>61</td>\n",
       "      <td>126.0</td>\n",
       "      <td>140</td>\n",
       "      <td>90</td>\n",
       "      <td>158</td>\n",
       "      <td>0</td>\n",
       "      <td>1</td>\n",
       "    </tr>\n",
       "    <tr>\n",
       "      <th>69997</th>\n",
       "      <td>3</td>\n",
       "      <td>1</td>\n",
       "      <td>52</td>\n",
       "      <td>105.0</td>\n",
       "      <td>180</td>\n",
       "      <td>90</td>\n",
       "      <td>183</td>\n",
       "      <td>0</td>\n",
       "      <td>0</td>\n",
       "    </tr>\n",
       "    <tr>\n",
       "      <th>69998</th>\n",
       "      <td>1</td>\n",
       "      <td>2</td>\n",
       "      <td>61</td>\n",
       "      <td>72.0</td>\n",
       "      <td>135</td>\n",
       "      <td>80</td>\n",
       "      <td>163</td>\n",
       "      <td>0</td>\n",
       "      <td>0</td>\n",
       "    </tr>\n",
       "    <tr>\n",
       "      <th>69999</th>\n",
       "      <td>2</td>\n",
       "      <td>1</td>\n",
       "      <td>56</td>\n",
       "      <td>72.0</td>\n",
       "      <td>120</td>\n",
       "      <td>80</td>\n",
       "      <td>170</td>\n",
       "      <td>0</td>\n",
       "      <td>1</td>\n",
       "    </tr>\n",
       "  </tbody>\n",
       "</table>\n",
       "<p>70000 rows × 9 columns</p>\n",
       "</div>"
      ],
      "text/plain": [
       "       CHOLESTEROL  GLUC  AGE  WEIGHT  AP_HI  AP_LO  HEIGHT  SMOKE  ACTIVE\n",
       "0                1     1   50    62.0    110     80     168      0       1\n",
       "1                3     1   55    85.0    140     90     156      0       1\n",
       "2                3     1   51    64.0    130     70     165      0       0\n",
       "3                1     1   48    82.0    150    100     169      0       1\n",
       "4                1     1   47    56.0    100     60     156      0       0\n",
       "...            ...   ...  ...     ...    ...    ...     ...    ...     ...\n",
       "69995            1     1   52    76.0    120     80     168      1       1\n",
       "69996            2     2   61   126.0    140     90     158      0       1\n",
       "69997            3     1   52   105.0    180     90     183      0       0\n",
       "69998            1     2   61    72.0    135     80     163      0       0\n",
       "69999            2     1   56    72.0    120     80     170      0       1\n",
       "\n",
       "[70000 rows x 9 columns]"
      ]
     },
     "execution_count": 4,
     "metadata": {},
     "output_type": "execute_result"
    }
   ],
   "source": [
    "useful_feature = ['CHOLESTEROL', 'GLUC', 'AGE', 'WEIGHT','AP_HI', 'AP_LO', 'HEIGHT', 'SMOKE', 'ACTIVE']\n",
    "df[useful_feature]\n"
   ]
  },
  {
   "cell_type": "code",
   "execution_count": 5,
   "metadata": {},
   "outputs": [],
   "source": [
    "sc = ['AGE', 'WEIGHT','AP_HI', 'AP_LO', 'CHOLESTEROL', 'GLUC']\n",
    "\n",
    "from sklearn.preprocessing import StandardScaler\n",
    "scaler = StandardScaler()\n",
    "data = scaler.fit_transform(df[['AGE', 'WEIGHT', 'AP_HI', 'AP_LO', 'HEIGHT']])\n",
    "data = np.concatenate([data,df[['CHOLESTEROL', 'GLUC','CARDIO', 'SMOKE', 'ACTIVE']]], axis=1)\n",
    "X = data[:,:-1] \n",
    "y = data[:,-1]"
   ]
  },
  {
   "cell_type": "code",
   "execution_count": 6,
   "metadata": {},
   "outputs": [
    {
     "data": {
      "text/plain": [
       "((70000, 9), (70000,))"
      ]
     },
     "execution_count": 6,
     "metadata": {},
     "output_type": "execute_result"
    }
   ],
   "source": [
    "X.shape, y.shape"
   ]
  },
  {
   "cell_type": "code",
   "execution_count": null,
   "metadata": {},
   "outputs": [],
   "source": []
  },
  {
   "cell_type": "code",
   "execution_count": null,
   "metadata": {},
   "outputs": [],
   "source": []
  },
  {
   "cell_type": "markdown",
   "metadata": {},
   "source": [
    "# Model"
   ]
  },
  {
   "cell_type": "code",
   "execution_count": 16,
   "metadata": {},
   "outputs": [],
   "source": [
    "from sklearn.model_selection import train_test_split\n",
    "from sklearn.metrics import accuracy_score\n",
    "X_train, X_test, y_train, y_test = train_test_split(X, y, test_size=0.3, random_state=42)"
   ]
  },
  {
   "cell_type": "code",
   "execution_count": 8,
   "metadata": {},
   "outputs": [
    {
     "data": {
      "text/plain": [
       "0.8044761904761905"
      ]
     },
     "execution_count": 8,
     "metadata": {},
     "output_type": "execute_result"
    }
   ],
   "source": [
    "from sklearn.linear_model import LogisticRegression\n",
    "lr = LogisticRegression()\n",
    "\n",
    "lr.fit(X_train, y_train)\n",
    "y_hat = lr.predict(X_test)\n",
    "\n",
    "accuracy_score(y_test, y_hat)"
   ]
  },
  {
   "cell_type": "code",
   "execution_count": 9,
   "metadata": {},
   "outputs": [
    {
     "data": {
      "text/plain": [
       "0.8044761904761905"
      ]
     },
     "execution_count": 9,
     "metadata": {},
     "output_type": "execute_result"
    }
   ],
   "source": [
    "from sklearn.ensemble import AdaBoostClassifier\n",
    "\n",
    "lr = LogisticRegression()\n",
    "adac = AdaBoostClassifier(n_estimators=64, learning_rate=1, random_state=0, estimator=lr)\n",
    "adac.fit(X_train, y_train) \n",
    "#Evaluation\n",
    "y_hat = adac.predict(X_test)\n",
    "accuracy_score(y_test, y_hat) # 0.6494285714285715"
   ]
  },
  {
   "cell_type": "code",
   "execution_count": 10,
   "metadata": {},
   "outputs": [
    {
     "data": {
      "text/plain": [
       "0.8044761904761905"
      ]
     },
     "execution_count": 10,
     "metadata": {},
     "output_type": "execute_result"
    }
   ],
   "source": [
    "from sklearn.naive_bayes import BernoulliNB\n",
    "\n",
    "bnb = BernoulliNB()\n",
    "bnb.fit(X_train, y_train)\n",
    "y_hat = bnb.predict(X_test)\n",
    "\n",
    "accuracy_score(y_test, y_hat)"
   ]
  },
  {
   "cell_type": "code",
   "execution_count": 11,
   "metadata": {},
   "outputs": [
    {
     "data": {
      "text/plain": [
       "0.8044761904761905"
      ]
     },
     "execution_count": 11,
     "metadata": {},
     "output_type": "execute_result"
    }
   ],
   "source": [
    "from sklearn.ensemble import BaggingClassifier\n",
    "from sklearn.neighbors import KNeighborsClassifier\n",
    "baggc = BaggingClassifier(KNeighborsClassifier(), max_samples=0.7, max_features=0.5, n_estimators=200) \n",
    "baggc.fit(X_train,y_train)\n",
    "y_hat = baggc.predict(X_test)\n",
    "accuracy_score(y_test, y_hat) # 0.7332857142857143"
   ]
  },
  {
   "cell_type": "markdown",
   "metadata": {},
   "source": [
    "## Neural Network"
   ]
  },
  {
   "cell_type": "code",
   "execution_count": 30,
   "metadata": {},
   "outputs": [
    {
     "name": "stdout",
     "output_type": "stream",
     "text": [
      "Epoch [1/100], Train Loss: 0.6942, Train Accuracy: 48.93%, Test Loss: 0.6908, Test Accuracy: 54.96%\n",
      "Epoch [2/100], Train Loss: 0.6909, Train Accuracy: 54.63%, Test Loss: 0.6877, Test Accuracy: 60.68%\n",
      "Epoch [3/100], Train Loss: 0.6878, Train Accuracy: 60.38%, Test Loss: 0.6846, Test Accuracy: 66.06%\n",
      "Epoch [4/100], Train Loss: 0.6847, Train Accuracy: 65.78%, Test Loss: 0.6815, Test Accuracy: 70.18%\n",
      "Epoch [5/100], Train Loss: 0.6816, Train Accuracy: 70.13%, Test Loss: 0.6785, Test Accuracy: 73.69%\n",
      "Epoch [6/100], Train Loss: 0.6787, Train Accuracy: 73.74%, Test Loss: 0.6756, Test Accuracy: 76.31%\n",
      "Epoch [7/100], Train Loss: 0.6757, Train Accuracy: 76.04%, Test Loss: 0.6727, Test Accuracy: 77.92%\n",
      "Epoch [8/100], Train Loss: 0.6728, Train Accuracy: 77.69%, Test Loss: 0.6699, Test Accuracy: 78.65%\n",
      "Epoch [9/100], Train Loss: 0.6700, Train Accuracy: 78.58%, Test Loss: 0.6671, Test Accuracy: 79.10%\n",
      "Epoch [10/100], Train Loss: 0.6672, Train Accuracy: 79.05%, Test Loss: 0.6643, Test Accuracy: 79.31%\n",
      "Epoch [11/100], Train Loss: 0.6644, Train Accuracy: 79.25%, Test Loss: 0.6616, Test Accuracy: 79.35%\n",
      "Epoch [12/100], Train Loss: 0.6617, Train Accuracy: 79.32%, Test Loss: 0.6589, Test Accuracy: 79.40%\n",
      "Epoch [13/100], Train Loss: 0.6590, Train Accuracy: 79.38%, Test Loss: 0.6563, Test Accuracy: 79.44%\n",
      "Epoch [14/100], Train Loss: 0.6564, Train Accuracy: 79.41%, Test Loss: 0.6537, Test Accuracy: 79.47%\n",
      "Epoch [15/100], Train Loss: 0.6538, Train Accuracy: 79.43%, Test Loss: 0.6512, Test Accuracy: 79.48%\n",
      "Epoch [16/100], Train Loss: 0.6513, Train Accuracy: 79.44%, Test Loss: 0.6487, Test Accuracy: 79.50%\n",
      "Epoch [17/100], Train Loss: 0.6488, Train Accuracy: 79.45%, Test Loss: 0.6462, Test Accuracy: 79.51%\n",
      "Epoch [18/100], Train Loss: 0.6463, Train Accuracy: 79.46%, Test Loss: 0.6438, Test Accuracy: 79.50%\n",
      "Epoch [19/100], Train Loss: 0.6439, Train Accuracy: 79.48%, Test Loss: 0.6414, Test Accuracy: 79.51%\n",
      "Epoch [20/100], Train Loss: 0.6415, Train Accuracy: 79.49%, Test Loss: 0.6390, Test Accuracy: 79.51%\n",
      "Epoch [21/100], Train Loss: 0.6391, Train Accuracy: 79.51%, Test Loss: 0.6367, Test Accuracy: 79.51%\n",
      "Epoch [22/100], Train Loss: 0.6368, Train Accuracy: 79.52%, Test Loss: 0.6344, Test Accuracy: 79.53%\n",
      "Epoch [23/100], Train Loss: 0.6345, Train Accuracy: 79.54%, Test Loss: 0.6322, Test Accuracy: 79.55%\n",
      "Epoch [24/100], Train Loss: 0.6323, Train Accuracy: 79.55%, Test Loss: 0.6300, Test Accuracy: 79.61%\n",
      "Epoch [25/100], Train Loss: 0.6301, Train Accuracy: 79.58%, Test Loss: 0.6278, Test Accuracy: 79.63%\n",
      "Epoch [26/100], Train Loss: 0.6279, Train Accuracy: 79.60%, Test Loss: 0.6256, Test Accuracy: 79.62%\n",
      "Epoch [27/100], Train Loss: 0.6257, Train Accuracy: 79.62%, Test Loss: 0.6235, Test Accuracy: 79.66%\n",
      "Epoch [28/100], Train Loss: 0.6236, Train Accuracy: 79.66%, Test Loss: 0.6214, Test Accuracy: 79.67%\n",
      "Epoch [29/100], Train Loss: 0.6215, Train Accuracy: 79.69%, Test Loss: 0.6193, Test Accuracy: 79.69%\n",
      "Epoch [30/100], Train Loss: 0.6195, Train Accuracy: 79.72%, Test Loss: 0.6173, Test Accuracy: 79.71%\n",
      "Epoch [31/100], Train Loss: 0.6174, Train Accuracy: 79.75%, Test Loss: 0.6153, Test Accuracy: 79.74%\n",
      "Epoch [32/100], Train Loss: 0.6154, Train Accuracy: 79.79%, Test Loss: 0.6134, Test Accuracy: 79.79%\n",
      "Epoch [33/100], Train Loss: 0.6135, Train Accuracy: 79.86%, Test Loss: 0.6114, Test Accuracy: 79.84%\n",
      "Epoch [34/100], Train Loss: 0.6115, Train Accuracy: 79.91%, Test Loss: 0.6095, Test Accuracy: 79.90%\n",
      "Epoch [35/100], Train Loss: 0.6096, Train Accuracy: 79.95%, Test Loss: 0.6076, Test Accuracy: 79.95%\n",
      "Epoch [36/100], Train Loss: 0.6077, Train Accuracy: 79.98%, Test Loss: 0.6058, Test Accuracy: 80.00%\n",
      "Epoch [37/100], Train Loss: 0.6059, Train Accuracy: 80.03%, Test Loss: 0.6039, Test Accuracy: 80.04%\n",
      "Epoch [38/100], Train Loss: 0.6040, Train Accuracy: 80.05%, Test Loss: 0.6021, Test Accuracy: 80.06%\n",
      "Epoch [39/100], Train Loss: 0.6022, Train Accuracy: 80.09%, Test Loss: 0.6003, Test Accuracy: 80.11%\n",
      "Epoch [40/100], Train Loss: 0.6004, Train Accuracy: 80.12%, Test Loss: 0.5986, Test Accuracy: 80.14%\n",
      "Epoch [41/100], Train Loss: 0.5987, Train Accuracy: 80.16%, Test Loss: 0.5969, Test Accuracy: 80.13%\n",
      "Epoch [42/100], Train Loss: 0.5970, Train Accuracy: 80.18%, Test Loss: 0.5952, Test Accuracy: 80.15%\n",
      "Epoch [43/100], Train Loss: 0.5953, Train Accuracy: 80.20%, Test Loss: 0.5935, Test Accuracy: 80.16%\n",
      "Epoch [44/100], Train Loss: 0.5936, Train Accuracy: 80.23%, Test Loss: 0.5918, Test Accuracy: 80.19%\n",
      "Epoch [45/100], Train Loss: 0.5919, Train Accuracy: 80.26%, Test Loss: 0.5902, Test Accuracy: 80.21%\n",
      "Epoch [46/100], Train Loss: 0.5903, Train Accuracy: 80.27%, Test Loss: 0.5886, Test Accuracy: 80.24%\n",
      "Epoch [47/100], Train Loss: 0.5887, Train Accuracy: 80.29%, Test Loss: 0.5870, Test Accuracy: 80.26%\n",
      "Epoch [48/100], Train Loss: 0.5871, Train Accuracy: 80.30%, Test Loss: 0.5855, Test Accuracy: 80.27%\n",
      "Epoch [49/100], Train Loss: 0.5856, Train Accuracy: 80.33%, Test Loss: 0.5839, Test Accuracy: 80.28%\n",
      "Epoch [50/100], Train Loss: 0.5840, Train Accuracy: 80.33%, Test Loss: 0.5824, Test Accuracy: 80.29%\n",
      "Epoch [51/100], Train Loss: 0.5825, Train Accuracy: 80.33%, Test Loss: 0.5809, Test Accuracy: 80.31%\n",
      "Epoch [52/100], Train Loss: 0.5810, Train Accuracy: 80.34%, Test Loss: 0.5795, Test Accuracy: 80.33%\n",
      "Epoch [53/100], Train Loss: 0.5796, Train Accuracy: 80.34%, Test Loss: 0.5780, Test Accuracy: 80.33%\n",
      "Epoch [54/100], Train Loss: 0.5781, Train Accuracy: 80.34%, Test Loss: 0.5766, Test Accuracy: 80.33%\n",
      "Epoch [55/100], Train Loss: 0.5767, Train Accuracy: 80.34%, Test Loss: 0.5752, Test Accuracy: 80.33%\n",
      "Epoch [56/100], Train Loss: 0.5753, Train Accuracy: 80.35%, Test Loss: 0.5738, Test Accuracy: 80.33%\n",
      "Epoch [57/100], Train Loss: 0.5739, Train Accuracy: 80.35%, Test Loss: 0.5725, Test Accuracy: 80.33%\n",
      "Epoch [58/100], Train Loss: 0.5725, Train Accuracy: 80.35%, Test Loss: 0.5711, Test Accuracy: 80.33%\n",
      "Epoch [59/100], Train Loss: 0.5712, Train Accuracy: 80.35%, Test Loss: 0.5698, Test Accuracy: 80.33%\n",
      "Epoch [60/100], Train Loss: 0.5699, Train Accuracy: 80.35%, Test Loss: 0.5685, Test Accuracy: 80.33%\n",
      "Epoch [61/100], Train Loss: 0.5686, Train Accuracy: 80.34%, Test Loss: 0.5672, Test Accuracy: 80.32%\n",
      "Epoch [62/100], Train Loss: 0.5673, Train Accuracy: 80.34%, Test Loss: 0.5659, Test Accuracy: 80.32%\n",
      "Epoch [63/100], Train Loss: 0.5660, Train Accuracy: 80.34%, Test Loss: 0.5647, Test Accuracy: 80.32%\n",
      "Epoch [64/100], Train Loss: 0.5648, Train Accuracy: 80.34%, Test Loss: 0.5635, Test Accuracy: 80.32%\n",
      "Epoch [65/100], Train Loss: 0.5636, Train Accuracy: 80.34%, Test Loss: 0.5623, Test Accuracy: 80.33%\n",
      "Epoch [66/100], Train Loss: 0.5623, Train Accuracy: 80.34%, Test Loss: 0.5611, Test Accuracy: 80.33%\n",
      "Epoch [67/100], Train Loss: 0.5612, Train Accuracy: 80.35%, Test Loss: 0.5599, Test Accuracy: 80.33%\n",
      "Epoch [68/100], Train Loss: 0.5600, Train Accuracy: 80.35%, Test Loss: 0.5588, Test Accuracy: 80.34%\n",
      "Epoch [69/100], Train Loss: 0.5588, Train Accuracy: 80.35%, Test Loss: 0.5576, Test Accuracy: 80.34%\n",
      "Epoch [70/100], Train Loss: 0.5577, Train Accuracy: 80.35%, Test Loss: 0.5565, Test Accuracy: 80.34%\n",
      "Epoch [71/100], Train Loss: 0.5566, Train Accuracy: 80.35%, Test Loss: 0.5554, Test Accuracy: 80.34%\n",
      "Epoch [72/100], Train Loss: 0.5555, Train Accuracy: 80.35%, Test Loss: 0.5544, Test Accuracy: 80.34%\n",
      "Epoch [73/100], Train Loss: 0.5544, Train Accuracy: 80.35%, Test Loss: 0.5533, Test Accuracy: 80.34%\n",
      "Epoch [74/100], Train Loss: 0.5534, Train Accuracy: 80.35%, Test Loss: 0.5523, Test Accuracy: 80.34%\n",
      "Epoch [75/100], Train Loss: 0.5523, Train Accuracy: 80.35%, Test Loss: 0.5512, Test Accuracy: 80.34%\n",
      "Epoch [76/100], Train Loss: 0.5513, Train Accuracy: 80.35%, Test Loss: 0.5502, Test Accuracy: 80.34%\n",
      "Epoch [77/100], Train Loss: 0.5503, Train Accuracy: 80.35%, Test Loss: 0.5492, Test Accuracy: 80.34%\n",
      "Epoch [78/100], Train Loss: 0.5493, Train Accuracy: 80.35%, Test Loss: 0.5482, Test Accuracy: 80.34%\n",
      "Epoch [79/100], Train Loss: 0.5483, Train Accuracy: 80.36%, Test Loss: 0.5473, Test Accuracy: 80.34%\n",
      "Epoch [80/100], Train Loss: 0.5473, Train Accuracy: 80.36%, Test Loss: 0.5463, Test Accuracy: 80.34%\n",
      "Epoch [81/100], Train Loss: 0.5464, Train Accuracy: 80.36%, Test Loss: 0.5454, Test Accuracy: 80.34%\n",
      "Epoch [82/100], Train Loss: 0.5454, Train Accuracy: 80.36%, Test Loss: 0.5445, Test Accuracy: 80.34%\n",
      "Epoch [83/100], Train Loss: 0.5445, Train Accuracy: 80.36%, Test Loss: 0.5436, Test Accuracy: 80.34%\n",
      "Epoch [84/100], Train Loss: 0.5436, Train Accuracy: 80.36%, Test Loss: 0.5427, Test Accuracy: 80.34%\n",
      "Epoch [85/100], Train Loss: 0.5427, Train Accuracy: 80.36%, Test Loss: 0.5418, Test Accuracy: 80.34%\n",
      "Epoch [86/100], Train Loss: 0.5419, Train Accuracy: 80.36%, Test Loss: 0.5410, Test Accuracy: 80.34%\n",
      "Epoch [87/100], Train Loss: 0.5410, Train Accuracy: 80.36%, Test Loss: 0.5401, Test Accuracy: 80.34%\n",
      "Epoch [88/100], Train Loss: 0.5402, Train Accuracy: 80.36%, Test Loss: 0.5393, Test Accuracy: 80.34%\n",
      "Epoch [89/100], Train Loss: 0.5393, Train Accuracy: 80.36%, Test Loss: 0.5385, Test Accuracy: 80.34%\n",
      "Epoch [90/100], Train Loss: 0.5385, Train Accuracy: 80.36%, Test Loss: 0.5377, Test Accuracy: 80.34%\n",
      "Epoch [91/100], Train Loss: 0.5377, Train Accuracy: 80.36%, Test Loss: 0.5369, Test Accuracy: 80.34%\n",
      "Epoch [92/100], Train Loss: 0.5369, Train Accuracy: 80.36%, Test Loss: 0.5361, Test Accuracy: 80.34%\n",
      "Epoch [93/100], Train Loss: 0.5362, Train Accuracy: 80.36%, Test Loss: 0.5354, Test Accuracy: 80.34%\n",
      "Epoch [94/100], Train Loss: 0.5354, Train Accuracy: 80.36%, Test Loss: 0.5346, Test Accuracy: 80.34%\n",
      "Epoch [95/100], Train Loss: 0.5347, Train Accuracy: 80.36%, Test Loss: 0.5339, Test Accuracy: 80.34%\n",
      "Epoch [96/100], Train Loss: 0.5339, Train Accuracy: 80.36%, Test Loss: 0.5332, Test Accuracy: 80.34%\n",
      "Epoch [97/100], Train Loss: 0.5332, Train Accuracy: 80.36%, Test Loss: 0.5325, Test Accuracy: 80.34%\n",
      "Epoch [98/100], Train Loss: 0.5325, Train Accuracy: 80.36%, Test Loss: 0.5318, Test Accuracy: 80.34%\n",
      "Epoch [99/100], Train Loss: 0.5318, Train Accuracy: 80.36%, Test Loss: 0.5311, Test Accuracy: 80.34%\n",
      "Epoch [100/100], Train Loss: 0.5311, Train Accuracy: 80.36%, Test Loss: 0.5304, Test Accuracy: 80.34%\n"
     ]
    }
   ],
   "source": [
    "import torch\n",
    "import torch.nn as nn\n",
    "import torch.optim as optim\n",
    "import numpy as np\n",
    "from sklearn.model_selection import train_test_split\n",
    "from sklearn.metrics import accuracy_score\n",
    "\n",
    "# Generate some example data\n",
    "X_train, X_test, y_train, y_test = train_test_split(X, y, test_size=0.2, random_state=42)\n",
    "\n",
    "# Convert data to PyTorch tensors\n",
    "X_train = torch.FloatTensor(X_train)\n",
    "y_train = torch.FloatTensor(y_train)\n",
    "X_test = torch.FloatTensor(X_test)\n",
    "y_test = torch.FloatTensor(y_test)\n",
    "\n",
    "# Define the SimpleNN model\n",
    "class SimpleNN(nn.Module):\n",
    "    def __init__(self, input_size, hidden_size, output_size):\n",
    "        super(SimpleNN, self).__init__()\n",
    "        self.input_layer = nn.Linear(input_size, hidden_size)\n",
    "        self.hidden_layer = nn.Linear(hidden_size, hidden_size)\n",
    "        self.output_layer = nn.Linear(hidden_size, output_size)\n",
    "        self.tanh = nn.Tanh()\n",
    "        self.sigmoid = nn.Sigmoid()\n",
    "\n",
    "    def forward(self, x):\n",
    "        x = self.input_layer(x)\n",
    "        x = self.tanh(x)\n",
    "        x = self.hidden_layer(x)\n",
    "        x = self.tanh(x)\n",
    "        x = self.hidden_layer(x)\n",
    "        x = self.tanh(x)\n",
    "        x = self.output_layer(x)\n",
    "        x = self.sigmoid(x)\n",
    "        return x\n",
    "\n",
    "# Instantiate the model\n",
    "input_size = 9  # Number of input features\n",
    "hidden_size = 64  # Number of hidden units\n",
    "output_size = 1  # Output size for binary classification\n",
    "model = SimpleNN(input_size, hidden_size, output_size)\n",
    "\n",
    "# Define loss and optimizer\n",
    "criterion = nn.BCELoss()  # Binary Cross-Entropy Loss\n",
    "optimizer = optim.SGD(model.parameters(), lr=0.01)\n",
    "\n",
    "# Training loop\n",
    "num_epochs = 100\n",
    "for epoch in range(num_epochs):\n",
    "    model.train()\n",
    "    optimizer.zero_grad()\n",
    "    outputs = model(X_train)\n",
    "    loss = criterion(outputs, y_train.view(-1, 1))\n",
    "    loss.backward()\n",
    "    optimizer.step()\n",
    "\n",
    "    # Compute training accuracy and test accuracy\n",
    "    train_preds = (outputs >= 0.5).float()\n",
    "    train_accuracy = accuracy_score(y_train, train_preds)\n",
    "    with torch.no_grad():\n",
    "        test_outputs = model(X_test)\n",
    "        test_preds = (test_outputs >= 0.5).float()\n",
    "        test_accuracy = accuracy_score(y_test, test_preds)\n",
    "\n",
    "    print(f\"Epoch [{epoch + 1}/{num_epochs}], \"\n",
    "          f\"Train Loss: {loss.item():.4f}, Train Accuracy: {train_accuracy * 100:.2f}%, \"\n",
    "          f\"Test Loss: {criterion(test_outputs, y_test.view(-1, 1)).item():.4f}, Test Accuracy: {test_accuracy * 100:.2f}%\")\n"
   ]
  },
  {
   "cell_type": "code",
   "execution_count": null,
   "metadata": {},
   "outputs": [],
   "source": []
  },
  {
   "cell_type": "code",
   "execution_count": null,
   "metadata": {},
   "outputs": [],
   "source": []
  }
 ],
 "metadata": {
  "kernelspec": {
   "display_name": "Python 3",
   "language": "python",
   "name": "python3"
  },
  "language_info": {
   "codemirror_mode": {
    "name": "ipython",
    "version": 3
   },
   "file_extension": ".py",
   "mimetype": "text/x-python",
   "name": "python",
   "nbconvert_exporter": "python",
   "pygments_lexer": "ipython3",
   "version": "3.10.12"
  }
 },
 "nbformat": 4,
 "nbformat_minor": 2
}
