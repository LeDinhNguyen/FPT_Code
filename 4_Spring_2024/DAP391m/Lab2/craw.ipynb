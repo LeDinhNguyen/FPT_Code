{
 "cells": [
  {
   "cell_type": "code",
   "execution_count": 1,
   "metadata": {},
   "outputs": [
    {
     "data": {
      "text/plain": [
       "(45476, 3)"
      ]
     },
     "execution_count": 1,
     "metadata": {},
     "output_type": "execute_result"
    }
   ],
   "source": [
    "import pandas as pd \n",
    "\n",
    "raw_file = pd.read_csv(\"./craw.csv\")\n",
    "\n",
    "raw_file[\"cast\"] = raw_file[\"cast\"].str.replace(\"\\'\", '\\\"')\n",
    "raw_file[\"crew\"] = raw_file[\"crew\"].str.replace(\"\\'\", '\\\"')\n",
    "raw_file[\"cast\"] = raw_file[\"cast\"].str.replace(\"None\", \"\\\"NaN\\\"\")\n",
    "raw_file[\"crew\"] = raw_file[\"crew\"].str.replace(\"None\", \"\\\"None\\\"\")\n",
    "raw_file.shape"
   ]
  },
  {
   "cell_type": "code",
   "execution_count": 2,
   "metadata": {},
   "outputs": [
    {
     "name": "stderr",
     "output_type": "stream",
     "text": [
      "C:\\Users\\cuoir\\AppData\\Local\\Temp\\ipykernel_18516\\2817319945.py:3: UserWarning: Boolean Series key will be reindexed to match DataFrame index.\n",
      "  raw_file = raw_file[a][b]\n"
     ]
    },
    {
     "data": {
      "text/html": [
       "<div>\n",
       "<style scoped>\n",
       "    .dataframe tbody tr th:only-of-type {\n",
       "        vertical-align: middle;\n",
       "    }\n",
       "\n",
       "    .dataframe tbody tr th {\n",
       "        vertical-align: top;\n",
       "    }\n",
       "\n",
       "    .dataframe thead th {\n",
       "        text-align: right;\n",
       "    }\n",
       "</style>\n",
       "<table border=\"1\" class=\"dataframe\">\n",
       "  <thead>\n",
       "    <tr style=\"text-align: right;\">\n",
       "      <th></th>\n",
       "      <th>cast</th>\n",
       "      <th>crew</th>\n",
       "      <th>id</th>\n",
       "    </tr>\n",
       "  </thead>\n",
       "  <tbody>\n",
       "    <tr>\n",
       "      <th>0</th>\n",
       "      <td>[{\"cast_id\": 14, \"character\": \"Woody (voice)\",...</td>\n",
       "      <td>[{\"credit_id\": \"52fe4284c3a36847f8024f49\", \"de...</td>\n",
       "      <td>862</td>\n",
       "    </tr>\n",
       "    <tr>\n",
       "      <th>1</th>\n",
       "      <td>[{\"cast_id\": 1, \"character\": \"Alan Parrish\", \"...</td>\n",
       "      <td>[{\"credit_id\": \"52fe44bfc3a36847f80a7cd1\", \"de...</td>\n",
       "      <td>8844</td>\n",
       "    </tr>\n",
       "    <tr>\n",
       "      <th>2</th>\n",
       "      <td>[{\"cast_id\": 2, \"character\": \"Max Goldman\", \"c...</td>\n",
       "      <td>[{\"credit_id\": \"52fe466a9251416c75077a89\", \"de...</td>\n",
       "      <td>15602</td>\n",
       "    </tr>\n",
       "    <tr>\n",
       "      <th>3</th>\n",
       "      <td>[{\"cast_id\": 1, \"character\": \"Savannah \"Vannah...</td>\n",
       "      <td>[{\"credit_id\": \"52fe44779251416c91011acb\", \"de...</td>\n",
       "      <td>31357</td>\n",
       "    </tr>\n",
       "    <tr>\n",
       "      <th>4</th>\n",
       "      <td>[{\"cast_id\": 1, \"character\": \"George Banks\", \"...</td>\n",
       "      <td>[{\"credit_id\": \"52fe44959251416c75039ed7\", \"de...</td>\n",
       "      <td>11862</td>\n",
       "    </tr>\n",
       "    <tr>\n",
       "      <th>...</th>\n",
       "      <td>...</td>\n",
       "      <td>...</td>\n",
       "      <td>...</td>\n",
       "    </tr>\n",
       "    <tr>\n",
       "      <th>45470</th>\n",
       "      <td>[{\"cast_id\": 1, \"character\": \"Sir Robert Hode\"...</td>\n",
       "      <td>[{\"credit_id\": \"52fe44439251416c9100a899\", \"de...</td>\n",
       "      <td>30840</td>\n",
       "    </tr>\n",
       "    <tr>\n",
       "      <th>45471</th>\n",
       "      <td>[{\"cast_id\": 0, \"character\": \"\", \"credit_id\": ...</td>\n",
       "      <td>[{\"credit_id\": \"5894a97d925141426c00818c\", \"de...</td>\n",
       "      <td>439050</td>\n",
       "    </tr>\n",
       "    <tr>\n",
       "      <th>45472</th>\n",
       "      <td>[{\"cast_id\": 1002, \"character\": \"Sister Angela...</td>\n",
       "      <td>[{\"credit_id\": \"52fe4af1c3a36847f81e9b15\", \"de...</td>\n",
       "      <td>111109</td>\n",
       "    </tr>\n",
       "    <tr>\n",
       "      <th>45473</th>\n",
       "      <td>[{\"cast_id\": 6, \"character\": \"Emily Shaw\", \"cr...</td>\n",
       "      <td>[{\"credit_id\": \"52fe4776c3a368484e0c8387\", \"de...</td>\n",
       "      <td>67758</td>\n",
       "    </tr>\n",
       "    <tr>\n",
       "      <th>45474</th>\n",
       "      <td>[{\"cast_id\": 2, \"character\": \"\", \"credit_id\": ...</td>\n",
       "      <td>[{\"credit_id\": \"533bccebc3a36844cf0011a7\", \"de...</td>\n",
       "      <td>227506</td>\n",
       "    </tr>\n",
       "  </tbody>\n",
       "</table>\n",
       "<p>42708 rows × 3 columns</p>\n",
       "</div>"
      ],
      "text/plain": [
       "                                                    cast  \\\n",
       "0      [{\"cast_id\": 14, \"character\": \"Woody (voice)\",...   \n",
       "1      [{\"cast_id\": 1, \"character\": \"Alan Parrish\", \"...   \n",
       "2      [{\"cast_id\": 2, \"character\": \"Max Goldman\", \"c...   \n",
       "3      [{\"cast_id\": 1, \"character\": \"Savannah \"Vannah...   \n",
       "4      [{\"cast_id\": 1, \"character\": \"George Banks\", \"...   \n",
       "...                                                  ...   \n",
       "45470  [{\"cast_id\": 1, \"character\": \"Sir Robert Hode\"...   \n",
       "45471  [{\"cast_id\": 0, \"character\": \"\", \"credit_id\": ...   \n",
       "45472  [{\"cast_id\": 1002, \"character\": \"Sister Angela...   \n",
       "45473  [{\"cast_id\": 6, \"character\": \"Emily Shaw\", \"cr...   \n",
       "45474  [{\"cast_id\": 2, \"character\": \"\", \"credit_id\": ...   \n",
       "\n",
       "                                                    crew      id  \n",
       "0      [{\"credit_id\": \"52fe4284c3a36847f8024f49\", \"de...     862  \n",
       "1      [{\"credit_id\": \"52fe44bfc3a36847f80a7cd1\", \"de...    8844  \n",
       "2      [{\"credit_id\": \"52fe466a9251416c75077a89\", \"de...   15602  \n",
       "3      [{\"credit_id\": \"52fe44779251416c91011acb\", \"de...   31357  \n",
       "4      [{\"credit_id\": \"52fe44959251416c75039ed7\", \"de...   11862  \n",
       "...                                                  ...     ...  \n",
       "45470  [{\"credit_id\": \"52fe44439251416c9100a899\", \"de...   30840  \n",
       "45471  [{\"credit_id\": \"5894a97d925141426c00818c\", \"de...  439050  \n",
       "45472  [{\"credit_id\": \"52fe4af1c3a36847f81e9b15\", \"de...  111109  \n",
       "45473  [{\"credit_id\": \"52fe4776c3a368484e0c8387\", \"de...   67758  \n",
       "45474  [{\"credit_id\": \"533bccebc3a36844cf0011a7\", \"de...  227506  \n",
       "\n",
       "[42708 rows x 3 columns]"
      ]
     },
     "execution_count": 2,
     "metadata": {},
     "output_type": "execute_result"
    }
   ],
   "source": [
    "a = raw_file[\"crew\"].apply(lambda x: len(x)) != 2\n",
    "b = raw_file[\"cast\"].apply(lambda x: len(x)) != 2\n",
    "raw_file = raw_file[a][b]\n",
    "raw_file"
   ]
  },
  {
   "cell_type": "code",
   "execution_count": 3,
   "metadata": {},
   "outputs": [
    {
     "data": {
      "text/plain": [
       "((276123, 8), (355298, 7))"
      ]
     },
     "execution_count": 3,
     "metadata": {},
     "output_type": "execute_result"
    }
   ],
   "source": [
    "import json\n",
    "\n",
    "m = raw_file.shape[0]\n",
    "eror_rows = {\n",
    "    \"cast\": [],\n",
    "    \"crew\": []\n",
    "}\n",
    "cast_list = []\n",
    "crew_list = []\n",
    "m = raw_file.shape[0]\n",
    "for i in range(m):\n",
    "    try:\n",
    "        cast_list += json.loads(raw_file[\"cast\"][i])\n",
    "    except:\n",
    "        pass\n",
    "for i in range(m):\n",
    "    try:\n",
    "        crew_list += json.loads(raw_file[\"crew\"][i])\n",
    "    except:\n",
    "        pass\n",
    "cast_table = pd.DataFrame(cast_list)\n",
    "crew_table= pd.DataFrame(crew_list)\n",
    "cast_table.shape, crew_table.shape"
   ]
  },
  {
   "cell_type": "code",
   "execution_count": 19,
   "metadata": {},
   "outputs": [
    {
     "data": {
      "text/plain": [
       "6995"
      ]
     },
     "execution_count": 19,
     "metadata": {},
     "output_type": "execute_result"
    }
   ],
   "source": [
    "cast_table[\"character\"].apply(lambda x: (\"(voice)\" in x)).sum()"
   ]
  },
  {
   "cell_type": "code",
   "execution_count": 28,
   "metadata": {},
   "outputs": [
    {
     "data": {
      "text/plain": [
       "Himself     8071\n",
       "Herself     2159\n",
       "himself      450\n",
       "Narrator     426\n",
       "Anna         300\n",
       "Name: character, dtype: int64"
      ]
     },
     "execution_count": 28,
     "metadata": {},
     "output_type": "execute_result"
    }
   ],
   "source": [
    "cast_table[cast_table[\"character\"]!=\"\"][\"character\"].value_counts().head(5)"
   ]
  },
  {
   "cell_type": "code",
   "execution_count": 38,
   "metadata": {},
   "outputs": [
    {
     "data": {
      "text/plain": [
       "array([  14,   15,   16,   17,   18,   19,   20,   26,   22,   23,   24,\n",
       "         25,   27,    1,    8,    2,   10,   11,   13,   31,   12,   28,\n",
       "         29,   30,   32,   33,   34,   35,   36,   37,   50,   39,   40,\n",
       "         41,   42,    3,    4,    5,    6,    9,   56,   57,   58,   59,\n",
       "         60,   61,   62,   63,   64,   65,   66,   67,   68,   69,   70,\n",
       "         71,   72,   73,   74,   75,   76,   77,   78,   79,   80,   81,\n",
       "         82,   83,   84,   85,   86,   87,   88,   89,   90,   91,   92,\n",
       "         93,   94,   95,   96,   97,   98,   99,  100,  101,    7,   38,\n",
       "         21,   43,   44,   45,   49,   51,   52,   53,   47, 1001, 1002,\n",
       "       1003, 1006, 1007,   46,   48, 1004, 1008, 1020,   54,   55, 1005,\n",
       "       1024, 1000,  103,  102, 1009,  105,  106, 1010,    0, 1011, 1012,\n",
       "       1013, 1014, 1016, 1017, 1018, 1019, 1015,  139,  119,  121,  122,\n",
       "        123,  104, 1058, 1060, 1025, 1021, 1022, 1023, 1026, 1027, 1028,\n",
       "       1029, 1030, 1031, 1032, 1033, 1034, 1035, 1036, 1037, 1038, 1039,\n",
       "       1040, 1041, 1042, 1043, 1044, 1045,  124,  125,  126,  127,  118,\n",
       "        107,  108,  109,  110,  111,  112,  113,  180,  143,  147,  148,\n",
       "       1046, 1047, 1048, 1049, 1050, 1051, 1052, 1053, 1054, 1055, 1056,\n",
       "       1057, 1059, 1061, 1062,  154,  155,  152,  156,  157,  158,  160,\n",
       "        167,  153,  169,  171,  170,  168,  159,  161,  162,  163,  165,\n",
       "        166,  172,  173,  174,  177,  175,  176,  178,  179,  151,  149,\n",
       "        150,  181,  182,  183,  184,  185,  186,  187,  188,  189,  190,\n",
       "        191,  192,  193,  194,  195,  196,  197,  198,  199,  200,  201,\n",
       "        202,  203,  204,  164,  115,  116,  117,  120,  142,  114,  128,\n",
       "        206,  144,  145,  205,  207,  208,  209,  210,  211,  212,  213,\n",
       "        214,  215,  216,  217,  218,  219,  220,  221,  222,  223,  224,\n",
       "        225,  226,  227,  228,  229,  129,  130,  131,  132,  133,  134,\n",
       "        135,  136,  137,  138,  140,  141,  146, 1063, 1064, 1065, 1066,\n",
       "       1067, 1071, 1070, 1068,  231,  232,  233, 1115, 1116], dtype=int64)"
      ]
     },
     "execution_count": 38,
     "metadata": {},
     "output_type": "execute_result"
    }
   ],
   "source": [
    "cast_table[\"cast_id\"].unique()"
   ]
  }
 ],
 "metadata": {
  "kernelspec": {
   "display_name": "Python 3",
   "language": "python",
   "name": "python3"
  },
  "language_info": {
   "codemirror_mode": {
    "name": "ipython",
    "version": 3
   },
   "file_extension": ".py",
   "mimetype": "text/x-python",
   "name": "python",
   "nbconvert_exporter": "python",
   "pygments_lexer": "ipython3",
   "version": "3.11.3"
  }
 },
 "nbformat": 4,
 "nbformat_minor": 2
}
